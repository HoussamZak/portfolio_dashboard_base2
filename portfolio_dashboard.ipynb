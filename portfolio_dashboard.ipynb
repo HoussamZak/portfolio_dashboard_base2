{
 "cells": [
  {
   "cell_type": "code",
   "execution_count": 151,
   "metadata": {},
   "outputs": [],
   "source": [
    "#-- Modules & Packages\n",
    "\n",
    "import pandas as pd \n",
    "import numpy as np \n",
    "\n",
    "from glob import glob \n",
    "from time import strftime, sleep \n",
    "from datetime import datetime\n",
    "from pandas_datareader import data as pdr\n",
    "from pandas.tseries.offsets import BDay \n",
    "\n",
    "import yfinance as yf\n",
    "yf.pdr_override()\n",
    "\n",
    "#-- Plotting \n",
    "\n",
    "import seaborn as sns\n",
    "import dash \n",
    "from dash.dependencies import Output, Input\n",
    "import dash_core_components as dcc\n",
    "import dash_html_components as html \n",
    "import dash_bootstrap_components as dbc \n",
    "import plotly.express as px \n",
    "import dash_table \n",
    "import plotly.graph_objects as go \n",
    "from jupyter_dash import JupyterDash"
   ]
  },
  {
   "cell_type": "code",
   "execution_count": 152,
   "metadata": {},
   "outputs": [],
   "source": [
    "# pip install jupyter_dash\n",
    "# pip install dash_bootstrap_components"
   ]
  },
  {
   "cell_type": "markdown",
   "metadata": {},
   "source": [
    "This Dashboard relies on synthetic transactions data, recurrent USD amount to purchase each asset at the start of each month since 2022; \n",
    "this approach is obviously not the most realistic, as we create a data set of imaginary buy-spot regardless of market conditions without\n",
    "selLing, the aim is to provide a realistic and full-fledged dashboard to monitor the performance of the portfolio. \n",
    "\n",
    "\n",
    "I can build on top of this code by selecting from a transaction file, buy & sell dates,\n",
    "buy & sell prices, fees, cumulative units, cumulative cost, average price of purchase, average selling price, etc..."
   ]
  },
  {
   "cell_type": "markdown",
   "metadata": {},
   "source": [
    "<h5>Fake Transactions Dataset.<br>\n",
    "\n",
    "<h6>Amount per crypto:<br>\n",
    "BTC-USD 50000 $ <br>\n",
    "ETH-USD 50000 $ <br>\n",
    "AVAX-USD 10000 $ <br>\n",
    "OP-USD 10000 $ <br>\n",
    "ARB-USD 10000 $."
   ]
  },
  {
   "cell_type": "code",
   "execution_count": 166,
   "metadata": {},
   "outputs": [
    {
     "name": "stdout",
     "output_type": "stream",
     "text": [
      "[*********************100%***********************]  1 of 1 completed\n",
      "[*********************100%***********************]  1 of 1 completed\n",
      "[*********************100%***********************]  1 of 1 completed\n",
      "[*********************100%***********************]  1 of 1 completed\n"
     ]
    },
    {
     "data": {
      "text/html": [
       "<div>\n",
       "<style scoped>\n",
       "    .dataframe tbody tr th:only-of-type {\n",
       "        vertical-align: middle;\n",
       "    }\n",
       "\n",
       "    .dataframe tbody tr th {\n",
       "        vertical-align: top;\n",
       "    }\n",
       "\n",
       "    .dataframe thead th {\n",
       "        text-align: right;\n",
       "    }\n",
       "</style>\n",
       "<table border=\"1\" class=\"dataframe\">\n",
       "  <thead>\n",
       "    <tr style=\"text-align: right;\">\n",
       "      <th></th>\n",
       "      <th>close</th>\n",
       "      <th>ticker</th>\n",
       "      <th>type</th>\n",
       "      <th>val_transact</th>\n",
       "      <th>quantity</th>\n",
       "      <th>prev_units</th>\n",
       "      <th>cml_units</th>\n",
       "      <th>prev_cost</th>\n",
       "      <th>cml_cost</th>\n",
       "      <th>cost_transact</th>\n",
       "      <th>...</th>\n",
       "      <th>prev_cost</th>\n",
       "      <th>cml_cost</th>\n",
       "      <th>cost_transact</th>\n",
       "      <th>cml_invested</th>\n",
       "      <th>cost_unit</th>\n",
       "      <th>cum_position_val</th>\n",
       "      <th>gain_loss</th>\n",
       "      <th>yield</th>\n",
       "      <th>avg_price</th>\n",
       "      <th>current_value</th>\n",
       "    </tr>\n",
       "    <tr>\n",
       "      <th>Date</th>\n",
       "      <th></th>\n",
       "      <th></th>\n",
       "      <th></th>\n",
       "      <th></th>\n",
       "      <th></th>\n",
       "      <th></th>\n",
       "      <th></th>\n",
       "      <th></th>\n",
       "      <th></th>\n",
       "      <th></th>\n",
       "      <th></th>\n",
       "      <th></th>\n",
       "      <th></th>\n",
       "      <th></th>\n",
       "      <th></th>\n",
       "      <th></th>\n",
       "      <th></th>\n",
       "      <th></th>\n",
       "      <th></th>\n",
       "      <th></th>\n",
       "      <th></th>\n",
       "    </tr>\n",
       "  </thead>\n",
       "  <tbody>\n",
       "    <tr>\n",
       "      <th>2023-12-01</th>\n",
       "      <td>72.798439</td>\n",
       "      <td>LTC-USD</td>\n",
       "      <td>Buy</td>\n",
       "      <td>10000</td>\n",
       "      <td>686.827914</td>\n",
       "      <td>719.988232</td>\n",
       "      <td>15848.446665</td>\n",
       "      <td>50000.0</td>\n",
       "      <td>1200000</td>\n",
       "      <td>47.5</td>\n",
       "      <td>...</td>\n",
       "      <td>50000.0</td>\n",
       "      <td>1200000</td>\n",
       "      <td>47.5</td>\n",
       "      <td>1199952.5</td>\n",
       "      <td>925.077850</td>\n",
       "      <td>2.585573e+06</td>\n",
       "      <td>1.385620e+06</td>\n",
       "      <td>0.154729</td>\n",
       "      <td>27.388319</td>\n",
       "      <td>2.585573e+06</td>\n",
       "    </tr>\n",
       "    <tr>\n",
       "      <th>2024-01-01</th>\n",
       "      <td>66.753044</td>\n",
       "      <td>LTC-USD</td>\n",
       "      <td>Buy</td>\n",
       "      <td>10000</td>\n",
       "      <td>749.029511</td>\n",
       "      <td>686.827914</td>\n",
       "      <td>16597.476176</td>\n",
       "      <td>50000.0</td>\n",
       "      <td>1250000</td>\n",
       "      <td>47.5</td>\n",
       "      <td>...</td>\n",
       "      <td>50000.0</td>\n",
       "      <td>1250000</td>\n",
       "      <td>47.5</td>\n",
       "      <td>1249952.5</td>\n",
       "      <td>829.047489</td>\n",
       "      <td>2.274483e+06</td>\n",
       "      <td>1.024531e+06</td>\n",
       "      <td>-0.180344</td>\n",
       "      <td>27.619262</td>\n",
       "      <td>2.274483e+06</td>\n",
       "    </tr>\n",
       "    <tr>\n",
       "      <th>2024-02-01</th>\n",
       "      <td>79.940895</td>\n",
       "      <td>LTC-USD</td>\n",
       "      <td>Buy</td>\n",
       "      <td>10000</td>\n",
       "      <td>625.462099</td>\n",
       "      <td>749.029511</td>\n",
       "      <td>17222.938275</td>\n",
       "      <td>50000.0</td>\n",
       "      <td>1300000</td>\n",
       "      <td>47.5</td>\n",
       "      <td>...</td>\n",
       "      <td>50000.0</td>\n",
       "      <td>1300000</td>\n",
       "      <td>47.5</td>\n",
       "      <td>1299952.5</td>\n",
       "      <td>1064.320053</td>\n",
       "      <td>2.857645e+06</td>\n",
       "      <td>1.557693e+06</td>\n",
       "      <td>0.198269</td>\n",
       "      <td>28.131421</td>\n",
       "      <td>2.857645e+06</td>\n",
       "    </tr>\n",
       "    <tr>\n",
       "      <th>2024-03-01</th>\n",
       "      <td>105.183403</td>\n",
       "      <td>LTC-USD</td>\n",
       "      <td>Buy</td>\n",
       "      <td>10000</td>\n",
       "      <td>475.360167</td>\n",
       "      <td>625.462099</td>\n",
       "      <td>17698.298442</td>\n",
       "      <td>50000.0</td>\n",
       "      <td>1350000</td>\n",
       "      <td>47.5</td>\n",
       "      <td>...</td>\n",
       "      <td>50000.0</td>\n",
       "      <td>1350000</td>\n",
       "      <td>47.5</td>\n",
       "      <td>1349952.5</td>\n",
       "      <td>1460.981552</td>\n",
       "      <td>3.827377e+06</td>\n",
       "      <td>2.477425e+06</td>\n",
       "      <td>0.835194</td>\n",
       "      <td>29.093606</td>\n",
       "      <td>3.827377e+06</td>\n",
       "    </tr>\n",
       "    <tr>\n",
       "      <th>2024-04-01</th>\n",
       "      <td>76.960564</td>\n",
       "      <td>LTC-USD</td>\n",
       "      <td>Buy</td>\n",
       "      <td>10000</td>\n",
       "      <td>649.683391</td>\n",
       "      <td>475.360167</td>\n",
       "      <td>18347.981833</td>\n",
       "      <td>50000.0</td>\n",
       "      <td>1400000</td>\n",
       "      <td>47.5</td>\n",
       "      <td>...</td>\n",
       "      <td>50000.0</td>\n",
       "      <td>1400000</td>\n",
       "      <td>47.5</td>\n",
       "      <td>1399952.5</td>\n",
       "      <td>972.072556</td>\n",
       "      <td>2.505619e+06</td>\n",
       "      <td>1.105666e+06</td>\n",
       "      <td>-0.210212</td>\n",
       "      <td>29.294438</td>\n",
       "      <td>2.505619e+06</td>\n",
       "    </tr>\n",
       "  </tbody>\n",
       "</table>\n",
       "<p>5 rows × 34 columns</p>\n",
       "</div>"
      ],
      "text/plain": [
       "                 close   ticker type  val_transact    quantity  prev_units  \\\n",
       "Date                                                                         \n",
       "2023-12-01   72.798439  LTC-USD  Buy         10000  686.827914  719.988232   \n",
       "2024-01-01   66.753044  LTC-USD  Buy         10000  749.029511  686.827914   \n",
       "2024-02-01   79.940895  LTC-USD  Buy         10000  625.462099  749.029511   \n",
       "2024-03-01  105.183403  LTC-USD  Buy         10000  475.360167  625.462099   \n",
       "2024-04-01   76.960564  LTC-USD  Buy         10000  649.683391  475.360167   \n",
       "\n",
       "               cml_units  prev_cost  cml_cost  cost_transact  ...  prev_cost  \\\n",
       "Date                                                          ...              \n",
       "2023-12-01  15848.446665    50000.0   1200000           47.5  ...    50000.0   \n",
       "2024-01-01  16597.476176    50000.0   1250000           47.5  ...    50000.0   \n",
       "2024-02-01  17222.938275    50000.0   1300000           47.5  ...    50000.0   \n",
       "2024-03-01  17698.298442    50000.0   1350000           47.5  ...    50000.0   \n",
       "2024-04-01  18347.981833    50000.0   1400000           47.5  ...    50000.0   \n",
       "\n",
       "            cml_cost  cost_transact  cml_invested    cost_unit  \\\n",
       "Date                                                             \n",
       "2023-12-01   1200000           47.5     1199952.5   925.077850   \n",
       "2024-01-01   1250000           47.5     1249952.5   829.047489   \n",
       "2024-02-01   1300000           47.5     1299952.5  1064.320053   \n",
       "2024-03-01   1350000           47.5     1349952.5  1460.981552   \n",
       "2024-04-01   1400000           47.5     1399952.5   972.072556   \n",
       "\n",
       "            cum_position_val     gain_loss     yield  avg_price current_value  \n",
       "Date                                                                           \n",
       "2023-12-01      2.585573e+06  1.385620e+06  0.154729  27.388319  2.585573e+06  \n",
       "2024-01-01      2.274483e+06  1.024531e+06 -0.180344  27.619262  2.274483e+06  \n",
       "2024-02-01      2.857645e+06  1.557693e+06  0.198269  28.131421  2.857645e+06  \n",
       "2024-03-01      3.827377e+06  2.477425e+06  0.835194  29.093606  3.827377e+06  \n",
       "2024-04-01      2.505619e+06  1.105666e+06 -0.210212  29.294438  2.505619e+06  \n",
       "\n",
       "[5 rows x 34 columns]"
      ]
     },
     "execution_count": 166,
     "metadata": {},
     "output_type": "execute_result"
    }
   ],
   "source": [
    "portfolio_tickers = ['BTC-USD', 'ETH-USD', 'OP-USD','ARB-USD','AVAX-USD']\n",
    "\n",
    "one_year = datetime.today().year - 1\n",
    "today = datetime.today()\n",
    "start_x = datetime(2022, 1, 1)\n",
    "end_x = today\n",
    "\n",
    "start_assets = datetime(2022,1,1)\n",
    "end_assets = today\n",
    "\n",
    "start_ytd = datetime(one_year, 12, 31) + BDay(1)\n",
    "\n",
    "# def get_txs_data(tickers, startDate, interval):\n",
    "def data_x(ticker):\n",
    "    #-- monthly interval '1mo'\n",
    "    data = (yf.download(ticker, start = start_x, interval= '1mo'))\n",
    "    data.columns = [x.lower() for x in data.columns]\n",
    "    data.drop(columns = ['open','high','low','volume','adj close'], axis = 1, inplace = True)\n",
    "    data['ticker'] =  ticker\n",
    "    data['type'] = 'Buy'\n",
    "    data['val_transact'] = 50000\n",
    "    data['quantity'] = data['val_transact']/ data['close'] \n",
    "    data['prev_units'] = data['quantity'].shift(1)\n",
    "    data['cml_units'] = data['quantity'].cumsum()\n",
    "    data['prev_cost'] = data['val_transact'].shift(1)\n",
    "    data['cml_cost'] = data['val_transact'].cumsum()\n",
    "    #-- applying spot taker-fees in Binance Spot Markets\n",
    "    data['cost_transact'] = data['val_transact'] * 0.0009500\n",
    "    data['cml_invested'] = data['val_transact'].cumsum() - data['cost_transact']\n",
    "    data['cost_unit'] = data['cml_cost'] / data['quantity']\n",
    "    data['cum_position_val'] = data['cml_units'] * data['close']\n",
    "    data['gain_loss'] = data['cum_position_val'] - data['cml_invested'] \n",
    "    data['yield'] = (data['gain_loss'] / data['cml_invested']) - 1\n",
    "    #-- running, cumulative mean to accurately assess the avg price through each purchase date/row\n",
    "    data['avg_price'] = data['close'].expanding().mean()\n",
    "    data['current_value'] = data['close'] * data['cml_units']\n",
    "\n",
    "    #-- Assigning recurrent exact amount for each crypto asset\n",
    "    if ticker == 'BTC-USD':\n",
    "      data['val_transact'] = 50000\n",
    "    elif ticker == 'ETH-USD':\n",
    "      data['val_transact'] = 50000\n",
    "    elif ticker == 'AVAX-USD':\n",
    "      data['val_transact'] = 10000\n",
    "    elif ticker == 'LTC-USD':\n",
    "      data['val_transact'] = 10000\n",
    "    return data\n",
    "\n",
    "#-- Fetching data for BTC-USD\n",
    "btcusd = data_x('BTC-USD')\n",
    "#-- Fetching data for ETH-USD\n",
    "ethusd = data_x('ETH-USD')\n",
    "#-- Fetching data for LTC-USD\n",
    "ltcusd = data_x('LTC-USD')\n",
    "\n",
    "#-- Fetching data for AVAX-USD\n",
    "avaxusd = data_x('AVAX-USD')\n",
    "\n",
    "\n",
    "first_concat =  pd.concat([btcusd, ethusd], axis =1 )\n",
    "second_concat = pd.concat([ltcusd, avaxusd], axis = 1)\n",
    "all_df = [first_concat,second_concat]\n",
    "transactions_df = pd.concat(all_df)\n",
    "#-- Saving transactions dataframe\n",
    "transactions_df.to_excel(r\"D:\\_datasets\\Projects_Coding\\portfolio_dashboard_base2\\inputs\\dummy_transactions.xlsx\")\n",
    "#-- Previewing transactions dataframe\n",
    "transactions_df.tail(5) "
   ]
  },
  {
   "cell_type": "markdown",
   "metadata": {},
   "source": [
    "Data Collecting and Saving."
   ]
  },
  {
   "cell_type": "code",
   "execution_count": 168,
   "metadata": {},
   "outputs": [
    {
     "name": "stdout",
     "output_type": "stream",
     "text": [
      "Traded 2 different cryptos\n"
     ]
    },
    {
     "name": "stderr",
     "output_type": "stream",
     "text": [
      "C:\\Users\\hp\\AppData\\Local\\Temp\\ipykernel_13024\\358629261.py:14: UserWarning:\n",
      "\n",
      "Pandas doesn't allow columns to be created via a new attribute name - see https://pandas.pydata.org/pandas-docs/stable/indexing.html#attribute-access\n",
      "\n"
     ]
    }
   ],
   "source": [
    "#-- Cleaning columns string names\n",
    "def clean_headers(df):\n",
    "    df.columns = df.columns.str.strip().str.lower().str.replace('.', '').str.replace('(','').str.replace(')','').str.replace(' ','_').str.replace('_/_','/')\n",
    "\n",
    "#-- Getting timestamps for file names before saving \n",
    "def get_tmstmp():\n",
    "    now = datetime.now().strftime('%Y-%m-%d_%Hh%Mm')\n",
    "    return now\n",
    "\n",
    "last_file = (r'D:\\_datasets\\Projects_Coding\\portfolio_dashboard_base2\\inputs/dummy_transactions.xlsx')\n",
    "# print(last_file[-(len(last_file)) + (last_file.rfind('/')+1):])\n",
    "\n",
    "all_ops = pd.read_excel(last_file)\n",
    "all_ops.date = pd.to_datetime(all_ops.Date, format = \"%d/%m/%Y\")\n",
    "\n",
    "all_tickers = list(all_ops['ticker'].unique())\n",
    "blackList = ['PEPE-USD', 'DOGE-USD', 'ADA-USD']\n",
    "final_tickers = [tick for tick in all_tickers if tick not in blackList]\n",
    "print(\"Traded {} different cryptos\".format(len(all_tickers)))\n",
    "#-- All transactions without blacklisted assets\n",
    "final_filtered = all_ops[~all_ops.ticker.isin(blackList)]"
   ]
  },
  {
   "cell_type": "code",
   "execution_count": 169,
   "metadata": {},
   "outputs": [
    {
     "name": "stdout",
     "output_type": "stream",
     "text": [
      "[*********************100%***********************]  1 of 1 completed\n",
      "[*********************100%***********************]  1 of 1 completed\n",
      "[*********************100%***********************]  1 of 1 completed\n",
      "[*********************100%***********************]  1 of 1 completed\n"
     ]
    },
    {
     "data": {
      "text/html": [
       "<div>\n",
       "<style scoped>\n",
       "    .dataframe tbody tr th:only-of-type {\n",
       "        vertical-align: middle;\n",
       "    }\n",
       "\n",
       "    .dataframe tbody tr th {\n",
       "        vertical-align: top;\n",
       "    }\n",
       "\n",
       "    .dataframe thead th {\n",
       "        text-align: right;\n",
       "    }\n",
       "</style>\n",
       "<table border=\"1\" class=\"dataframe\">\n",
       "  <thead>\n",
       "    <tr style=\"text-align: right;\">\n",
       "      <th></th>\n",
       "      <th></th>\n",
       "      <th>open</th>\n",
       "      <th>high</th>\n",
       "      <th>low</th>\n",
       "      <th>close</th>\n",
       "      <th>volume</th>\n",
       "    </tr>\n",
       "    <tr>\n",
       "      <th>ticker</th>\n",
       "      <th>date</th>\n",
       "      <th></th>\n",
       "      <th></th>\n",
       "      <th></th>\n",
       "      <th></th>\n",
       "      <th></th>\n",
       "    </tr>\n",
       "  </thead>\n",
       "  <tbody>\n",
       "    <tr>\n",
       "      <th rowspan=\"5\" valign=\"top\">BTC-USD</th>\n",
       "      <th>2023-01-01</th>\n",
       "      <td>16547.914062</td>\n",
       "      <td>16630.439453</td>\n",
       "      <td>16521.234375</td>\n",
       "      <td>16625.080078</td>\n",
       "      <td>9244361700</td>\n",
       "    </tr>\n",
       "    <tr>\n",
       "      <th>2023-01-02</th>\n",
       "      <td>16625.509766</td>\n",
       "      <td>16759.343750</td>\n",
       "      <td>16572.228516</td>\n",
       "      <td>16688.470703</td>\n",
       "      <td>12097775227</td>\n",
       "    </tr>\n",
       "    <tr>\n",
       "      <th>2023-01-03</th>\n",
       "      <td>16688.847656</td>\n",
       "      <td>16760.447266</td>\n",
       "      <td>16622.371094</td>\n",
       "      <td>16679.857422</td>\n",
       "      <td>13903079207</td>\n",
       "    </tr>\n",
       "    <tr>\n",
       "      <th>2023-01-04</th>\n",
       "      <td>16680.205078</td>\n",
       "      <td>16964.585938</td>\n",
       "      <td>16667.763672</td>\n",
       "      <td>16863.238281</td>\n",
       "      <td>18421743322</td>\n",
       "    </tr>\n",
       "    <tr>\n",
       "      <th>2023-01-05</th>\n",
       "      <td>16863.472656</td>\n",
       "      <td>16884.021484</td>\n",
       "      <td>16790.283203</td>\n",
       "      <td>16836.736328</td>\n",
       "      <td>13692758566</td>\n",
       "    </tr>\n",
       "    <tr>\n",
       "      <th>...</th>\n",
       "      <th>...</th>\n",
       "      <td>...</td>\n",
       "      <td>...</td>\n",
       "      <td>...</td>\n",
       "      <td>...</td>\n",
       "      <td>...</td>\n",
       "    </tr>\n",
       "    <tr>\n",
       "      <th rowspan=\"5\" valign=\"top\">LTC-USD</th>\n",
       "      <th>2024-04-10</th>\n",
       "      <td>97.498123</td>\n",
       "      <td>98.134644</td>\n",
       "      <td>94.457336</td>\n",
       "      <td>96.699760</td>\n",
       "      <td>571530949</td>\n",
       "    </tr>\n",
       "    <tr>\n",
       "      <th>2024-04-11</th>\n",
       "      <td>96.700424</td>\n",
       "      <td>99.800484</td>\n",
       "      <td>95.044495</td>\n",
       "      <td>98.689102</td>\n",
       "      <td>533522657</td>\n",
       "    </tr>\n",
       "    <tr>\n",
       "      <th>2024-04-12</th>\n",
       "      <td>98.688545</td>\n",
       "      <td>99.288963</td>\n",
       "      <td>80.812927</td>\n",
       "      <td>86.269569</td>\n",
       "      <td>1052316398</td>\n",
       "    </tr>\n",
       "    <tr>\n",
       "      <th>2024-04-13</th>\n",
       "      <td>86.263977</td>\n",
       "      <td>86.492859</td>\n",
       "      <td>71.311768</td>\n",
       "      <td>77.606583</td>\n",
       "      <td>1220477380</td>\n",
       "    </tr>\n",
       "    <tr>\n",
       "      <th>2024-04-14</th>\n",
       "      <td>77.597496</td>\n",
       "      <td>80.364578</td>\n",
       "      <td>74.138649</td>\n",
       "      <td>79.914330</td>\n",
       "      <td>833631968</td>\n",
       "    </tr>\n",
       "  </tbody>\n",
       "</table>\n",
       "<p>1880 rows × 5 columns</p>\n",
       "</div>"
      ],
      "text/plain": [
       "                            open          high           low         close  \\\n",
       "ticker  date                                                                 \n",
       "BTC-USD 2023-01-01  16547.914062  16630.439453  16521.234375  16625.080078   \n",
       "        2023-01-02  16625.509766  16759.343750  16572.228516  16688.470703   \n",
       "        2023-01-03  16688.847656  16760.447266  16622.371094  16679.857422   \n",
       "        2023-01-04  16680.205078  16964.585938  16667.763672  16863.238281   \n",
       "        2023-01-05  16863.472656  16884.021484  16790.283203  16836.736328   \n",
       "...                          ...           ...           ...           ...   \n",
       "LTC-USD 2024-04-10     97.498123     98.134644     94.457336     96.699760   \n",
       "        2024-04-11     96.700424     99.800484     95.044495     98.689102   \n",
       "        2024-04-12     98.688545     99.288963     80.812927     86.269569   \n",
       "        2024-04-13     86.263977     86.492859     71.311768     77.606583   \n",
       "        2024-04-14     77.597496     80.364578     74.138649     79.914330   \n",
       "\n",
       "                         volume  \n",
       "ticker  date                     \n",
       "BTC-USD 2023-01-01   9244361700  \n",
       "        2023-01-02  12097775227  \n",
       "        2023-01-03  13903079207  \n",
       "        2023-01-04  18421743322  \n",
       "        2023-01-05  13692758566  \n",
       "...                         ...  \n",
       "LTC-USD 2024-04-10    571530949  \n",
       "        2024-04-11    533522657  \n",
       "        2024-04-12   1052316398  \n",
       "        2024-04-13   1220477380  \n",
       "        2024-04-14    833631968  \n",
       "\n",
       "[1880 rows x 5 columns]"
      ]
     },
     "execution_count": 169,
     "metadata": {},
     "output_type": "execute_result"
    }
   ],
   "source": [
    "\n",
    "portfolio_tickers = ['BTC-USD', 'ETH-USD','AVAX-USD', 'LTC-USD']\n",
    "\n",
    "one_year = datetime.today().year - 1\n",
    "today = datetime.today()\n",
    "start_x = datetime(2023, 1, 1)\n",
    "end_x = today\n",
    "\n",
    "start_assets = datetime(2023,1,1)\n",
    "end_assets = today\n",
    "\n",
    "start_ytd = datetime(one_year, 12, 31) + BDay(1)\n",
    "\n",
    "def get_data(tickers, startDate, endDate):\n",
    "    def data(ticker):\n",
    "        data = (pdr.get_data_yahoo(ticker, start = startDate, end = endDate))\n",
    "        data.columns = [x.lower() for x in data.columns]\n",
    "        data.drop(columns = ['adj close'], axis = 1, inplace = True)\n",
    "        return data\n",
    "    datum = map(data, tickers)\n",
    "    return(pd.concat(datum, keys = tickers, names = ['ticker', 'date']))\n",
    "\n",
    "all_prices_df = get_data(portfolio_tickers, start_x, end_x)\n",
    "all_prices_df\n",
    "\n",
    "# #-- Saving all asset prices separately\n",
    "# for ticker in final_filtered:\n",
    "#     all_prices_df.loc[ticker].to_csv(\"D:\\_datasets\\Projects_Coding\\portfolio_dashboard_base2\\outputs\\{}_price_hist.csv\".format(ticker))\n",
    "\n",
    "# all_prices_df['ticker']"
   ]
  },
  {
   "cell_type": "code",
   "execution_count": null,
   "metadata": {},
   "outputs": [],
   "source": []
  },
  {
   "cell_type": "code",
   "execution_count": 189,
   "metadata": {},
   "outputs": [],
   "source": [
    "MEGA_DICT = {}  # you have to create it first\n",
    "min_date = '2022-01-01'  # optional\n",
    "# TX_COLUMNS = ['date','ticker', 'cashflow', 'cml_units', 'cml_cost', 'gain_loss']\n",
    "TX_COLUMNS = ['Date','ticker', 'cml_units','val_transact', 'cml_cost', 'gain_loss']\n",
    "\n",
    "tx_filt = all_ops[TX_COLUMNS]  # keeping just the most relevant ones for now\n",
    "\n",
    "for ticker in portfolio_tickers:\n",
    "    prices_df = all_prices_df[all_prices_df.index.get_level_values('ticker').isin([ticker])].reset_index()\n",
    "    ## Can add more columns like volume!\n",
    "    PX_COLS = ['date', 'close']\n",
    "    prices_df = prices_df[PX_COLS].set_index(['date'])\n",
    "    # Making sure we get sameday transactions\n",
    "    tx_df = tx_filt[tx_filt.ticker==ticker].groupby('Date').agg({'val_transact': 'sum',\n",
    "                                                                 'cml_units': 'last',\n",
    "                                                                 'cml_cost': 'last',\n",
    "                                                                 'gain_loss': 'sum'})\n",
    "    # Merging price history and transactions dataframe\n",
    "    tx_and_prices = pd.merge(prices_df, tx_df, how='outer', left_index=True, right_index=True).fillna(0)\n",
    "    # This is to fill the days that were not in our transaction dataframe\n",
    "    tx_and_prices['cml_units'] = tx_and_prices['cml_units'].replace(to_replace=0, method='ffill')\n",
    "    tx_and_prices['cml_cost'] = tx_and_prices['cml_cost'].replace(to_replace=0, method='ffill')\n",
    "    tx_and_prices['gain_loss'] = tx_and_prices['gain_loss'].replace(to_replace=0, method='ffill')\n",
    "    # Cumulative sum for the val_transact\n",
    "    tx_and_prices['val_transact'] = tx_and_prices['val_transact'].cumsum()\n",
    "    tx_and_prices['avg_price'] = (tx_and_prices['cml_cost']/tx_and_prices['cml_units'])\n",
    "    tx_and_prices['mktvalue'] = (tx_and_prices['cml_units']*tx_and_prices['close'])\n",
    "    tx_and_prices = tx_and_prices.add_prefix(ticker+'_')\n",
    "    # Once we're happy with the dataframe, add it to the dictionary\n",
    "    MEGA_DICT[ticker] = tx_and_prices.round(3)\n",
    "\t\t\n",
    "# check an individual stock\n",
    "# MEGA_DICT['RUN'].tail()\n",
    "\n",
    "# saving it, so we can access it quicker later\n",
    "mega_dataset = pd.concat(MEGA_DICT.values(), axis=1)\n",
    "# MEGA_DF.to_csv('../outputs/mega_df/MEGA_DF_{}.csv'.format(get_data(final_tickers, start_x, end_x)))  # optional\n",
    "\n",
    "# like this:\n",
    "# last_file = glob('../outputs/mega/MEGA*.csv')[-1] # path to file in the folder\n",
    "# print(last_file[-(len(last_file))+(last_file.rfind('/')+1):])\n",
    "# mega_dataset = pd.read_csv(last_file)\n",
    "# mega_dataset['date'] = pd.to_datetime(mega_dataset['date'])\n",
    "# mega_dataset.set_index('Date', inplace=True)"
   ]
  },
  {
   "cell_type": "code",
   "execution_count": 171,
   "metadata": {},
   "outputs": [
    {
     "data": {
      "text/html": [
       "<div>\n",
       "<style scoped>\n",
       "    .dataframe tbody tr th:only-of-type {\n",
       "        vertical-align: middle;\n",
       "    }\n",
       "\n",
       "    .dataframe tbody tr th {\n",
       "        vertical-align: top;\n",
       "    }\n",
       "\n",
       "    .dataframe thead th {\n",
       "        text-align: right;\n",
       "    }\n",
       "</style>\n",
       "<table border=\"1\" class=\"dataframe\">\n",
       "  <thead>\n",
       "    <tr style=\"text-align: right;\">\n",
       "      <th></th>\n",
       "      <th>BTC-USD_close</th>\n",
       "      <th>BTC-USD_val_transact</th>\n",
       "      <th>BTC-USD_cml_units</th>\n",
       "      <th>BTC-USD_cml_cost</th>\n",
       "      <th>BTC-USD_gain_loss</th>\n",
       "      <th>BTC-USD_avg_price</th>\n",
       "      <th>BTC-USD_mktvalue</th>\n",
       "      <th>ETH-USD_close</th>\n",
       "      <th>ETH-USD_val_transact</th>\n",
       "      <th>ETH-USD_cml_units</th>\n",
       "      <th>...</th>\n",
       "      <th>AVAX-USD_gain_loss</th>\n",
       "      <th>AVAX-USD_avg_price</th>\n",
       "      <th>AVAX-USD_mktvalue</th>\n",
       "      <th>LTC-USD_close</th>\n",
       "      <th>LTC-USD_val_transact</th>\n",
       "      <th>LTC-USD_cml_units</th>\n",
       "      <th>LTC-USD_cml_cost</th>\n",
       "      <th>LTC-USD_gain_loss</th>\n",
       "      <th>LTC-USD_avg_price</th>\n",
       "      <th>LTC-USD_mktvalue</th>\n",
       "    </tr>\n",
       "  </thead>\n",
       "  <tbody>\n",
       "    <tr>\n",
       "      <th>2022-01-01</th>\n",
       "      <td>0.000</td>\n",
       "      <td>50000.0</td>\n",
       "      <td>1.299</td>\n",
       "      <td>50000.0</td>\n",
       "      <td>47.500</td>\n",
       "      <td>38483.125</td>\n",
       "      <td>0.000</td>\n",
       "      <td>NaN</td>\n",
       "      <td>NaN</td>\n",
       "      <td>NaN</td>\n",
       "      <td>...</td>\n",
       "      <td>NaN</td>\n",
       "      <td>NaN</td>\n",
       "      <td>NaN</td>\n",
       "      <td>0.000</td>\n",
       "      <td>10000.0</td>\n",
       "      <td>456.256</td>\n",
       "      <td>50000.0</td>\n",
       "      <td>47.500</td>\n",
       "      <td>109.588</td>\n",
       "      <td>0.000</td>\n",
       "    </tr>\n",
       "    <tr>\n",
       "      <th>2022-02-01</th>\n",
       "      <td>0.000</td>\n",
       "      <td>100000.0</td>\n",
       "      <td>2.457</td>\n",
       "      <td>100000.0</td>\n",
       "      <td>6167.208</td>\n",
       "      <td>40702.368</td>\n",
       "      <td>0.000</td>\n",
       "      <td>NaN</td>\n",
       "      <td>NaN</td>\n",
       "      <td>NaN</td>\n",
       "      <td>...</td>\n",
       "      <td>NaN</td>\n",
       "      <td>NaN</td>\n",
       "      <td>NaN</td>\n",
       "      <td>0.000</td>\n",
       "      <td>20000.0</td>\n",
       "      <td>896.883</td>\n",
       "      <td>100000.0</td>\n",
       "      <td>1820.910</td>\n",
       "      <td>111.497</td>\n",
       "      <td>0.000</td>\n",
       "    </tr>\n",
       "    <tr>\n",
       "      <th>2022-03-01</th>\n",
       "      <td>0.000</td>\n",
       "      <td>150000.0</td>\n",
       "      <td>3.555</td>\n",
       "      <td>150000.0</td>\n",
       "      <td>11929.627</td>\n",
       "      <td>42196.143</td>\n",
       "      <td>0.000</td>\n",
       "      <td>NaN</td>\n",
       "      <td>NaN</td>\n",
       "      <td>NaN</td>\n",
       "      <td>...</td>\n",
       "      <td>NaN</td>\n",
       "      <td>NaN</td>\n",
       "      <td>NaN</td>\n",
       "      <td>0.000</td>\n",
       "      <td>30000.0</td>\n",
       "      <td>1301.034</td>\n",
       "      <td>150000.0</td>\n",
       "      <td>11006.276</td>\n",
       "      <td>115.293</td>\n",
       "      <td>0.000</td>\n",
       "    </tr>\n",
       "    <tr>\n",
       "      <th>2022-04-01</th>\n",
       "      <td>0.000</td>\n",
       "      <td>200000.0</td>\n",
       "      <td>4.881</td>\n",
       "      <td>200000.0</td>\n",
       "      <td>-15882.633</td>\n",
       "      <td>40978.869</td>\n",
       "      <td>0.000</td>\n",
       "      <td>NaN</td>\n",
       "      <td>NaN</td>\n",
       "      <td>NaN</td>\n",
       "      <td>...</td>\n",
       "      <td>NaN</td>\n",
       "      <td>NaN</td>\n",
       "      <td>NaN</td>\n",
       "      <td>0.000</td>\n",
       "      <td>40000.0</td>\n",
       "      <td>1820.969</td>\n",
       "      <td>200000.0</td>\n",
       "      <td>-24837.253</td>\n",
       "      <td>109.832</td>\n",
       "      <td>0.000</td>\n",
       "    </tr>\n",
       "    <tr>\n",
       "      <th>2022-05-01</th>\n",
       "      <td>0.000</td>\n",
       "      <td>250000.0</td>\n",
       "      <td>6.453</td>\n",
       "      <td>250000.0</td>\n",
       "      <td>-44788.089</td>\n",
       "      <td>38740.041</td>\n",
       "      <td>0.000</td>\n",
       "      <td>NaN</td>\n",
       "      <td>NaN</td>\n",
       "      <td>NaN</td>\n",
       "      <td>...</td>\n",
       "      <td>NaN</td>\n",
       "      <td>NaN</td>\n",
       "      <td>NaN</td>\n",
       "      <td>0.000</td>\n",
       "      <td>50000.0</td>\n",
       "      <td>2551.841</td>\n",
       "      <td>250000.0</td>\n",
       "      <td>-75377.512</td>\n",
       "      <td>97.968</td>\n",
       "      <td>0.000</td>\n",
       "    </tr>\n",
       "    <tr>\n",
       "      <th>...</th>\n",
       "      <td>...</td>\n",
       "      <td>...</td>\n",
       "      <td>...</td>\n",
       "      <td>...</td>\n",
       "      <td>...</td>\n",
       "      <td>...</td>\n",
       "      <td>...</td>\n",
       "      <td>...</td>\n",
       "      <td>...</td>\n",
       "      <td>...</td>\n",
       "      <td>...</td>\n",
       "      <td>...</td>\n",
       "      <td>...</td>\n",
       "      <td>...</td>\n",
       "      <td>...</td>\n",
       "      <td>...</td>\n",
       "      <td>...</td>\n",
       "      <td>...</td>\n",
       "      <td>...</td>\n",
       "      <td>...</td>\n",
       "      <td>...</td>\n",
       "    </tr>\n",
       "    <tr>\n",
       "      <th>2024-04-10</th>\n",
       "      <td>70587.883</td>\n",
       "      <td>1400000.0</td>\n",
       "      <td>48.753</td>\n",
       "      <td>1400000.0</td>\n",
       "      <td>1678819.728</td>\n",
       "      <td>28715.895</td>\n",
       "      <td>3441405.425</td>\n",
       "      <td>3543.737</td>\n",
       "      <td>0.0</td>\n",
       "      <td>0.0</td>\n",
       "      <td>...</td>\n",
       "      <td>0.0</td>\n",
       "      <td>NaN</td>\n",
       "      <td>0.0</td>\n",
       "      <td>96.700</td>\n",
       "      <td>280000.0</td>\n",
       "      <td>18347.982</td>\n",
       "      <td>1400000.0</td>\n",
       "      <td>12118.524</td>\n",
       "      <td>76.303</td>\n",
       "      <td>1774245.448</td>\n",
       "    </tr>\n",
       "    <tr>\n",
       "      <th>2024-04-11</th>\n",
       "      <td>70060.609</td>\n",
       "      <td>1400000.0</td>\n",
       "      <td>48.753</td>\n",
       "      <td>1400000.0</td>\n",
       "      <td>1678819.728</td>\n",
       "      <td>28715.895</td>\n",
       "      <td>3415699.007</td>\n",
       "      <td>3505.248</td>\n",
       "      <td>0.0</td>\n",
       "      <td>0.0</td>\n",
       "      <td>...</td>\n",
       "      <td>0.0</td>\n",
       "      <td>NaN</td>\n",
       "      <td>0.0</td>\n",
       "      <td>98.689</td>\n",
       "      <td>280000.0</td>\n",
       "      <td>18347.982</td>\n",
       "      <td>1400000.0</td>\n",
       "      <td>12118.524</td>\n",
       "      <td>76.303</td>\n",
       "      <td>1810745.854</td>\n",
       "    </tr>\n",
       "    <tr>\n",
       "      <th>2024-04-12</th>\n",
       "      <td>67195.867</td>\n",
       "      <td>1400000.0</td>\n",
       "      <td>48.753</td>\n",
       "      <td>1400000.0</td>\n",
       "      <td>1678819.728</td>\n",
       "      <td>28715.895</td>\n",
       "      <td>3276032.836</td>\n",
       "      <td>3243.035</td>\n",
       "      <td>0.0</td>\n",
       "      <td>0.0</td>\n",
       "      <td>...</td>\n",
       "      <td>0.0</td>\n",
       "      <td>NaN</td>\n",
       "      <td>0.0</td>\n",
       "      <td>86.270</td>\n",
       "      <td>280000.0</td>\n",
       "      <td>18347.982</td>\n",
       "      <td>1400000.0</td>\n",
       "      <td>12118.524</td>\n",
       "      <td>76.303</td>\n",
       "      <td>1582872.492</td>\n",
       "    </tr>\n",
       "    <tr>\n",
       "      <th>2024-04-13</th>\n",
       "      <td>63821.473</td>\n",
       "      <td>1400000.0</td>\n",
       "      <td>48.753</td>\n",
       "      <td>1400000.0</td>\n",
       "      <td>1678819.728</td>\n",
       "      <td>28715.895</td>\n",
       "      <td>3111519.336</td>\n",
       "      <td>3004.900</td>\n",
       "      <td>0.0</td>\n",
       "      <td>0.0</td>\n",
       "      <td>...</td>\n",
       "      <td>0.0</td>\n",
       "      <td>NaN</td>\n",
       "      <td>0.0</td>\n",
       "      <td>77.607</td>\n",
       "      <td>280000.0</td>\n",
       "      <td>18347.982</td>\n",
       "      <td>1400000.0</td>\n",
       "      <td>12118.524</td>\n",
       "      <td>76.303</td>\n",
       "      <td>1423924.168</td>\n",
       "    </tr>\n",
       "    <tr>\n",
       "      <th>2024-04-14</th>\n",
       "      <td>65738.727</td>\n",
       "      <td>1400000.0</td>\n",
       "      <td>48.753</td>\n",
       "      <td>1400000.0</td>\n",
       "      <td>1678819.728</td>\n",
       "      <td>28715.895</td>\n",
       "      <td>3204992.149</td>\n",
       "      <td>3156.942</td>\n",
       "      <td>0.0</td>\n",
       "      <td>0.0</td>\n",
       "      <td>...</td>\n",
       "      <td>0.0</td>\n",
       "      <td>NaN</td>\n",
       "      <td>0.0</td>\n",
       "      <td>79.914</td>\n",
       "      <td>280000.0</td>\n",
       "      <td>18347.982</td>\n",
       "      <td>1400000.0</td>\n",
       "      <td>12118.524</td>\n",
       "      <td>76.303</td>\n",
       "      <td>1466266.666</td>\n",
       "    </tr>\n",
       "  </tbody>\n",
       "</table>\n",
       "<p>482 rows × 28 columns</p>\n",
       "</div>"
      ],
      "text/plain": [
       "            BTC-USD_close  BTC-USD_val_transact  BTC-USD_cml_units  \\\n",
       "2022-01-01          0.000               50000.0              1.299   \n",
       "2022-02-01          0.000              100000.0              2.457   \n",
       "2022-03-01          0.000              150000.0              3.555   \n",
       "2022-04-01          0.000              200000.0              4.881   \n",
       "2022-05-01          0.000              250000.0              6.453   \n",
       "...                   ...                   ...                ...   \n",
       "2024-04-10      70587.883             1400000.0             48.753   \n",
       "2024-04-11      70060.609             1400000.0             48.753   \n",
       "2024-04-12      67195.867             1400000.0             48.753   \n",
       "2024-04-13      63821.473             1400000.0             48.753   \n",
       "2024-04-14      65738.727             1400000.0             48.753   \n",
       "\n",
       "            BTC-USD_cml_cost  BTC-USD_gain_loss  BTC-USD_avg_price  \\\n",
       "2022-01-01           50000.0             47.500          38483.125   \n",
       "2022-02-01          100000.0           6167.208          40702.368   \n",
       "2022-03-01          150000.0          11929.627          42196.143   \n",
       "2022-04-01          200000.0         -15882.633          40978.869   \n",
       "2022-05-01          250000.0         -44788.089          38740.041   \n",
       "...                      ...                ...                ...   \n",
       "2024-04-10         1400000.0        1678819.728          28715.895   \n",
       "2024-04-11         1400000.0        1678819.728          28715.895   \n",
       "2024-04-12         1400000.0        1678819.728          28715.895   \n",
       "2024-04-13         1400000.0        1678819.728          28715.895   \n",
       "2024-04-14         1400000.0        1678819.728          28715.895   \n",
       "\n",
       "            BTC-USD_mktvalue  ETH-USD_close  ETH-USD_val_transact  \\\n",
       "2022-01-01             0.000            NaN                   NaN   \n",
       "2022-02-01             0.000            NaN                   NaN   \n",
       "2022-03-01             0.000            NaN                   NaN   \n",
       "2022-04-01             0.000            NaN                   NaN   \n",
       "2022-05-01             0.000            NaN                   NaN   \n",
       "...                      ...            ...                   ...   \n",
       "2024-04-10       3441405.425       3543.737                   0.0   \n",
       "2024-04-11       3415699.007       3505.248                   0.0   \n",
       "2024-04-12       3276032.836       3243.035                   0.0   \n",
       "2024-04-13       3111519.336       3004.900                   0.0   \n",
       "2024-04-14       3204992.149       3156.942                   0.0   \n",
       "\n",
       "            ETH-USD_cml_units  ...  AVAX-USD_gain_loss  AVAX-USD_avg_price  \\\n",
       "2022-01-01                NaN  ...                 NaN                 NaN   \n",
       "2022-02-01                NaN  ...                 NaN                 NaN   \n",
       "2022-03-01                NaN  ...                 NaN                 NaN   \n",
       "2022-04-01                NaN  ...                 NaN                 NaN   \n",
       "2022-05-01                NaN  ...                 NaN                 NaN   \n",
       "...                       ...  ...                 ...                 ...   \n",
       "2024-04-10                0.0  ...                 0.0                 NaN   \n",
       "2024-04-11                0.0  ...                 0.0                 NaN   \n",
       "2024-04-12                0.0  ...                 0.0                 NaN   \n",
       "2024-04-13                0.0  ...                 0.0                 NaN   \n",
       "2024-04-14                0.0  ...                 0.0                 NaN   \n",
       "\n",
       "            AVAX-USD_mktvalue  LTC-USD_close  LTC-USD_val_transact  \\\n",
       "2022-01-01                NaN          0.000               10000.0   \n",
       "2022-02-01                NaN          0.000               20000.0   \n",
       "2022-03-01                NaN          0.000               30000.0   \n",
       "2022-04-01                NaN          0.000               40000.0   \n",
       "2022-05-01                NaN          0.000               50000.0   \n",
       "...                       ...            ...                   ...   \n",
       "2024-04-10                0.0         96.700              280000.0   \n",
       "2024-04-11                0.0         98.689              280000.0   \n",
       "2024-04-12                0.0         86.270              280000.0   \n",
       "2024-04-13                0.0         77.607              280000.0   \n",
       "2024-04-14                0.0         79.914              280000.0   \n",
       "\n",
       "            LTC-USD_cml_units  LTC-USD_cml_cost  LTC-USD_gain_loss  \\\n",
       "2022-01-01            456.256           50000.0             47.500   \n",
       "2022-02-01            896.883          100000.0           1820.910   \n",
       "2022-03-01           1301.034          150000.0          11006.276   \n",
       "2022-04-01           1820.969          200000.0         -24837.253   \n",
       "2022-05-01           2551.841          250000.0         -75377.512   \n",
       "...                       ...               ...                ...   \n",
       "2024-04-10          18347.982         1400000.0          12118.524   \n",
       "2024-04-11          18347.982         1400000.0          12118.524   \n",
       "2024-04-12          18347.982         1400000.0          12118.524   \n",
       "2024-04-13          18347.982         1400000.0          12118.524   \n",
       "2024-04-14          18347.982         1400000.0          12118.524   \n",
       "\n",
       "            LTC-USD_avg_price  LTC-USD_mktvalue  \n",
       "2022-01-01            109.588             0.000  \n",
       "2022-02-01            111.497             0.000  \n",
       "2022-03-01            115.293             0.000  \n",
       "2022-04-01            109.832             0.000  \n",
       "2022-05-01             97.968             0.000  \n",
       "...                       ...               ...  \n",
       "2024-04-10             76.303       1774245.448  \n",
       "2024-04-11             76.303       1810745.854  \n",
       "2024-04-12             76.303       1582872.492  \n",
       "2024-04-13             76.303       1423924.168  \n",
       "2024-04-14             76.303       1466266.666  \n",
       "\n",
       "[482 rows x 28 columns]"
      ]
     },
     "execution_count": 171,
     "metadata": {},
     "output_type": "execute_result"
    }
   ],
   "source": [
    "mega_dataset.columns\n",
    "mega_dataset"
   ]
  },
  {
   "cell_type": "markdown",
   "metadata": {},
   "source": [
    "Columns KPI and other relevant values"
   ]
  },
  {
   "cell_type": "code",
   "execution_count": 172,
   "metadata": {},
   "outputs": [
    {
     "name": "stdout",
     "output_type": "stream",
     "text": [
      "[*********************100%***********************]  1 of 1 completed\n"
     ]
    }
   ],
   "source": [
    "portf_allvalues = mega_dataset.filter(regex='mktvalue').fillna(0) #  getting just the market value of each ticker\n",
    "portf_allvalues['portf_value'] = portf_allvalues.sum(axis=1) # summing all market values\n",
    "\n",
    "# For the S&P500 price return\n",
    "sp500 = pdr.get_data_yahoo('^GSPC', start_x, end_x)\n",
    "# clean_header(sp500)\n",
    "\n",
    "#getting the pct change\n",
    "portf_allvalues = portf_allvalues.join(sp500['Close'], how='inner')\n",
    "portf_allvalues.rename(columns={'Close': 'sp500_mktvalue'}, inplace=True)\n",
    "portf_allvalues['ptf_value_pctch'] = (portf_allvalues['portf_value'].pct_change()*100).round(2)\n",
    "portf_allvalues['sp500_pctch'] = (portf_allvalues['sp500_mktvalue'].pct_change()*100).round(2)\n",
    "portf_allvalues['ptf_value_diff'] = (portf_allvalues['portf_value'].diff()).round(2)\n",
    "portf_allvalues['sp500_diff'] = (portf_allvalues['sp500_mktvalue'].diff()).round(2)\n",
    "# KPI's for portfolio\n",
    "kpi_portfolio7d_abs = portf_allvalues.tail(7).ptf_value_diff.sum().round(2)\n",
    "kpi_portfolio15d_abs = portf_allvalues.tail(15).ptf_value_diff.sum().round(2)\n",
    "kpi_portfolio30d_abs = portf_allvalues.tail(30).ptf_value_diff.sum().round(2)\n",
    "kpi_portfolio200d_abs = portf_allvalues.tail(200).ptf_value_diff.sum().round(2)\n",
    "kpi_portfolio7d_pct = (kpi_portfolio7d_abs/portf_allvalues.tail(7).portf_value[0]).round(3)*100\n",
    "kpi_portfolio15d_pct = (kpi_portfolio15d_abs/portf_allvalues.tail(15).portf_value[0]).round(3)*100\n",
    "kpi_portfolio30d_pct = (kpi_portfolio30d_abs/portf_allvalues.tail(30).portf_value[0]).round(3)*100\n",
    "kpi_portfolio200d_pct = (kpi_portfolio200d_abs/portf_allvalues.tail(200).portf_value[0]).round(3)*100\n",
    "# KPI's for S&P500\n",
    "kpi_sp500_7d_abs = portf_allvalues.tail(7).sp500_diff.sum().round(2)\n",
    "kpi_sp500_15d_abs = portf_allvalues.tail(15).sp500_diff.sum().round(2)\n",
    "kpi_sp500_30d_abs = portf_allvalues.tail(30).sp500_diff.sum().round(2)\n",
    "kpi_sp500_200d_abs = portf_allvalues.tail(200).sp500_diff.sum().round(2)\n",
    "kpi_sp500_7d_pct = (kpi_sp500_7d_abs/portf_allvalues.tail(7).sp500_mktvalue[0]).round(3)*100\n",
    "kpi_sp500_15d_pct = (kpi_sp500_15d_abs/portf_allvalues.tail(15).sp500_mktvalue[0]).round(3)*100\n",
    "kpi_sp500_30d_pct = (kpi_sp500_30d_abs/portf_allvalues.tail(30).sp500_mktvalue[0]).round(3)*100\n",
    "kpi_sp500_200d_pct = (kpi_sp500_200d_abs/portf_allvalues.tail(200).sp500_mktvalue[0]).round(3)*100\n"
   ]
  },
  {
   "cell_type": "markdown",
   "metadata": {},
   "source": [
    "Plotly Charts."
   ]
  },
  {
   "cell_type": "code",
   "execution_count": 173,
   "metadata": {},
   "outputs": [
    {
     "data": {
      "application/vnd.plotly.v1+json": {
       "config": {
        "plotlyServerURL": "https://plot.ly"
       },
       "data": [
        {
         "mode": "lines",
         "name": "Global Value",
         "type": "scatter",
         "x": [
          "2023-01-03T00:00:00",
          "2023-01-04T00:00:00",
          "2023-01-05T00:00:00",
          "2023-01-06T00:00:00",
          "2023-01-09T00:00:00",
          "2023-01-10T00:00:00",
          "2023-01-11T00:00:00",
          "2023-01-12T00:00:00",
          "2023-01-13T00:00:00",
          "2023-01-17T00:00:00",
          "2023-01-18T00:00:00",
          "2023-01-19T00:00:00",
          "2023-01-20T00:00:00",
          "2023-01-23T00:00:00",
          "2023-01-24T00:00:00",
          "2023-01-25T00:00:00",
          "2023-01-26T00:00:00",
          "2023-01-27T00:00:00",
          "2023-01-30T00:00:00",
          "2023-01-31T00:00:00",
          "2023-02-01T00:00:00",
          "2023-02-02T00:00:00",
          "2023-02-03T00:00:00",
          "2023-02-06T00:00:00",
          "2023-02-07T00:00:00",
          "2023-02-08T00:00:00",
          "2023-02-09T00:00:00",
          "2023-02-10T00:00:00",
          "2023-02-13T00:00:00",
          "2023-02-14T00:00:00",
          "2023-02-15T00:00:00",
          "2023-02-16T00:00:00",
          "2023-02-17T00:00:00",
          "2023-02-21T00:00:00",
          "2023-02-22T00:00:00",
          "2023-02-23T00:00:00",
          "2023-02-24T00:00:00",
          "2023-02-27T00:00:00",
          "2023-02-28T00:00:00",
          "2023-03-01T00:00:00",
          "2023-03-02T00:00:00",
          "2023-03-03T00:00:00",
          "2023-03-06T00:00:00",
          "2023-03-07T00:00:00",
          "2023-03-08T00:00:00",
          "2023-03-09T00:00:00",
          "2023-03-10T00:00:00",
          "2023-03-13T00:00:00",
          "2023-03-14T00:00:00",
          "2023-03-15T00:00:00",
          "2023-03-16T00:00:00",
          "2023-03-17T00:00:00",
          "2023-03-20T00:00:00",
          "2023-03-21T00:00:00",
          "2023-03-22T00:00:00",
          "2023-03-23T00:00:00",
          "2023-03-24T00:00:00",
          "2023-03-27T00:00:00",
          "2023-03-28T00:00:00",
          "2023-03-29T00:00:00",
          "2023-03-30T00:00:00",
          "2023-03-31T00:00:00",
          "2023-04-03T00:00:00",
          "2023-04-04T00:00:00",
          "2023-04-05T00:00:00",
          "2023-04-06T00:00:00",
          "2023-04-10T00:00:00",
          "2023-04-11T00:00:00",
          "2023-04-12T00:00:00",
          "2023-04-13T00:00:00",
          "2023-04-14T00:00:00",
          "2023-04-17T00:00:00",
          "2023-04-18T00:00:00",
          "2023-04-19T00:00:00",
          "2023-04-20T00:00:00",
          "2023-04-21T00:00:00",
          "2023-04-24T00:00:00",
          "2023-04-25T00:00:00",
          "2023-04-26T00:00:00",
          "2023-04-27T00:00:00",
          "2023-04-28T00:00:00",
          "2023-05-01T00:00:00",
          "2023-05-02T00:00:00",
          "2023-05-03T00:00:00",
          "2023-05-04T00:00:00",
          "2023-05-05T00:00:00",
          "2023-05-08T00:00:00",
          "2023-05-09T00:00:00",
          "2023-05-10T00:00:00",
          "2023-05-11T00:00:00",
          "2023-05-12T00:00:00",
          "2023-05-15T00:00:00",
          "2023-05-16T00:00:00",
          "2023-05-17T00:00:00",
          "2023-05-18T00:00:00",
          "2023-05-19T00:00:00",
          "2023-05-22T00:00:00",
          "2023-05-23T00:00:00",
          "2023-05-24T00:00:00",
          "2023-05-25T00:00:00",
          "2023-05-26T00:00:00",
          "2023-05-30T00:00:00",
          "2023-05-31T00:00:00",
          "2023-06-01T00:00:00",
          "2023-06-02T00:00:00",
          "2023-06-05T00:00:00",
          "2023-06-06T00:00:00",
          "2023-06-07T00:00:00",
          "2023-06-08T00:00:00",
          "2023-06-09T00:00:00",
          "2023-06-12T00:00:00",
          "2023-06-13T00:00:00",
          "2023-06-14T00:00:00",
          "2023-06-15T00:00:00",
          "2023-06-16T00:00:00",
          "2023-06-20T00:00:00",
          "2023-06-21T00:00:00",
          "2023-06-22T00:00:00",
          "2023-06-23T00:00:00",
          "2023-06-26T00:00:00",
          "2023-06-27T00:00:00",
          "2023-06-28T00:00:00",
          "2023-06-29T00:00:00",
          "2023-06-30T00:00:00",
          "2023-07-03T00:00:00",
          "2023-07-05T00:00:00",
          "2023-07-06T00:00:00",
          "2023-07-07T00:00:00",
          "2023-07-10T00:00:00",
          "2023-07-11T00:00:00",
          "2023-07-12T00:00:00",
          "2023-07-13T00:00:00",
          "2023-07-14T00:00:00",
          "2023-07-17T00:00:00",
          "2023-07-18T00:00:00",
          "2023-07-19T00:00:00",
          "2023-07-20T00:00:00",
          "2023-07-21T00:00:00",
          "2023-07-24T00:00:00",
          "2023-07-25T00:00:00",
          "2023-07-26T00:00:00",
          "2023-07-27T00:00:00",
          "2023-07-28T00:00:00",
          "2023-07-31T00:00:00",
          "2023-08-01T00:00:00",
          "2023-08-02T00:00:00",
          "2023-08-03T00:00:00",
          "2023-08-04T00:00:00",
          "2023-08-07T00:00:00",
          "2023-08-08T00:00:00",
          "2023-08-09T00:00:00",
          "2023-08-10T00:00:00",
          "2023-08-11T00:00:00",
          "2023-08-14T00:00:00",
          "2023-08-15T00:00:00",
          "2023-08-16T00:00:00",
          "2023-08-17T00:00:00",
          "2023-08-18T00:00:00",
          "2023-08-21T00:00:00",
          "2023-08-22T00:00:00",
          "2023-08-23T00:00:00",
          "2023-08-24T00:00:00",
          "2023-08-25T00:00:00",
          "2023-08-28T00:00:00",
          "2023-08-29T00:00:00",
          "2023-08-30T00:00:00",
          "2023-08-31T00:00:00",
          "2023-09-01T00:00:00",
          "2023-09-05T00:00:00",
          "2023-09-06T00:00:00",
          "2023-09-07T00:00:00",
          "2023-09-08T00:00:00",
          "2023-09-11T00:00:00",
          "2023-09-12T00:00:00",
          "2023-09-13T00:00:00",
          "2023-09-14T00:00:00",
          "2023-09-15T00:00:00",
          "2023-09-18T00:00:00",
          "2023-09-19T00:00:00",
          "2023-09-20T00:00:00",
          "2023-09-21T00:00:00",
          "2023-09-22T00:00:00",
          "2023-09-25T00:00:00",
          "2023-09-26T00:00:00",
          "2023-09-27T00:00:00",
          "2023-09-28T00:00:00",
          "2023-09-29T00:00:00",
          "2023-10-02T00:00:00",
          "2023-10-03T00:00:00",
          "2023-10-04T00:00:00",
          "2023-10-05T00:00:00",
          "2023-10-06T00:00:00",
          "2023-10-09T00:00:00",
          "2023-10-10T00:00:00",
          "2023-10-11T00:00:00",
          "2023-10-12T00:00:00",
          "2023-10-13T00:00:00",
          "2023-10-16T00:00:00",
          "2023-10-17T00:00:00",
          "2023-10-18T00:00:00",
          "2023-10-19T00:00:00",
          "2023-10-20T00:00:00",
          "2023-10-23T00:00:00",
          "2023-10-24T00:00:00",
          "2023-10-25T00:00:00",
          "2023-10-26T00:00:00",
          "2023-10-27T00:00:00",
          "2023-10-30T00:00:00",
          "2023-10-31T00:00:00",
          "2023-11-01T00:00:00",
          "2023-11-02T00:00:00",
          "2023-11-03T00:00:00",
          "2023-11-06T00:00:00",
          "2023-11-07T00:00:00",
          "2023-11-08T00:00:00",
          "2023-11-09T00:00:00",
          "2023-11-10T00:00:00",
          "2023-11-13T00:00:00",
          "2023-11-14T00:00:00",
          "2023-11-15T00:00:00",
          "2023-11-16T00:00:00",
          "2023-11-17T00:00:00",
          "2023-11-20T00:00:00",
          "2023-11-21T00:00:00",
          "2023-11-22T00:00:00",
          "2023-11-24T00:00:00",
          "2023-11-27T00:00:00",
          "2023-11-28T00:00:00",
          "2023-11-29T00:00:00",
          "2023-11-30T00:00:00",
          "2023-12-01T00:00:00",
          "2023-12-04T00:00:00",
          "2023-12-05T00:00:00",
          "2023-12-06T00:00:00",
          "2023-12-07T00:00:00",
          "2023-12-08T00:00:00",
          "2023-12-11T00:00:00",
          "2023-12-12T00:00:00",
          "2023-12-13T00:00:00",
          "2023-12-14T00:00:00",
          "2023-12-15T00:00:00",
          "2023-12-18T00:00:00",
          "2023-12-19T00:00:00",
          "2023-12-20T00:00:00",
          "2023-12-21T00:00:00",
          "2023-12-22T00:00:00",
          "2023-12-26T00:00:00",
          "2023-12-27T00:00:00",
          "2023-12-28T00:00:00",
          "2023-12-29T00:00:00",
          "2024-01-02T00:00:00",
          "2024-01-03T00:00:00",
          "2024-01-04T00:00:00",
          "2024-01-05T00:00:00",
          "2024-01-08T00:00:00",
          "2024-01-09T00:00:00",
          "2024-01-10T00:00:00",
          "2024-01-11T00:00:00",
          "2024-01-12T00:00:00",
          "2024-01-16T00:00:00",
          "2024-01-17T00:00:00",
          "2024-01-18T00:00:00",
          "2024-01-19T00:00:00",
          "2024-01-22T00:00:00",
          "2024-01-23T00:00:00",
          "2024-01-24T00:00:00",
          "2024-01-25T00:00:00",
          "2024-01-26T00:00:00",
          "2024-01-29T00:00:00",
          "2024-01-30T00:00:00",
          "2024-01-31T00:00:00",
          "2024-02-01T00:00:00",
          "2024-02-02T00:00:00",
          "2024-02-05T00:00:00",
          "2024-02-06T00:00:00",
          "2024-02-07T00:00:00",
          "2024-02-08T00:00:00",
          "2024-02-09T00:00:00",
          "2024-02-12T00:00:00",
          "2024-02-13T00:00:00",
          "2024-02-14T00:00:00",
          "2024-02-15T00:00:00",
          "2024-02-16T00:00:00",
          "2024-02-20T00:00:00",
          "2024-02-21T00:00:00",
          "2024-02-22T00:00:00",
          "2024-02-23T00:00:00",
          "2024-02-26T00:00:00",
          "2024-02-27T00:00:00",
          "2024-02-28T00:00:00",
          "2024-02-29T00:00:00",
          "2024-03-01T00:00:00",
          "2024-03-04T00:00:00",
          "2024-03-05T00:00:00",
          "2024-03-06T00:00:00",
          "2024-03-07T00:00:00",
          "2024-03-08T00:00:00",
          "2024-03-11T00:00:00",
          "2024-03-12T00:00:00",
          "2024-03-13T00:00:00",
          "2024-03-14T00:00:00",
          "2024-03-15T00:00:00",
          "2024-03-18T00:00:00",
          "2024-03-19T00:00:00",
          "2024-03-20T00:00:00",
          "2024-03-21T00:00:00",
          "2024-03-22T00:00:00",
          "2024-03-25T00:00:00",
          "2024-03-26T00:00:00",
          "2024-03-27T00:00:00",
          "2024-03-28T00:00:00",
          "2024-04-01T00:00:00",
          "2024-04-02T00:00:00",
          "2024-04-03T00:00:00",
          "2024-04-04T00:00:00",
          "2024-04-05T00:00:00",
          "2024-04-08T00:00:00",
          "2024-04-09T00:00:00",
          "2024-04-10T00:00:00",
          "2024-04-11T00:00:00",
          "2024-04-12T00:00:00"
         ],
         "y": [
          1123604.12,
          1126991.23,
          1115675.41,
          1134371.48,
          1192504.43,
          1191469.61,
          1233063.84,
          1275023.38,
          1306185.62,
          1346612.83,
          1295048.36,
          1318747.72,
          1417368.02,
          1420069.84,
          1386795.81,
          1419189.54,
          1400852.82,
          1413345.22,
          1428636.41,
          1463938.14,
          1639359.24,
          1615427.38,
          1626941.84,
          1569907.8,
          1630685.46,
          1604962.42,
          1505071.68,
          1513814.67,
          1495477.92,
          1550769.43,
          1678568.36,
          1622295.23,
          1662400.94,
          1595973.88,
          1603163,
          1591186.41,
          1539744.14,
          1573171.64,
          1559533.35,
          1707431.3,
          1677244.83,
          1595800.24,
          1566418.25,
          1548710.67,
          1497956.3,
          1395570.38,
          1340215.32,
          1563716.78,
          1606492.56,
          1515480.56,
          1562620.93,
          1700124.82,
          1639465.91,
          1695336.48,
          1715206.04,
          1810458.85,
          1784789.77,
          1729079.04,
          1731927.32,
          1787176.11,
          1754580.78,
          1774490.82,
          1887141.77,
          1894724.6,
          1895275.05,
          1872963.99,
          1955724.71,
          1979764.41,
          1957459.31,
          1984514.28,
          2010603.62,
          2000548.48,
          2065101.31,
          1892960.16,
          1872170.04,
          1790664.99,
          1829396.78,
          1883389.61,
          1856798.18,
          1906036.52,
          1902169.38,
          1929536.81,
          1967025.28,
          1984855.45,
          1974959.9,
          2002280.06,
          1816855.09,
          1839644,
          1850092.74,
          1828539.76,
          1815837.86,
          1902428.31,
          1928281.02,
          1985713.12,
          1928948.14,
          1943883.6,
          1934104.8,
          1954573.32,
          1861188.49,
          1872729.48,
          1888496.45,
          1978618.72,
          1942149.59,
          2054287.89,
          2086497.75,
          1944899.68,
          2033784.05,
          1977686.2,
          1979054.93,
          1986964.36,
          1830309.66,
          1829677.78,
          1751422.86,
          1783467.28,
          1828092.56,
          1949310.77,
          2066511.45,
          2073124.69,
          2160982.06,
          2100007.49,
          2123355.71,
          2044344.17,
          2077161.53,
          2350459.34,
          2471865.8,
          2395979.77,
          2287705.94,
          2335317.42,
          2319625.41,
          2328046.82,
          2313274.47,
          2422746.66,
          2297455.49,
          2255499.83,
          2235016.31,
          2245189.49,
          2243295.8,
          2268012.01,
          2180889.96,
          2187387.05,
          2205450.09,
          2198479.67,
          2215180.52,
          2220512.21,
          2387019.37,
          2284296.7,
          2223387.53,
          2211109.89,
          2218754.54,
          2262733.7,
          2255723.88,
          2237510.29,
          2242244.78,
          2224171.02,
          2178554.58,
          2097922.5,
          1895792.82,
          1858525.85,
          1898738.34,
          1866727.52,
          1893405.2,
          1873298.61,
          1871786.82,
          1879675.08,
          1987071.04,
          1954117.79,
          1852161.03,
          1930286.74,
          1931023.29,
          1926076.07,
          1956879.46,
          1928717.7,
          1846720.92,
          1890558.33,
          1934184.11,
          1958090.57,
          2004656.62,
          2009287.7,
          2047910.2,
          2006648.42,
          1985066.35,
          1980682.17,
          1969093.26,
          1957798.79,
          1959669.34,
          2011335.57,
          2012192.23,
          2130545.7,
          2118760.02,
          2119516.29,
          2108991.7,
          2141423.99,
          2090925.74,
          2090052.96,
          2037281.43,
          2026926.52,
          2037885.52,
          2134206.12,
          2112814.35,
          2081839.36,
          2120380.91,
          2185122.35,
          2411136.63,
          2446587.88,
          2467433.7,
          2454934.02,
          2418404.03,
          2475442.49,
          2478164.96,
          2622635.34,
          2592435.84,
          2584827.49,
          2673958.55,
          2677940.5,
          2681445.47,
          2735877.21,
          2756467.62,
          2693191.48,
          2637677.84,
          2793202.8,
          2673129.72,
          2677500.32,
          2706232.2,
          2586509.9,
          2691951.68,
          2735429.66,
          2692234.59,
          2725172.7,
          2730203.16,
          2715533.29,
          2885300.21,
          3054531.79,
          3172912.71,
          3128053.24,
          3133552.5,
          3241902.32,
          3018492.63,
          3024067.68,
          3101718.32,
          3104034.16,
          3022683.15,
          3051664.92,
          3032700.19,
          3082419.65,
          3109981.9,
          3160268.16,
          3084203.04,
          3168749.48,
          3145675,
          3069164.09,
          3299369.14,
          3073873.38,
          3155471.55,
          3146866.42,
          3306904.96,
          3254092.33,
          3325569.74,
          3348292.63,
          3200222.35,
          3157382.38,
          3136764.92,
          3044872.46,
          3114393.53,
          2951686.73,
          2936873.08,
          2959090.35,
          2941794.68,
          3054729.53,
          3146616.65,
          3115410.41,
          3085628.88,
          3198628.96,
          3212218.09,
          3180687.24,
          3212386.93,
          3275250.37,
          3356285.87,
          3445480.18,
          3617183.23,
          3539267.94,
          3653189.7,
          3657015.88,
          3681367.32,
          3670690.98,
          3637267.8,
          3609040.46,
          3583055.06,
          3815753.48,
          3972978.32,
          4238728.32,
          4269100.85,
          4500604.11,
          4851250.32,
          4512004.79,
          4689640.42,
          4769223.77,
          4844403.66,
          5296130.31,
          5154622.14,
          5227643.77,
          5089998.92,
          4916498.68,
          4781484.46,
          4360288.09,
          4757877.75,
          4657852.53,
          4533410.96,
          4961005.97,
          5053374.79,
          4989094.86,
          5060567.58,
          5221559.78,
          5150654.47,
          5025396.26,
          5145642.12,
          5106220.96,
          5387827.96,
          5159661.89,
          5215650.87,
          5226444.86,
          4858905.33
         ]
        }
       ],
       "layout": {
        "height": 500,
        "margin": {
         "b": 50,
         "l": 25,
         "r": 25,
         "t": 50
        },
        "showlegend": false,
        "template": {
         "data": {
          "bar": [
           {
            "error_x": {
             "color": "#2a3f5f"
            },
            "error_y": {
             "color": "#2a3f5f"
            },
            "marker": {
             "line": {
              "color": "white",
              "width": 0.5
             },
             "pattern": {
              "fillmode": "overlay",
              "size": 10,
              "solidity": 0.2
             }
            },
            "type": "bar"
           }
          ],
          "barpolar": [
           {
            "marker": {
             "line": {
              "color": "white",
              "width": 0.5
             },
             "pattern": {
              "fillmode": "overlay",
              "size": 10,
              "solidity": 0.2
             }
            },
            "type": "barpolar"
           }
          ],
          "carpet": [
           {
            "aaxis": {
             "endlinecolor": "#2a3f5f",
             "gridcolor": "#C8D4E3",
             "linecolor": "#C8D4E3",
             "minorgridcolor": "#C8D4E3",
             "startlinecolor": "#2a3f5f"
            },
            "baxis": {
             "endlinecolor": "#2a3f5f",
             "gridcolor": "#C8D4E3",
             "linecolor": "#C8D4E3",
             "minorgridcolor": "#C8D4E3",
             "startlinecolor": "#2a3f5f"
            },
            "type": "carpet"
           }
          ],
          "choropleth": [
           {
            "colorbar": {
             "outlinewidth": 0,
             "ticks": ""
            },
            "type": "choropleth"
           }
          ],
          "contour": [
           {
            "colorbar": {
             "outlinewidth": 0,
             "ticks": ""
            },
            "colorscale": [
             [
              0,
              "#0d0887"
             ],
             [
              0.1111111111111111,
              "#46039f"
             ],
             [
              0.2222222222222222,
              "#7201a8"
             ],
             [
              0.3333333333333333,
              "#9c179e"
             ],
             [
              0.4444444444444444,
              "#bd3786"
             ],
             [
              0.5555555555555556,
              "#d8576b"
             ],
             [
              0.6666666666666666,
              "#ed7953"
             ],
             [
              0.7777777777777778,
              "#fb9f3a"
             ],
             [
              0.8888888888888888,
              "#fdca26"
             ],
             [
              1,
              "#f0f921"
             ]
            ],
            "type": "contour"
           }
          ],
          "contourcarpet": [
           {
            "colorbar": {
             "outlinewidth": 0,
             "ticks": ""
            },
            "type": "contourcarpet"
           }
          ],
          "heatmap": [
           {
            "colorbar": {
             "outlinewidth": 0,
             "ticks": ""
            },
            "colorscale": [
             [
              0,
              "#0d0887"
             ],
             [
              0.1111111111111111,
              "#46039f"
             ],
             [
              0.2222222222222222,
              "#7201a8"
             ],
             [
              0.3333333333333333,
              "#9c179e"
             ],
             [
              0.4444444444444444,
              "#bd3786"
             ],
             [
              0.5555555555555556,
              "#d8576b"
             ],
             [
              0.6666666666666666,
              "#ed7953"
             ],
             [
              0.7777777777777778,
              "#fb9f3a"
             ],
             [
              0.8888888888888888,
              "#fdca26"
             ],
             [
              1,
              "#f0f921"
             ]
            ],
            "type": "heatmap"
           }
          ],
          "heatmapgl": [
           {
            "colorbar": {
             "outlinewidth": 0,
             "ticks": ""
            },
            "colorscale": [
             [
              0,
              "#0d0887"
             ],
             [
              0.1111111111111111,
              "#46039f"
             ],
             [
              0.2222222222222222,
              "#7201a8"
             ],
             [
              0.3333333333333333,
              "#9c179e"
             ],
             [
              0.4444444444444444,
              "#bd3786"
             ],
             [
              0.5555555555555556,
              "#d8576b"
             ],
             [
              0.6666666666666666,
              "#ed7953"
             ],
             [
              0.7777777777777778,
              "#fb9f3a"
             ],
             [
              0.8888888888888888,
              "#fdca26"
             ],
             [
              1,
              "#f0f921"
             ]
            ],
            "type": "heatmapgl"
           }
          ],
          "histogram": [
           {
            "marker": {
             "pattern": {
              "fillmode": "overlay",
              "size": 10,
              "solidity": 0.2
             }
            },
            "type": "histogram"
           }
          ],
          "histogram2d": [
           {
            "colorbar": {
             "outlinewidth": 0,
             "ticks": ""
            },
            "colorscale": [
             [
              0,
              "#0d0887"
             ],
             [
              0.1111111111111111,
              "#46039f"
             ],
             [
              0.2222222222222222,
              "#7201a8"
             ],
             [
              0.3333333333333333,
              "#9c179e"
             ],
             [
              0.4444444444444444,
              "#bd3786"
             ],
             [
              0.5555555555555556,
              "#d8576b"
             ],
             [
              0.6666666666666666,
              "#ed7953"
             ],
             [
              0.7777777777777778,
              "#fb9f3a"
             ],
             [
              0.8888888888888888,
              "#fdca26"
             ],
             [
              1,
              "#f0f921"
             ]
            ],
            "type": "histogram2d"
           }
          ],
          "histogram2dcontour": [
           {
            "colorbar": {
             "outlinewidth": 0,
             "ticks": ""
            },
            "colorscale": [
             [
              0,
              "#0d0887"
             ],
             [
              0.1111111111111111,
              "#46039f"
             ],
             [
              0.2222222222222222,
              "#7201a8"
             ],
             [
              0.3333333333333333,
              "#9c179e"
             ],
             [
              0.4444444444444444,
              "#bd3786"
             ],
             [
              0.5555555555555556,
              "#d8576b"
             ],
             [
              0.6666666666666666,
              "#ed7953"
             ],
             [
              0.7777777777777778,
              "#fb9f3a"
             ],
             [
              0.8888888888888888,
              "#fdca26"
             ],
             [
              1,
              "#f0f921"
             ]
            ],
            "type": "histogram2dcontour"
           }
          ],
          "mesh3d": [
           {
            "colorbar": {
             "outlinewidth": 0,
             "ticks": ""
            },
            "type": "mesh3d"
           }
          ],
          "parcoords": [
           {
            "line": {
             "colorbar": {
              "outlinewidth": 0,
              "ticks": ""
             }
            },
            "type": "parcoords"
           }
          ],
          "pie": [
           {
            "automargin": true,
            "type": "pie"
           }
          ],
          "scatter": [
           {
            "fillpattern": {
             "fillmode": "overlay",
             "size": 10,
             "solidity": 0.2
            },
            "type": "scatter"
           }
          ],
          "scatter3d": [
           {
            "line": {
             "colorbar": {
              "outlinewidth": 0,
              "ticks": ""
             }
            },
            "marker": {
             "colorbar": {
              "outlinewidth": 0,
              "ticks": ""
             }
            },
            "type": "scatter3d"
           }
          ],
          "scattercarpet": [
           {
            "marker": {
             "colorbar": {
              "outlinewidth": 0,
              "ticks": ""
             }
            },
            "type": "scattercarpet"
           }
          ],
          "scattergeo": [
           {
            "marker": {
             "colorbar": {
              "outlinewidth": 0,
              "ticks": ""
             }
            },
            "type": "scattergeo"
           }
          ],
          "scattergl": [
           {
            "marker": {
             "colorbar": {
              "outlinewidth": 0,
              "ticks": ""
             }
            },
            "type": "scattergl"
           }
          ],
          "scattermapbox": [
           {
            "marker": {
             "colorbar": {
              "outlinewidth": 0,
              "ticks": ""
             }
            },
            "type": "scattermapbox"
           }
          ],
          "scatterpolar": [
           {
            "marker": {
             "colorbar": {
              "outlinewidth": 0,
              "ticks": ""
             }
            },
            "type": "scatterpolar"
           }
          ],
          "scatterpolargl": [
           {
            "marker": {
             "colorbar": {
              "outlinewidth": 0,
              "ticks": ""
             }
            },
            "type": "scatterpolargl"
           }
          ],
          "scatterternary": [
           {
            "marker": {
             "colorbar": {
              "outlinewidth": 0,
              "ticks": ""
             }
            },
            "type": "scatterternary"
           }
          ],
          "surface": [
           {
            "colorbar": {
             "outlinewidth": 0,
             "ticks": ""
            },
            "colorscale": [
             [
              0,
              "#0d0887"
             ],
             [
              0.1111111111111111,
              "#46039f"
             ],
             [
              0.2222222222222222,
              "#7201a8"
             ],
             [
              0.3333333333333333,
              "#9c179e"
             ],
             [
              0.4444444444444444,
              "#bd3786"
             ],
             [
              0.5555555555555556,
              "#d8576b"
             ],
             [
              0.6666666666666666,
              "#ed7953"
             ],
             [
              0.7777777777777778,
              "#fb9f3a"
             ],
             [
              0.8888888888888888,
              "#fdca26"
             ],
             [
              1,
              "#f0f921"
             ]
            ],
            "type": "surface"
           }
          ],
          "table": [
           {
            "cells": {
             "fill": {
              "color": "#EBF0F8"
             },
             "line": {
              "color": "white"
             }
            },
            "header": {
             "fill": {
              "color": "#C8D4E3"
             },
             "line": {
              "color": "white"
             }
            },
            "type": "table"
           }
          ]
         },
         "layout": {
          "annotationdefaults": {
           "arrowcolor": "#2a3f5f",
           "arrowhead": 0,
           "arrowwidth": 1
          },
          "autotypenumbers": "strict",
          "coloraxis": {
           "colorbar": {
            "outlinewidth": 0,
            "ticks": ""
           }
          },
          "colorscale": {
           "diverging": [
            [
             0,
             "#8e0152"
            ],
            [
             0.1,
             "#c51b7d"
            ],
            [
             0.2,
             "#de77ae"
            ],
            [
             0.3,
             "#f1b6da"
            ],
            [
             0.4,
             "#fde0ef"
            ],
            [
             0.5,
             "#f7f7f7"
            ],
            [
             0.6,
             "#e6f5d0"
            ],
            [
             0.7,
             "#b8e186"
            ],
            [
             0.8,
             "#7fbc41"
            ],
            [
             0.9,
             "#4d9221"
            ],
            [
             1,
             "#276419"
            ]
           ],
           "sequential": [
            [
             0,
             "#0d0887"
            ],
            [
             0.1111111111111111,
             "#46039f"
            ],
            [
             0.2222222222222222,
             "#7201a8"
            ],
            [
             0.3333333333333333,
             "#9c179e"
            ],
            [
             0.4444444444444444,
             "#bd3786"
            ],
            [
             0.5555555555555556,
             "#d8576b"
            ],
            [
             0.6666666666666666,
             "#ed7953"
            ],
            [
             0.7777777777777778,
             "#fb9f3a"
            ],
            [
             0.8888888888888888,
             "#fdca26"
            ],
            [
             1,
             "#f0f921"
            ]
           ],
           "sequentialminus": [
            [
             0,
             "#0d0887"
            ],
            [
             0.1111111111111111,
             "#46039f"
            ],
            [
             0.2222222222222222,
             "#7201a8"
            ],
            [
             0.3333333333333333,
             "#9c179e"
            ],
            [
             0.4444444444444444,
             "#bd3786"
            ],
            [
             0.5555555555555556,
             "#d8576b"
            ],
            [
             0.6666666666666666,
             "#ed7953"
            ],
            [
             0.7777777777777778,
             "#fb9f3a"
            ],
            [
             0.8888888888888888,
             "#fdca26"
            ],
            [
             1,
             "#f0f921"
            ]
           ]
          },
          "colorway": [
           "#636efa",
           "#EF553B",
           "#00cc96",
           "#ab63fa",
           "#FFA15A",
           "#19d3f3",
           "#FF6692",
           "#B6E880",
           "#FF97FF",
           "#FECB52"
          ],
          "font": {
           "color": "#2a3f5f"
          },
          "geo": {
           "bgcolor": "white",
           "lakecolor": "white",
           "landcolor": "white",
           "showlakes": true,
           "showland": true,
           "subunitcolor": "#C8D4E3"
          },
          "hoverlabel": {
           "align": "left"
          },
          "hovermode": "closest",
          "mapbox": {
           "style": "light"
          },
          "paper_bgcolor": "white",
          "plot_bgcolor": "white",
          "polar": {
           "angularaxis": {
            "gridcolor": "#EBF0F8",
            "linecolor": "#EBF0F8",
            "ticks": ""
           },
           "bgcolor": "white",
           "radialaxis": {
            "gridcolor": "#EBF0F8",
            "linecolor": "#EBF0F8",
            "ticks": ""
           }
          },
          "scene": {
           "xaxis": {
            "backgroundcolor": "white",
            "gridcolor": "#DFE8F3",
            "gridwidth": 2,
            "linecolor": "#EBF0F8",
            "showbackground": true,
            "ticks": "",
            "zerolinecolor": "#EBF0F8"
           },
           "yaxis": {
            "backgroundcolor": "white",
            "gridcolor": "#DFE8F3",
            "gridwidth": 2,
            "linecolor": "#EBF0F8",
            "showbackground": true,
            "ticks": "",
            "zerolinecolor": "#EBF0F8"
           },
           "zaxis": {
            "backgroundcolor": "white",
            "gridcolor": "#DFE8F3",
            "gridwidth": 2,
            "linecolor": "#EBF0F8",
            "showbackground": true,
            "ticks": "",
            "zerolinecolor": "#EBF0F8"
           }
          },
          "shapedefaults": {
           "line": {
            "color": "#2a3f5f"
           }
          },
          "ternary": {
           "aaxis": {
            "gridcolor": "#DFE8F3",
            "linecolor": "#A2B1C6",
            "ticks": ""
           },
           "baxis": {
            "gridcolor": "#DFE8F3",
            "linecolor": "#A2B1C6",
            "ticks": ""
           },
           "bgcolor": "white",
           "caxis": {
            "gridcolor": "#DFE8F3",
            "linecolor": "#A2B1C6",
            "ticks": ""
           }
          },
          "title": {
           "x": 0.05
          },
          "xaxis": {
           "automargin": true,
           "gridcolor": "#EBF0F8",
           "linecolor": "#EBF0F8",
           "ticks": "",
           "title": {
            "standoff": 15
           },
           "zerolinecolor": "#EBF0F8",
           "zerolinewidth": 2
          },
          "yaxis": {
           "automargin": true,
           "gridcolor": "#EBF0F8",
           "linecolor": "#EBF0F8",
           "ticks": "",
           "title": {
            "standoff": 15
           },
           "zerolinecolor": "#EBF0F8",
           "zerolinewidth": 2
          }
         }
        },
        "xaxis": {
         "rangeslider": {
          "visible": false
         },
         "tickfont": {
          "size": 12
         }
        },
        "yaxis": {
         "tickfont": {
          "size": 12
         },
         "title": {
          "font": {
           "size": 14
          },
          "text": "Value: $ USD"
         }
        }
       }
      }
     },
     "metadata": {},
     "output_type": "display_data"
    }
   ],
   "source": [
    "\n",
    "initial_date = '2022-01-01'  # do not use anything earlier than your first trade\n",
    "plotlydf_portfval = portf_allvalues[portf_allvalues.index > initial_date]\n",
    "plotlydf_portfval = plotlydf_portfval[['portf_value', 'sp500_mktvalue', 'ptf_value_pctch',\n",
    "                                     'sp500_pctch', 'ptf_value_diff', 'sp500_diff']].reset_index().round(2)\n",
    "# calculating cumulative growth since initial date\n",
    "plotlydf_portfval['ptf_growth'] = plotlydf_portfval.portf_value/plotlydf_portfval['portf_value'].iloc[0]\n",
    "plotlydf_portfval['sp500_growth'] = plotlydf_portfval.sp500_mktvalue/plotlydf_portfval['sp500_mktvalue'].iloc[0]\n",
    "plotlydf_portfval.rename(columns={'index': 'date'}, inplace=True)  # needed for later\n",
    "\n",
    "# Plotly part\n",
    "CHART_THEME = 'plotly_white'  # others examples: seaborn, ggplot2, plotly_dark\n",
    "chart_ptfvalue = go.Figure()  # generating a figure that will be updated in the following lines\n",
    "chart_ptfvalue.add_trace(go.Scatter(x=plotlydf_portfval.date, y=plotlydf_portfval.portf_value,\n",
    "                    mode='lines',  # you can also use \"lines+markers\", or just \"markers\"\n",
    "                    name='Global Value'))\n",
    "chart_ptfvalue.layout.template = CHART_THEME\n",
    "chart_ptfvalue.layout.height=500\n",
    "chart_ptfvalue.update_layout(margin = dict(t=50, b=50, l=25, r=25))  # this will help you optimize the chart space\n",
    "chart_ptfvalue.update_layout(\n",
    "#     title='Global Portfolio Value (USD $)',\n",
    "    xaxis_tickfont_size=12,\n",
    "    yaxis=dict(\n",
    "        title='Value: $ USD',\n",
    "        titlefont_size=14,\n",
    "        tickfont_size=12,\n",
    "        ))\n",
    "chart_ptfvalue.update_xaxes(rangeslider_visible=False)\n",
    "chart_ptfvalue.update_layout(showlegend=False)\n",
    "chart_ptfvalue.show()"
   ]
  },
  {
   "cell_type": "markdown",
   "metadata": {},
   "source": [
    "Portfolio Value Visualized."
   ]
  },
  {
   "cell_type": "code",
   "execution_count": 191,
   "metadata": {},
   "outputs": [
    {
     "name": "stderr",
     "output_type": "stream",
     "text": [
      "C:\\Users\\hp\\AppData\\Local\\Temp\\ipykernel_13024\\2343947586.py:5: FutureWarning:\n",
      "\n",
      "Series.dt.weekofyear and Series.dt.week have been deprecated. Please use Series.dt.isocalendar().week instead.\n",
      "\n"
     ]
    },
    {
     "data": {
      "application/vnd.plotly.v1+json": {
       "config": {
        "plotlyServerURL": "https://plot.ly"
       },
       "data": [
        {
         "name": "Portfolio",
         "type": "bar",
         "x": [
          "2023 - 01",
          "2023 - 02",
          "2023 - 03",
          "2023 - 04",
          "2023 - 05",
          "2023 - 06",
          "2023 - 07",
          "2023 - 08",
          "2023 - 09",
          "2023 - 10",
          "2023 - 11",
          "2023 - 12",
          "2024 - 01",
          "2024 - 02",
          "2024 - 03",
          "2024 - 04"
         ],
         "y": [
          null,
          6.52,
          13.76,
          7.22,
          2.07,
          21.06,
          -5.54,
          -16.6,
          8.68,
          23.17,
          9.56,
          13.03,
          0.51,
          38.35,
          18.56,
          -4
         ]
        },
        {
         "name": "S&P 500",
         "type": "bar",
         "x": [
          "2023 - 01",
          "2023 - 02",
          "2023 - 03",
          "2023 - 04",
          "2023 - 05",
          "2023 - 06",
          "2023 - 07",
          "2023 - 08",
          "2023 - 09",
          "2023 - 10",
          "2023 - 11",
          "2023 - 12",
          "2024 - 01",
          "2024 - 02",
          "2024 - 03",
          "2024 - 04"
         ],
         "y": [
          null,
          -2.63,
          3.56,
          1.4,
          0.28,
          6.5,
          3.09,
          -1.75,
          -4.92,
          -2.14,
          8.84,
          4.44,
          1.6,
          5.21,
          3.08,
          -2.48
         ]
        }
       ],
       "layout": {
        "barmode": "group",
        "height": 300,
        "legend": {
         "x": 0.99,
         "xanchor": "right",
         "y": 0.99,
         "yanchor": "top"
        },
        "margin": {
         "b": 50,
         "l": 25,
         "r": 25,
         "t": 50
        },
        "template": {
         "data": {
          "bar": [
           {
            "error_x": {
             "color": "#2a3f5f"
            },
            "error_y": {
             "color": "#2a3f5f"
            },
            "marker": {
             "line": {
              "color": "white",
              "width": 0.5
             },
             "pattern": {
              "fillmode": "overlay",
              "size": 10,
              "solidity": 0.2
             }
            },
            "type": "bar"
           }
          ],
          "barpolar": [
           {
            "marker": {
             "line": {
              "color": "white",
              "width": 0.5
             },
             "pattern": {
              "fillmode": "overlay",
              "size": 10,
              "solidity": 0.2
             }
            },
            "type": "barpolar"
           }
          ],
          "carpet": [
           {
            "aaxis": {
             "endlinecolor": "#2a3f5f",
             "gridcolor": "#C8D4E3",
             "linecolor": "#C8D4E3",
             "minorgridcolor": "#C8D4E3",
             "startlinecolor": "#2a3f5f"
            },
            "baxis": {
             "endlinecolor": "#2a3f5f",
             "gridcolor": "#C8D4E3",
             "linecolor": "#C8D4E3",
             "minorgridcolor": "#C8D4E3",
             "startlinecolor": "#2a3f5f"
            },
            "type": "carpet"
           }
          ],
          "choropleth": [
           {
            "colorbar": {
             "outlinewidth": 0,
             "ticks": ""
            },
            "type": "choropleth"
           }
          ],
          "contour": [
           {
            "colorbar": {
             "outlinewidth": 0,
             "ticks": ""
            },
            "colorscale": [
             [
              0,
              "#0d0887"
             ],
             [
              0.1111111111111111,
              "#46039f"
             ],
             [
              0.2222222222222222,
              "#7201a8"
             ],
             [
              0.3333333333333333,
              "#9c179e"
             ],
             [
              0.4444444444444444,
              "#bd3786"
             ],
             [
              0.5555555555555556,
              "#d8576b"
             ],
             [
              0.6666666666666666,
              "#ed7953"
             ],
             [
              0.7777777777777778,
              "#fb9f3a"
             ],
             [
              0.8888888888888888,
              "#fdca26"
             ],
             [
              1,
              "#f0f921"
             ]
            ],
            "type": "contour"
           }
          ],
          "contourcarpet": [
           {
            "colorbar": {
             "outlinewidth": 0,
             "ticks": ""
            },
            "type": "contourcarpet"
           }
          ],
          "heatmap": [
           {
            "colorbar": {
             "outlinewidth": 0,
             "ticks": ""
            },
            "colorscale": [
             [
              0,
              "#0d0887"
             ],
             [
              0.1111111111111111,
              "#46039f"
             ],
             [
              0.2222222222222222,
              "#7201a8"
             ],
             [
              0.3333333333333333,
              "#9c179e"
             ],
             [
              0.4444444444444444,
              "#bd3786"
             ],
             [
              0.5555555555555556,
              "#d8576b"
             ],
             [
              0.6666666666666666,
              "#ed7953"
             ],
             [
              0.7777777777777778,
              "#fb9f3a"
             ],
             [
              0.8888888888888888,
              "#fdca26"
             ],
             [
              1,
              "#f0f921"
             ]
            ],
            "type": "heatmap"
           }
          ],
          "heatmapgl": [
           {
            "colorbar": {
             "outlinewidth": 0,
             "ticks": ""
            },
            "colorscale": [
             [
              0,
              "#0d0887"
             ],
             [
              0.1111111111111111,
              "#46039f"
             ],
             [
              0.2222222222222222,
              "#7201a8"
             ],
             [
              0.3333333333333333,
              "#9c179e"
             ],
             [
              0.4444444444444444,
              "#bd3786"
             ],
             [
              0.5555555555555556,
              "#d8576b"
             ],
             [
              0.6666666666666666,
              "#ed7953"
             ],
             [
              0.7777777777777778,
              "#fb9f3a"
             ],
             [
              0.8888888888888888,
              "#fdca26"
             ],
             [
              1,
              "#f0f921"
             ]
            ],
            "type": "heatmapgl"
           }
          ],
          "histogram": [
           {
            "marker": {
             "pattern": {
              "fillmode": "overlay",
              "size": 10,
              "solidity": 0.2
             }
            },
            "type": "histogram"
           }
          ],
          "histogram2d": [
           {
            "colorbar": {
             "outlinewidth": 0,
             "ticks": ""
            },
            "colorscale": [
             [
              0,
              "#0d0887"
             ],
             [
              0.1111111111111111,
              "#46039f"
             ],
             [
              0.2222222222222222,
              "#7201a8"
             ],
             [
              0.3333333333333333,
              "#9c179e"
             ],
             [
              0.4444444444444444,
              "#bd3786"
             ],
             [
              0.5555555555555556,
              "#d8576b"
             ],
             [
              0.6666666666666666,
              "#ed7953"
             ],
             [
              0.7777777777777778,
              "#fb9f3a"
             ],
             [
              0.8888888888888888,
              "#fdca26"
             ],
             [
              1,
              "#f0f921"
             ]
            ],
            "type": "histogram2d"
           }
          ],
          "histogram2dcontour": [
           {
            "colorbar": {
             "outlinewidth": 0,
             "ticks": ""
            },
            "colorscale": [
             [
              0,
              "#0d0887"
             ],
             [
              0.1111111111111111,
              "#46039f"
             ],
             [
              0.2222222222222222,
              "#7201a8"
             ],
             [
              0.3333333333333333,
              "#9c179e"
             ],
             [
              0.4444444444444444,
              "#bd3786"
             ],
             [
              0.5555555555555556,
              "#d8576b"
             ],
             [
              0.6666666666666666,
              "#ed7953"
             ],
             [
              0.7777777777777778,
              "#fb9f3a"
             ],
             [
              0.8888888888888888,
              "#fdca26"
             ],
             [
              1,
              "#f0f921"
             ]
            ],
            "type": "histogram2dcontour"
           }
          ],
          "mesh3d": [
           {
            "colorbar": {
             "outlinewidth": 0,
             "ticks": ""
            },
            "type": "mesh3d"
           }
          ],
          "parcoords": [
           {
            "line": {
             "colorbar": {
              "outlinewidth": 0,
              "ticks": ""
             }
            },
            "type": "parcoords"
           }
          ],
          "pie": [
           {
            "automargin": true,
            "type": "pie"
           }
          ],
          "scatter": [
           {
            "fillpattern": {
             "fillmode": "overlay",
             "size": 10,
             "solidity": 0.2
            },
            "type": "scatter"
           }
          ],
          "scatter3d": [
           {
            "line": {
             "colorbar": {
              "outlinewidth": 0,
              "ticks": ""
             }
            },
            "marker": {
             "colorbar": {
              "outlinewidth": 0,
              "ticks": ""
             }
            },
            "type": "scatter3d"
           }
          ],
          "scattercarpet": [
           {
            "marker": {
             "colorbar": {
              "outlinewidth": 0,
              "ticks": ""
             }
            },
            "type": "scattercarpet"
           }
          ],
          "scattergeo": [
           {
            "marker": {
             "colorbar": {
              "outlinewidth": 0,
              "ticks": ""
             }
            },
            "type": "scattergeo"
           }
          ],
          "scattergl": [
           {
            "marker": {
             "colorbar": {
              "outlinewidth": 0,
              "ticks": ""
             }
            },
            "type": "scattergl"
           }
          ],
          "scattermapbox": [
           {
            "marker": {
             "colorbar": {
              "outlinewidth": 0,
              "ticks": ""
             }
            },
            "type": "scattermapbox"
           }
          ],
          "scatterpolar": [
           {
            "marker": {
             "colorbar": {
              "outlinewidth": 0,
              "ticks": ""
             }
            },
            "type": "scatterpolar"
           }
          ],
          "scatterpolargl": [
           {
            "marker": {
             "colorbar": {
              "outlinewidth": 0,
              "ticks": ""
             }
            },
            "type": "scatterpolargl"
           }
          ],
          "scatterternary": [
           {
            "marker": {
             "colorbar": {
              "outlinewidth": 0,
              "ticks": ""
             }
            },
            "type": "scatterternary"
           }
          ],
          "surface": [
           {
            "colorbar": {
             "outlinewidth": 0,
             "ticks": ""
            },
            "colorscale": [
             [
              0,
              "#0d0887"
             ],
             [
              0.1111111111111111,
              "#46039f"
             ],
             [
              0.2222222222222222,
              "#7201a8"
             ],
             [
              0.3333333333333333,
              "#9c179e"
             ],
             [
              0.4444444444444444,
              "#bd3786"
             ],
             [
              0.5555555555555556,
              "#d8576b"
             ],
             [
              0.6666666666666666,
              "#ed7953"
             ],
             [
              0.7777777777777778,
              "#fb9f3a"
             ],
             [
              0.8888888888888888,
              "#fdca26"
             ],
             [
              1,
              "#f0f921"
             ]
            ],
            "type": "surface"
           }
          ],
          "table": [
           {
            "cells": {
             "fill": {
              "color": "#EBF0F8"
             },
             "line": {
              "color": "white"
             }
            },
            "header": {
             "fill": {
              "color": "#C8D4E3"
             },
             "line": {
              "color": "white"
             }
            },
            "type": "table"
           }
          ]
         },
         "layout": {
          "annotationdefaults": {
           "arrowcolor": "#2a3f5f",
           "arrowhead": 0,
           "arrowwidth": 1
          },
          "autotypenumbers": "strict",
          "coloraxis": {
           "colorbar": {
            "outlinewidth": 0,
            "ticks": ""
           }
          },
          "colorscale": {
           "diverging": [
            [
             0,
             "#8e0152"
            ],
            [
             0.1,
             "#c51b7d"
            ],
            [
             0.2,
             "#de77ae"
            ],
            [
             0.3,
             "#f1b6da"
            ],
            [
             0.4,
             "#fde0ef"
            ],
            [
             0.5,
             "#f7f7f7"
            ],
            [
             0.6,
             "#e6f5d0"
            ],
            [
             0.7,
             "#b8e186"
            ],
            [
             0.8,
             "#7fbc41"
            ],
            [
             0.9,
             "#4d9221"
            ],
            [
             1,
             "#276419"
            ]
           ],
           "sequential": [
            [
             0,
             "#0d0887"
            ],
            [
             0.1111111111111111,
             "#46039f"
            ],
            [
             0.2222222222222222,
             "#7201a8"
            ],
            [
             0.3333333333333333,
             "#9c179e"
            ],
            [
             0.4444444444444444,
             "#bd3786"
            ],
            [
             0.5555555555555556,
             "#d8576b"
            ],
            [
             0.6666666666666666,
             "#ed7953"
            ],
            [
             0.7777777777777778,
             "#fb9f3a"
            ],
            [
             0.8888888888888888,
             "#fdca26"
            ],
            [
             1,
             "#f0f921"
            ]
           ],
           "sequentialminus": [
            [
             0,
             "#0d0887"
            ],
            [
             0.1111111111111111,
             "#46039f"
            ],
            [
             0.2222222222222222,
             "#7201a8"
            ],
            [
             0.3333333333333333,
             "#9c179e"
            ],
            [
             0.4444444444444444,
             "#bd3786"
            ],
            [
             0.5555555555555556,
             "#d8576b"
            ],
            [
             0.6666666666666666,
             "#ed7953"
            ],
            [
             0.7777777777777778,
             "#fb9f3a"
            ],
            [
             0.8888888888888888,
             "#fdca26"
            ],
            [
             1,
             "#f0f921"
            ]
           ]
          },
          "colorway": [
           "#636efa",
           "#EF553B",
           "#00cc96",
           "#ab63fa",
           "#FFA15A",
           "#19d3f3",
           "#FF6692",
           "#B6E880",
           "#FF97FF",
           "#FECB52"
          ],
          "font": {
           "color": "#2a3f5f"
          },
          "geo": {
           "bgcolor": "white",
           "lakecolor": "white",
           "landcolor": "white",
           "showlakes": true,
           "showland": true,
           "subunitcolor": "#C8D4E3"
          },
          "hoverlabel": {
           "align": "left"
          },
          "hovermode": "closest",
          "mapbox": {
           "style": "light"
          },
          "paper_bgcolor": "white",
          "plot_bgcolor": "white",
          "polar": {
           "angularaxis": {
            "gridcolor": "#EBF0F8",
            "linecolor": "#EBF0F8",
            "ticks": ""
           },
           "bgcolor": "white",
           "radialaxis": {
            "gridcolor": "#EBF0F8",
            "linecolor": "#EBF0F8",
            "ticks": ""
           }
          },
          "scene": {
           "xaxis": {
            "backgroundcolor": "white",
            "gridcolor": "#DFE8F3",
            "gridwidth": 2,
            "linecolor": "#EBF0F8",
            "showbackground": true,
            "ticks": "",
            "zerolinecolor": "#EBF0F8"
           },
           "yaxis": {
            "backgroundcolor": "white",
            "gridcolor": "#DFE8F3",
            "gridwidth": 2,
            "linecolor": "#EBF0F8",
            "showbackground": true,
            "ticks": "",
            "zerolinecolor": "#EBF0F8"
           },
           "zaxis": {
            "backgroundcolor": "white",
            "gridcolor": "#DFE8F3",
            "gridwidth": 2,
            "linecolor": "#EBF0F8",
            "showbackground": true,
            "ticks": "",
            "zerolinecolor": "#EBF0F8"
           }
          },
          "shapedefaults": {
           "line": {
            "color": "#2a3f5f"
           }
          },
          "ternary": {
           "aaxis": {
            "gridcolor": "#DFE8F3",
            "linecolor": "#A2B1C6",
            "ticks": ""
           },
           "baxis": {
            "gridcolor": "#DFE8F3",
            "linecolor": "#A2B1C6",
            "ticks": ""
           },
           "bgcolor": "white",
           "caxis": {
            "gridcolor": "#DFE8F3",
            "linecolor": "#A2B1C6",
            "ticks": ""
           }
          },
          "title": {
           "x": 0.05
          },
          "xaxis": {
           "automargin": true,
           "gridcolor": "#EBF0F8",
           "linecolor": "#EBF0F8",
           "ticks": "",
           "title": {
            "standoff": 15
           },
           "zerolinecolor": "#EBF0F8",
           "zerolinewidth": 2
          },
          "yaxis": {
           "automargin": true,
           "gridcolor": "#EBF0F8",
           "linecolor": "#EBF0F8",
           "ticks": "",
           "title": {
            "standoff": 15
           },
           "zerolinecolor": "#EBF0F8",
           "zerolinewidth": 2
          }
         }
        },
        "xaxis": {
         "tickfont": {
          "size": 12
         }
        },
        "yaxis": {
         "tickfont": {
          "size": 12
         },
         "title": {
          "font": {
           "size": 13
          },
          "text": "% change"
         }
        }
       }
      }
     },
     "metadata": {},
     "output_type": "display_data"
    }
   ],
   "source": [
    "df = plotlydf_portfval[['date', 'ptf_growth', 'sp500_growth']].copy().round(3)\n",
    "df['month'] = df.date.dt.month_name()  # date column should be formatted as datetime\n",
    "df['weekday'] = df.date.dt.day_name()  # could be interesting to analyze weekday returns later\n",
    "df['year'] = df.date.dt.year\n",
    "df['weeknumber'] = df.date.dt.week    # could be interesting to try instead of timeperiod\n",
    "df['timeperiod'] = df.year.astype(str) + ' - ' + df.date.dt.month.astype(str).str.zfill(2)\n",
    "\n",
    "# getting the percentage change for each period. the first period will be NaN\n",
    "sp = df.reset_index().groupby('timeperiod').last()['sp500_growth'].pct_change()*100\n",
    "ptf = df.reset_index().groupby('timeperiod').last()['ptf_growth'].pct_change()*100\n",
    "plotlydf_growth_compare = pd.merge(ptf, sp, on='timeperiod').reset_index().round(3)\n",
    "plotlydf_growth_compare.head()\n",
    "\n",
    "# Plotly part\n",
    "fig_growth2 = go.Figure()\n",
    "fig_growth2.layout.template = CHART_THEME\n",
    "fig_growth2.add_trace(go.Bar(\n",
    "    x=plotlydf_growth_compare.timeperiod,\n",
    "    y=plotlydf_growth_compare.ptf_growth.round(2),\n",
    "    name='Portfolio'\n",
    "))\n",
    "fig_growth2.add_trace(go.Bar(\n",
    "    x=plotlydf_growth_compare.timeperiod,\n",
    "    y=plotlydf_growth_compare.sp500_growth.round(2),\n",
    "    name='S&P 500',\n",
    "))\n",
    "fig_growth2.update_layout(barmode='group')\n",
    "fig_growth2.layout.height=300\n",
    "fig_growth2.update_layout(margin = dict(t=50, b=50, l=25, r=25))\n",
    "fig_growth2.update_layout(\n",
    "    xaxis_tickfont_size=12,\n",
    "    yaxis=dict(\n",
    "        title='% change',\n",
    "        titlefont_size=13,\n",
    "        tickfont_size=12,\n",
    "        ))\n",
    "\n",
    "fig_growth2.update_layout(legend=dict(\n",
    "    yanchor=\"top\",\n",
    "    y=0.99,\n",
    "    xanchor=\"right\",\n",
    "    x=0.99))\n",
    "fig_growth2.show()"
   ]
  },
  {
   "cell_type": "markdown",
   "metadata": {},
   "source": [
    "KPI Visual Cards."
   ]
  },
  {
   "cell_type": "code",
   "execution_count": 192,
   "metadata": {},
   "outputs": [
    {
     "data": {
      "application/vnd.plotly.v1+json": {
       "config": {
        "plotlyServerURL": "https://plot.ly"
       },
       "data": [
        {
         "domain": {
          "column": 0,
          "row": 0
         },
         "mode": "number+delta",
         "number": {
          "suffix": " %"
         },
         "title": {
          "text": "<br><span style='font-size:0.7em;color:gray'>7 Days</span>"
         },
         "type": "indicator",
         "value": -1.7000000000000002
        },
        {
         "domain": {
          "column": 0,
          "row": 1
         },
         "mode": "number+delta",
         "number": {
          "suffix": " %"
         },
         "title": {
          "text": "<span style='font-size:0.7em;color:gray'>15 Days</span>"
         },
         "type": "indicator",
         "value": -2.3
        },
        {
         "domain": {
          "column": 0,
          "row": 2
         },
         "mode": "number+delta",
         "number": {
          "suffix": " %"
         },
         "title": {
          "text": "<span style='font-size:0.7em;color:gray'>30 Days</span>"
         },
         "type": "indicator",
         "value": 0.5
        },
        {
         "domain": {
          "column": 1,
          "row": 3
         },
         "mode": "number+delta",
         "number": {
          "suffix": " %"
         },
         "title": {
          "text": "<span style='font-size:0.7em;color:gray'>200 Days</span>"
         },
         "type": "indicator",
         "value": 17
        }
       ],
       "layout": {
        "grid": {
         "columns": 1,
         "pattern": "independent",
         "rows": 4
        },
        "margin": {
         "b": 30,
         "l": 50,
         "r": 50,
         "t": 30
        },
        "template": {
         "data": {
          "bar": [
           {
            "error_x": {
             "color": "#2a3f5f"
            },
            "error_y": {
             "color": "#2a3f5f"
            },
            "marker": {
             "line": {
              "color": "white",
              "width": 0.5
             },
             "pattern": {
              "fillmode": "overlay",
              "size": 10,
              "solidity": 0.2
             }
            },
            "type": "bar"
           }
          ],
          "barpolar": [
           {
            "marker": {
             "line": {
              "color": "white",
              "width": 0.5
             },
             "pattern": {
              "fillmode": "overlay",
              "size": 10,
              "solidity": 0.2
             }
            },
            "type": "barpolar"
           }
          ],
          "carpet": [
           {
            "aaxis": {
             "endlinecolor": "#2a3f5f",
             "gridcolor": "#C8D4E3",
             "linecolor": "#C8D4E3",
             "minorgridcolor": "#C8D4E3",
             "startlinecolor": "#2a3f5f"
            },
            "baxis": {
             "endlinecolor": "#2a3f5f",
             "gridcolor": "#C8D4E3",
             "linecolor": "#C8D4E3",
             "minorgridcolor": "#C8D4E3",
             "startlinecolor": "#2a3f5f"
            },
            "type": "carpet"
           }
          ],
          "choropleth": [
           {
            "colorbar": {
             "outlinewidth": 0,
             "ticks": ""
            },
            "type": "choropleth"
           }
          ],
          "contour": [
           {
            "colorbar": {
             "outlinewidth": 0,
             "ticks": ""
            },
            "colorscale": [
             [
              0,
              "#0d0887"
             ],
             [
              0.1111111111111111,
              "#46039f"
             ],
             [
              0.2222222222222222,
              "#7201a8"
             ],
             [
              0.3333333333333333,
              "#9c179e"
             ],
             [
              0.4444444444444444,
              "#bd3786"
             ],
             [
              0.5555555555555556,
              "#d8576b"
             ],
             [
              0.6666666666666666,
              "#ed7953"
             ],
             [
              0.7777777777777778,
              "#fb9f3a"
             ],
             [
              0.8888888888888888,
              "#fdca26"
             ],
             [
              1,
              "#f0f921"
             ]
            ],
            "type": "contour"
           }
          ],
          "contourcarpet": [
           {
            "colorbar": {
             "outlinewidth": 0,
             "ticks": ""
            },
            "type": "contourcarpet"
           }
          ],
          "heatmap": [
           {
            "colorbar": {
             "outlinewidth": 0,
             "ticks": ""
            },
            "colorscale": [
             [
              0,
              "#0d0887"
             ],
             [
              0.1111111111111111,
              "#46039f"
             ],
             [
              0.2222222222222222,
              "#7201a8"
             ],
             [
              0.3333333333333333,
              "#9c179e"
             ],
             [
              0.4444444444444444,
              "#bd3786"
             ],
             [
              0.5555555555555556,
              "#d8576b"
             ],
             [
              0.6666666666666666,
              "#ed7953"
             ],
             [
              0.7777777777777778,
              "#fb9f3a"
             ],
             [
              0.8888888888888888,
              "#fdca26"
             ],
             [
              1,
              "#f0f921"
             ]
            ],
            "type": "heatmap"
           }
          ],
          "heatmapgl": [
           {
            "colorbar": {
             "outlinewidth": 0,
             "ticks": ""
            },
            "colorscale": [
             [
              0,
              "#0d0887"
             ],
             [
              0.1111111111111111,
              "#46039f"
             ],
             [
              0.2222222222222222,
              "#7201a8"
             ],
             [
              0.3333333333333333,
              "#9c179e"
             ],
             [
              0.4444444444444444,
              "#bd3786"
             ],
             [
              0.5555555555555556,
              "#d8576b"
             ],
             [
              0.6666666666666666,
              "#ed7953"
             ],
             [
              0.7777777777777778,
              "#fb9f3a"
             ],
             [
              0.8888888888888888,
              "#fdca26"
             ],
             [
              1,
              "#f0f921"
             ]
            ],
            "type": "heatmapgl"
           }
          ],
          "histogram": [
           {
            "marker": {
             "pattern": {
              "fillmode": "overlay",
              "size": 10,
              "solidity": 0.2
             }
            },
            "type": "histogram"
           }
          ],
          "histogram2d": [
           {
            "colorbar": {
             "outlinewidth": 0,
             "ticks": ""
            },
            "colorscale": [
             [
              0,
              "#0d0887"
             ],
             [
              0.1111111111111111,
              "#46039f"
             ],
             [
              0.2222222222222222,
              "#7201a8"
             ],
             [
              0.3333333333333333,
              "#9c179e"
             ],
             [
              0.4444444444444444,
              "#bd3786"
             ],
             [
              0.5555555555555556,
              "#d8576b"
             ],
             [
              0.6666666666666666,
              "#ed7953"
             ],
             [
              0.7777777777777778,
              "#fb9f3a"
             ],
             [
              0.8888888888888888,
              "#fdca26"
             ],
             [
              1,
              "#f0f921"
             ]
            ],
            "type": "histogram2d"
           }
          ],
          "histogram2dcontour": [
           {
            "colorbar": {
             "outlinewidth": 0,
             "ticks": ""
            },
            "colorscale": [
             [
              0,
              "#0d0887"
             ],
             [
              0.1111111111111111,
              "#46039f"
             ],
             [
              0.2222222222222222,
              "#7201a8"
             ],
             [
              0.3333333333333333,
              "#9c179e"
             ],
             [
              0.4444444444444444,
              "#bd3786"
             ],
             [
              0.5555555555555556,
              "#d8576b"
             ],
             [
              0.6666666666666666,
              "#ed7953"
             ],
             [
              0.7777777777777778,
              "#fb9f3a"
             ],
             [
              0.8888888888888888,
              "#fdca26"
             ],
             [
              1,
              "#f0f921"
             ]
            ],
            "type": "histogram2dcontour"
           }
          ],
          "mesh3d": [
           {
            "colorbar": {
             "outlinewidth": 0,
             "ticks": ""
            },
            "type": "mesh3d"
           }
          ],
          "parcoords": [
           {
            "line": {
             "colorbar": {
              "outlinewidth": 0,
              "ticks": ""
             }
            },
            "type": "parcoords"
           }
          ],
          "pie": [
           {
            "automargin": true,
            "type": "pie"
           }
          ],
          "scatter": [
           {
            "fillpattern": {
             "fillmode": "overlay",
             "size": 10,
             "solidity": 0.2
            },
            "type": "scatter"
           }
          ],
          "scatter3d": [
           {
            "line": {
             "colorbar": {
              "outlinewidth": 0,
              "ticks": ""
             }
            },
            "marker": {
             "colorbar": {
              "outlinewidth": 0,
              "ticks": ""
             }
            },
            "type": "scatter3d"
           }
          ],
          "scattercarpet": [
           {
            "marker": {
             "colorbar": {
              "outlinewidth": 0,
              "ticks": ""
             }
            },
            "type": "scattercarpet"
           }
          ],
          "scattergeo": [
           {
            "marker": {
             "colorbar": {
              "outlinewidth": 0,
              "ticks": ""
             }
            },
            "type": "scattergeo"
           }
          ],
          "scattergl": [
           {
            "marker": {
             "colorbar": {
              "outlinewidth": 0,
              "ticks": ""
             }
            },
            "type": "scattergl"
           }
          ],
          "scattermapbox": [
           {
            "marker": {
             "colorbar": {
              "outlinewidth": 0,
              "ticks": ""
             }
            },
            "type": "scattermapbox"
           }
          ],
          "scatterpolar": [
           {
            "marker": {
             "colorbar": {
              "outlinewidth": 0,
              "ticks": ""
             }
            },
            "type": "scatterpolar"
           }
          ],
          "scatterpolargl": [
           {
            "marker": {
             "colorbar": {
              "outlinewidth": 0,
              "ticks": ""
             }
            },
            "type": "scatterpolargl"
           }
          ],
          "scatterternary": [
           {
            "marker": {
             "colorbar": {
              "outlinewidth": 0,
              "ticks": ""
             }
            },
            "type": "scatterternary"
           }
          ],
          "surface": [
           {
            "colorbar": {
             "outlinewidth": 0,
             "ticks": ""
            },
            "colorscale": [
             [
              0,
              "#0d0887"
             ],
             [
              0.1111111111111111,
              "#46039f"
             ],
             [
              0.2222222222222222,
              "#7201a8"
             ],
             [
              0.3333333333333333,
              "#9c179e"
             ],
             [
              0.4444444444444444,
              "#bd3786"
             ],
             [
              0.5555555555555556,
              "#d8576b"
             ],
             [
              0.6666666666666666,
              "#ed7953"
             ],
             [
              0.7777777777777778,
              "#fb9f3a"
             ],
             [
              0.8888888888888888,
              "#fdca26"
             ],
             [
              1,
              "#f0f921"
             ]
            ],
            "type": "surface"
           }
          ],
          "table": [
           {
            "cells": {
             "fill": {
              "color": "#EBF0F8"
             },
             "line": {
              "color": "white"
             }
            },
            "header": {
             "fill": {
              "color": "#C8D4E3"
             },
             "line": {
              "color": "white"
             }
            },
            "type": "table"
           }
          ]
         },
         "layout": {
          "annotationdefaults": {
           "arrowcolor": "#2a3f5f",
           "arrowhead": 0,
           "arrowwidth": 1
          },
          "autotypenumbers": "strict",
          "coloraxis": {
           "colorbar": {
            "outlinewidth": 0,
            "ticks": ""
           }
          },
          "colorscale": {
           "diverging": [
            [
             0,
             "#8e0152"
            ],
            [
             0.1,
             "#c51b7d"
            ],
            [
             0.2,
             "#de77ae"
            ],
            [
             0.3,
             "#f1b6da"
            ],
            [
             0.4,
             "#fde0ef"
            ],
            [
             0.5,
             "#f7f7f7"
            ],
            [
             0.6,
             "#e6f5d0"
            ],
            [
             0.7,
             "#b8e186"
            ],
            [
             0.8,
             "#7fbc41"
            ],
            [
             0.9,
             "#4d9221"
            ],
            [
             1,
             "#276419"
            ]
           ],
           "sequential": [
            [
             0,
             "#0d0887"
            ],
            [
             0.1111111111111111,
             "#46039f"
            ],
            [
             0.2222222222222222,
             "#7201a8"
            ],
            [
             0.3333333333333333,
             "#9c179e"
            ],
            [
             0.4444444444444444,
             "#bd3786"
            ],
            [
             0.5555555555555556,
             "#d8576b"
            ],
            [
             0.6666666666666666,
             "#ed7953"
            ],
            [
             0.7777777777777778,
             "#fb9f3a"
            ],
            [
             0.8888888888888888,
             "#fdca26"
            ],
            [
             1,
             "#f0f921"
            ]
           ],
           "sequentialminus": [
            [
             0,
             "#0d0887"
            ],
            [
             0.1111111111111111,
             "#46039f"
            ],
            [
             0.2222222222222222,
             "#7201a8"
            ],
            [
             0.3333333333333333,
             "#9c179e"
            ],
            [
             0.4444444444444444,
             "#bd3786"
            ],
            [
             0.5555555555555556,
             "#d8576b"
            ],
            [
             0.6666666666666666,
             "#ed7953"
            ],
            [
             0.7777777777777778,
             "#fb9f3a"
            ],
            [
             0.8888888888888888,
             "#fdca26"
            ],
            [
             1,
             "#f0f921"
            ]
           ]
          },
          "colorway": [
           "#636efa",
           "#EF553B",
           "#00cc96",
           "#ab63fa",
           "#FFA15A",
           "#19d3f3",
           "#FF6692",
           "#B6E880",
           "#FF97FF",
           "#FECB52"
          ],
          "font": {
           "color": "#2a3f5f"
          },
          "geo": {
           "bgcolor": "white",
           "lakecolor": "white",
           "landcolor": "white",
           "showlakes": true,
           "showland": true,
           "subunitcolor": "#C8D4E3"
          },
          "hoverlabel": {
           "align": "left"
          },
          "hovermode": "closest",
          "mapbox": {
           "style": "light"
          },
          "paper_bgcolor": "white",
          "plot_bgcolor": "white",
          "polar": {
           "angularaxis": {
            "gridcolor": "#EBF0F8",
            "linecolor": "#EBF0F8",
            "ticks": ""
           },
           "bgcolor": "white",
           "radialaxis": {
            "gridcolor": "#EBF0F8",
            "linecolor": "#EBF0F8",
            "ticks": ""
           }
          },
          "scene": {
           "xaxis": {
            "backgroundcolor": "white",
            "gridcolor": "#DFE8F3",
            "gridwidth": 2,
            "linecolor": "#EBF0F8",
            "showbackground": true,
            "ticks": "",
            "zerolinecolor": "#EBF0F8"
           },
           "yaxis": {
            "backgroundcolor": "white",
            "gridcolor": "#DFE8F3",
            "gridwidth": 2,
            "linecolor": "#EBF0F8",
            "showbackground": true,
            "ticks": "",
            "zerolinecolor": "#EBF0F8"
           },
           "zaxis": {
            "backgroundcolor": "white",
            "gridcolor": "#DFE8F3",
            "gridwidth": 2,
            "linecolor": "#EBF0F8",
            "showbackground": true,
            "ticks": "",
            "zerolinecolor": "#EBF0F8"
           }
          },
          "shapedefaults": {
           "line": {
            "color": "#2a3f5f"
           }
          },
          "ternary": {
           "aaxis": {
            "gridcolor": "#DFE8F3",
            "linecolor": "#A2B1C6",
            "ticks": ""
           },
           "baxis": {
            "gridcolor": "#DFE8F3",
            "linecolor": "#A2B1C6",
            "ticks": ""
           },
           "bgcolor": "white",
           "caxis": {
            "gridcolor": "#DFE8F3",
            "linecolor": "#A2B1C6",
            "ticks": ""
           }
          },
          "title": {
           "x": 0.05
          },
          "xaxis": {
           "automargin": true,
           "gridcolor": "#EBF0F8",
           "linecolor": "#EBF0F8",
           "ticks": "",
           "title": {
            "standoff": 15
           },
           "zerolinecolor": "#EBF0F8",
           "zerolinewidth": 2
          },
          "yaxis": {
           "automargin": true,
           "gridcolor": "#EBF0F8",
           "linecolor": "#EBF0F8",
           "ticks": "",
           "title": {
            "standoff": 15
           },
           "zerolinecolor": "#EBF0F8",
           "zerolinewidth": 2
          }
         }
        }
       }
      }
     },
     "metadata": {},
     "output_type": "display_data"
    }
   ],
   "source": [
    "indicators_ptf = go.Figure()\n",
    "indicators_ptf.layout.template = CHART_THEME\n",
    "\n",
    "indicators_ptf.add_trace(go.Indicator(\n",
    "    mode = \"number+delta\",\n",
    "    value = kpi_portfolio7d_pct,\n",
    "    number = {'suffix': \" %\"},\n",
    "    title = {\"text\": \"<br><span style='font-size:0.7em;color:gray'>7 Days</span>\"},\n",
    "    delta = {'position': \"bottom\", 'reference': kpi_sp500_7d_pct, 'relative': False},\n",
    "    domain = {'row': 0, 'column': 0}))\n",
    "\n",
    "indicators_ptf.add_trace(go.Indicator(\n",
    "    mode = \"number+delta\",\n",
    "    value = kpi_portfolio15d_pct,\n",
    "    number = {'suffix': \" %\"},\n",
    "    title = {\"text\": \"<span style='font-size:0.7em;color:gray'>15 Days</span>\"},\n",
    "    delta = {'position': \"bottom\", 'reference': kpi_sp500_15d_pct, 'relative': False},\n",
    "    domain = {'row': 1, 'column': 0}))\n",
    "\n",
    "indicators_ptf.add_trace(go.Indicator(\n",
    "    mode = \"number+delta\",\n",
    "    value = kpi_portfolio30d_pct,\n",
    "    number = {'suffix': \" %\"},\n",
    "    title = {\"text\": \"<span style='font-size:0.7em;color:gray'>30 Days</span>\"},\n",
    "    delta = {'position': \"bottom\", 'reference': kpi_sp500_30d_pct, 'relative': False},\n",
    "    domain = {'row': 2, 'column': 0}))\n",
    "\n",
    "indicators_ptf.add_trace(go.Indicator(\n",
    "    mode = \"number+delta\",\n",
    "    value = kpi_portfolio200d_pct,\n",
    "    number = {'suffix': \" %\"},\n",
    "    title = {\"text\": \"<span style='font-size:0.7em;color:gray'>200 Days</span>\"},\n",
    "    delta = {'position': \"bottom\", 'reference': kpi_sp500_200d_pct, 'relative': False},\n",
    "    domain = {'row': 3, 'column': 1}))\n",
    "\n",
    "indicators_ptf.update_layout(\n",
    "    grid = {'rows': 4, 'columns': 1, 'pattern': \"independent\"},\n",
    "    margin=dict(l=50, r=50, t=30, b=30)\n",
    ")\n",
    "\n",
    "indicators_sp500 = go.Figure()\n",
    "indicators_sp500.layout.template = CHART_THEME\n",
    "indicators_sp500.add_trace(go.Indicator(\n",
    "    mode = \"number+delta\",\n",
    "    value = kpi_sp500_7d_pct,\n",
    "    number = {'suffix': \" %\"},\n",
    "    title = {\"text\": \"<br><span style='font-size:0.7em;color:gray'>7 Days</span>\"},\n",
    "    domain = {'row': 0, 'column': 0}))\n",
    "\n",
    "indicators_sp500.add_trace(go.Indicator(\n",
    "    mode = \"number+delta\",\n",
    "    value = kpi_sp500_15d_pct,\n",
    "    number = {'suffix': \" %\"},\n",
    "    title = {\"text\": \"<span style='font-size:0.7em;color:gray'>15 Days</span>\"},\n",
    "    domain = {'row': 1, 'column': 0}))\n",
    "\n",
    "indicators_sp500.add_trace(go.Indicator(\n",
    "    mode = \"number+delta\",\n",
    "    value = kpi_sp500_30d_pct,\n",
    "    number = {'suffix': \" %\"},\n",
    "    title = {\"text\": \"<span style='font-size:0.7em;color:gray'>30 Days</span>\"},\n",
    "    domain = {'row': 2, 'column': 0}))\n",
    "\n",
    "indicators_sp500.add_trace(go.Indicator(\n",
    "    mode = \"number+delta\",\n",
    "    value = kpi_sp500_200d_pct,\n",
    "    number = {'suffix': \" %\"},\n",
    "    title = {\"text\": \"<span style='font-size:0.7em;color:gray'>200 Days</span>\"},\n",
    "    domain = {'row': 3, 'column': 1}))\n",
    "\n",
    "indicators_sp500.update_layout(\n",
    "    grid = {'rows': 4, 'columns': 1, 'pattern': \"independent\"},\n",
    "    margin=dict(l=50, r=50, t=30, b=30)\n",
    ")"
   ]
  },
  {
   "cell_type": "code",
   "execution_count": 193,
   "metadata": {},
   "outputs": [
    {
     "data": {
      "text/html": [
       "<div>\n",
       "<style scoped>\n",
       "    .dataframe tbody tr th:only-of-type {\n",
       "        vertical-align: middle;\n",
       "    }\n",
       "\n",
       "    .dataframe tbody tr th {\n",
       "        vertical-align: top;\n",
       "    }\n",
       "\n",
       "    .dataframe thead th {\n",
       "        text-align: right;\n",
       "    }\n",
       "</style>\n",
       "<table border=\"1\" class=\"dataframe\">\n",
       "  <thead>\n",
       "    <tr style=\"text-align: right;\">\n",
       "      <th></th>\n",
       "      <th>Date</th>\n",
       "      <th>close</th>\n",
       "      <th>ticker</th>\n",
       "      <th>type</th>\n",
       "      <th>val_transact</th>\n",
       "      <th>quantity</th>\n",
       "      <th>prev_units</th>\n",
       "      <th>cml_units</th>\n",
       "      <th>prev_cost</th>\n",
       "      <th>cml_cost</th>\n",
       "      <th>...</th>\n",
       "      <th>prev_cost.1</th>\n",
       "      <th>cml_cost.1</th>\n",
       "      <th>cost_transact.1</th>\n",
       "      <th>cml_invested.1</th>\n",
       "      <th>cost_unit.1</th>\n",
       "      <th>cum_position_val.1</th>\n",
       "      <th>gain_loss.1</th>\n",
       "      <th>yield.1</th>\n",
       "      <th>avg_price.1</th>\n",
       "      <th>current_value.1</th>\n",
       "    </tr>\n",
       "  </thead>\n",
       "  <tbody>\n",
       "    <tr>\n",
       "      <th>0</th>\n",
       "      <td>2022-01-01</td>\n",
       "      <td>38483.125000</td>\n",
       "      <td>BTC-USD</td>\n",
       "      <td>Buy</td>\n",
       "      <td>50000</td>\n",
       "      <td>1.299271</td>\n",
       "      <td>NaN</td>\n",
       "      <td>1.299271</td>\n",
       "      <td>NaN</td>\n",
       "      <td>50000</td>\n",
       "      <td>...</td>\n",
       "      <td>NaN</td>\n",
       "      <td>50000</td>\n",
       "      <td>47.5</td>\n",
       "      <td>49952.5</td>\n",
       "      <td>2688.278809</td>\n",
       "      <td>5.000000e+04</td>\n",
       "      <td>4.750000e+01</td>\n",
       "      <td>-0.999049</td>\n",
       "      <td>2688.278809</td>\n",
       "      <td>5.000000e+04</td>\n",
       "    </tr>\n",
       "    <tr>\n",
       "      <th>1</th>\n",
       "      <td>2022-02-01</td>\n",
       "      <td>43193.234375</td>\n",
       "      <td>BTC-USD</td>\n",
       "      <td>Buy</td>\n",
       "      <td>50000</td>\n",
       "      <td>1.157589</td>\n",
       "      <td>1.299271</td>\n",
       "      <td>2.456859</td>\n",
       "      <td>50000.0</td>\n",
       "      <td>100000</td>\n",
       "      <td>...</td>\n",
       "      <td>50000.0</td>\n",
       "      <td>100000</td>\n",
       "      <td>47.5</td>\n",
       "      <td>99952.5</td>\n",
       "      <td>5838.402344</td>\n",
       "      <td>1.042950e+05</td>\n",
       "      <td>4.342485e+03</td>\n",
       "      <td>-0.956555</td>\n",
       "      <td>2803.739990</td>\n",
       "      <td>1.042950e+05</td>\n",
       "    </tr>\n",
       "    <tr>\n",
       "      <th>2</th>\n",
       "      <td>2022-03-01</td>\n",
       "      <td>45538.675781</td>\n",
       "      <td>BTC-USD</td>\n",
       "      <td>Buy</td>\n",
       "      <td>50000</td>\n",
       "      <td>1.097968</td>\n",
       "      <td>1.157589</td>\n",
       "      <td>3.554827</td>\n",
       "      <td>50000.0</td>\n",
       "      <td>150000</td>\n",
       "      <td>...</td>\n",
       "      <td>50000.0</td>\n",
       "      <td>150000</td>\n",
       "      <td>47.5</td>\n",
       "      <td>149952.5</td>\n",
       "      <td>9844.928467</td>\n",
       "      <td>1.672440e+05</td>\n",
       "      <td>1.729152e+04</td>\n",
       "      <td>-0.884687</td>\n",
       "      <td>2963.040934</td>\n",
       "      <td>1.672440e+05</td>\n",
       "    </tr>\n",
       "    <tr>\n",
       "      <th>3</th>\n",
       "      <td>2022-04-01</td>\n",
       "      <td>37714.875000</td>\n",
       "      <td>BTC-USD</td>\n",
       "      <td>Buy</td>\n",
       "      <td>50000</td>\n",
       "      <td>1.325737</td>\n",
       "      <td>1.097968</td>\n",
       "      <td>4.880564</td>\n",
       "      <td>50000.0</td>\n",
       "      <td>200000</td>\n",
       "      <td>...</td>\n",
       "      <td>50000.0</td>\n",
       "      <td>200000</td>\n",
       "      <td>47.5</td>\n",
       "      <td>199952.5</td>\n",
       "      <td>10920.747070</td>\n",
       "      <td>1.891399e+05</td>\n",
       "      <td>-1.081261e+04</td>\n",
       "      <td>-1.054076</td>\n",
       "      <td>2904.827393</td>\n",
       "      <td>1.891399e+05</td>\n",
       "    </tr>\n",
       "    <tr>\n",
       "      <th>4</th>\n",
       "      <td>2022-05-01</td>\n",
       "      <td>31792.310547</td>\n",
       "      <td>BTC-USD</td>\n",
       "      <td>Buy</td>\n",
       "      <td>50000</td>\n",
       "      <td>1.572707</td>\n",
       "      <td>1.325737</td>\n",
       "      <td>6.453271</td>\n",
       "      <td>50000.0</td>\n",
       "      <td>250000</td>\n",
       "      <td>...</td>\n",
       "      <td>50000.0</td>\n",
       "      <td>250000</td>\n",
       "      <td>47.5</td>\n",
       "      <td>249952.5</td>\n",
       "      <td>9711.640015</td>\n",
       "      <td>1.845592e+05</td>\n",
       "      <td>-6.539332e+04</td>\n",
       "      <td>-1.261623</td>\n",
       "      <td>2712.327515</td>\n",
       "      <td>1.845592e+05</td>\n",
       "    </tr>\n",
       "    <tr>\n",
       "      <th>5</th>\n",
       "      <td>2022-06-01</td>\n",
       "      <td>19784.726562</td>\n",
       "      <td>BTC-USD</td>\n",
       "      <td>Buy</td>\n",
       "      <td>50000</td>\n",
       "      <td>2.527202</td>\n",
       "      <td>1.572707</td>\n",
       "      <td>8.980473</td>\n",
       "      <td>50000.0</td>\n",
       "      <td>300000</td>\n",
       "      <td>...</td>\n",
       "      <td>50000.0</td>\n",
       "      <td>300000</td>\n",
       "      <td>47.5</td>\n",
       "      <td>299952.5</td>\n",
       "      <td>6403.792969</td>\n",
       "      <td>1.514143e+05</td>\n",
       "      <td>-1.485382e+05</td>\n",
       "      <td>-1.495206</td>\n",
       "      <td>2438.156067</td>\n",
       "      <td>1.514143e+05</td>\n",
       "    </tr>\n",
       "    <tr>\n",
       "      <th>6</th>\n",
       "      <td>2022-07-01</td>\n",
       "      <td>23336.896484</td>\n",
       "      <td>BTC-USD</td>\n",
       "      <td>Buy</td>\n",
       "      <td>50000</td>\n",
       "      <td>2.142530</td>\n",
       "      <td>2.527202</td>\n",
       "      <td>11.123003</td>\n",
       "      <td>50000.0</td>\n",
       "      <td>350000</td>\n",
       "      <td>...</td>\n",
       "      <td>50000.0</td>\n",
       "      <td>350000</td>\n",
       "      <td>47.5</td>\n",
       "      <td>349952.5</td>\n",
       "      <td>11770.621338</td>\n",
       "      <td>2.885515e+05</td>\n",
       "      <td>-6.140100e+04</td>\n",
       "      <td>-1.175455</td>\n",
       "      <td>2330.064819</td>\n",
       "      <td>2.885515e+05</td>\n",
       "    </tr>\n",
       "    <tr>\n",
       "      <th>7</th>\n",
       "      <td>2022-08-01</td>\n",
       "      <td>20049.763672</td>\n",
       "      <td>BTC-USD</td>\n",
       "      <td>Buy</td>\n",
       "      <td>50000</td>\n",
       "      <td>2.493795</td>\n",
       "      <td>2.142530</td>\n",
       "      <td>13.616798</td>\n",
       "      <td>50000.0</td>\n",
       "      <td>400000</td>\n",
       "      <td>...</td>\n",
       "      <td>50000.0</td>\n",
       "      <td>400000</td>\n",
       "      <td>47.5</td>\n",
       "      <td>399952.5</td>\n",
       "      <td>12429.479492</td>\n",
       "      <td>3.166152e+05</td>\n",
       "      <td>-8.333727e+04</td>\n",
       "      <td>-1.208368</td>\n",
       "      <td>2233.017334</td>\n",
       "      <td>3.166152e+05</td>\n",
       "    </tr>\n",
       "    <tr>\n",
       "      <th>8</th>\n",
       "      <td>2022-09-01</td>\n",
       "      <td>19431.789062</td>\n",
       "      <td>BTC-USD</td>\n",
       "      <td>Buy</td>\n",
       "      <td>50000</td>\n",
       "      <td>2.573103</td>\n",
       "      <td>2.493795</td>\n",
       "      <td>16.189902</td>\n",
       "      <td>50000.0</td>\n",
       "      <td>450000</td>\n",
       "      <td>...</td>\n",
       "      <td>50000.0</td>\n",
       "      <td>450000</td>\n",
       "      <td>47.5</td>\n",
       "      <td>449952.5</td>\n",
       "      <td>11951.807739</td>\n",
       "      <td>3.206200e+05</td>\n",
       "      <td>-1.293325e+05</td>\n",
       "      <td>-1.287436</td>\n",
       "      <td>2132.457479</td>\n",
       "      <td>3.206200e+05</td>\n",
       "    </tr>\n",
       "    <tr>\n",
       "      <th>9</th>\n",
       "      <td>2022-10-01</td>\n",
       "      <td>20495.773438</td>\n",
       "      <td>BTC-USD</td>\n",
       "      <td>Buy</td>\n",
       "      <td>50000</td>\n",
       "      <td>2.439527</td>\n",
       "      <td>2.573103</td>\n",
       "      <td>18.629429</td>\n",
       "      <td>50000.0</td>\n",
       "      <td>500000</td>\n",
       "      <td>...</td>\n",
       "      <td>50000.0</td>\n",
       "      <td>500000</td>\n",
       "      <td>47.5</td>\n",
       "      <td>499952.5</td>\n",
       "      <td>15727.144775</td>\n",
       "      <td>4.297077e+05</td>\n",
       "      <td>-7.024477e+04</td>\n",
       "      <td>-1.140503</td>\n",
       "      <td>2076.483179</td>\n",
       "      <td>4.297077e+05</td>\n",
       "    </tr>\n",
       "    <tr>\n",
       "      <th>10</th>\n",
       "      <td>2022-11-01</td>\n",
       "      <td>17168.566406</td>\n",
       "      <td>BTC-USD</td>\n",
       "      <td>Buy</td>\n",
       "      <td>50000</td>\n",
       "      <td>2.912299</td>\n",
       "      <td>2.439527</td>\n",
       "      <td>21.541728</td>\n",
       "      <td>50000.0</td>\n",
       "      <td>550000</td>\n",
       "      <td>...</td>\n",
       "      <td>50000.0</td>\n",
       "      <td>550000</td>\n",
       "      <td>47.5</td>\n",
       "      <td>549952.5</td>\n",
       "      <td>14252.574585</td>\n",
       "      <td>4.040168e+05</td>\n",
       "      <td>-1.459357e+05</td>\n",
       "      <td>-1.265360</td>\n",
       "      <td>2005.501853</td>\n",
       "      <td>4.040168e+05</td>\n",
       "    </tr>\n",
       "    <tr>\n",
       "      <th>11</th>\n",
       "      <td>2022-12-01</td>\n",
       "      <td>16547.496094</td>\n",
       "      <td>BTC-USD</td>\n",
       "      <td>Buy</td>\n",
       "      <td>50000</td>\n",
       "      <td>3.021605</td>\n",
       "      <td>2.912299</td>\n",
       "      <td>24.563333</td>\n",
       "      <td>50000.0</td>\n",
       "      <td>600000</td>\n",
       "      <td>...</td>\n",
       "      <td>50000.0</td>\n",
       "      <td>600000</td>\n",
       "      <td>47.5</td>\n",
       "      <td>599952.5</td>\n",
       "      <td>14361.254883</td>\n",
       "      <td>4.231728e+05</td>\n",
       "      <td>-1.767797e+05</td>\n",
       "      <td>-1.294656</td>\n",
       "      <td>1938.107635</td>\n",
       "      <td>4.231728e+05</td>\n",
       "    </tr>\n",
       "    <tr>\n",
       "      <th>12</th>\n",
       "      <td>2023-01-01</td>\n",
       "      <td>23139.283203</td>\n",
       "      <td>BTC-USD</td>\n",
       "      <td>Buy</td>\n",
       "      <td>50000</td>\n",
       "      <td>2.160828</td>\n",
       "      <td>3.021605</td>\n",
       "      <td>26.724161</td>\n",
       "      <td>50000.0</td>\n",
       "      <td>650000</td>\n",
       "      <td>...</td>\n",
       "      <td>50000.0</td>\n",
       "      <td>650000</td>\n",
       "      <td>47.5</td>\n",
       "      <td>649952.5</td>\n",
       "      <td>20624.960205</td>\n",
       "      <td>6.109916e+05</td>\n",
       "      <td>-3.896090e+04</td>\n",
       "      <td>-1.059944</td>\n",
       "      <td>1911.063617</td>\n",
       "      <td>6.109916e+05</td>\n",
       "    </tr>\n",
       "    <tr>\n",
       "      <th>13</th>\n",
       "      <td>2023-02-01</td>\n",
       "      <td>23147.353516</td>\n",
       "      <td>BTC-USD</td>\n",
       "      <td>Buy</td>\n",
       "      <td>50000</td>\n",
       "      <td>2.160074</td>\n",
       "      <td>2.160828</td>\n",
       "      <td>28.884235</td>\n",
       "      <td>50000.0</td>\n",
       "      <td>700000</td>\n",
       "      <td>...</td>\n",
       "      <td>50000.0</td>\n",
       "      <td>700000</td>\n",
       "      <td>47.5</td>\n",
       "      <td>699952.5</td>\n",
       "      <td>22482.531982</td>\n",
       "      <td>6.684472e+05</td>\n",
       "      <td>-3.150525e+04</td>\n",
       "      <td>-1.045011</td>\n",
       "      <td>1889.265869</td>\n",
       "      <td>6.684472e+05</td>\n",
       "    </tr>\n",
       "    <tr>\n",
       "      <th>14</th>\n",
       "      <td>2023-03-01</td>\n",
       "      <td>28478.484375</td>\n",
       "      <td>BTC-USD</td>\n",
       "      <td>Buy</td>\n",
       "      <td>50000</td>\n",
       "      <td>1.755711</td>\n",
       "      <td>2.160074</td>\n",
       "      <td>30.639946</td>\n",
       "      <td>50000.0</td>\n",
       "      <td>750000</td>\n",
       "      <td>...</td>\n",
       "      <td>50000.0</td>\n",
       "      <td>750000</td>\n",
       "      <td>47.5</td>\n",
       "      <td>749952.5</td>\n",
       "      <td>27330.331421</td>\n",
       "      <td>8.084092e+05</td>\n",
       "      <td>5.845670e+04</td>\n",
       "      <td>-0.922053</td>\n",
       "      <td>1884.782951</td>\n",
       "      <td>8.084092e+05</td>\n",
       "    </tr>\n",
       "    <tr>\n",
       "      <th>15</th>\n",
       "      <td>2023-04-01</td>\n",
       "      <td>29268.806641</td>\n",
       "      <td>BTC-USD</td>\n",
       "      <td>Buy</td>\n",
       "      <td>50000</td>\n",
       "      <td>1.708303</td>\n",
       "      <td>1.755711</td>\n",
       "      <td>32.348250</td>\n",
       "      <td>50000.0</td>\n",
       "      <td>800000</td>\n",
       "      <td>...</td>\n",
       "      <td>50000.0</td>\n",
       "      <td>800000</td>\n",
       "      <td>47.5</td>\n",
       "      <td>799952.5</td>\n",
       "      <td>30030.789062</td>\n",
       "      <td>8.827687e+05</td>\n",
       "      <td>8.281615e+04</td>\n",
       "      <td>-0.896474</td>\n",
       "      <td>1884.291786</td>\n",
       "      <td>8.827687e+05</td>\n",
       "    </tr>\n",
       "    <tr>\n",
       "      <th>16</th>\n",
       "      <td>2023-05-01</td>\n",
       "      <td>27219.658203</td>\n",
       "      <td>BTC-USD</td>\n",
       "      <td>Buy</td>\n",
       "      <td>50000</td>\n",
       "      <td>1.836908</td>\n",
       "      <td>1.708303</td>\n",
       "      <td>34.185157</td>\n",
       "      <td>50000.0</td>\n",
       "      <td>850000</td>\n",
       "      <td>...</td>\n",
       "      <td>50000.0</td>\n",
       "      <td>850000</td>\n",
       "      <td>47.5</td>\n",
       "      <td>849952.5</td>\n",
       "      <td>31860.218384</td>\n",
       "      <td>9.314546e+05</td>\n",
       "      <td>8.150214e+04</td>\n",
       "      <td>-0.904110</td>\n",
       "      <td>1883.694063</td>\n",
       "      <td>9.314546e+05</td>\n",
       "    </tr>\n",
       "    <tr>\n",
       "      <th>17</th>\n",
       "      <td>2023-06-01</td>\n",
       "      <td>30477.251953</td>\n",
       "      <td>BTC-USD</td>\n",
       "      <td>Buy</td>\n",
       "      <td>50000</td>\n",
       "      <td>1.640568</td>\n",
       "      <td>1.836908</td>\n",
       "      <td>35.825725</td>\n",
       "      <td>50000.0</td>\n",
       "      <td>900000</td>\n",
       "      <td>...</td>\n",
       "      <td>50000.0</td>\n",
       "      <td>900000</td>\n",
       "      <td>47.5</td>\n",
       "      <td>899952.5</td>\n",
       "      <td>34797.401367</td>\n",
       "      <td>1.010807e+06</td>\n",
       "      <td>1.108546e+05</td>\n",
       "      <td>-0.876822</td>\n",
       "      <td>1886.443780</td>\n",
       "      <td>1.010807e+06</td>\n",
       "    </tr>\n",
       "    <tr>\n",
       "      <th>18</th>\n",
       "      <td>2023-07-01</td>\n",
       "      <td>29230.111328</td>\n",
       "      <td>BTC-USD</td>\n",
       "      <td>Buy</td>\n",
       "      <td>50000</td>\n",
       "      <td>1.710565</td>\n",
       "      <td>1.640568</td>\n",
       "      <td>37.536290</td>\n",
       "      <td>50000.0</td>\n",
       "      <td>950000</td>\n",
       "      <td>...</td>\n",
       "      <td>50000.0</td>\n",
       "      <td>950000</td>\n",
       "      <td>47.5</td>\n",
       "      <td>949952.5</td>\n",
       "      <td>35267.084717</td>\n",
       "      <td>1.020532e+06</td>\n",
       "      <td>7.057965e+04</td>\n",
       "      <td>-0.925702</td>\n",
       "      <td>1884.850021</td>\n",
       "      <td>1.020532e+06</td>\n",
       "    </tr>\n",
       "    <tr>\n",
       "      <th>19</th>\n",
       "      <td>2023-08-01</td>\n",
       "      <td>25931.472656</td>\n",
       "      <td>BTC-USD</td>\n",
       "      <td>Buy</td>\n",
       "      <td>50000</td>\n",
       "      <td>1.928159</td>\n",
       "      <td>1.710565</td>\n",
       "      <td>39.464449</td>\n",
       "      <td>50000.0</td>\n",
       "      <td>1000000</td>\n",
       "      <td>...</td>\n",
       "      <td>50000.0</td>\n",
       "      <td>1000000</td>\n",
       "      <td>47.5</td>\n",
       "      <td>999952.5</td>\n",
       "      <td>32912.783203</td>\n",
       "      <td>9.547849e+05</td>\n",
       "      <td>-4.516760e+04</td>\n",
       "      <td>-1.045170</td>\n",
       "      <td>1872.889478</td>\n",
       "      <td>9.547849e+05</td>\n",
       "    </tr>\n",
       "    <tr>\n",
       "      <th>20</th>\n",
       "      <td>2023-09-01</td>\n",
       "      <td>26967.916016</td>\n",
       "      <td>BTC-USD</td>\n",
       "      <td>Buy</td>\n",
       "      <td>50000</td>\n",
       "      <td>1.854055</td>\n",
       "      <td>1.928159</td>\n",
       "      <td>41.318504</td>\n",
       "      <td>50000.0</td>\n",
       "      <td>1050000</td>\n",
       "      <td>...</td>\n",
       "      <td>50000.0</td>\n",
       "      <td>1050000</td>\n",
       "      <td>47.5</td>\n",
       "      <td>1049952.5</td>\n",
       "      <td>35094.399170</td>\n",
       "      <td>1.019593e+06</td>\n",
       "      <td>-3.035956e+04</td>\n",
       "      <td>-1.028915</td>\n",
       "      <td>1863.283401</td>\n",
       "      <td>1.019593e+06</td>\n",
       "    </tr>\n",
       "    <tr>\n",
       "      <th>21</th>\n",
       "      <td>2023-10-01</td>\n",
       "      <td>34667.781250</td>\n",
       "      <td>BTC-USD</td>\n",
       "      <td>Buy</td>\n",
       "      <td>50000</td>\n",
       "      <td>1.442261</td>\n",
       "      <td>1.854055</td>\n",
       "      <td>42.760765</td>\n",
       "      <td>50000.0</td>\n",
       "      <td>1100000</td>\n",
       "      <td>...</td>\n",
       "      <td>50000.0</td>\n",
       "      <td>1100000</td>\n",
       "      <td>47.5</td>\n",
       "      <td>1099952.5</td>\n",
       "      <td>39962.097656</td>\n",
       "      <td>1.158240e+06</td>\n",
       "      <td>5.828770e+04</td>\n",
       "      <td>-0.947009</td>\n",
       "      <td>1861.155018</td>\n",
       "      <td>1.158240e+06</td>\n",
       "    </tr>\n",
       "    <tr>\n",
       "      <th>22</th>\n",
       "      <td>2023-11-01</td>\n",
       "      <td>37712.746094</td>\n",
       "      <td>BTC-USD</td>\n",
       "      <td>Buy</td>\n",
       "      <td>50000</td>\n",
       "      <td>1.325812</td>\n",
       "      <td>1.442261</td>\n",
       "      <td>44.086577</td>\n",
       "      <td>50000.0</td>\n",
       "      <td>1150000</td>\n",
       "      <td>...</td>\n",
       "      <td>50000.0</td>\n",
       "      <td>1150000</td>\n",
       "      <td>47.5</td>\n",
       "      <td>1149952.5</td>\n",
       "      <td>47208.791504</td>\n",
       "      <td>1.358784e+06</td>\n",
       "      <td>2.088318e+05</td>\n",
       "      <td>-0.818400</td>\n",
       "      <td>1869.476807</td>\n",
       "      <td>1.358784e+06</td>\n",
       "    </tr>\n",
       "    <tr>\n",
       "      <th>23</th>\n",
       "      <td>2023-12-01</td>\n",
       "      <td>42265.187500</td>\n",
       "      <td>BTC-USD</td>\n",
       "      <td>Buy</td>\n",
       "      <td>50000</td>\n",
       "      <td>1.183007</td>\n",
       "      <td>1.325812</td>\n",
       "      <td>45.269584</td>\n",
       "      <td>50000.0</td>\n",
       "      <td>1200000</td>\n",
       "      <td>...</td>\n",
       "      <td>50000.0</td>\n",
       "      <td>1200000</td>\n",
       "      <td>47.5</td>\n",
       "      <td>1199952.5</td>\n",
       "      <td>54755.308594</td>\n",
       "      <td>1.560325e+06</td>\n",
       "      <td>3.603727e+05</td>\n",
       "      <td>-0.699678</td>\n",
       "      <td>1886.643239</td>\n",
       "      <td>1.560325e+06</td>\n",
       "    </tr>\n",
       "    <tr>\n",
       "      <th>24</th>\n",
       "      <td>2024-01-01</td>\n",
       "      <td>42582.605469</td>\n",
       "      <td>BTC-USD</td>\n",
       "      <td>Buy</td>\n",
       "      <td>50000</td>\n",
       "      <td>1.174188</td>\n",
       "      <td>1.183007</td>\n",
       "      <td>46.443772</td>\n",
       "      <td>50000.0</td>\n",
       "      <td>1250000</td>\n",
       "      <td>...</td>\n",
       "      <td>50000.0</td>\n",
       "      <td>1250000</td>\n",
       "      <td>47.5</td>\n",
       "      <td>1249952.5</td>\n",
       "      <td>57063.610840</td>\n",
       "      <td>1.611059e+06</td>\n",
       "      <td>3.611067e+05</td>\n",
       "      <td>-0.711104</td>\n",
       "      <td>1902.479287</td>\n",
       "      <td>1.611059e+06</td>\n",
       "    </tr>\n",
       "    <tr>\n",
       "      <th>25</th>\n",
       "      <td>2024-02-01</td>\n",
       "      <td>61198.382812</td>\n",
       "      <td>BTC-USD</td>\n",
       "      <td>Buy</td>\n",
       "      <td>50000</td>\n",
       "      <td>0.817015</td>\n",
       "      <td>1.174188</td>\n",
       "      <td>47.260787</td>\n",
       "      <td>50000.0</td>\n",
       "      <td>1300000</td>\n",
       "      <td>...</td>\n",
       "      <td>50000.0</td>\n",
       "      <td>1300000</td>\n",
       "      <td>47.5</td>\n",
       "      <td>1299952.5</td>\n",
       "      <td>86889.911621</td>\n",
       "      <td>2.408785e+06</td>\n",
       "      <td>1.108832e+06</td>\n",
       "      <td>-0.147021</td>\n",
       "      <td>1957.842379</td>\n",
       "      <td>2.408785e+06</td>\n",
       "    </tr>\n",
       "    <tr>\n",
       "      <th>26</th>\n",
       "      <td>2024-03-01</td>\n",
       "      <td>71333.648438</td>\n",
       "      <td>BTC-USD</td>\n",
       "      <td>Buy</td>\n",
       "      <td>50000</td>\n",
       "      <td>0.700931</td>\n",
       "      <td>0.817015</td>\n",
       "      <td>47.961719</td>\n",
       "      <td>50000.0</td>\n",
       "      <td>1350000</td>\n",
       "      <td>...</td>\n",
       "      <td>50000.0</td>\n",
       "      <td>1350000</td>\n",
       "      <td>47.5</td>\n",
       "      <td>1349952.5</td>\n",
       "      <td>98492.124023</td>\n",
       "      <td>2.679297e+06</td>\n",
       "      <td>1.329345e+06</td>\n",
       "      <td>-0.015266</td>\n",
       "      <td>2020.435493</td>\n",
       "      <td>2.679297e+06</td>\n",
       "    </tr>\n",
       "    <tr>\n",
       "      <th>27</th>\n",
       "      <td>2024-04-01</td>\n",
       "      <td>63149.785156</td>\n",
       "      <td>BTC-USD</td>\n",
       "      <td>Buy</td>\n",
       "      <td>50000</td>\n",
       "      <td>0.791768</td>\n",
       "      <td>0.700931</td>\n",
       "      <td>48.753487</td>\n",
       "      <td>50000.0</td>\n",
       "      <td>1400000</td>\n",
       "      <td>...</td>\n",
       "      <td>50000.0</td>\n",
       "      <td>1400000</td>\n",
       "      <td>47.5</td>\n",
       "      <td>1399952.5</td>\n",
       "      <td>85884.100586</td>\n",
       "      <td>2.302879e+06</td>\n",
       "      <td>9.029266e+05</td>\n",
       "      <td>-0.355031</td>\n",
       "      <td>2057.823129</td>\n",
       "      <td>2.302879e+06</td>\n",
       "    </tr>\n",
       "    <tr>\n",
       "      <th>28</th>\n",
       "      <td>2022-01-01</td>\n",
       "      <td>109.587700</td>\n",
       "      <td>LTC-USD</td>\n",
       "      <td>Buy</td>\n",
       "      <td>10000</td>\n",
       "      <td>456.255584</td>\n",
       "      <td>NaN</td>\n",
       "      <td>456.255584</td>\n",
       "      <td>NaN</td>\n",
       "      <td>50000</td>\n",
       "      <td>...</td>\n",
       "      <td>NaN</td>\n",
       "      <td>50000</td>\n",
       "      <td>47.5</td>\n",
       "      <td>49952.5</td>\n",
       "      <td>69.992424</td>\n",
       "      <td>5.000000e+04</td>\n",
       "      <td>4.750000e+01</td>\n",
       "      <td>-0.999049</td>\n",
       "      <td>69.992424</td>\n",
       "      <td>5.000000e+04</td>\n",
       "    </tr>\n",
       "    <tr>\n",
       "      <th>29</th>\n",
       "      <td>2022-02-01</td>\n",
       "      <td>113.474579</td>\n",
       "      <td>LTC-USD</td>\n",
       "      <td>Buy</td>\n",
       "      <td>10000</td>\n",
       "      <td>440.627324</td>\n",
       "      <td>456.255584</td>\n",
       "      <td>896.882908</td>\n",
       "      <td>50000.0</td>\n",
       "      <td>100000</td>\n",
       "      <td>...</td>\n",
       "      <td>50000.0</td>\n",
       "      <td>100000</td>\n",
       "      <td>47.5</td>\n",
       "      <td>99952.5</td>\n",
       "      <td>168.678467</td>\n",
       "      <td>1.102488e+05</td>\n",
       "      <td>1.029633e+04</td>\n",
       "      <td>-0.896988</td>\n",
       "      <td>77.165829</td>\n",
       "      <td>1.102488e+05</td>\n",
       "    </tr>\n",
       "    <tr>\n",
       "      <th>30</th>\n",
       "      <td>2022-03-01</td>\n",
       "      <td>123.716011</td>\n",
       "      <td>LTC-USD</td>\n",
       "      <td>Buy</td>\n",
       "      <td>10000</td>\n",
       "      <td>404.151408</td>\n",
       "      <td>440.627324</td>\n",
       "      <td>1301.034315</td>\n",
       "      <td>50000.0</td>\n",
       "      <td>150000</td>\n",
       "      <td>...</td>\n",
       "      <td>50000.0</td>\n",
       "      <td>150000</td>\n",
       "      <td>47.5</td>\n",
       "      <td>149952.5</td>\n",
       "      <td>290.773979</td>\n",
       "      <td>1.767006e+05</td>\n",
       "      <td>2.674809e+04</td>\n",
       "      <td>-0.821623</td>\n",
       "      <td>83.752106</td>\n",
       "      <td>1.767006e+05</td>\n",
       "    </tr>\n",
       "    <tr>\n",
       "      <th>31</th>\n",
       "      <td>2022-04-01</td>\n",
       "      <td>96.165985</td>\n",
       "      <td>LTC-USD</td>\n",
       "      <td>Buy</td>\n",
       "      <td>10000</td>\n",
       "      <td>519.934361</td>\n",
       "      <td>404.151408</td>\n",
       "      <td>1820.968676</td>\n",
       "      <td>50000.0</td>\n",
       "      <td>200000</td>\n",
       "      <td>...</td>\n",
       "      <td>50000.0</td>\n",
       "      <td>200000</td>\n",
       "      <td>47.5</td>\n",
       "      <td>199952.5</td>\n",
       "      <td>228.192017</td>\n",
       "      <td>1.540026e+05</td>\n",
       "      <td>-4.594991e+04</td>\n",
       "      <td>-1.229804</td>\n",
       "      <td>77.076080</td>\n",
       "      <td>1.540026e+05</td>\n",
       "    </tr>\n",
       "    <tr>\n",
       "      <th>32</th>\n",
       "      <td>2022-05-01</td>\n",
       "      <td>68.411385</td>\n",
       "      <td>LTC-USD</td>\n",
       "      <td>Buy</td>\n",
       "      <td>10000</td>\n",
       "      <td>730.872505</td>\n",
       "      <td>519.934361</td>\n",
       "      <td>2551.841181</td>\n",
       "      <td>50000.0</td>\n",
       "      <td>250000</td>\n",
       "      <td>...</td>\n",
       "      <td>50000.0</td>\n",
       "      <td>250000</td>\n",
       "      <td>47.5</td>\n",
       "      <td>249952.5</td>\n",
       "      <td>131.949663</td>\n",
       "      <td>1.212403e+05</td>\n",
       "      <td>-1.287122e+05</td>\n",
       "      <td>-1.514947</td>\n",
       "      <td>66.938851</td>\n",
       "      <td>1.212403e+05</td>\n",
       "    </tr>\n",
       "    <tr>\n",
       "      <th>33</th>\n",
       "      <td>2022-06-01</td>\n",
       "      <td>53.648430</td>\n",
       "      <td>LTC-USD</td>\n",
       "      <td>Buy</td>\n",
       "      <td>10000</td>\n",
       "      <td>931.993725</td>\n",
       "      <td>730.872505</td>\n",
       "      <td>3483.834906</td>\n",
       "      <td>50000.0</td>\n",
       "      <td>300000</td>\n",
       "      <td>...</td>\n",
       "      <td>50000.0</td>\n",
       "      <td>300000</td>\n",
       "      <td>47.5</td>\n",
       "      <td>299952.5</td>\n",
       "      <td>101.576202</td>\n",
       "      <td>1.277767e+05</td>\n",
       "      <td>-1.721758e+05</td>\n",
       "      <td>-1.574010</td>\n",
       "      <td>58.603937</td>\n",
       "      <td>1.277767e+05</td>\n",
       "    </tr>\n",
       "    <tr>\n",
       "      <th>34</th>\n",
       "      <td>2022-07-01</td>\n",
       "      <td>59.909508</td>\n",
       "      <td>LTC-USD</td>\n",
       "      <td>Buy</td>\n",
       "      <td>10000</td>\n",
       "      <td>834.592069</td>\n",
       "      <td>931.993725</td>\n",
       "      <td>4318.426974</td>\n",
       "      <td>50000.0</td>\n",
       "      <td>350000</td>\n",
       "      <td>...</td>\n",
       "      <td>50000.0</td>\n",
       "      <td>350000</td>\n",
       "      <td>47.5</td>\n",
       "      <td>349952.5</td>\n",
       "      <td>166.220480</td>\n",
       "      <td>2.292245e+05</td>\n",
       "      <td>-1.207280e+05</td>\n",
       "      <td>-1.344984</td>\n",
       "      <td>53.624201</td>\n",
       "      <td>2.292245e+05</td>\n",
       "    </tr>\n",
       "    <tr>\n",
       "      <th>35</th>\n",
       "      <td>2022-08-01</td>\n",
       "      <td>53.856663</td>\n",
       "      <td>LTC-USD</td>\n",
       "      <td>Buy</td>\n",
       "      <td>10000</td>\n",
       "      <td>928.390239</td>\n",
       "      <td>834.592069</td>\n",
       "      <td>5246.817213</td>\n",
       "      <td>50000.0</td>\n",
       "      <td>400000</td>\n",
       "      <td>...</td>\n",
       "      <td>50000.0</td>\n",
       "      <td>400000</td>\n",
       "      <td>47.5</td>\n",
       "      <td>399952.5</td>\n",
       "      <td>153.026718</td>\n",
       "      <td>2.346511e+05</td>\n",
       "      <td>-1.653014e+05</td>\n",
       "      <td>-1.413303</td>\n",
       "      <td>49.312218</td>\n",
       "      <td>2.346511e+05</td>\n",
       "    </tr>\n",
       "    <tr>\n",
       "      <th>36</th>\n",
       "      <td>2022-09-01</td>\n",
       "      <td>53.397038</td>\n",
       "      <td>LTC-USD</td>\n",
       "      <td>Buy</td>\n",
       "      <td>10000</td>\n",
       "      <td>936.381536</td>\n",
       "      <td>928.390239</td>\n",
       "      <td>6183.198749</td>\n",
       "      <td>50000.0</td>\n",
       "      <td>450000</td>\n",
       "      <td>...</td>\n",
       "      <td>50000.0</td>\n",
       "      <td>450000</td>\n",
       "      <td>47.5</td>\n",
       "      <td>449952.5</td>\n",
       "      <td>154.765778</td>\n",
       "      <td>2.609491e+05</td>\n",
       "      <td>-1.890034e+05</td>\n",
       "      <td>-1.420052</td>\n",
       "      <td>45.743771</td>\n",
       "      <td>2.609491e+05</td>\n",
       "    </tr>\n",
       "    <tr>\n",
       "      <th>37</th>\n",
       "      <td>2022-10-01</td>\n",
       "      <td>55.084435</td>\n",
       "      <td>LTC-USD</td>\n",
       "      <td>Buy</td>\n",
       "      <td>10000</td>\n",
       "      <td>907.697437</td>\n",
       "      <td>936.381536</td>\n",
       "      <td>7090.896186</td>\n",
       "      <td>50000.0</td>\n",
       "      <td>500000</td>\n",
       "      <td>...</td>\n",
       "      <td>50000.0</td>\n",
       "      <td>500000</td>\n",
       "      <td>47.5</td>\n",
       "      <td>499952.5</td>\n",
       "      <td>193.116093</td>\n",
       "      <td>3.430501e+05</td>\n",
       "      <td>-1.569024e+05</td>\n",
       "      <td>-1.313835</td>\n",
       "      <td>43.100555</td>\n",
       "      <td>3.430501e+05</td>\n",
       "    </tr>\n",
       "    <tr>\n",
       "      <th>38</th>\n",
       "      <td>2022-11-01</td>\n",
       "      <td>79.297707</td>\n",
       "      <td>LTC-USD</td>\n",
       "      <td>Buy</td>\n",
       "      <td>10000</td>\n",
       "      <td>630.535259</td>\n",
       "      <td>907.697437</td>\n",
       "      <td>7721.431445</td>\n",
       "      <td>50000.0</td>\n",
       "      <td>550000</td>\n",
       "      <td>...</td>\n",
       "      <td>50000.0</td>\n",
       "      <td>550000</td>\n",
       "      <td>47.5</td>\n",
       "      <td>549952.5</td>\n",
       "      <td>144.731412</td>\n",
       "      <td>2.837272e+05</td>\n",
       "      <td>-2.662253e+05</td>\n",
       "      <td>-1.484088</td>\n",
       "      <td>40.378450</td>\n",
       "      <td>2.837272e+05</td>\n",
       "    </tr>\n",
       "    <tr>\n",
       "      <th>39</th>\n",
       "      <td>2022-12-01</td>\n",
       "      <td>69.996216</td>\n",
       "      <td>LTC-USD</td>\n",
       "      <td>Buy</td>\n",
       "      <td>10000</td>\n",
       "      <td>714.324330</td>\n",
       "      <td>630.535259</td>\n",
       "      <td>8435.755776</td>\n",
       "      <td>50000.0</td>\n",
       "      <td>600000</td>\n",
       "      <td>...</td>\n",
       "      <td>50000.0</td>\n",
       "      <td>600000</td>\n",
       "      <td>47.5</td>\n",
       "      <td>599952.5</td>\n",
       "      <td>130.831593</td>\n",
       "      <td>2.851052e+05</td>\n",
       "      <td>-3.148473e+05</td>\n",
       "      <td>-1.524787</td>\n",
       "      <td>37.922132</td>\n",
       "      <td>2.851052e+05</td>\n",
       "    </tr>\n",
       "    <tr>\n",
       "      <th>40</th>\n",
       "      <td>2023-01-01</td>\n",
       "      <td>94.308113</td>\n",
       "      <td>LTC-USD</td>\n",
       "      <td>Buy</td>\n",
       "      <td>10000</td>\n",
       "      <td>530.177080</td>\n",
       "      <td>714.324330</td>\n",
       "      <td>8965.932856</td>\n",
       "      <td>50000.0</td>\n",
       "      <td>650000</td>\n",
       "      <td>...</td>\n",
       "      <td>50000.0</td>\n",
       "      <td>650000</td>\n",
       "      <td>47.5</td>\n",
       "      <td>649952.5</td>\n",
       "      <td>257.978495</td>\n",
       "      <td>5.689361e+05</td>\n",
       "      <td>-8.101641e+04</td>\n",
       "      <td>-1.124650</td>\n",
       "      <td>36.531545</td>\n",
       "      <td>5.689361e+05</td>\n",
       "    </tr>\n",
       "    <tr>\n",
       "      <th>41</th>\n",
       "      <td>2023-02-01</td>\n",
       "      <td>93.792778</td>\n",
       "      <td>LTC-USD</td>\n",
       "      <td>Buy</td>\n",
       "      <td>10000</td>\n",
       "      <td>533.090085</td>\n",
       "      <td>530.177080</td>\n",
       "      <td>9499.022940</td>\n",
       "      <td>50000.0</td>\n",
       "      <td>700000</td>\n",
       "      <td>...</td>\n",
       "      <td>50000.0</td>\n",
       "      <td>700000</td>\n",
       "      <td>47.5</td>\n",
       "      <td>699952.5</td>\n",
       "      <td>239.135593</td>\n",
       "      <td>5.397106e+05</td>\n",
       "      <td>-1.602419e+05</td>\n",
       "      <td>-1.228933</td>\n",
       "      <td>35.142228</td>\n",
       "      <td>5.397106e+05</td>\n",
       "    </tr>\n",
       "    <tr>\n",
       "      <th>42</th>\n",
       "      <td>2023-03-01</td>\n",
       "      <td>89.684128</td>\n",
       "      <td>LTC-USD</td>\n",
       "      <td>Buy</td>\n",
       "      <td>10000</td>\n",
       "      <td>557.512251</td>\n",
       "      <td>533.090085</td>\n",
       "      <td>10056.535192</td>\n",
       "      <td>50000.0</td>\n",
       "      <td>750000</td>\n",
       "      <td>...</td>\n",
       "      <td>50000.0</td>\n",
       "      <td>750000</td>\n",
       "      <td>47.5</td>\n",
       "      <td>749952.5</td>\n",
       "      <td>265.753355</td>\n",
       "      <td>6.097992e+05</td>\n",
       "      <td>-1.401533e+05</td>\n",
       "      <td>-1.186883</td>\n",
       "      <td>33.980539</td>\n",
       "      <td>6.097992e+05</td>\n",
       "    </tr>\n",
       "    <tr>\n",
       "      <th>43</th>\n",
       "      <td>2023-04-01</td>\n",
       "      <td>88.533623</td>\n",
       "      <td>LTC-USD</td>\n",
       "      <td>Buy</td>\n",
       "      <td>10000</td>\n",
       "      <td>564.757190</td>\n",
       "      <td>557.512251</td>\n",
       "      <td>10621.292382</td>\n",
       "      <td>50000.0</td>\n",
       "      <td>800000</td>\n",
       "      <td>...</td>\n",
       "      <td>50000.0</td>\n",
       "      <td>800000</td>\n",
       "      <td>47.5</td>\n",
       "      <td>799952.5</td>\n",
       "      <td>274.660156</td>\n",
       "      <td>6.408470e+05</td>\n",
       "      <td>-1.591055e+05</td>\n",
       "      <td>-1.198894</td>\n",
       "      <td>32.929647</td>\n",
       "      <td>6.408470e+05</td>\n",
       "    </tr>\n",
       "    <tr>\n",
       "      <th>44</th>\n",
       "      <td>2023-05-01</td>\n",
       "      <td>90.539009</td>\n",
       "      <td>LTC-USD</td>\n",
       "      <td>Buy</td>\n",
       "      <td>10000</td>\n",
       "      <td>552.248147</td>\n",
       "      <td>564.757190</td>\n",
       "      <td>11173.540529</td>\n",
       "      <td>50000.0</td>\n",
       "      <td>850000</td>\n",
       "      <td>...</td>\n",
       "      <td>50000.0</td>\n",
       "      <td>850000</td>\n",
       "      <td>47.5</td>\n",
       "      <td>849952.5</td>\n",
       "      <td>240.033902</td>\n",
       "      <td>5.771113e+05</td>\n",
       "      <td>-2.728412e+05</td>\n",
       "      <td>-1.321008</td>\n",
       "      <td>31.823176</td>\n",
       "      <td>5.771113e+05</td>\n",
       "    </tr>\n",
       "    <tr>\n",
       "      <th>45</th>\n",
       "      <td>2023-06-01</td>\n",
       "      <td>108.165329</td>\n",
       "      <td>LTC-USD</td>\n",
       "      <td>Buy</td>\n",
       "      <td>10000</td>\n",
       "      <td>462.255331</td>\n",
       "      <td>552.248147</td>\n",
       "      <td>11635.795860</td>\n",
       "      <td>50000.0</td>\n",
       "      <td>900000</td>\n",
       "      <td>...</td>\n",
       "      <td>50000.0</td>\n",
       "      <td>900000</td>\n",
       "      <td>47.5</td>\n",
       "      <td>899952.5</td>\n",
       "      <td>234.234901</td>\n",
       "      <td>5.818817e+05</td>\n",
       "      <td>-3.180708e+05</td>\n",
       "      <td>-1.353431</td>\n",
       "      <td>30.778169</td>\n",
       "      <td>5.818817e+05</td>\n",
       "    </tr>\n",
       "    <tr>\n",
       "      <th>46</th>\n",
       "      <td>2023-07-01</td>\n",
       "      <td>92.243134</td>\n",
       "      <td>LTC-USD</td>\n",
       "      <td>Buy</td>\n",
       "      <td>10000</td>\n",
       "      <td>542.045766</td>\n",
       "      <td>462.255331</td>\n",
       "      <td>12177.841626</td>\n",
       "      <td>50000.0</td>\n",
       "      <td>950000</td>\n",
       "      <td>...</td>\n",
       "      <td>50000.0</td>\n",
       "      <td>950000</td>\n",
       "      <td>47.5</td>\n",
       "      <td>949952.5</td>\n",
       "      <td>243.682172</td>\n",
       "      <td>6.234898e+05</td>\n",
       "      <td>-3.264627e+05</td>\n",
       "      <td>-1.343662</td>\n",
       "      <td>29.833285</td>\n",
       "      <td>6.234898e+05</td>\n",
       "    </tr>\n",
       "    <tr>\n",
       "      <th>47</th>\n",
       "      <td>2023-08-01</td>\n",
       "      <td>63.951378</td>\n",
       "      <td>LTC-USD</td>\n",
       "      <td>Buy</td>\n",
       "      <td>10000</td>\n",
       "      <td>781.843983</td>\n",
       "      <td>542.045766</td>\n",
       "      <td>12959.685610</td>\n",
       "      <td>50000.0</td>\n",
       "      <td>1000000</td>\n",
       "      <td>...</td>\n",
       "      <td>50000.0</td>\n",
       "      <td>1000000</td>\n",
       "      <td>47.5</td>\n",
       "      <td>999952.5</td>\n",
       "      <td>199.745388</td>\n",
       "      <td>5.355187e+05</td>\n",
       "      <td>-4.644338e+05</td>\n",
       "      <td>-1.464456</td>\n",
       "      <td>28.840984</td>\n",
       "      <td>5.355187e+05</td>\n",
       "    </tr>\n",
       "    <tr>\n",
       "      <th>48</th>\n",
       "      <td>2023-09-01</td>\n",
       "      <td>66.069649</td>\n",
       "      <td>LTC-USD</td>\n",
       "      <td>Buy</td>\n",
       "      <td>10000</td>\n",
       "      <td>756.777143</td>\n",
       "      <td>781.843983</td>\n",
       "      <td>13716.462752</td>\n",
       "      <td>50000.0</td>\n",
       "      <td>1050000</td>\n",
       "      <td>...</td>\n",
       "      <td>50000.0</td>\n",
       "      <td>1050000</td>\n",
       "      <td>47.5</td>\n",
       "      <td>1049952.5</td>\n",
       "      <td>194.119803</td>\n",
       "      <td>5.456538e+05</td>\n",
       "      <td>-5.042987e+05</td>\n",
       "      <td>-1.480306</td>\n",
       "      <td>27.907785</td>\n",
       "      <td>5.456538e+05</td>\n",
       "    </tr>\n",
       "    <tr>\n",
       "      <th>49</th>\n",
       "      <td>2023-10-01</td>\n",
       "      <td>68.949562</td>\n",
       "      <td>LTC-USD</td>\n",
       "      <td>Buy</td>\n",
       "      <td>10000</td>\n",
       "      <td>725.167768</td>\n",
       "      <td>756.777143</td>\n",
       "      <td>14441.630520</td>\n",
       "      <td>50000.0</td>\n",
       "      <td>1100000</td>\n",
       "      <td>...</td>\n",
       "      <td>50000.0</td>\n",
       "      <td>1100000</td>\n",
       "      <td>47.5</td>\n",
       "      <td>1099952.5</td>\n",
       "      <td>249.136841</td>\n",
       "      <td>7.184700e+05</td>\n",
       "      <td>-3.814825e+05</td>\n",
       "      <td>-1.346817</td>\n",
       "      <td>27.153995</td>\n",
       "      <td>7.184700e+05</td>\n",
       "    </tr>\n",
       "    <tr>\n",
       "      <th>50</th>\n",
       "      <td>2023-11-01</td>\n",
       "      <td>69.445580</td>\n",
       "      <td>LTC-USD</td>\n",
       "      <td>Buy</td>\n",
       "      <td>10000</td>\n",
       "      <td>719.988232</td>\n",
       "      <td>725.167768</td>\n",
       "      <td>15161.618751</td>\n",
       "      <td>50000.0</td>\n",
       "      <td>1150000</td>\n",
       "      <td>...</td>\n",
       "      <td>50000.0</td>\n",
       "      <td>1150000</td>\n",
       "      <td>47.5</td>\n",
       "      <td>1149952.5</td>\n",
       "      <td>491.897821</td>\n",
       "      <td>1.406877e+06</td>\n",
       "      <td>2.569243e+05</td>\n",
       "      <td>-0.776578</td>\n",
       "      <td>26.903250</td>\n",
       "      <td>1.406877e+06</td>\n",
       "    </tr>\n",
       "    <tr>\n",
       "      <th>51</th>\n",
       "      <td>2023-12-01</td>\n",
       "      <td>72.798439</td>\n",
       "      <td>LTC-USD</td>\n",
       "      <td>Buy</td>\n",
       "      <td>10000</td>\n",
       "      <td>686.827914</td>\n",
       "      <td>719.988232</td>\n",
       "      <td>15848.446665</td>\n",
       "      <td>50000.0</td>\n",
       "      <td>1200000</td>\n",
       "      <td>...</td>\n",
       "      <td>50000.0</td>\n",
       "      <td>1200000</td>\n",
       "      <td>47.5</td>\n",
       "      <td>1199952.5</td>\n",
       "      <td>925.077850</td>\n",
       "      <td>2.585573e+06</td>\n",
       "      <td>1.385620e+06</td>\n",
       "      <td>0.154729</td>\n",
       "      <td>27.388319</td>\n",
       "      <td>2.585573e+06</td>\n",
       "    </tr>\n",
       "    <tr>\n",
       "      <th>52</th>\n",
       "      <td>2024-01-01</td>\n",
       "      <td>66.753044</td>\n",
       "      <td>LTC-USD</td>\n",
       "      <td>Buy</td>\n",
       "      <td>10000</td>\n",
       "      <td>749.029511</td>\n",
       "      <td>686.827914</td>\n",
       "      <td>16597.476176</td>\n",
       "      <td>50000.0</td>\n",
       "      <td>1250000</td>\n",
       "      <td>...</td>\n",
       "      <td>50000.0</td>\n",
       "      <td>1250000</td>\n",
       "      <td>47.5</td>\n",
       "      <td>1249952.5</td>\n",
       "      <td>829.047489</td>\n",
       "      <td>2.274483e+06</td>\n",
       "      <td>1.024531e+06</td>\n",
       "      <td>-0.180344</td>\n",
       "      <td>27.619262</td>\n",
       "      <td>2.274483e+06</td>\n",
       "    </tr>\n",
       "    <tr>\n",
       "      <th>53</th>\n",
       "      <td>2024-02-01</td>\n",
       "      <td>79.940895</td>\n",
       "      <td>LTC-USD</td>\n",
       "      <td>Buy</td>\n",
       "      <td>10000</td>\n",
       "      <td>625.462099</td>\n",
       "      <td>749.029511</td>\n",
       "      <td>17222.938275</td>\n",
       "      <td>50000.0</td>\n",
       "      <td>1300000</td>\n",
       "      <td>...</td>\n",
       "      <td>50000.0</td>\n",
       "      <td>1300000</td>\n",
       "      <td>47.5</td>\n",
       "      <td>1299952.5</td>\n",
       "      <td>1064.320053</td>\n",
       "      <td>2.857645e+06</td>\n",
       "      <td>1.557693e+06</td>\n",
       "      <td>0.198269</td>\n",
       "      <td>28.131421</td>\n",
       "      <td>2.857645e+06</td>\n",
       "    </tr>\n",
       "    <tr>\n",
       "      <th>54</th>\n",
       "      <td>2024-03-01</td>\n",
       "      <td>105.183403</td>\n",
       "      <td>LTC-USD</td>\n",
       "      <td>Buy</td>\n",
       "      <td>10000</td>\n",
       "      <td>475.360167</td>\n",
       "      <td>625.462099</td>\n",
       "      <td>17698.298442</td>\n",
       "      <td>50000.0</td>\n",
       "      <td>1350000</td>\n",
       "      <td>...</td>\n",
       "      <td>50000.0</td>\n",
       "      <td>1350000</td>\n",
       "      <td>47.5</td>\n",
       "      <td>1349952.5</td>\n",
       "      <td>1460.981552</td>\n",
       "      <td>3.827377e+06</td>\n",
       "      <td>2.477425e+06</td>\n",
       "      <td>0.835194</td>\n",
       "      <td>29.093606</td>\n",
       "      <td>3.827377e+06</td>\n",
       "    </tr>\n",
       "    <tr>\n",
       "      <th>55</th>\n",
       "      <td>2024-04-01</td>\n",
       "      <td>76.960564</td>\n",
       "      <td>LTC-USD</td>\n",
       "      <td>Buy</td>\n",
       "      <td>10000</td>\n",
       "      <td>649.683391</td>\n",
       "      <td>475.360167</td>\n",
       "      <td>18347.981833</td>\n",
       "      <td>50000.0</td>\n",
       "      <td>1400000</td>\n",
       "      <td>...</td>\n",
       "      <td>50000.0</td>\n",
       "      <td>1400000</td>\n",
       "      <td>47.5</td>\n",
       "      <td>1399952.5</td>\n",
       "      <td>972.072556</td>\n",
       "      <td>2.505619e+06</td>\n",
       "      <td>1.105666e+06</td>\n",
       "      <td>-0.210212</td>\n",
       "      <td>29.294438</td>\n",
       "      <td>2.505619e+06</td>\n",
       "    </tr>\n",
       "  </tbody>\n",
       "</table>\n",
       "<p>56 rows × 35 columns</p>\n",
       "</div>"
      ],
      "text/plain": [
       "         Date         close   ticker type  val_transact    quantity  \\\n",
       "0  2022-01-01  38483.125000  BTC-USD  Buy         50000    1.299271   \n",
       "1  2022-02-01  43193.234375  BTC-USD  Buy         50000    1.157589   \n",
       "2  2022-03-01  45538.675781  BTC-USD  Buy         50000    1.097968   \n",
       "3  2022-04-01  37714.875000  BTC-USD  Buy         50000    1.325737   \n",
       "4  2022-05-01  31792.310547  BTC-USD  Buy         50000    1.572707   \n",
       "5  2022-06-01  19784.726562  BTC-USD  Buy         50000    2.527202   \n",
       "6  2022-07-01  23336.896484  BTC-USD  Buy         50000    2.142530   \n",
       "7  2022-08-01  20049.763672  BTC-USD  Buy         50000    2.493795   \n",
       "8  2022-09-01  19431.789062  BTC-USD  Buy         50000    2.573103   \n",
       "9  2022-10-01  20495.773438  BTC-USD  Buy         50000    2.439527   \n",
       "10 2022-11-01  17168.566406  BTC-USD  Buy         50000    2.912299   \n",
       "11 2022-12-01  16547.496094  BTC-USD  Buy         50000    3.021605   \n",
       "12 2023-01-01  23139.283203  BTC-USD  Buy         50000    2.160828   \n",
       "13 2023-02-01  23147.353516  BTC-USD  Buy         50000    2.160074   \n",
       "14 2023-03-01  28478.484375  BTC-USD  Buy         50000    1.755711   \n",
       "15 2023-04-01  29268.806641  BTC-USD  Buy         50000    1.708303   \n",
       "16 2023-05-01  27219.658203  BTC-USD  Buy         50000    1.836908   \n",
       "17 2023-06-01  30477.251953  BTC-USD  Buy         50000    1.640568   \n",
       "18 2023-07-01  29230.111328  BTC-USD  Buy         50000    1.710565   \n",
       "19 2023-08-01  25931.472656  BTC-USD  Buy         50000    1.928159   \n",
       "20 2023-09-01  26967.916016  BTC-USD  Buy         50000    1.854055   \n",
       "21 2023-10-01  34667.781250  BTC-USD  Buy         50000    1.442261   \n",
       "22 2023-11-01  37712.746094  BTC-USD  Buy         50000    1.325812   \n",
       "23 2023-12-01  42265.187500  BTC-USD  Buy         50000    1.183007   \n",
       "24 2024-01-01  42582.605469  BTC-USD  Buy         50000    1.174188   \n",
       "25 2024-02-01  61198.382812  BTC-USD  Buy         50000    0.817015   \n",
       "26 2024-03-01  71333.648438  BTC-USD  Buy         50000    0.700931   \n",
       "27 2024-04-01  63149.785156  BTC-USD  Buy         50000    0.791768   \n",
       "28 2022-01-01    109.587700  LTC-USD  Buy         10000  456.255584   \n",
       "29 2022-02-01    113.474579  LTC-USD  Buy         10000  440.627324   \n",
       "30 2022-03-01    123.716011  LTC-USD  Buy         10000  404.151408   \n",
       "31 2022-04-01     96.165985  LTC-USD  Buy         10000  519.934361   \n",
       "32 2022-05-01     68.411385  LTC-USD  Buy         10000  730.872505   \n",
       "33 2022-06-01     53.648430  LTC-USD  Buy         10000  931.993725   \n",
       "34 2022-07-01     59.909508  LTC-USD  Buy         10000  834.592069   \n",
       "35 2022-08-01     53.856663  LTC-USD  Buy         10000  928.390239   \n",
       "36 2022-09-01     53.397038  LTC-USD  Buy         10000  936.381536   \n",
       "37 2022-10-01     55.084435  LTC-USD  Buy         10000  907.697437   \n",
       "38 2022-11-01     79.297707  LTC-USD  Buy         10000  630.535259   \n",
       "39 2022-12-01     69.996216  LTC-USD  Buy         10000  714.324330   \n",
       "40 2023-01-01     94.308113  LTC-USD  Buy         10000  530.177080   \n",
       "41 2023-02-01     93.792778  LTC-USD  Buy         10000  533.090085   \n",
       "42 2023-03-01     89.684128  LTC-USD  Buy         10000  557.512251   \n",
       "43 2023-04-01     88.533623  LTC-USD  Buy         10000  564.757190   \n",
       "44 2023-05-01     90.539009  LTC-USD  Buy         10000  552.248147   \n",
       "45 2023-06-01    108.165329  LTC-USD  Buy         10000  462.255331   \n",
       "46 2023-07-01     92.243134  LTC-USD  Buy         10000  542.045766   \n",
       "47 2023-08-01     63.951378  LTC-USD  Buy         10000  781.843983   \n",
       "48 2023-09-01     66.069649  LTC-USD  Buy         10000  756.777143   \n",
       "49 2023-10-01     68.949562  LTC-USD  Buy         10000  725.167768   \n",
       "50 2023-11-01     69.445580  LTC-USD  Buy         10000  719.988232   \n",
       "51 2023-12-01     72.798439  LTC-USD  Buy         10000  686.827914   \n",
       "52 2024-01-01     66.753044  LTC-USD  Buy         10000  749.029511   \n",
       "53 2024-02-01     79.940895  LTC-USD  Buy         10000  625.462099   \n",
       "54 2024-03-01    105.183403  LTC-USD  Buy         10000  475.360167   \n",
       "55 2024-04-01     76.960564  LTC-USD  Buy         10000  649.683391   \n",
       "\n",
       "    prev_units     cml_units  prev_cost  cml_cost  ...  prev_cost.1  \\\n",
       "0          NaN      1.299271        NaN     50000  ...          NaN   \n",
       "1     1.299271      2.456859    50000.0    100000  ...      50000.0   \n",
       "2     1.157589      3.554827    50000.0    150000  ...      50000.0   \n",
       "3     1.097968      4.880564    50000.0    200000  ...      50000.0   \n",
       "4     1.325737      6.453271    50000.0    250000  ...      50000.0   \n",
       "5     1.572707      8.980473    50000.0    300000  ...      50000.0   \n",
       "6     2.527202     11.123003    50000.0    350000  ...      50000.0   \n",
       "7     2.142530     13.616798    50000.0    400000  ...      50000.0   \n",
       "8     2.493795     16.189902    50000.0    450000  ...      50000.0   \n",
       "9     2.573103     18.629429    50000.0    500000  ...      50000.0   \n",
       "10    2.439527     21.541728    50000.0    550000  ...      50000.0   \n",
       "11    2.912299     24.563333    50000.0    600000  ...      50000.0   \n",
       "12    3.021605     26.724161    50000.0    650000  ...      50000.0   \n",
       "13    2.160828     28.884235    50000.0    700000  ...      50000.0   \n",
       "14    2.160074     30.639946    50000.0    750000  ...      50000.0   \n",
       "15    1.755711     32.348250    50000.0    800000  ...      50000.0   \n",
       "16    1.708303     34.185157    50000.0    850000  ...      50000.0   \n",
       "17    1.836908     35.825725    50000.0    900000  ...      50000.0   \n",
       "18    1.640568     37.536290    50000.0    950000  ...      50000.0   \n",
       "19    1.710565     39.464449    50000.0   1000000  ...      50000.0   \n",
       "20    1.928159     41.318504    50000.0   1050000  ...      50000.0   \n",
       "21    1.854055     42.760765    50000.0   1100000  ...      50000.0   \n",
       "22    1.442261     44.086577    50000.0   1150000  ...      50000.0   \n",
       "23    1.325812     45.269584    50000.0   1200000  ...      50000.0   \n",
       "24    1.183007     46.443772    50000.0   1250000  ...      50000.0   \n",
       "25    1.174188     47.260787    50000.0   1300000  ...      50000.0   \n",
       "26    0.817015     47.961719    50000.0   1350000  ...      50000.0   \n",
       "27    0.700931     48.753487    50000.0   1400000  ...      50000.0   \n",
       "28         NaN    456.255584        NaN     50000  ...          NaN   \n",
       "29  456.255584    896.882908    50000.0    100000  ...      50000.0   \n",
       "30  440.627324   1301.034315    50000.0    150000  ...      50000.0   \n",
       "31  404.151408   1820.968676    50000.0    200000  ...      50000.0   \n",
       "32  519.934361   2551.841181    50000.0    250000  ...      50000.0   \n",
       "33  730.872505   3483.834906    50000.0    300000  ...      50000.0   \n",
       "34  931.993725   4318.426974    50000.0    350000  ...      50000.0   \n",
       "35  834.592069   5246.817213    50000.0    400000  ...      50000.0   \n",
       "36  928.390239   6183.198749    50000.0    450000  ...      50000.0   \n",
       "37  936.381536   7090.896186    50000.0    500000  ...      50000.0   \n",
       "38  907.697437   7721.431445    50000.0    550000  ...      50000.0   \n",
       "39  630.535259   8435.755776    50000.0    600000  ...      50000.0   \n",
       "40  714.324330   8965.932856    50000.0    650000  ...      50000.0   \n",
       "41  530.177080   9499.022940    50000.0    700000  ...      50000.0   \n",
       "42  533.090085  10056.535192    50000.0    750000  ...      50000.0   \n",
       "43  557.512251  10621.292382    50000.0    800000  ...      50000.0   \n",
       "44  564.757190  11173.540529    50000.0    850000  ...      50000.0   \n",
       "45  552.248147  11635.795860    50000.0    900000  ...      50000.0   \n",
       "46  462.255331  12177.841626    50000.0    950000  ...      50000.0   \n",
       "47  542.045766  12959.685610    50000.0   1000000  ...      50000.0   \n",
       "48  781.843983  13716.462752    50000.0   1050000  ...      50000.0   \n",
       "49  756.777143  14441.630520    50000.0   1100000  ...      50000.0   \n",
       "50  725.167768  15161.618751    50000.0   1150000  ...      50000.0   \n",
       "51  719.988232  15848.446665    50000.0   1200000  ...      50000.0   \n",
       "52  686.827914  16597.476176    50000.0   1250000  ...      50000.0   \n",
       "53  749.029511  17222.938275    50000.0   1300000  ...      50000.0   \n",
       "54  625.462099  17698.298442    50000.0   1350000  ...      50000.0   \n",
       "55  475.360167  18347.981833    50000.0   1400000  ...      50000.0   \n",
       "\n",
       "    cml_cost.1  cost_transact.1  cml_invested.1   cost_unit.1  \\\n",
       "0        50000             47.5         49952.5   2688.278809   \n",
       "1       100000             47.5         99952.5   5838.402344   \n",
       "2       150000             47.5        149952.5   9844.928467   \n",
       "3       200000             47.5        199952.5  10920.747070   \n",
       "4       250000             47.5        249952.5   9711.640015   \n",
       "5       300000             47.5        299952.5   6403.792969   \n",
       "6       350000             47.5        349952.5  11770.621338   \n",
       "7       400000             47.5        399952.5  12429.479492   \n",
       "8       450000             47.5        449952.5  11951.807739   \n",
       "9       500000             47.5        499952.5  15727.144775   \n",
       "10      550000             47.5        549952.5  14252.574585   \n",
       "11      600000             47.5        599952.5  14361.254883   \n",
       "12      650000             47.5        649952.5  20624.960205   \n",
       "13      700000             47.5        699952.5  22482.531982   \n",
       "14      750000             47.5        749952.5  27330.331421   \n",
       "15      800000             47.5        799952.5  30030.789062   \n",
       "16      850000             47.5        849952.5  31860.218384   \n",
       "17      900000             47.5        899952.5  34797.401367   \n",
       "18      950000             47.5        949952.5  35267.084717   \n",
       "19     1000000             47.5        999952.5  32912.783203   \n",
       "20     1050000             47.5       1049952.5  35094.399170   \n",
       "21     1100000             47.5       1099952.5  39962.097656   \n",
       "22     1150000             47.5       1149952.5  47208.791504   \n",
       "23     1200000             47.5       1199952.5  54755.308594   \n",
       "24     1250000             47.5       1249952.5  57063.610840   \n",
       "25     1300000             47.5       1299952.5  86889.911621   \n",
       "26     1350000             47.5       1349952.5  98492.124023   \n",
       "27     1400000             47.5       1399952.5  85884.100586   \n",
       "28       50000             47.5         49952.5     69.992424   \n",
       "29      100000             47.5         99952.5    168.678467   \n",
       "30      150000             47.5        149952.5    290.773979   \n",
       "31      200000             47.5        199952.5    228.192017   \n",
       "32      250000             47.5        249952.5    131.949663   \n",
       "33      300000             47.5        299952.5    101.576202   \n",
       "34      350000             47.5        349952.5    166.220480   \n",
       "35      400000             47.5        399952.5    153.026718   \n",
       "36      450000             47.5        449952.5    154.765778   \n",
       "37      500000             47.5        499952.5    193.116093   \n",
       "38      550000             47.5        549952.5    144.731412   \n",
       "39      600000             47.5        599952.5    130.831593   \n",
       "40      650000             47.5        649952.5    257.978495   \n",
       "41      700000             47.5        699952.5    239.135593   \n",
       "42      750000             47.5        749952.5    265.753355   \n",
       "43      800000             47.5        799952.5    274.660156   \n",
       "44      850000             47.5        849952.5    240.033902   \n",
       "45      900000             47.5        899952.5    234.234901   \n",
       "46      950000             47.5        949952.5    243.682172   \n",
       "47     1000000             47.5        999952.5    199.745388   \n",
       "48     1050000             47.5       1049952.5    194.119803   \n",
       "49     1100000             47.5       1099952.5    249.136841   \n",
       "50     1150000             47.5       1149952.5    491.897821   \n",
       "51     1200000             47.5       1199952.5    925.077850   \n",
       "52     1250000             47.5       1249952.5    829.047489   \n",
       "53     1300000             47.5       1299952.5   1064.320053   \n",
       "54     1350000             47.5       1349952.5   1460.981552   \n",
       "55     1400000             47.5       1399952.5    972.072556   \n",
       "\n",
       "    cum_position_val.1   gain_loss.1   yield.1  avg_price.1 current_value.1  \n",
       "0         5.000000e+04  4.750000e+01 -0.999049  2688.278809    5.000000e+04  \n",
       "1         1.042950e+05  4.342485e+03 -0.956555  2803.739990    1.042950e+05  \n",
       "2         1.672440e+05  1.729152e+04 -0.884687  2963.040934    1.672440e+05  \n",
       "3         1.891399e+05 -1.081261e+04 -1.054076  2904.827393    1.891399e+05  \n",
       "4         1.845592e+05 -6.539332e+04 -1.261623  2712.327515    1.845592e+05  \n",
       "5         1.514143e+05 -1.485382e+05 -1.495206  2438.156067    1.514143e+05  \n",
       "6         2.885515e+05 -6.140100e+04 -1.175455  2330.064819    2.885515e+05  \n",
       "7         3.166152e+05 -8.333727e+04 -1.208368  2233.017334    3.166152e+05  \n",
       "8         3.206200e+05 -1.293325e+05 -1.287436  2132.457479    3.206200e+05  \n",
       "9         4.297077e+05 -7.024477e+04 -1.140503  2076.483179    4.297077e+05  \n",
       "10        4.040168e+05 -1.459357e+05 -1.265360  2005.501853    4.040168e+05  \n",
       "11        4.231728e+05 -1.767797e+05 -1.294656  1938.107635    4.231728e+05  \n",
       "12        6.109916e+05 -3.896090e+04 -1.059944  1911.063617    6.109916e+05  \n",
       "13        6.684472e+05 -3.150525e+04 -1.045011  1889.265869    6.684472e+05  \n",
       "14        8.084092e+05  5.845670e+04 -0.922053  1884.782951    8.084092e+05  \n",
       "15        8.827687e+05  8.281615e+04 -0.896474  1884.291786    8.827687e+05  \n",
       "16        9.314546e+05  8.150214e+04 -0.904110  1883.694063    9.314546e+05  \n",
       "17        1.010807e+06  1.108546e+05 -0.876822  1886.443780    1.010807e+06  \n",
       "18        1.020532e+06  7.057965e+04 -0.925702  1884.850021    1.020532e+06  \n",
       "19        9.547849e+05 -4.516760e+04 -1.045170  1872.889478    9.547849e+05  \n",
       "20        1.019593e+06 -3.035956e+04 -1.028915  1863.283401    1.019593e+06  \n",
       "21        1.158240e+06  5.828770e+04 -0.947009  1861.155018    1.158240e+06  \n",
       "22        1.358784e+06  2.088318e+05 -0.818400  1869.476807    1.358784e+06  \n",
       "23        1.560325e+06  3.603727e+05 -0.699678  1886.643239    1.560325e+06  \n",
       "24        1.611059e+06  3.611067e+05 -0.711104  1902.479287    1.611059e+06  \n",
       "25        2.408785e+06  1.108832e+06 -0.147021  1957.842379    2.408785e+06  \n",
       "26        2.679297e+06  1.329345e+06 -0.015266  2020.435493    2.679297e+06  \n",
       "27        2.302879e+06  9.029266e+05 -0.355031  2057.823129    2.302879e+06  \n",
       "28        5.000000e+04  4.750000e+01 -0.999049    69.992424    5.000000e+04  \n",
       "29        1.102488e+05  1.029633e+04 -0.896988    77.165829    1.102488e+05  \n",
       "30        1.767006e+05  2.674809e+04 -0.821623    83.752106    1.767006e+05  \n",
       "31        1.540026e+05 -4.594991e+04 -1.229804    77.076080    1.540026e+05  \n",
       "32        1.212403e+05 -1.287122e+05 -1.514947    66.938851    1.212403e+05  \n",
       "33        1.277767e+05 -1.721758e+05 -1.574010    58.603937    1.277767e+05  \n",
       "34        2.292245e+05 -1.207280e+05 -1.344984    53.624201    2.292245e+05  \n",
       "35        2.346511e+05 -1.653014e+05 -1.413303    49.312218    2.346511e+05  \n",
       "36        2.609491e+05 -1.890034e+05 -1.420052    45.743771    2.609491e+05  \n",
       "37        3.430501e+05 -1.569024e+05 -1.313835    43.100555    3.430501e+05  \n",
       "38        2.837272e+05 -2.662253e+05 -1.484088    40.378450    2.837272e+05  \n",
       "39        2.851052e+05 -3.148473e+05 -1.524787    37.922132    2.851052e+05  \n",
       "40        5.689361e+05 -8.101641e+04 -1.124650    36.531545    5.689361e+05  \n",
       "41        5.397106e+05 -1.602419e+05 -1.228933    35.142228    5.397106e+05  \n",
       "42        6.097992e+05 -1.401533e+05 -1.186883    33.980539    6.097992e+05  \n",
       "43        6.408470e+05 -1.591055e+05 -1.198894    32.929647    6.408470e+05  \n",
       "44        5.771113e+05 -2.728412e+05 -1.321008    31.823176    5.771113e+05  \n",
       "45        5.818817e+05 -3.180708e+05 -1.353431    30.778169    5.818817e+05  \n",
       "46        6.234898e+05 -3.264627e+05 -1.343662    29.833285    6.234898e+05  \n",
       "47        5.355187e+05 -4.644338e+05 -1.464456    28.840984    5.355187e+05  \n",
       "48        5.456538e+05 -5.042987e+05 -1.480306    27.907785    5.456538e+05  \n",
       "49        7.184700e+05 -3.814825e+05 -1.346817    27.153995    7.184700e+05  \n",
       "50        1.406877e+06  2.569243e+05 -0.776578    26.903250    1.406877e+06  \n",
       "51        2.585573e+06  1.385620e+06  0.154729    27.388319    2.585573e+06  \n",
       "52        2.274483e+06  1.024531e+06 -0.180344    27.619262    2.274483e+06  \n",
       "53        2.857645e+06  1.557693e+06  0.198269    28.131421    2.857645e+06  \n",
       "54        3.827377e+06  2.477425e+06  0.835194    29.093606    3.827377e+06  \n",
       "55        2.505619e+06  1.105666e+06 -0.210212    29.294438    2.505619e+06  \n",
       "\n",
       "[56 rows x 35 columns]"
      ]
     },
     "execution_count": 193,
     "metadata": {},
     "output_type": "execute_result"
    }
   ],
   "source": [
    "all_ops"
   ]
  },
  {
   "cell_type": "code",
   "execution_count": 194,
   "metadata": {},
   "outputs": [
    {
     "name": "stdout",
     "output_type": "stream",
     "text": [
      "[*********************100%***********************]  1 of 1 completed\n",
      "Done for BTC-USD\n",
      "[*********************100%***********************]  1 of 1 completed\n",
      "Done for LTC-USD\n"
     ]
    },
    {
     "data": {
      "application/vnd.plotly.v1+json": {
       "config": {
        "plotlyServerURL": "https://plot.ly"
       },
       "data": [
        {
         "hole": 0.4,
         "hoverinfo": "label+value+percent",
         "labels": [
          "LTC-USD",
          "BTC-USD"
         ],
         "textinfo": "label+value",
         "textposition": "outside",
         "type": "pie",
         "values": [
          106119.7075016647,
          50000
         ]
        }
       ],
       "layout": {
        "margin": {
         "b": 50,
         "l": 25,
         "r": 25,
         "t": 50
        },
        "showlegend": false,
        "template": {
         "data": {
          "bar": [
           {
            "error_x": {
             "color": "#2a3f5f"
            },
            "error_y": {
             "color": "#2a3f5f"
            },
            "marker": {
             "line": {
              "color": "white",
              "width": 0.5
             },
             "pattern": {
              "fillmode": "overlay",
              "size": 10,
              "solidity": 0.2
             }
            },
            "type": "bar"
           }
          ],
          "barpolar": [
           {
            "marker": {
             "line": {
              "color": "white",
              "width": 0.5
             },
             "pattern": {
              "fillmode": "overlay",
              "size": 10,
              "solidity": 0.2
             }
            },
            "type": "barpolar"
           }
          ],
          "carpet": [
           {
            "aaxis": {
             "endlinecolor": "#2a3f5f",
             "gridcolor": "#C8D4E3",
             "linecolor": "#C8D4E3",
             "minorgridcolor": "#C8D4E3",
             "startlinecolor": "#2a3f5f"
            },
            "baxis": {
             "endlinecolor": "#2a3f5f",
             "gridcolor": "#C8D4E3",
             "linecolor": "#C8D4E3",
             "minorgridcolor": "#C8D4E3",
             "startlinecolor": "#2a3f5f"
            },
            "type": "carpet"
           }
          ],
          "choropleth": [
           {
            "colorbar": {
             "outlinewidth": 0,
             "ticks": ""
            },
            "type": "choropleth"
           }
          ],
          "contour": [
           {
            "colorbar": {
             "outlinewidth": 0,
             "ticks": ""
            },
            "colorscale": [
             [
              0,
              "#0d0887"
             ],
             [
              0.1111111111111111,
              "#46039f"
             ],
             [
              0.2222222222222222,
              "#7201a8"
             ],
             [
              0.3333333333333333,
              "#9c179e"
             ],
             [
              0.4444444444444444,
              "#bd3786"
             ],
             [
              0.5555555555555556,
              "#d8576b"
             ],
             [
              0.6666666666666666,
              "#ed7953"
             ],
             [
              0.7777777777777778,
              "#fb9f3a"
             ],
             [
              0.8888888888888888,
              "#fdca26"
             ],
             [
              1,
              "#f0f921"
             ]
            ],
            "type": "contour"
           }
          ],
          "contourcarpet": [
           {
            "colorbar": {
             "outlinewidth": 0,
             "ticks": ""
            },
            "type": "contourcarpet"
           }
          ],
          "heatmap": [
           {
            "colorbar": {
             "outlinewidth": 0,
             "ticks": ""
            },
            "colorscale": [
             [
              0,
              "#0d0887"
             ],
             [
              0.1111111111111111,
              "#46039f"
             ],
             [
              0.2222222222222222,
              "#7201a8"
             ],
             [
              0.3333333333333333,
              "#9c179e"
             ],
             [
              0.4444444444444444,
              "#bd3786"
             ],
             [
              0.5555555555555556,
              "#d8576b"
             ],
             [
              0.6666666666666666,
              "#ed7953"
             ],
             [
              0.7777777777777778,
              "#fb9f3a"
             ],
             [
              0.8888888888888888,
              "#fdca26"
             ],
             [
              1,
              "#f0f921"
             ]
            ],
            "type": "heatmap"
           }
          ],
          "heatmapgl": [
           {
            "colorbar": {
             "outlinewidth": 0,
             "ticks": ""
            },
            "colorscale": [
             [
              0,
              "#0d0887"
             ],
             [
              0.1111111111111111,
              "#46039f"
             ],
             [
              0.2222222222222222,
              "#7201a8"
             ],
             [
              0.3333333333333333,
              "#9c179e"
             ],
             [
              0.4444444444444444,
              "#bd3786"
             ],
             [
              0.5555555555555556,
              "#d8576b"
             ],
             [
              0.6666666666666666,
              "#ed7953"
             ],
             [
              0.7777777777777778,
              "#fb9f3a"
             ],
             [
              0.8888888888888888,
              "#fdca26"
             ],
             [
              1,
              "#f0f921"
             ]
            ],
            "type": "heatmapgl"
           }
          ],
          "histogram": [
           {
            "marker": {
             "pattern": {
              "fillmode": "overlay",
              "size": 10,
              "solidity": 0.2
             }
            },
            "type": "histogram"
           }
          ],
          "histogram2d": [
           {
            "colorbar": {
             "outlinewidth": 0,
             "ticks": ""
            },
            "colorscale": [
             [
              0,
              "#0d0887"
             ],
             [
              0.1111111111111111,
              "#46039f"
             ],
             [
              0.2222222222222222,
              "#7201a8"
             ],
             [
              0.3333333333333333,
              "#9c179e"
             ],
             [
              0.4444444444444444,
              "#bd3786"
             ],
             [
              0.5555555555555556,
              "#d8576b"
             ],
             [
              0.6666666666666666,
              "#ed7953"
             ],
             [
              0.7777777777777778,
              "#fb9f3a"
             ],
             [
              0.8888888888888888,
              "#fdca26"
             ],
             [
              1,
              "#f0f921"
             ]
            ],
            "type": "histogram2d"
           }
          ],
          "histogram2dcontour": [
           {
            "colorbar": {
             "outlinewidth": 0,
             "ticks": ""
            },
            "colorscale": [
             [
              0,
              "#0d0887"
             ],
             [
              0.1111111111111111,
              "#46039f"
             ],
             [
              0.2222222222222222,
              "#7201a8"
             ],
             [
              0.3333333333333333,
              "#9c179e"
             ],
             [
              0.4444444444444444,
              "#bd3786"
             ],
             [
              0.5555555555555556,
              "#d8576b"
             ],
             [
              0.6666666666666666,
              "#ed7953"
             ],
             [
              0.7777777777777778,
              "#fb9f3a"
             ],
             [
              0.8888888888888888,
              "#fdca26"
             ],
             [
              1,
              "#f0f921"
             ]
            ],
            "type": "histogram2dcontour"
           }
          ],
          "mesh3d": [
           {
            "colorbar": {
             "outlinewidth": 0,
             "ticks": ""
            },
            "type": "mesh3d"
           }
          ],
          "parcoords": [
           {
            "line": {
             "colorbar": {
              "outlinewidth": 0,
              "ticks": ""
             }
            },
            "type": "parcoords"
           }
          ],
          "pie": [
           {
            "automargin": true,
            "type": "pie"
           }
          ],
          "scatter": [
           {
            "fillpattern": {
             "fillmode": "overlay",
             "size": 10,
             "solidity": 0.2
            },
            "type": "scatter"
           }
          ],
          "scatter3d": [
           {
            "line": {
             "colorbar": {
              "outlinewidth": 0,
              "ticks": ""
             }
            },
            "marker": {
             "colorbar": {
              "outlinewidth": 0,
              "ticks": ""
             }
            },
            "type": "scatter3d"
           }
          ],
          "scattercarpet": [
           {
            "marker": {
             "colorbar": {
              "outlinewidth": 0,
              "ticks": ""
             }
            },
            "type": "scattercarpet"
           }
          ],
          "scattergeo": [
           {
            "marker": {
             "colorbar": {
              "outlinewidth": 0,
              "ticks": ""
             }
            },
            "type": "scattergeo"
           }
          ],
          "scattergl": [
           {
            "marker": {
             "colorbar": {
              "outlinewidth": 0,
              "ticks": ""
             }
            },
            "type": "scattergl"
           }
          ],
          "scattermapbox": [
           {
            "marker": {
             "colorbar": {
              "outlinewidth": 0,
              "ticks": ""
             }
            },
            "type": "scattermapbox"
           }
          ],
          "scatterpolar": [
           {
            "marker": {
             "colorbar": {
              "outlinewidth": 0,
              "ticks": ""
             }
            },
            "type": "scatterpolar"
           }
          ],
          "scatterpolargl": [
           {
            "marker": {
             "colorbar": {
              "outlinewidth": 0,
              "ticks": ""
             }
            },
            "type": "scatterpolargl"
           }
          ],
          "scatterternary": [
           {
            "marker": {
             "colorbar": {
              "outlinewidth": 0,
              "ticks": ""
             }
            },
            "type": "scatterternary"
           }
          ],
          "surface": [
           {
            "colorbar": {
             "outlinewidth": 0,
             "ticks": ""
            },
            "colorscale": [
             [
              0,
              "#0d0887"
             ],
             [
              0.1111111111111111,
              "#46039f"
             ],
             [
              0.2222222222222222,
              "#7201a8"
             ],
             [
              0.3333333333333333,
              "#9c179e"
             ],
             [
              0.4444444444444444,
              "#bd3786"
             ],
             [
              0.5555555555555556,
              "#d8576b"
             ],
             [
              0.6666666666666666,
              "#ed7953"
             ],
             [
              0.7777777777777778,
              "#fb9f3a"
             ],
             [
              0.8888888888888888,
              "#fdca26"
             ],
             [
              1,
              "#f0f921"
             ]
            ],
            "type": "surface"
           }
          ],
          "table": [
           {
            "cells": {
             "fill": {
              "color": "#EBF0F8"
             },
             "line": {
              "color": "white"
             }
            },
            "header": {
             "fill": {
              "color": "#C8D4E3"
             },
             "line": {
              "color": "white"
             }
            },
            "type": "table"
           }
          ]
         },
         "layout": {
          "annotationdefaults": {
           "arrowcolor": "#2a3f5f",
           "arrowhead": 0,
           "arrowwidth": 1
          },
          "autotypenumbers": "strict",
          "coloraxis": {
           "colorbar": {
            "outlinewidth": 0,
            "ticks": ""
           }
          },
          "colorscale": {
           "diverging": [
            [
             0,
             "#8e0152"
            ],
            [
             0.1,
             "#c51b7d"
            ],
            [
             0.2,
             "#de77ae"
            ],
            [
             0.3,
             "#f1b6da"
            ],
            [
             0.4,
             "#fde0ef"
            ],
            [
             0.5,
             "#f7f7f7"
            ],
            [
             0.6,
             "#e6f5d0"
            ],
            [
             0.7,
             "#b8e186"
            ],
            [
             0.8,
             "#7fbc41"
            ],
            [
             0.9,
             "#4d9221"
            ],
            [
             1,
             "#276419"
            ]
           ],
           "sequential": [
            [
             0,
             "#0d0887"
            ],
            [
             0.1111111111111111,
             "#46039f"
            ],
            [
             0.2222222222222222,
             "#7201a8"
            ],
            [
             0.3333333333333333,
             "#9c179e"
            ],
            [
             0.4444444444444444,
             "#bd3786"
            ],
            [
             0.5555555555555556,
             "#d8576b"
            ],
            [
             0.6666666666666666,
             "#ed7953"
            ],
            [
             0.7777777777777778,
             "#fb9f3a"
            ],
            [
             0.8888888888888888,
             "#fdca26"
            ],
            [
             1,
             "#f0f921"
            ]
           ],
           "sequentialminus": [
            [
             0,
             "#0d0887"
            ],
            [
             0.1111111111111111,
             "#46039f"
            ],
            [
             0.2222222222222222,
             "#7201a8"
            ],
            [
             0.3333333333333333,
             "#9c179e"
            ],
            [
             0.4444444444444444,
             "#bd3786"
            ],
            [
             0.5555555555555556,
             "#d8576b"
            ],
            [
             0.6666666666666666,
             "#ed7953"
            ],
            [
             0.7777777777777778,
             "#fb9f3a"
            ],
            [
             0.8888888888888888,
             "#fdca26"
            ],
            [
             1,
             "#f0f921"
            ]
           ]
          },
          "colorway": [
           "#636efa",
           "#EF553B",
           "#00cc96",
           "#ab63fa",
           "#FFA15A",
           "#19d3f3",
           "#FF6692",
           "#B6E880",
           "#FF97FF",
           "#FECB52"
          ],
          "font": {
           "color": "#2a3f5f"
          },
          "geo": {
           "bgcolor": "white",
           "lakecolor": "white",
           "landcolor": "white",
           "showlakes": true,
           "showland": true,
           "subunitcolor": "#C8D4E3"
          },
          "hoverlabel": {
           "align": "left"
          },
          "hovermode": "closest",
          "mapbox": {
           "style": "light"
          },
          "paper_bgcolor": "white",
          "plot_bgcolor": "white",
          "polar": {
           "angularaxis": {
            "gridcolor": "#EBF0F8",
            "linecolor": "#EBF0F8",
            "ticks": ""
           },
           "bgcolor": "white",
           "radialaxis": {
            "gridcolor": "#EBF0F8",
            "linecolor": "#EBF0F8",
            "ticks": ""
           }
          },
          "scene": {
           "xaxis": {
            "backgroundcolor": "white",
            "gridcolor": "#DFE8F3",
            "gridwidth": 2,
            "linecolor": "#EBF0F8",
            "showbackground": true,
            "ticks": "",
            "zerolinecolor": "#EBF0F8"
           },
           "yaxis": {
            "backgroundcolor": "white",
            "gridcolor": "#DFE8F3",
            "gridwidth": 2,
            "linecolor": "#EBF0F8",
            "showbackground": true,
            "ticks": "",
            "zerolinecolor": "#EBF0F8"
           },
           "zaxis": {
            "backgroundcolor": "white",
            "gridcolor": "#DFE8F3",
            "gridwidth": 2,
            "linecolor": "#EBF0F8",
            "showbackground": true,
            "ticks": "",
            "zerolinecolor": "#EBF0F8"
           }
          },
          "shapedefaults": {
           "line": {
            "color": "#2a3f5f"
           }
          },
          "ternary": {
           "aaxis": {
            "gridcolor": "#DFE8F3",
            "linecolor": "#A2B1C6",
            "ticks": ""
           },
           "baxis": {
            "gridcolor": "#DFE8F3",
            "linecolor": "#A2B1C6",
            "ticks": ""
           },
           "bgcolor": "white",
           "caxis": {
            "gridcolor": "#DFE8F3",
            "linecolor": "#A2B1C6",
            "ticks": ""
           }
          },
          "title": {
           "x": 0.05
          },
          "xaxis": {
           "automargin": true,
           "gridcolor": "#EBF0F8",
           "linecolor": "#EBF0F8",
           "ticks": "",
           "title": {
            "standoff": 15
           },
           "zerolinecolor": "#EBF0F8",
           "zerolinewidth": 2
          },
          "yaxis": {
           "automargin": true,
           "gridcolor": "#EBF0F8",
           "linecolor": "#EBF0F8",
           "ticks": "",
           "title": {
            "standoff": 15
           },
           "zerolinecolor": "#EBF0F8",
           "zerolinewidth": 2
          }
         }
        }
       }
      }
     },
     "metadata": {},
     "output_type": "display_data"
    }
   ],
   "source": [
    "# getting the accumulated positions for our tickers\n",
    "last_positions = all_ops.groupby(['ticker']).agg({'cml_units': 'last', 'cml_cost': 'last',\n",
    "                                                'gain_loss': 'sum', 'val_transact': 'sum'}).reset_index()\n",
    "curr_prices = []\n",
    "\n",
    "for tick in last_positions['ticker']:\n",
    "    # stonk = yf.get_data(tick)\n",
    "    asset = (yf.download(tick, start = today))\n",
    "\n",
    "    price = asset['Close']\n",
    "    curr_prices.append(price)\n",
    "    print(f'Done for {tick}')\n",
    "\t\t\n",
    "last_positions['price'] = curr_prices  # adding it to our dataframe\n",
    "# last_positions['current_value'] = (last_positions.price * last_positions.cml_units).round(2)  # and now we can calculate\n",
    "last_positions['current_value'] = all_ops['current_value']\n",
    "# last_positions['avg_price'] = (last_positions.cml_cost / last_positions.cml_units).round(2)  # and now we can calculate\n",
    "last_positions['avg_price'] = all_ops['avg_price']\n",
    "last_positions = last_positions.sort_values(by='current_value', ascending=False)  # sorting by current value\n",
    "\n",
    "# Plotly part\n",
    "donut_top = go.Figure()\n",
    "donut_top.layout.template = CHART_THEME\n",
    "donut_top.add_trace(go.Pie(labels=last_positions.head(15).ticker, values=last_positions.head(15).current_value))\n",
    "donut_top.update_traces(hole=.4, hoverinfo=\"label+value+percent\")\n",
    "donut_top.update_traces(textposition='outside', textinfo='label+value')\n",
    "donut_top.update_layout(showlegend=False)\n",
    "donut_top.update_layout(margin = dict(t=50, b=50, l=25, r=25))\n",
    "donut_top.show()"
   ]
  },
  {
   "cell_type": "code",
   "execution_count": 195,
   "metadata": {},
   "outputs": [
    {
     "name": "stderr",
     "output_type": "stream",
     "text": [
      "c:\\Users\\hp\\AppData\\Local\\Programs\\Python\\Python38\\lib\\site-packages\\dash\\dash.py:516: UserWarning:\n",
      "\n",
      "JupyterDash is deprecated, use Dash instead.\n",
      "See https://dash.plotly.com/dash-in-jupyter for more details.\n",
      "\n"
     ]
    },
    {
     "data": {
      "text/html": [
       "\n",
       "        <iframe\n",
       "            width=\"100%\"\n",
       "            height=\"650\"\n",
       "            src=\"http://127.0.0.1:8058/\"\n",
       "            frameborder=\"0\"\n",
       "            allowfullscreen\n",
       "            \n",
       "        ></iframe>\n",
       "        "
      ],
      "text/plain": [
       "<IPython.lib.display.IFrame at 0x219515f51c0>"
      ]
     },
     "metadata": {},
     "output_type": "display_data"
    },
    {
     "name": "stdout",
     "output_type": "stream",
     "text": [
      "Dash app running on http://127.0.0.1:8058/\n"
     ]
    }
   ],
   "source": [
    "app = JupyterDash(__name__, external_stylesheets=[dbc.themes.FLATLY])\n",
    "\n",
    "app.layout = dbc.Container(\n",
    "    [\n",
    "        dbc.Row(dbc.Col(html.H2('Base 2 Portfolio Overview', className='text-center text-primary, mb-3'))),  # header row\n",
    "        \n",
    "        dbc.Row([  # start of second row\n",
    "            dbc.Col([  # first column on second row\n",
    "            html.H5('Total Portfolio Value ($USD)', className='text-center'),\n",
    "            dcc.Graph(id='chrt-portfolio-main',\n",
    "                      figure=chart_ptfvalue,\n",
    "                      style={'height':550}),\n",
    "            html.Hr(),\n",
    "            ], width={'size': 8, 'offset': 0, 'order': 1}),  # width first column on second row\n",
    "            dbc.Col([  # second column on second row\n",
    "            html.H5('Portfolio', className='text-center'),\n",
    "            dcc.Graph(id='indicators-ptf',\n",
    "                      figure=indicators_ptf,\n",
    "                      style={'height':550}),\n",
    "            html.Hr()\n",
    "            ], width={'size': 2, 'offset': 0, 'order': 2}),  # width second column on second row\n",
    "            dbc.Col([  # third column on second row\n",
    "            html.H5('S&P500', className='text-center'),\n",
    "            dcc.Graph(id='indicators-sp',\n",
    "                      figure=indicators_sp500,\n",
    "                      style={'height':550}),\n",
    "            html.Hr()\n",
    "            ], width={'size': 2, 'offset': 0, 'order': 3}),  # width third column on second row\n",
    "        ]),  # end of second row\n",
    "        \n",
    "        dbc.Row([  # start of third row\n",
    "            dbc.Col([  # first column on third row\n",
    "                html.H5('Monthly Return (%)', className='text-center'),\n",
    "                dcc.Graph(id='chrt-portfolio-secondary',\n",
    "                      figure=fig_growth2,\n",
    "                      style={'height':380}),\n",
    "            ], width={'size': 8, 'offset': 0, 'order': 1}),  # width first column on second row\n",
    "            dbc.Col([  # second column on third row\n",
    "                html.H5('Top 15 Holdings', className='text-center'),\n",
    "                dcc.Graph(id='pie-top15',\n",
    "                      figure = donut_top,\n",
    "                      style={'height':380}),\n",
    "            ], width={'size': 4, 'offset': 0, 'order': 2}),  # width second column on second row\n",
    "        ])  # end of third row\n",
    "        \n",
    "    ], fluid=True)\n",
    "\n",
    "\n",
    "if __name__ == \"__main__\":\n",
    "    app.run_server(debug=True, port=8058)"
   ]
  }
 ],
 "metadata": {
  "kernelspec": {
   "display_name": "Python 3",
   "language": "python",
   "name": "python3"
  },
  "language_info": {
   "codemirror_mode": {
    "name": "ipython",
    "version": 3
   },
   "file_extension": ".py",
   "mimetype": "text/x-python",
   "name": "python",
   "nbconvert_exporter": "python",
   "pygments_lexer": "ipython3",
   "version": "3.8.0"
  }
 },
 "nbformat": 4,
 "nbformat_minor": 2
}
