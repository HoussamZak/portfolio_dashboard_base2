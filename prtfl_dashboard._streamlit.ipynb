{
 "cells": [
  {
   "cell_type": "code",
   "execution_count": 1,
   "metadata": {},
   "outputs": [
    {
     "name": "stderr",
     "output_type": "stream",
     "text": [
      "C:\\Users\\hp\\AppData\\Local\\Temp\\ipykernel_3436\\1196822922.py:20: UserWarning: \n",
      "The dash_core_components package is deprecated. Please replace\n",
      "`import dash_core_components as dcc` with `from dash import dcc`\n",
      "  import dash_core_components as dcc\n",
      "C:\\Users\\hp\\AppData\\Local\\Temp\\ipykernel_3436\\1196822922.py:21: UserWarning: \n",
      "The dash_html_components package is deprecated. Please replace\n",
      "`import dash_html_components as html` with `from dash import html`\n",
      "  import dash_html_components as html\n",
      "C:\\Users\\hp\\AppData\\Local\\Temp\\ipykernel_3436\\1196822922.py:24: UserWarning: \n",
      "The dash_table package is deprecated. Please replace\n",
      "`import dash_table` with `from dash import dash_table`\n",
      "\n",
      "Also, if you're using any of the table format helpers (e.g. Group), replace \n",
      "`from dash_table.Format import Group` with \n",
      "`from dash.dash_table.Format import Group`\n",
      "  import dash_table\n"
     ]
    }
   ],
   "source": [
    "#-- Modules & Packages\n",
    "\n",
    "import pandas as pd \n",
    "import numpy as np \n",
    "\n",
    "from glob import glob \n",
    "from time import strftime, sleep \n",
    "from datetime import datetime\n",
    "from pandas_datareader import data as pdr\n",
    "from pandas.tseries.offsets import BDay \n",
    "\n",
    "import yfinance as yf\n",
    "yf.pdr_override()\n",
    "\n",
    "#-- Plotting \n",
    "\n",
    "import seaborn as sns\n",
    "import dash \n",
    "from dash.dependencies import Output, Input\n",
    "import dash_core_components as dcc\n",
    "import dash_html_components as html \n",
    "import dash_bootstrap_components as dbc \n",
    "import plotly.express as px \n",
    "import dash_table \n",
    "import plotly.graph_objects as go \n",
    "from jupyter_dash import JupyterDash\n",
    "\n",
    "import streamlit as st"
   ]
  },
  {
   "cell_type": "markdown",
   "metadata": {},
   "source": [
    "Data"
   ]
  },
  {
   "cell_type": "code",
   "execution_count": 4,
   "metadata": {},
   "outputs": [
    {
     "name": "stdout",
     "output_type": "stream",
     "text": [
      "[*********************100%***********************]  4 of 4 completed\n"
     ]
    },
    {
     "data": {
      "text/plain": [
       "Date\n",
       "2023-01-01         NaN\n",
       "2023-01-02    0.013897\n",
       "2023-01-03    0.020839\n",
       "2023-01-04    0.057368\n",
       "2023-01-05    0.044796\n",
       "                ...   \n",
       "2024-04-10    2.355060\n",
       "2024-04-11    2.281041\n",
       "2024-04-12    2.002723\n",
       "2024-04-13    1.704788\n",
       "2024-04-15    1.831423\n",
       "Length: 470, dtype: float64"
      ]
     },
     "execution_count": 4,
     "metadata": {},
     "output_type": "execute_result"
    }
   ],
   "source": [
    "#-- Streamlit header title\n",
    "st.title(\"Crypto Portfolio Dashboard.\")\n",
    "\n",
    "#-- yf tickers of portfolio assets\n",
    "portfolio_tickers = ['BTC-USD', 'ETH-USD', 'ENA-USD', 'AVAX-USD']\n",
    "\n",
    "start_date = pd.to_datetime('2023-01-01')\n",
    "\n",
    "data = yf.download(portfolio_tickers, start = start_date)['Close']\n",
    "\n",
    "returns_df = data.pct_change()\n",
    "\n",
    "cumul_ret = (returns_df + 1).cumprod() - 1\n",
    "prtfl_cum_ret = cumul_ret.mean(axis = 1)\n",
    "# cumul_ret\n",
    "prtfl_cum_ret"
   ]
  }
 ],
 "metadata": {
  "kernelspec": {
   "display_name": "Python 3",
   "language": "python",
   "name": "python3"
  },
  "language_info": {
   "codemirror_mode": {
    "name": "ipython",
    "version": 3
   },
   "file_extension": ".py",
   "mimetype": "text/x-python",
   "name": "python",
   "nbconvert_exporter": "python",
   "pygments_lexer": "ipython3",
   "version": "3.8.0"
  }
 },
 "nbformat": 4,
 "nbformat_minor": 2
}
