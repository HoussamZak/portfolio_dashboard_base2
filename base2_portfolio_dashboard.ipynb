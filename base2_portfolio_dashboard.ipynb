{
 "cells": [
  {
   "cell_type": "code",
   "execution_count": null,
   "metadata": {},
   "outputs": [
    {
     "name": "stderr",
     "output_type": "stream",
     "text": [
      "C:\\Users\\hp\\AppData\\Local\\Temp\\ipykernel_5124\\3459512367.py:20: UserWarning: \n",
      "The dash_core_components package is deprecated. Please replace\n",
      "`import dash_core_components as dcc` with `from dash import dcc`\n",
      "  import dash_core_components as dcc\n",
      "C:\\Users\\hp\\AppData\\Local\\Temp\\ipykernel_5124\\3459512367.py:21: UserWarning: \n",
      "The dash_html_components package is deprecated. Please replace\n",
      "`import dash_html_components as html` with `from dash import html`\n",
      "  import dash_html_components as html\n",
      "C:\\Users\\hp\\AppData\\Local\\Temp\\ipykernel_5124\\3459512367.py:24: UserWarning: \n",
      "The dash_table package is deprecated. Please replace\n",
      "`import dash_table` with `from dash import dash_table`\n",
      "\n",
      "Also, if you're using any of the table format helpers (e.g. Group), replace \n",
      "`from dash_table.Format import Group` with \n",
      "`from dash.dash_table.Format import Group`\n",
      "  import dash_table\n"
     ]
    }
   ],
   "source": [
    "#-- Modules & Packages\n",
    "import pandas as pd \n",
    "import numpy as np \n",
    "\n",
    "from glob import glob \n",
    "from time import strftime, sleep \n",
    "from datetime import datetime\n",
    "from pandas_datareader import data as pdr\n",
    "from pandas.tseries.offsets import BDay \n",
    "\n",
    "import yfinance as yf\n",
    "yf.pdr_override()\n",
    "\n",
    "#-- Plotting \n",
    "\n",
    "import dash \n",
    "from dash.dependencies import Output, Input\n",
    "import dash_core_components as dcc\n",
    "import dash_html_components as html \n",
    "import dash_bootstrap_components as dbc \n",
    "import plotly.express as px \n",
    "import dash_table \n",
    "import plotly.graph_objects as go \n",
    "from jupyter_dash import JupyterDash"
   ]
  },
  {
   "cell_type": "code",
   "execution_count": null,
   "metadata": {},
   "outputs": [],
   "source": [
    "# pip install jupyter_dash\n",
    "# pip install dash_bootstrap_components"
   ]
  },
  {
   "cell_type": "markdown",
   "metadata": {},
   "source": [
    "This Dashboard relies on synthetic transactions data, recurrent USD amount to purchase each asset at the start of each month since 2022; \n",
    "this approach is obviously not the most realistic, as we create a data set of imaginary buy-spot regardless of market conditions without\n",
    "selLing, the aim is to provide a realistic and full-fledged dashboard to monitor the performance of the portfolio. \n",
    "\n",
    "\n",
    "I can build on top of this code by selecting from a transaction file, buy & sell dates,\n",
    "buy & sell prices, fees, cumulative units, cumulative cost, average price of purchase, average selling price, etc..."
   ]
  },
  {
   "cell_type": "markdown",
   "metadata": {},
   "source": [
    "<h5>Fake Transactions Dataset.<br>\n",
    "\n",
    "<h6>Amount per crypto invested at the start of each month:<br>\n",
    "BTC-USD 50000 $ <br>\n",
    "ETH-USD 50000 $ <br>\n",
    "AVAX-USD 10000 $ <br>\n",
    "OP-USD 10000 $ <br>\n",
    "ARB-USD 10000 $."
   ]
  },
  {
   "cell_type": "code",
   "execution_count": null,
   "metadata": {},
   "outputs": [
    {
     "name": "stdout",
     "output_type": "stream",
     "text": [
      "[*********************100%***********************]  1 of 1 completed\n",
      "[*********************100%***********************]  1 of 1 completed\n",
      "[*********************100%***********************]  1 of 1 completed\n",
      "[*********************100%***********************]  1 of 1 completed\n"
     ]
    },
    {
     "data": {
      "text/html": [
       "<div>\n",
       "<style scoped>\n",
       "    .dataframe tbody tr th:only-of-type {\n",
       "        vertical-align: middle;\n",
       "    }\n",
       "\n",
       "    .dataframe tbody tr th {\n",
       "        vertical-align: top;\n",
       "    }\n",
       "\n",
       "    .dataframe thead th {\n",
       "        text-align: right;\n",
       "    }\n",
       "</style>\n",
       "<table border=\"1\" class=\"dataframe\">\n",
       "  <thead>\n",
       "    <tr style=\"text-align: right;\">\n",
       "      <th></th>\n",
       "      <th>close</th>\n",
       "      <th>ticker</th>\n",
       "      <th>type</th>\n",
       "      <th>val_transact</th>\n",
       "      <th>quantity</th>\n",
       "      <th>prev_units</th>\n",
       "      <th>cml_units</th>\n",
       "      <th>prev_cost</th>\n",
       "      <th>cml_cost</th>\n",
       "      <th>cost_transact</th>\n",
       "      <th>cml_invested</th>\n",
       "      <th>cost_unit</th>\n",
       "      <th>cum_position_val</th>\n",
       "      <th>gain_loss</th>\n",
       "      <th>yield</th>\n",
       "      <th>avg_price</th>\n",
       "      <th>current_value</th>\n",
       "    </tr>\n",
       "    <tr>\n",
       "      <th>Date</th>\n",
       "      <th></th>\n",
       "      <th></th>\n",
       "      <th></th>\n",
       "      <th></th>\n",
       "      <th></th>\n",
       "      <th></th>\n",
       "      <th></th>\n",
       "      <th></th>\n",
       "      <th></th>\n",
       "      <th></th>\n",
       "      <th></th>\n",
       "      <th></th>\n",
       "      <th></th>\n",
       "      <th></th>\n",
       "      <th></th>\n",
       "      <th></th>\n",
       "      <th></th>\n",
       "    </tr>\n",
       "  </thead>\n",
       "  <tbody>\n",
       "    <tr>\n",
       "      <th>2023-12-01</th>\n",
       "      <td>38.544910</td>\n",
       "      <td>AVAX-USD</td>\n",
       "      <td>Buy</td>\n",
       "      <td>10000</td>\n",
       "      <td>1297.188123</td>\n",
       "      <td>2337.883906</td>\n",
       "      <td>67079.482160</td>\n",
       "      <td>50000.0</td>\n",
       "      <td>1200000</td>\n",
       "      <td>47.5</td>\n",
       "      <td>1199952.5</td>\n",
       "      <td>925.077850</td>\n",
       "      <td>2.585573e+06</td>\n",
       "      <td>1.385620e+06</td>\n",
       "      <td>0.154729</td>\n",
       "      <td>27.388319</td>\n",
       "      <td>2.585573e+06</td>\n",
       "    </tr>\n",
       "    <tr>\n",
       "      <th>2024-01-01</th>\n",
       "      <td>33.161900</td>\n",
       "      <td>AVAX-USD</td>\n",
       "      <td>Buy</td>\n",
       "      <td>10000</td>\n",
       "      <td>1507.754400</td>\n",
       "      <td>1297.188123</td>\n",
       "      <td>68587.236560</td>\n",
       "      <td>50000.0</td>\n",
       "      <td>1250000</td>\n",
       "      <td>47.5</td>\n",
       "      <td>1249952.5</td>\n",
       "      <td>829.047489</td>\n",
       "      <td>2.274483e+06</td>\n",
       "      <td>1.024531e+06</td>\n",
       "      <td>-0.180344</td>\n",
       "      <td>27.619262</td>\n",
       "      <td>2.274483e+06</td>\n",
       "    </tr>\n",
       "    <tr>\n",
       "      <th>2024-02-01</th>\n",
       "      <td>40.935387</td>\n",
       "      <td>AVAX-USD</td>\n",
       "      <td>Buy</td>\n",
       "      <td>10000</td>\n",
       "      <td>1221.437101</td>\n",
       "      <td>1507.754400</td>\n",
       "      <td>69808.673661</td>\n",
       "      <td>50000.0</td>\n",
       "      <td>1300000</td>\n",
       "      <td>47.5</td>\n",
       "      <td>1299952.5</td>\n",
       "      <td>1064.320053</td>\n",
       "      <td>2.857645e+06</td>\n",
       "      <td>1.557693e+06</td>\n",
       "      <td>0.198269</td>\n",
       "      <td>28.131421</td>\n",
       "      <td>2.857645e+06</td>\n",
       "    </tr>\n",
       "    <tr>\n",
       "      <th>2024-03-01</th>\n",
       "      <td>54.110428</td>\n",
       "      <td>AVAX-USD</td>\n",
       "      <td>Buy</td>\n",
       "      <td>10000</td>\n",
       "      <td>924.036308</td>\n",
       "      <td>1221.437101</td>\n",
       "      <td>70732.709969</td>\n",
       "      <td>50000.0</td>\n",
       "      <td>1350000</td>\n",
       "      <td>47.5</td>\n",
       "      <td>1349952.5</td>\n",
       "      <td>1460.981552</td>\n",
       "      <td>3.827377e+06</td>\n",
       "      <td>2.477425e+06</td>\n",
       "      <td>0.835194</td>\n",
       "      <td>29.093606</td>\n",
       "      <td>3.827377e+06</td>\n",
       "    </tr>\n",
       "    <tr>\n",
       "      <th>2024-04-01</th>\n",
       "      <td>35.419815</td>\n",
       "      <td>AVAX-USD</td>\n",
       "      <td>Buy</td>\n",
       "      <td>10000</td>\n",
       "      <td>1411.639217</td>\n",
       "      <td>924.036308</td>\n",
       "      <td>72144.349186</td>\n",
       "      <td>50000.0</td>\n",
       "      <td>1400000</td>\n",
       "      <td>47.5</td>\n",
       "      <td>1399952.5</td>\n",
       "      <td>991.754822</td>\n",
       "      <td>2.555340e+06</td>\n",
       "      <td>1.155387e+06</td>\n",
       "      <td>-0.174696</td>\n",
       "      <td>29.319542</td>\n",
       "      <td>2.555340e+06</td>\n",
       "    </tr>\n",
       "  </tbody>\n",
       "</table>\n",
       "</div>"
      ],
      "text/plain": [
       "                close    ticker type  val_transact     quantity   prev_units  \\\n",
       "Date                                                                           \n",
       "2023-12-01  38.544910  AVAX-USD  Buy         10000  1297.188123  2337.883906   \n",
       "2024-01-01  33.161900  AVAX-USD  Buy         10000  1507.754400  1297.188123   \n",
       "2024-02-01  40.935387  AVAX-USD  Buy         10000  1221.437101  1507.754400   \n",
       "2024-03-01  54.110428  AVAX-USD  Buy         10000   924.036308  1221.437101   \n",
       "2024-04-01  35.419815  AVAX-USD  Buy         10000  1411.639217   924.036308   \n",
       "\n",
       "               cml_units  prev_cost  cml_cost  cost_transact  cml_invested  \\\n",
       "Date                                                                         \n",
       "2023-12-01  67079.482160    50000.0   1200000           47.5     1199952.5   \n",
       "2024-01-01  68587.236560    50000.0   1250000           47.5     1249952.5   \n",
       "2024-02-01  69808.673661    50000.0   1300000           47.5     1299952.5   \n",
       "2024-03-01  70732.709969    50000.0   1350000           47.5     1349952.5   \n",
       "2024-04-01  72144.349186    50000.0   1400000           47.5     1399952.5   \n",
       "\n",
       "              cost_unit  cum_position_val     gain_loss     yield  avg_price  \\\n",
       "Date                                                                           \n",
       "2023-12-01   925.077850      2.585573e+06  1.385620e+06  0.154729  27.388319   \n",
       "2024-01-01   829.047489      2.274483e+06  1.024531e+06 -0.180344  27.619262   \n",
       "2024-02-01  1064.320053      2.857645e+06  1.557693e+06  0.198269  28.131421   \n",
       "2024-03-01  1460.981552      3.827377e+06  2.477425e+06  0.835194  29.093606   \n",
       "2024-04-01   991.754822      2.555340e+06  1.155387e+06 -0.174696  29.319542   \n",
       "\n",
       "            current_value  \n",
       "Date                       \n",
       "2023-12-01   2.585573e+06  \n",
       "2024-01-01   2.274483e+06  \n",
       "2024-02-01   2.857645e+06  \n",
       "2024-03-01   3.827377e+06  \n",
       "2024-04-01   2.555340e+06  "
      ]
     },
     "execution_count": 3,
     "metadata": {},
     "output_type": "execute_result"
    }
   ],
   "source": [
    "portfolio_tickers = ['BTC-USD', 'ETH-USD', 'OP-USD','ARB-USD','AVAX-USD']\n",
    "\n",
    "one_year = datetime.today().year - 1\n",
    "today = datetime.today()\n",
    "start_x = datetime(2022, 1, 1)\n",
    "end_x = today\n",
    "\n",
    "start_assets = datetime(2022,1,1)\n",
    "end_assets = today\n",
    "\n",
    "start_ytd = datetime(one_year, 12, 31) + BDay(1)\n",
    "\n",
    "# def get_txs_data(tickers, startDate, interval):\n",
    "def data_x(ticker):\n",
    "    #-- monthly interval '1mo'\n",
    "    data = (yf.download(ticker, start = start_x, interval= '1mo'))\n",
    "    data.columns = [x.lower() for x in data.columns]\n",
    "    data.drop(columns = ['open','high','low','volume','adj close'], axis = 1, inplace = True)\n",
    "    data['ticker'] =  ticker\n",
    "    data['type'] = 'Buy'\n",
    "    data['val_transact'] = 50000\n",
    "    data['quantity'] = data['val_transact']/ data['close'] \n",
    "    data['prev_units'] = data['quantity'].shift(1)\n",
    "    data['cml_units'] = data['quantity'].cumsum()\n",
    "    data['prev_cost'] = data['val_transact'].shift(1)\n",
    "    data['cml_cost'] = data['val_transact'].cumsum()\n",
    "    #-- applying spot taker-fees in Binance Spot Markets\n",
    "    data['cost_transact'] = data['val_transact'] * 0.0009500\n",
    "    data['cml_invested'] = data['val_transact'].cumsum() - data['cost_transact']\n",
    "    data['cost_unit'] = data['cml_cost'] / data['quantity']\n",
    "    data['cum_position_val'] = data['cml_units'] * data['close']\n",
    "    data['gain_loss'] = data['cum_position_val'] - data['cml_invested'] \n",
    "    data['yield'] = (data['gain_loss'] / data['cml_invested']) - 1\n",
    "    #-- running, cumulative mean to accurately assess the avg price through each purchase date/row\n",
    "    data['avg_price'] = data['close'].expanding().mean()\n",
    "    data['current_value'] = data['close'] * data['cml_units']\n",
    "\n",
    "    #-- Assigning recurrent exact amount for each crypto asset\n",
    "    if ticker == 'BTC-USD':\n",
    "      data['val_transact'] = 50000\n",
    "    elif ticker == 'ETH-USD':\n",
    "      data['val_transact'] = 50000\n",
    "    elif ticker == 'AVAX-USD':\n",
    "      data['val_transact'] = 10000\n",
    "    elif ticker == 'LTC-USD':\n",
    "      data['val_transact'] = 10000\n",
    "    return data\n",
    "\n",
    "#-- Fetching data for BTC-USD\n",
    "btcusd = data_x('BTC-USD')\n",
    "#-- Fetching data for ETH-USD\n",
    "ethusd = data_x('ETH-USD')\n",
    "#-- Fetching data for LTC-USD\n",
    "ltcusd = data_x('LTC-USD')\n",
    "#-- Fetching data for AVAX-USD\n",
    "avaxusd = data_x('AVAX-USD')\n",
    "\n",
    "first_concat =  pd.concat([btcusd, ethusd])\n",
    "second_concat = pd.concat([ltcusd, avaxusd])\n",
    "\n",
    "# all_df = [first_concat,second_concat]\n",
    "# transactions_df = pd.concat(all_df)\n",
    "transactions_df = pd.concat([first_concat, second_concat])\n",
    "#-- Saving transactions dataframe\n",
    "transactions_df.to_excel(r\"D:\\_datasets\\Projects_Coding\\portfolio_dashboard_base2\\inputs\\dummy_transactions.xlsx\")\n",
    "#-- Previewing transactions dataframe\n",
    "transactions_df.tail(5) "
   ]
  },
  {
   "cell_type": "markdown",
   "metadata": {},
   "source": [
    "Data Collecting and Saving."
   ]
  },
  {
   "cell_type": "code",
   "execution_count": null,
   "metadata": {},
   "outputs": [
    {
     "name": "stdout",
     "output_type": "stream",
     "text": [
      "Traded 4 different cryptos\n"
     ]
    },
    {
     "name": "stderr",
     "output_type": "stream",
     "text": [
      "C:\\Users\\hp\\AppData\\Local\\Temp\\ipykernel_5124\\358629261.py:14: UserWarning: Pandas doesn't allow columns to be created via a new attribute name - see https://pandas.pydata.org/pandas-docs/stable/indexing.html#attribute-access\n",
      "  all_ops.date = pd.to_datetime(all_ops.Date, format = \"%d/%m/%Y\")\n"
     ]
    }
   ],
   "source": [
    "#-- Cleaning columns string names\n",
    "def clean_headers(df):\n",
    "    df.columns = df.columns.str.strip().str.lower().str.replace('.', '').str.replace('(','').str.replace(')','').str.replace(' ','_').str.replace('_/_','/')\n",
    "\n",
    "#-- Getting timestamps for file names before saving \n",
    "def get_tmstmp():\n",
    "    now = datetime.now().strftime('%Y-%m-%d_%Hh%Mm')\n",
    "    return now\n",
    "\n",
    "last_file = (r'D:\\_datasets\\Projects_Coding\\portfolio_dashboard_base2\\inputs/dummy_transactions.xlsx')\n",
    "# print(last_file[-(len(last_file)) + (last_file.rfind('/')+1):])\n",
    "\n",
    "all_ops = pd.read_excel(last_file)\n",
    "all_ops.date = pd.to_datetime(all_ops.Date, format = \"%d/%m/%Y\")\n",
    "\n",
    "all_tickers = list(all_ops['ticker'].unique())\n",
    "blackList = ['PEPE-USD', 'DOGE-USD', 'ADA-USD']\n",
    "final_tickers = [tick for tick in all_tickers if tick not in blackList]\n",
    "print(\"Traded {} different cryptos\".format(len(all_tickers)))\n",
    "#-- All transactions without blacklisted assets\n",
    "final_filtered = all_ops[~all_ops.ticker.isin(blackList)]"
   ]
  },
  {
   "cell_type": "code",
   "execution_count": null,
   "metadata": {},
   "outputs": [
    {
     "name": "stdout",
     "output_type": "stream",
     "text": [
      "[*********************100%***********************]  1 of 1 completed\n",
      "[*********************100%***********************]  1 of 1 completed\n",
      "[*********************100%***********************]  1 of 1 completed\n",
      "[*********************100%***********************]  1 of 1 completed\n"
     ]
    },
    {
     "data": {
      "text/html": [
       "<div>\n",
       "<style scoped>\n",
       "    .dataframe tbody tr th:only-of-type {\n",
       "        vertical-align: middle;\n",
       "    }\n",
       "\n",
       "    .dataframe tbody tr th {\n",
       "        vertical-align: top;\n",
       "    }\n",
       "\n",
       "    .dataframe thead th {\n",
       "        text-align: right;\n",
       "    }\n",
       "</style>\n",
       "<table border=\"1\" class=\"dataframe\">\n",
       "  <thead>\n",
       "    <tr style=\"text-align: right;\">\n",
       "      <th></th>\n",
       "      <th></th>\n",
       "      <th>open</th>\n",
       "      <th>high</th>\n",
       "      <th>low</th>\n",
       "      <th>close</th>\n",
       "      <th>volume</th>\n",
       "    </tr>\n",
       "    <tr>\n",
       "      <th>ticker</th>\n",
       "      <th>date</th>\n",
       "      <th></th>\n",
       "      <th></th>\n",
       "      <th></th>\n",
       "      <th></th>\n",
       "      <th></th>\n",
       "    </tr>\n",
       "  </thead>\n",
       "  <tbody>\n",
       "    <tr>\n",
       "      <th rowspan=\"5\" valign=\"top\">BTC-USD</th>\n",
       "      <th>2022-01-01</th>\n",
       "      <td>46311.746094</td>\n",
       "      <td>47827.312500</td>\n",
       "      <td>46288.484375</td>\n",
       "      <td>47686.812500</td>\n",
       "      <td>24582667004</td>\n",
       "    </tr>\n",
       "    <tr>\n",
       "      <th>2022-01-02</th>\n",
       "      <td>47680.925781</td>\n",
       "      <td>47881.406250</td>\n",
       "      <td>46856.937500</td>\n",
       "      <td>47345.218750</td>\n",
       "      <td>27951569547</td>\n",
       "    </tr>\n",
       "    <tr>\n",
       "      <th>2022-01-03</th>\n",
       "      <td>47343.542969</td>\n",
       "      <td>47510.726562</td>\n",
       "      <td>45835.964844</td>\n",
       "      <td>46458.117188</td>\n",
       "      <td>33071628362</td>\n",
       "    </tr>\n",
       "    <tr>\n",
       "      <th>2022-01-04</th>\n",
       "      <td>46458.851562</td>\n",
       "      <td>47406.546875</td>\n",
       "      <td>45752.464844</td>\n",
       "      <td>45897.574219</td>\n",
       "      <td>42494677905</td>\n",
       "    </tr>\n",
       "    <tr>\n",
       "      <th>2022-01-05</th>\n",
       "      <td>45899.359375</td>\n",
       "      <td>46929.046875</td>\n",
       "      <td>42798.222656</td>\n",
       "      <td>43569.003906</td>\n",
       "      <td>36851084859</td>\n",
       "    </tr>\n",
       "    <tr>\n",
       "      <th>...</th>\n",
       "      <th>...</th>\n",
       "      <td>...</td>\n",
       "      <td>...</td>\n",
       "      <td>...</td>\n",
       "      <td>...</td>\n",
       "      <td>...</td>\n",
       "    </tr>\n",
       "    <tr>\n",
       "      <th rowspan=\"5\" valign=\"top\">LTC-USD</th>\n",
       "      <th>2024-04-10</th>\n",
       "      <td>97.498123</td>\n",
       "      <td>98.134644</td>\n",
       "      <td>94.457336</td>\n",
       "      <td>96.699760</td>\n",
       "      <td>571530949</td>\n",
       "    </tr>\n",
       "    <tr>\n",
       "      <th>2024-04-11</th>\n",
       "      <td>96.700424</td>\n",
       "      <td>99.800484</td>\n",
       "      <td>95.044495</td>\n",
       "      <td>98.689102</td>\n",
       "      <td>533522657</td>\n",
       "    </tr>\n",
       "    <tr>\n",
       "      <th>2024-04-12</th>\n",
       "      <td>98.688545</td>\n",
       "      <td>99.288963</td>\n",
       "      <td>80.812927</td>\n",
       "      <td>86.269569</td>\n",
       "      <td>1052316398</td>\n",
       "    </tr>\n",
       "    <tr>\n",
       "      <th>2024-04-13</th>\n",
       "      <td>86.263977</td>\n",
       "      <td>86.492859</td>\n",
       "      <td>71.311768</td>\n",
       "      <td>77.606583</td>\n",
       "      <td>1220477380</td>\n",
       "    </tr>\n",
       "    <tr>\n",
       "      <th>2024-04-14</th>\n",
       "      <td>77.597496</td>\n",
       "      <td>80.364578</td>\n",
       "      <td>74.138649</td>\n",
       "      <td>79.914330</td>\n",
       "      <td>833631968</td>\n",
       "    </tr>\n",
       "  </tbody>\n",
       "</table>\n",
       "<p>3340 rows × 5 columns</p>\n",
       "</div>"
      ],
      "text/plain": [
       "                            open          high           low         close  \\\n",
       "ticker  date                                                                 \n",
       "BTC-USD 2022-01-01  46311.746094  47827.312500  46288.484375  47686.812500   \n",
       "        2022-01-02  47680.925781  47881.406250  46856.937500  47345.218750   \n",
       "        2022-01-03  47343.542969  47510.726562  45835.964844  46458.117188   \n",
       "        2022-01-04  46458.851562  47406.546875  45752.464844  45897.574219   \n",
       "        2022-01-05  45899.359375  46929.046875  42798.222656  43569.003906   \n",
       "...                          ...           ...           ...           ...   \n",
       "LTC-USD 2024-04-10     97.498123     98.134644     94.457336     96.699760   \n",
       "        2024-04-11     96.700424     99.800484     95.044495     98.689102   \n",
       "        2024-04-12     98.688545     99.288963     80.812927     86.269569   \n",
       "        2024-04-13     86.263977     86.492859     71.311768     77.606583   \n",
       "        2024-04-14     77.597496     80.364578     74.138649     79.914330   \n",
       "\n",
       "                         volume  \n",
       "ticker  date                     \n",
       "BTC-USD 2022-01-01  24582667004  \n",
       "        2022-01-02  27951569547  \n",
       "        2022-01-03  33071628362  \n",
       "        2022-01-04  42494677905  \n",
       "        2022-01-05  36851084859  \n",
       "...                         ...  \n",
       "LTC-USD 2024-04-10    571530949  \n",
       "        2024-04-11    533522657  \n",
       "        2024-04-12   1052316398  \n",
       "        2024-04-13   1220477380  \n",
       "        2024-04-14    833631968  \n",
       "\n",
       "[3340 rows x 5 columns]"
      ]
     },
     "execution_count": 5,
     "metadata": {},
     "output_type": "execute_result"
    }
   ],
   "source": [
    "\n",
    "portfolio_tickers = ['BTC-USD', 'ETH-USD','AVAX-USD', 'LTC-USD']\n",
    "\n",
    "one_year = datetime.today().year - 1\n",
    "today = datetime.today()\n",
    "start_x = datetime(2022, 1, 1)\n",
    "end_x = today\n",
    "\n",
    "start_assets = datetime(2022,1,1)\n",
    "end_assets = today\n",
    "\n",
    "start_ytd = datetime(one_year, 12, 31) + BDay(1)\n",
    "\n",
    "def get_data(tickers, startDate, endDate):\n",
    "    def data(ticker):\n",
    "        data = (pdr.get_data_yahoo(ticker, start = startDate, end = endDate))\n",
    "        data.columns = [x.lower() for x in data.columns]\n",
    "        data.drop(columns = ['adj close'], axis = 1, inplace = True)\n",
    "        return data\n",
    "    datum = map(data, tickers)\n",
    "    return(pd.concat(datum, keys = tickers, names = ['ticker', 'date']))\n",
    "\n",
    "all_prices_df = get_data(portfolio_tickers, start_x, end_x)\n",
    "all_prices_df\n",
    "\n",
    "# #-- Saving all asset prices separately\n",
    "# for ticker in final_filtered:\n",
    "#     all_prices_df.loc[ticker].to_csv(\"D:\\_datasets\\Projects_Coding\\portfolio_dashboard_base2\\outputs\\{}_price_hist.csv\".format(ticker))\n",
    "\n",
    "# all_prices_df['ticker']"
   ]
  },
  {
   "cell_type": "code",
   "execution_count": null,
   "metadata": {},
   "outputs": [],
   "source": []
  },
  {
   "cell_type": "code",
   "execution_count": null,
   "metadata": {},
   "outputs": [],
   "source": [
    "mega_dict = {}  # you have to create it first\n",
    "min_date = '2022-01-01'  # optional\n",
    "# TX_COLUMNS = ['date','ticker', 'cashflow', 'cml_units', 'cml_cost', 'gain_loss']\n",
    "TX_COLUMNS = ['Date','ticker', 'cml_units','val_transact', 'cml_cost', 'gain_loss']\n",
    "\n",
    "tx_filt = all_ops[TX_COLUMNS]  # keeping just the most relevant ones for now\n",
    "\n",
    "for ticker in portfolio_tickers:\n",
    "    prices_df = all_prices_df[all_prices_df.index.get_level_values('ticker').isin([ticker])].reset_index()\n",
    "    ## Can add more columns like volume!\n",
    "    PX_COLS = ['date', 'close']\n",
    "    prices_df = prices_df[PX_COLS].set_index(['date'])\n",
    "    # Making sure we get sameday transactions\n",
    "    tx_df = tx_filt[tx_filt.ticker==ticker].groupby('Date').agg({'val_transact': 'sum',\n",
    "                                                                 'cml_units': 'last',\n",
    "                                                                 'cml_cost': 'last',\n",
    "                                                                 'gain_loss': 'sum'})\n",
    "    # Merging price history and transactions dataframe\n",
    "    tx_and_prices = pd.merge(prices_df, tx_df, how='outer', left_index=True, right_index=True).fillna(0)\n",
    "    # This is to fill the days that were not in our transaction dataframe\n",
    "    tx_and_prices['cml_units'] = tx_and_prices['cml_units'].replace(to_replace=0, method='ffill')\n",
    "    tx_and_prices['cml_cost'] = tx_and_prices['cml_cost'].replace(to_replace=0, method='ffill')\n",
    "    tx_and_prices['gain_loss'] = tx_and_prices['gain_loss'].replace(to_replace=0, method='ffill')\n",
    "    # Cumulative sum for the val_transact\n",
    "    tx_and_prices['val_transact'] = tx_and_prices['val_transact'].cumsum()\n",
    "    tx_and_prices['avg_price'] = (tx_and_prices['cml_cost']/tx_and_prices['cml_units'])\n",
    "    tx_and_prices['mktvalue'] = (tx_and_prices['cml_units']*tx_and_prices['close'])\n",
    "    tx_and_prices = tx_and_prices.add_prefix(ticker+'_')\n",
    "    # Once we're happy with the dataframe, add it to the dictionary\n",
    "    mega_dict[ticker] = tx_and_prices.round(3)\n",
    "\t\t\n",
    "# check an individual stock\n",
    "# MEGA_DICT['RUN'].tail()\n",
    "\n",
    "# saving it, so we can access it quicker later\n",
    "mega_dataset = pd.concat(mega_dict.values(), axis=1)\n",
    "# MEGA_DF.to_csv('../outputs/mega_df/MEGA_DF_{}.csv'.format(get_data(final_tickers, start_x, end_x)))  # optional\n",
    "\n",
    "# like this:\n",
    "# last_file = glob('../outputs/mega/MEGA*.csv')[-1] # path to file in the folder\n",
    "# print(last_file[-(len(last_file))+(last_file.rfind('/')+1):])\n",
    "# mega_dataset = pd.read_csv(last_file)\n",
    "# mega_dataset['date'] = pd.to_datetime(mega_dataset['date'])\n",
    "# mega_dataset.set_index('Date', inplace=True)"
   ]
  },
  {
   "cell_type": "code",
   "execution_count": null,
   "metadata": {},
   "outputs": [
    {
     "data": {
      "text/html": [
       "<div>\n",
       "<style scoped>\n",
       "    .dataframe tbody tr th:only-of-type {\n",
       "        vertical-align: middle;\n",
       "    }\n",
       "\n",
       "    .dataframe tbody tr th {\n",
       "        vertical-align: top;\n",
       "    }\n",
       "\n",
       "    .dataframe thead th {\n",
       "        text-align: right;\n",
       "    }\n",
       "</style>\n",
       "<table border=\"1\" class=\"dataframe\">\n",
       "  <thead>\n",
       "    <tr style=\"text-align: right;\">\n",
       "      <th></th>\n",
       "      <th>BTC-USD_close</th>\n",
       "      <th>BTC-USD_val_transact</th>\n",
       "      <th>BTC-USD_cml_units</th>\n",
       "      <th>BTC-USD_cml_cost</th>\n",
       "      <th>BTC-USD_gain_loss</th>\n",
       "      <th>BTC-USD_avg_price</th>\n",
       "      <th>BTC-USD_mktvalue</th>\n",
       "      <th>ETH-USD_close</th>\n",
       "      <th>ETH-USD_val_transact</th>\n",
       "      <th>ETH-USD_cml_units</th>\n",
       "      <th>...</th>\n",
       "      <th>AVAX-USD_gain_loss</th>\n",
       "      <th>AVAX-USD_avg_price</th>\n",
       "      <th>AVAX-USD_mktvalue</th>\n",
       "      <th>LTC-USD_close</th>\n",
       "      <th>LTC-USD_val_transact</th>\n",
       "      <th>LTC-USD_cml_units</th>\n",
       "      <th>LTC-USD_cml_cost</th>\n",
       "      <th>LTC-USD_gain_loss</th>\n",
       "      <th>LTC-USD_avg_price</th>\n",
       "      <th>LTC-USD_mktvalue</th>\n",
       "    </tr>\n",
       "  </thead>\n",
       "  <tbody>\n",
       "    <tr>\n",
       "      <th>2022-01-01</th>\n",
       "      <td>47686.812</td>\n",
       "      <td>50000.0</td>\n",
       "      <td>1.299</td>\n",
       "      <td>50000.0</td>\n",
       "      <td>47.500</td>\n",
       "      <td>38483.125</td>\n",
       "      <td>61958.082</td>\n",
       "      <td>3769.697</td>\n",
       "      <td>50000.0</td>\n",
       "      <td>18.599</td>\n",
       "      <td>...</td>\n",
       "      <td>47.500</td>\n",
       "      <td>69.992</td>\n",
       "      <td>81550.263</td>\n",
       "      <td>150.697</td>\n",
       "      <td>10000.0</td>\n",
       "      <td>456.256</td>\n",
       "      <td>50000.0</td>\n",
       "      <td>47.500</td>\n",
       "      <td>109.588</td>\n",
       "      <td>68756.545</td>\n",
       "    </tr>\n",
       "    <tr>\n",
       "      <th>2022-01-02</th>\n",
       "      <td>47345.219</td>\n",
       "      <td>50000.0</td>\n",
       "      <td>1.299</td>\n",
       "      <td>50000.0</td>\n",
       "      <td>47.500</td>\n",
       "      <td>38483.125</td>\n",
       "      <td>61514.259</td>\n",
       "      <td>3829.565</td>\n",
       "      <td>50000.0</td>\n",
       "      <td>18.599</td>\n",
       "      <td>...</td>\n",
       "      <td>47.500</td>\n",
       "      <td>69.992</td>\n",
       "      <td>80856.131</td>\n",
       "      <td>151.255</td>\n",
       "      <td>10000.0</td>\n",
       "      <td>456.256</td>\n",
       "      <td>50000.0</td>\n",
       "      <td>47.500</td>\n",
       "      <td>109.588</td>\n",
       "      <td>69011.163</td>\n",
       "    </tr>\n",
       "    <tr>\n",
       "      <th>2022-01-03</th>\n",
       "      <td>46458.117</td>\n",
       "      <td>50000.0</td>\n",
       "      <td>1.299</td>\n",
       "      <td>50000.0</td>\n",
       "      <td>47.500</td>\n",
       "      <td>38483.125</td>\n",
       "      <td>60361.674</td>\n",
       "      <td>3761.380</td>\n",
       "      <td>50000.0</td>\n",
       "      <td>18.599</td>\n",
       "      <td>...</td>\n",
       "      <td>47.500</td>\n",
       "      <td>69.992</td>\n",
       "      <td>77254.940</td>\n",
       "      <td>148.462</td>\n",
       "      <td>10000.0</td>\n",
       "      <td>456.256</td>\n",
       "      <td>50000.0</td>\n",
       "      <td>47.500</td>\n",
       "      <td>109.588</td>\n",
       "      <td>67736.431</td>\n",
       "    </tr>\n",
       "    <tr>\n",
       "      <th>2022-01-04</th>\n",
       "      <td>45897.574</td>\n",
       "      <td>50000.0</td>\n",
       "      <td>1.299</td>\n",
       "      <td>50000.0</td>\n",
       "      <td>47.500</td>\n",
       "      <td>38483.125</td>\n",
       "      <td>59633.377</td>\n",
       "      <td>3794.057</td>\n",
       "      <td>50000.0</td>\n",
       "      <td>18.599</td>\n",
       "      <td>...</td>\n",
       "      <td>47.500</td>\n",
       "      <td>69.992</td>\n",
       "      <td>73750.298</td>\n",
       "      <td>146.812</td>\n",
       "      <td>10000.0</td>\n",
       "      <td>456.256</td>\n",
       "      <td>50000.0</td>\n",
       "      <td>47.500</td>\n",
       "      <td>109.588</td>\n",
       "      <td>66983.925</td>\n",
       "    </tr>\n",
       "    <tr>\n",
       "      <th>2022-01-05</th>\n",
       "      <td>43569.004</td>\n",
       "      <td>50000.0</td>\n",
       "      <td>1.299</td>\n",
       "      <td>50000.0</td>\n",
       "      <td>47.500</td>\n",
       "      <td>38483.125</td>\n",
       "      <td>56607.934</td>\n",
       "      <td>3550.387</td>\n",
       "      <td>50000.0</td>\n",
       "      <td>18.599</td>\n",
       "      <td>...</td>\n",
       "      <td>47.500</td>\n",
       "      <td>69.992</td>\n",
       "      <td>69902.263</td>\n",
       "      <td>136.089</td>\n",
       "      <td>10000.0</td>\n",
       "      <td>456.256</td>\n",
       "      <td>50000.0</td>\n",
       "      <td>47.500</td>\n",
       "      <td>109.588</td>\n",
       "      <td>62091.417</td>\n",
       "    </tr>\n",
       "    <tr>\n",
       "      <th>...</th>\n",
       "      <td>...</td>\n",
       "      <td>...</td>\n",
       "      <td>...</td>\n",
       "      <td>...</td>\n",
       "      <td>...</td>\n",
       "      <td>...</td>\n",
       "      <td>...</td>\n",
       "      <td>...</td>\n",
       "      <td>...</td>\n",
       "      <td>...</td>\n",
       "      <td>...</td>\n",
       "      <td>...</td>\n",
       "      <td>...</td>\n",
       "      <td>...</td>\n",
       "      <td>...</td>\n",
       "      <td>...</td>\n",
       "      <td>...</td>\n",
       "      <td>...</td>\n",
       "      <td>...</td>\n",
       "      <td>...</td>\n",
       "      <td>...</td>\n",
       "    </tr>\n",
       "    <tr>\n",
       "      <th>2024-04-10</th>\n",
       "      <td>70587.883</td>\n",
       "      <td>1400000.0</td>\n",
       "      <td>48.749</td>\n",
       "      <td>1400000.0</td>\n",
       "      <td>1696528.656</td>\n",
       "      <td>28718.606</td>\n",
       "      <td>3441080.546</td>\n",
       "      <td>3543.737</td>\n",
       "      <td>1400000.0</td>\n",
       "      <td>750.577</td>\n",
       "      <td>...</td>\n",
       "      <td>1155387.006</td>\n",
       "      <td>19.406</td>\n",
       "      <td>3413271.452</td>\n",
       "      <td>96.700</td>\n",
       "      <td>280000.0</td>\n",
       "      <td>18337.901</td>\n",
       "      <td>1400000.0</td>\n",
       "      <td>33585.839</td>\n",
       "      <td>76.345</td>\n",
       "      <td>1773270.652</td>\n",
       "    </tr>\n",
       "    <tr>\n",
       "      <th>2024-04-11</th>\n",
       "      <td>70060.609</td>\n",
       "      <td>1400000.0</td>\n",
       "      <td>48.749</td>\n",
       "      <td>1400000.0</td>\n",
       "      <td>1696528.656</td>\n",
       "      <td>28718.606</td>\n",
       "      <td>3415376.554</td>\n",
       "      <td>3505.248</td>\n",
       "      <td>1400000.0</td>\n",
       "      <td>750.577</td>\n",
       "      <td>...</td>\n",
       "      <td>1155387.006</td>\n",
       "      <td>19.406</td>\n",
       "      <td>3322795.441</td>\n",
       "      <td>98.689</td>\n",
       "      <td>280000.0</td>\n",
       "      <td>18337.901</td>\n",
       "      <td>1400000.0</td>\n",
       "      <td>33585.839</td>\n",
       "      <td>76.345</td>\n",
       "      <td>1809751.004</td>\n",
       "    </tr>\n",
       "    <tr>\n",
       "      <th>2024-04-12</th>\n",
       "      <td>67195.867</td>\n",
       "      <td>1400000.0</td>\n",
       "      <td>48.749</td>\n",
       "      <td>1400000.0</td>\n",
       "      <td>1696528.656</td>\n",
       "      <td>28718.606</td>\n",
       "      <td>3275723.568</td>\n",
       "      <td>3243.035</td>\n",
       "      <td>1400000.0</td>\n",
       "      <td>750.577</td>\n",
       "      <td>...</td>\n",
       "      <td>1155387.006</td>\n",
       "      <td>19.406</td>\n",
       "      <td>2843767.464</td>\n",
       "      <td>86.270</td>\n",
       "      <td>280000.0</td>\n",
       "      <td>18337.901</td>\n",
       "      <td>1400000.0</td>\n",
       "      <td>33585.839</td>\n",
       "      <td>76.345</td>\n",
       "      <td>1582002.839</td>\n",
       "    </tr>\n",
       "    <tr>\n",
       "      <th>2024-04-13</th>\n",
       "      <td>63821.473</td>\n",
       "      <td>1400000.0</td>\n",
       "      <td>48.749</td>\n",
       "      <td>1400000.0</td>\n",
       "      <td>1696528.656</td>\n",
       "      <td>28718.606</td>\n",
       "      <td>3111225.599</td>\n",
       "      <td>3004.900</td>\n",
       "      <td>1400000.0</td>\n",
       "      <td>750.577</td>\n",
       "      <td>...</td>\n",
       "      <td>1155387.006</td>\n",
       "      <td>19.406</td>\n",
       "      <td>2458564.790</td>\n",
       "      <td>77.607</td>\n",
       "      <td>280000.0</td>\n",
       "      <td>18337.901</td>\n",
       "      <td>1400000.0</td>\n",
       "      <td>33585.839</td>\n",
       "      <td>76.345</td>\n",
       "      <td>1423141.844</td>\n",
       "    </tr>\n",
       "    <tr>\n",
       "      <th>2024-04-14</th>\n",
       "      <td>65738.727</td>\n",
       "      <td>1400000.0</td>\n",
       "      <td>48.749</td>\n",
       "      <td>1400000.0</td>\n",
       "      <td>1696528.656</td>\n",
       "      <td>28718.606</td>\n",
       "      <td>3204689.588</td>\n",
       "      <td>3156.942</td>\n",
       "      <td>1400000.0</td>\n",
       "      <td>750.577</td>\n",
       "      <td>...</td>\n",
       "      <td>1155387.006</td>\n",
       "      <td>19.406</td>\n",
       "      <td>2692170.595</td>\n",
       "      <td>79.914</td>\n",
       "      <td>280000.0</td>\n",
       "      <td>18337.901</td>\n",
       "      <td>1400000.0</td>\n",
       "      <td>33585.839</td>\n",
       "      <td>76.345</td>\n",
       "      <td>1465461.078</td>\n",
       "    </tr>\n",
       "  </tbody>\n",
       "</table>\n",
       "<p>835 rows × 28 columns</p>\n",
       "</div>"
      ],
      "text/plain": [
       "            BTC-USD_close  BTC-USD_val_transact  BTC-USD_cml_units  \\\n",
       "2022-01-01      47686.812               50000.0              1.299   \n",
       "2022-01-02      47345.219               50000.0              1.299   \n",
       "2022-01-03      46458.117               50000.0              1.299   \n",
       "2022-01-04      45897.574               50000.0              1.299   \n",
       "2022-01-05      43569.004               50000.0              1.299   \n",
       "...                   ...                   ...                ...   \n",
       "2024-04-10      70587.883             1400000.0             48.749   \n",
       "2024-04-11      70060.609             1400000.0             48.749   \n",
       "2024-04-12      67195.867             1400000.0             48.749   \n",
       "2024-04-13      63821.473             1400000.0             48.749   \n",
       "2024-04-14      65738.727             1400000.0             48.749   \n",
       "\n",
       "            BTC-USD_cml_cost  BTC-USD_gain_loss  BTC-USD_avg_price  \\\n",
       "2022-01-01           50000.0             47.500          38483.125   \n",
       "2022-01-02           50000.0             47.500          38483.125   \n",
       "2022-01-03           50000.0             47.500          38483.125   \n",
       "2022-01-04           50000.0             47.500          38483.125   \n",
       "2022-01-05           50000.0             47.500          38483.125   \n",
       "...                      ...                ...                ...   \n",
       "2024-04-10         1400000.0        1696528.656          28718.606   \n",
       "2024-04-11         1400000.0        1696528.656          28718.606   \n",
       "2024-04-12         1400000.0        1696528.656          28718.606   \n",
       "2024-04-13         1400000.0        1696528.656          28718.606   \n",
       "2024-04-14         1400000.0        1696528.656          28718.606   \n",
       "\n",
       "            BTC-USD_mktvalue  ETH-USD_close  ETH-USD_val_transact  \\\n",
       "2022-01-01         61958.082       3769.697               50000.0   \n",
       "2022-01-02         61514.259       3829.565               50000.0   \n",
       "2022-01-03         60361.674       3761.380               50000.0   \n",
       "2022-01-04         59633.377       3794.057               50000.0   \n",
       "2022-01-05         56607.934       3550.387               50000.0   \n",
       "...                      ...            ...                   ...   \n",
       "2024-04-10       3441080.546       3543.737             1400000.0   \n",
       "2024-04-11       3415376.554       3505.248             1400000.0   \n",
       "2024-04-12       3275723.568       3243.035             1400000.0   \n",
       "2024-04-13       3111225.599       3004.900             1400000.0   \n",
       "2024-04-14       3204689.588       3156.942             1400000.0   \n",
       "\n",
       "            ETH-USD_cml_units  ...  AVAX-USD_gain_loss  AVAX-USD_avg_price  \\\n",
       "2022-01-01             18.599  ...              47.500              69.992   \n",
       "2022-01-02             18.599  ...              47.500              69.992   \n",
       "2022-01-03             18.599  ...              47.500              69.992   \n",
       "2022-01-04             18.599  ...              47.500              69.992   \n",
       "2022-01-05             18.599  ...              47.500              69.992   \n",
       "...                       ...  ...                 ...                 ...   \n",
       "2024-04-10            750.577  ...         1155387.006              19.406   \n",
       "2024-04-11            750.577  ...         1155387.006              19.406   \n",
       "2024-04-12            750.577  ...         1155387.006              19.406   \n",
       "2024-04-13            750.577  ...         1155387.006              19.406   \n",
       "2024-04-14            750.577  ...         1155387.006              19.406   \n",
       "\n",
       "            AVAX-USD_mktvalue  LTC-USD_close  LTC-USD_val_transact  \\\n",
       "2022-01-01          81550.263        150.697               10000.0   \n",
       "2022-01-02          80856.131        151.255               10000.0   \n",
       "2022-01-03          77254.940        148.462               10000.0   \n",
       "2022-01-04          73750.298        146.812               10000.0   \n",
       "2022-01-05          69902.263        136.089               10000.0   \n",
       "...                       ...            ...                   ...   \n",
       "2024-04-10        3413271.452         96.700              280000.0   \n",
       "2024-04-11        3322795.441         98.689              280000.0   \n",
       "2024-04-12        2843767.464         86.270              280000.0   \n",
       "2024-04-13        2458564.790         77.607              280000.0   \n",
       "2024-04-14        2692170.595         79.914              280000.0   \n",
       "\n",
       "            LTC-USD_cml_units  LTC-USD_cml_cost  LTC-USD_gain_loss  \\\n",
       "2022-01-01            456.256           50000.0             47.500   \n",
       "2022-01-02            456.256           50000.0             47.500   \n",
       "2022-01-03            456.256           50000.0             47.500   \n",
       "2022-01-04            456.256           50000.0             47.500   \n",
       "2022-01-05            456.256           50000.0             47.500   \n",
       "...                       ...               ...                ...   \n",
       "2024-04-10          18337.901         1400000.0          33585.839   \n",
       "2024-04-11          18337.901         1400000.0          33585.839   \n",
       "2024-04-12          18337.901         1400000.0          33585.839   \n",
       "2024-04-13          18337.901         1400000.0          33585.839   \n",
       "2024-04-14          18337.901         1400000.0          33585.839   \n",
       "\n",
       "            LTC-USD_avg_price  LTC-USD_mktvalue  \n",
       "2022-01-01            109.588         68756.545  \n",
       "2022-01-02            109.588         69011.163  \n",
       "2022-01-03            109.588         67736.431  \n",
       "2022-01-04            109.588         66983.925  \n",
       "2022-01-05            109.588         62091.417  \n",
       "...                       ...               ...  \n",
       "2024-04-10             76.345       1773270.652  \n",
       "2024-04-11             76.345       1809751.004  \n",
       "2024-04-12             76.345       1582002.839  \n",
       "2024-04-13             76.345       1423141.844  \n",
       "2024-04-14             76.345       1465461.078  \n",
       "\n",
       "[835 rows x 28 columns]"
      ]
     },
     "execution_count": 7,
     "metadata": {},
     "output_type": "execute_result"
    }
   ],
   "source": [
    "mega_dataset.columns\n",
    "mega_dataset"
   ]
  },
  {
   "cell_type": "markdown",
   "metadata": {},
   "source": [
    "Columns KPI and other relevant values"
   ]
  },
  {
   "cell_type": "code",
   "execution_count": null,
   "metadata": {},
   "outputs": [
    {
     "name": "stdout",
     "output_type": "stream",
     "text": [
      "[*********************100%***********************]  1 of 1 completed\n"
     ]
    }
   ],
   "source": [
    "portf_allvalues = mega_dataset.filter(regex='mktvalue').fillna(0) #  getting just the market value of each ticker\n",
    "portf_allvalues['portf_value'] = portf_allvalues.sum(axis=1) # summing all market values\n",
    "\n",
    "# For the S&P500 price return\n",
    "sp500 = pdr.get_data_yahoo('^GSPC', start_x, end_x)\n",
    "# clean_header(sp500)\n",
    "\n",
    "#getting the pct change\n",
    "portf_allvalues = portf_allvalues.join(sp500['Close'], how='inner')\n",
    "portf_allvalues.rename(columns={'Close': 'sp500_mktvalue'}, inplace=True)\n",
    "portf_allvalues['ptf_value_pctch'] = (portf_allvalues['portf_value'].pct_change()*100).round(2)\n",
    "portf_allvalues['sp500_pctch'] = (portf_allvalues['sp500_mktvalue'].pct_change()*100).round(2)\n",
    "portf_allvalues['ptf_value_diff'] = (portf_allvalues['portf_value'].diff()).round(2)\n",
    "portf_allvalues['sp500_diff'] = (portf_allvalues['sp500_mktvalue'].diff()).round(2)\n",
    "# KPI's for portfolio\n",
    "kpi_portfolio7d_abs = portf_allvalues.tail(7).ptf_value_diff.sum().round(2)\n",
    "kpi_portfolio15d_abs = portf_allvalues.tail(15).ptf_value_diff.sum().round(2)\n",
    "kpi_portfolio30d_abs = portf_allvalues.tail(30).ptf_value_diff.sum().round(2)\n",
    "kpi_portfolio200d_abs = portf_allvalues.tail(200).ptf_value_diff.sum().round(2)\n",
    "kpi_portfolio7d_pct = (kpi_portfolio7d_abs/portf_allvalues.tail(7).portf_value[0]).round(3)*100\n",
    "kpi_portfolio15d_pct = (kpi_portfolio15d_abs/portf_allvalues.tail(15).portf_value[0]).round(3)*100\n",
    "kpi_portfolio30d_pct = (kpi_portfolio30d_abs/portf_allvalues.tail(30).portf_value[0]).round(3)*100\n",
    "kpi_portfolio200d_pct = (kpi_portfolio200d_abs/portf_allvalues.tail(200).portf_value[0]).round(3)*100\n",
    "# KPI's for S&P500\n",
    "kpi_sp500_7d_abs = portf_allvalues.tail(7).sp500_diff.sum().round(2)\n",
    "kpi_sp500_15d_abs = portf_allvalues.tail(15).sp500_diff.sum().round(2)\n",
    "kpi_sp500_30d_abs = portf_allvalues.tail(30).sp500_diff.sum().round(2)\n",
    "kpi_sp500_200d_abs = portf_allvalues.tail(200).sp500_diff.sum().round(2)\n",
    "kpi_sp500_7d_pct = (kpi_sp500_7d_abs/portf_allvalues.tail(7).sp500_mktvalue[0]).round(3)*100\n",
    "kpi_sp500_15d_pct = (kpi_sp500_15d_abs/portf_allvalues.tail(15).sp500_mktvalue[0]).round(3)*100\n",
    "kpi_sp500_30d_pct = (kpi_sp500_30d_abs/portf_allvalues.tail(30).sp500_mktvalue[0]).round(3)*100\n",
    "kpi_sp500_200d_pct = (kpi_sp500_200d_abs/portf_allvalues.tail(200).sp500_mktvalue[0]).round(3)*100\n"
   ]
  },
  {
   "cell_type": "markdown",
   "metadata": {},
   "source": [
    "Plotly Charts."
   ]
  },
  {
   "cell_type": "code",
   "execution_count": null,
   "metadata": {},
   "outputs": [
    {
     "data": {
      "application/vnd.plotly.v1+json": {
       "config": {
        "plotlyServerURL": "https://plot.ly"
       },
       "data": [
        {
         "mode": "lines",
         "name": "Global Value",
         "type": "scatter",
         "x": [
          "2022-01-03T00:00:00",
          "2022-01-04T00:00:00",
          "2022-01-05T00:00:00",
          "2022-01-06T00:00:00",
          "2022-01-07T00:00:00",
          "2022-01-10T00:00:00",
          "2022-01-11T00:00:00",
          "2022-01-12T00:00:00",
          "2022-01-13T00:00:00",
          "2022-01-14T00:00:00",
          "2022-01-18T00:00:00",
          "2022-01-19T00:00:00",
          "2022-01-20T00:00:00",
          "2022-01-21T00:00:00",
          "2022-01-24T00:00:00",
          "2022-01-25T00:00:00",
          "2022-01-26T00:00:00",
          "2022-01-27T00:00:00",
          "2022-01-28T00:00:00",
          "2022-01-31T00:00:00",
          "2022-02-01T00:00:00",
          "2022-02-02T00:00:00",
          "2022-02-03T00:00:00",
          "2022-02-04T00:00:00",
          "2022-02-07T00:00:00",
          "2022-02-08T00:00:00",
          "2022-02-09T00:00:00",
          "2022-02-10T00:00:00",
          "2022-02-11T00:00:00",
          "2022-02-14T00:00:00",
          "2022-02-15T00:00:00",
          "2022-02-16T00:00:00",
          "2022-02-17T00:00:00",
          "2022-02-18T00:00:00",
          "2022-02-22T00:00:00",
          "2022-02-23T00:00:00",
          "2022-02-24T00:00:00",
          "2022-02-25T00:00:00",
          "2022-02-28T00:00:00",
          "2022-03-01T00:00:00",
          "2022-03-02T00:00:00",
          "2022-03-03T00:00:00",
          "2022-03-04T00:00:00",
          "2022-03-07T00:00:00",
          "2022-03-08T00:00:00",
          "2022-03-09T00:00:00",
          "2022-03-10T00:00:00",
          "2022-03-11T00:00:00",
          "2022-03-14T00:00:00",
          "2022-03-15T00:00:00",
          "2022-03-16T00:00:00",
          "2022-03-17T00:00:00",
          "2022-03-18T00:00:00",
          "2022-03-21T00:00:00",
          "2022-03-22T00:00:00",
          "2022-03-23T00:00:00",
          "2022-03-24T00:00:00",
          "2022-03-25T00:00:00",
          "2022-03-28T00:00:00",
          "2022-03-29T00:00:00",
          "2022-03-30T00:00:00",
          "2022-03-31T00:00:00",
          "2022-04-01T00:00:00",
          "2022-04-04T00:00:00",
          "2022-04-05T00:00:00",
          "2022-04-06T00:00:00",
          "2022-04-07T00:00:00",
          "2022-04-08T00:00:00",
          "2022-04-11T00:00:00",
          "2022-04-12T00:00:00",
          "2022-04-13T00:00:00",
          "2022-04-14T00:00:00",
          "2022-04-18T00:00:00",
          "2022-04-19T00:00:00",
          "2022-04-20T00:00:00",
          "2022-04-21T00:00:00",
          "2022-04-22T00:00:00",
          "2022-04-25T00:00:00",
          "2022-04-26T00:00:00",
          "2022-04-27T00:00:00",
          "2022-04-28T00:00:00",
          "2022-04-29T00:00:00",
          "2022-05-02T00:00:00",
          "2022-05-03T00:00:00",
          "2022-05-04T00:00:00",
          "2022-05-05T00:00:00",
          "2022-05-06T00:00:00",
          "2022-05-09T00:00:00",
          "2022-05-10T00:00:00",
          "2022-05-11T00:00:00",
          "2022-05-12T00:00:00",
          "2022-05-13T00:00:00",
          "2022-05-16T00:00:00",
          "2022-05-17T00:00:00",
          "2022-05-18T00:00:00",
          "2022-05-19T00:00:00",
          "2022-05-20T00:00:00",
          "2022-05-23T00:00:00",
          "2022-05-24T00:00:00",
          "2022-05-25T00:00:00",
          "2022-05-26T00:00:00",
          "2022-05-27T00:00:00",
          "2022-05-31T00:00:00",
          "2022-06-01T00:00:00",
          "2022-06-02T00:00:00",
          "2022-06-03T00:00:00",
          "2022-06-06T00:00:00",
          "2022-06-07T00:00:00",
          "2022-06-08T00:00:00",
          "2022-06-09T00:00:00",
          "2022-06-10T00:00:00",
          "2022-06-13T00:00:00",
          "2022-06-14T00:00:00",
          "2022-06-15T00:00:00",
          "2022-06-16T00:00:00",
          "2022-06-17T00:00:00",
          "2022-06-21T00:00:00",
          "2022-06-22T00:00:00",
          "2022-06-23T00:00:00",
          "2022-06-24T00:00:00",
          "2022-06-27T00:00:00",
          "2022-06-28T00:00:00",
          "2022-06-29T00:00:00",
          "2022-06-30T00:00:00",
          "2022-07-01T00:00:00",
          "2022-07-05T00:00:00",
          "2022-07-06T00:00:00",
          "2022-07-07T00:00:00",
          "2022-07-08T00:00:00",
          "2022-07-11T00:00:00",
          "2022-07-12T00:00:00",
          "2022-07-13T00:00:00",
          "2022-07-14T00:00:00",
          "2022-07-15T00:00:00",
          "2022-07-18T00:00:00",
          "2022-07-19T00:00:00",
          "2022-07-20T00:00:00",
          "2022-07-21T00:00:00",
          "2022-07-22T00:00:00",
          "2022-07-25T00:00:00",
          "2022-07-26T00:00:00",
          "2022-07-27T00:00:00",
          "2022-07-28T00:00:00",
          "2022-07-29T00:00:00",
          "2022-08-01T00:00:00",
          "2022-08-02T00:00:00",
          "2022-08-03T00:00:00",
          "2022-08-04T00:00:00",
          "2022-08-05T00:00:00",
          "2022-08-08T00:00:00",
          "2022-08-09T00:00:00",
          "2022-08-10T00:00:00",
          "2022-08-11T00:00:00",
          "2022-08-12T00:00:00",
          "2022-08-15T00:00:00",
          "2022-08-16T00:00:00",
          "2022-08-17T00:00:00",
          "2022-08-18T00:00:00",
          "2022-08-19T00:00:00",
          "2022-08-22T00:00:00",
          "2022-08-23T00:00:00",
          "2022-08-24T00:00:00",
          "2022-08-25T00:00:00",
          "2022-08-26T00:00:00",
          "2022-08-29T00:00:00",
          "2022-08-30T00:00:00",
          "2022-08-31T00:00:00",
          "2022-09-01T00:00:00",
          "2022-09-02T00:00:00",
          "2022-09-06T00:00:00",
          "2022-09-07T00:00:00",
          "2022-09-08T00:00:00",
          "2022-09-09T00:00:00",
          "2022-09-12T00:00:00",
          "2022-09-13T00:00:00",
          "2022-09-14T00:00:00",
          "2022-09-15T00:00:00",
          "2022-09-16T00:00:00",
          "2022-09-19T00:00:00",
          "2022-09-20T00:00:00",
          "2022-09-21T00:00:00",
          "2022-09-22T00:00:00",
          "2022-09-23T00:00:00",
          "2022-09-26T00:00:00",
          "2022-09-27T00:00:00",
          "2022-09-28T00:00:00",
          "2022-09-29T00:00:00",
          "2022-09-30T00:00:00",
          "2022-10-03T00:00:00",
          "2022-10-04T00:00:00",
          "2022-10-05T00:00:00",
          "2022-10-06T00:00:00",
          "2022-10-07T00:00:00",
          "2022-10-10T00:00:00",
          "2022-10-11T00:00:00",
          "2022-10-12T00:00:00",
          "2022-10-13T00:00:00",
          "2022-10-14T00:00:00",
          "2022-10-17T00:00:00",
          "2022-10-18T00:00:00",
          "2022-10-19T00:00:00",
          "2022-10-20T00:00:00",
          "2022-10-21T00:00:00",
          "2022-10-24T00:00:00",
          "2022-10-25T00:00:00",
          "2022-10-26T00:00:00",
          "2022-10-27T00:00:00",
          "2022-10-28T00:00:00",
          "2022-10-31T00:00:00",
          "2022-11-01T00:00:00",
          "2022-11-02T00:00:00",
          "2022-11-03T00:00:00",
          "2022-11-04T00:00:00",
          "2022-11-07T00:00:00",
          "2022-11-08T00:00:00",
          "2022-11-09T00:00:00",
          "2022-11-10T00:00:00",
          "2022-11-11T00:00:00",
          "2022-11-14T00:00:00",
          "2022-11-15T00:00:00",
          "2022-11-16T00:00:00",
          "2022-11-17T00:00:00",
          "2022-11-18T00:00:00",
          "2022-11-21T00:00:00",
          "2022-11-22T00:00:00",
          "2022-11-23T00:00:00",
          "2022-11-25T00:00:00",
          "2022-11-28T00:00:00",
          "2022-11-29T00:00:00",
          "2022-11-30T00:00:00",
          "2022-12-01T00:00:00",
          "2022-12-02T00:00:00",
          "2022-12-05T00:00:00",
          "2022-12-06T00:00:00",
          "2022-12-07T00:00:00",
          "2022-12-08T00:00:00",
          "2022-12-09T00:00:00",
          "2022-12-12T00:00:00",
          "2022-12-13T00:00:00",
          "2022-12-14T00:00:00",
          "2022-12-15T00:00:00",
          "2022-12-16T00:00:00",
          "2022-12-19T00:00:00",
          "2022-12-20T00:00:00",
          "2022-12-21T00:00:00",
          "2022-12-22T00:00:00",
          "2022-12-23T00:00:00",
          "2022-12-27T00:00:00",
          "2022-12-28T00:00:00",
          "2022-12-29T00:00:00",
          "2022-12-30T00:00:00",
          "2023-01-03T00:00:00",
          "2023-01-04T00:00:00",
          "2023-01-05T00:00:00",
          "2023-01-06T00:00:00",
          "2023-01-09T00:00:00",
          "2023-01-10T00:00:00",
          "2023-01-11T00:00:00",
          "2023-01-12T00:00:00",
          "2023-01-13T00:00:00",
          "2023-01-17T00:00:00",
          "2023-01-18T00:00:00",
          "2023-01-19T00:00:00",
          "2023-01-20T00:00:00",
          "2023-01-23T00:00:00",
          "2023-01-24T00:00:00",
          "2023-01-25T00:00:00",
          "2023-01-26T00:00:00",
          "2023-01-27T00:00:00",
          "2023-01-30T00:00:00",
          "2023-01-31T00:00:00",
          "2023-02-01T00:00:00",
          "2023-02-02T00:00:00",
          "2023-02-03T00:00:00",
          "2023-02-06T00:00:00",
          "2023-02-07T00:00:00",
          "2023-02-08T00:00:00",
          "2023-02-09T00:00:00",
          "2023-02-10T00:00:00",
          "2023-02-13T00:00:00",
          "2023-02-14T00:00:00",
          "2023-02-15T00:00:00",
          "2023-02-16T00:00:00",
          "2023-02-17T00:00:00",
          "2023-02-21T00:00:00",
          "2023-02-22T00:00:00",
          "2023-02-23T00:00:00",
          "2023-02-24T00:00:00",
          "2023-02-27T00:00:00",
          "2023-02-28T00:00:00",
          "2023-03-01T00:00:00",
          "2023-03-02T00:00:00",
          "2023-03-03T00:00:00",
          "2023-03-06T00:00:00",
          "2023-03-07T00:00:00",
          "2023-03-08T00:00:00",
          "2023-03-09T00:00:00",
          "2023-03-10T00:00:00",
          "2023-03-13T00:00:00",
          "2023-03-14T00:00:00",
          "2023-03-15T00:00:00",
          "2023-03-16T00:00:00",
          "2023-03-17T00:00:00",
          "2023-03-20T00:00:00",
          "2023-03-21T00:00:00",
          "2023-03-22T00:00:00",
          "2023-03-23T00:00:00",
          "2023-03-24T00:00:00",
          "2023-03-27T00:00:00",
          "2023-03-28T00:00:00",
          "2023-03-29T00:00:00",
          "2023-03-30T00:00:00",
          "2023-03-31T00:00:00",
          "2023-04-03T00:00:00",
          "2023-04-04T00:00:00",
          "2023-04-05T00:00:00",
          "2023-04-06T00:00:00",
          "2023-04-10T00:00:00",
          "2023-04-11T00:00:00",
          "2023-04-12T00:00:00",
          "2023-04-13T00:00:00",
          "2023-04-14T00:00:00",
          "2023-04-17T00:00:00",
          "2023-04-18T00:00:00",
          "2023-04-19T00:00:00",
          "2023-04-20T00:00:00",
          "2023-04-21T00:00:00",
          "2023-04-24T00:00:00",
          "2023-04-25T00:00:00",
          "2023-04-26T00:00:00",
          "2023-04-27T00:00:00",
          "2023-04-28T00:00:00",
          "2023-05-01T00:00:00",
          "2023-05-02T00:00:00",
          "2023-05-03T00:00:00",
          "2023-05-04T00:00:00",
          "2023-05-05T00:00:00",
          "2023-05-08T00:00:00",
          "2023-05-09T00:00:00",
          "2023-05-10T00:00:00",
          "2023-05-11T00:00:00",
          "2023-05-12T00:00:00",
          "2023-05-15T00:00:00",
          "2023-05-16T00:00:00",
          "2023-05-17T00:00:00",
          "2023-05-18T00:00:00",
          "2023-05-19T00:00:00",
          "2023-05-22T00:00:00",
          "2023-05-23T00:00:00",
          "2023-05-24T00:00:00",
          "2023-05-25T00:00:00",
          "2023-05-26T00:00:00",
          "2023-05-30T00:00:00",
          "2023-05-31T00:00:00",
          "2023-06-01T00:00:00",
          "2023-06-02T00:00:00",
          "2023-06-05T00:00:00",
          "2023-06-06T00:00:00",
          "2023-06-07T00:00:00",
          "2023-06-08T00:00:00",
          "2023-06-09T00:00:00",
          "2023-06-12T00:00:00",
          "2023-06-13T00:00:00",
          "2023-06-14T00:00:00",
          "2023-06-15T00:00:00",
          "2023-06-16T00:00:00",
          "2023-06-20T00:00:00",
          "2023-06-21T00:00:00",
          "2023-06-22T00:00:00",
          "2023-06-23T00:00:00",
          "2023-06-26T00:00:00",
          "2023-06-27T00:00:00",
          "2023-06-28T00:00:00",
          "2023-06-29T00:00:00",
          "2023-06-30T00:00:00",
          "2023-07-03T00:00:00",
          "2023-07-05T00:00:00",
          "2023-07-06T00:00:00",
          "2023-07-07T00:00:00",
          "2023-07-10T00:00:00",
          "2023-07-11T00:00:00",
          "2023-07-12T00:00:00",
          "2023-07-13T00:00:00",
          "2023-07-14T00:00:00",
          "2023-07-17T00:00:00",
          "2023-07-18T00:00:00",
          "2023-07-19T00:00:00",
          "2023-07-20T00:00:00",
          "2023-07-21T00:00:00",
          "2023-07-24T00:00:00",
          "2023-07-25T00:00:00",
          "2023-07-26T00:00:00",
          "2023-07-27T00:00:00",
          "2023-07-28T00:00:00",
          "2023-07-31T00:00:00",
          "2023-08-01T00:00:00",
          "2023-08-02T00:00:00",
          "2023-08-03T00:00:00",
          "2023-08-04T00:00:00",
          "2023-08-07T00:00:00",
          "2023-08-08T00:00:00",
          "2023-08-09T00:00:00",
          "2023-08-10T00:00:00",
          "2023-08-11T00:00:00",
          "2023-08-14T00:00:00",
          "2023-08-15T00:00:00",
          "2023-08-16T00:00:00",
          "2023-08-17T00:00:00",
          "2023-08-18T00:00:00",
          "2023-08-21T00:00:00",
          "2023-08-22T00:00:00",
          "2023-08-23T00:00:00",
          "2023-08-24T00:00:00",
          "2023-08-25T00:00:00",
          "2023-08-28T00:00:00",
          "2023-08-29T00:00:00",
          "2023-08-30T00:00:00",
          "2023-08-31T00:00:00",
          "2023-09-01T00:00:00",
          "2023-09-05T00:00:00",
          "2023-09-06T00:00:00",
          "2023-09-07T00:00:00",
          "2023-09-08T00:00:00",
          "2023-09-11T00:00:00",
          "2023-09-12T00:00:00",
          "2023-09-13T00:00:00",
          "2023-09-14T00:00:00",
          "2023-09-15T00:00:00",
          "2023-09-18T00:00:00",
          "2023-09-19T00:00:00",
          "2023-09-20T00:00:00",
          "2023-09-21T00:00:00",
          "2023-09-22T00:00:00",
          "2023-09-25T00:00:00",
          "2023-09-26T00:00:00",
          "2023-09-27T00:00:00",
          "2023-09-28T00:00:00",
          "2023-09-29T00:00:00",
          "2023-10-02T00:00:00",
          "2023-10-03T00:00:00",
          "2023-10-04T00:00:00",
          "2023-10-05T00:00:00",
          "2023-10-06T00:00:00",
          "2023-10-09T00:00:00",
          "2023-10-10T00:00:00",
          "2023-10-11T00:00:00",
          "2023-10-12T00:00:00",
          "2023-10-13T00:00:00",
          "2023-10-16T00:00:00",
          "2023-10-17T00:00:00",
          "2023-10-18T00:00:00",
          "2023-10-19T00:00:00",
          "2023-10-20T00:00:00",
          "2023-10-23T00:00:00",
          "2023-10-24T00:00:00",
          "2023-10-25T00:00:00",
          "2023-10-26T00:00:00",
          "2023-10-27T00:00:00",
          "2023-10-30T00:00:00",
          "2023-10-31T00:00:00",
          "2023-11-01T00:00:00",
          "2023-11-02T00:00:00",
          "2023-11-03T00:00:00",
          "2023-11-06T00:00:00",
          "2023-11-07T00:00:00",
          "2023-11-08T00:00:00",
          "2023-11-09T00:00:00",
          "2023-11-10T00:00:00",
          "2023-11-13T00:00:00",
          "2023-11-14T00:00:00",
          "2023-11-15T00:00:00",
          "2023-11-16T00:00:00",
          "2023-11-17T00:00:00",
          "2023-11-20T00:00:00",
          "2023-11-21T00:00:00",
          "2023-11-22T00:00:00",
          "2023-11-24T00:00:00",
          "2023-11-27T00:00:00",
          "2023-11-28T00:00:00",
          "2023-11-29T00:00:00",
          "2023-11-30T00:00:00",
          "2023-12-01T00:00:00",
          "2023-12-04T00:00:00",
          "2023-12-05T00:00:00",
          "2023-12-06T00:00:00",
          "2023-12-07T00:00:00",
          "2023-12-08T00:00:00",
          "2023-12-11T00:00:00",
          "2023-12-12T00:00:00",
          "2023-12-13T00:00:00",
          "2023-12-14T00:00:00",
          "2023-12-15T00:00:00",
          "2023-12-18T00:00:00",
          "2023-12-19T00:00:00",
          "2023-12-20T00:00:00",
          "2023-12-21T00:00:00",
          "2023-12-22T00:00:00",
          "2023-12-26T00:00:00",
          "2023-12-27T00:00:00",
          "2023-12-28T00:00:00",
          "2023-12-29T00:00:00",
          "2024-01-02T00:00:00",
          "2024-01-03T00:00:00",
          "2024-01-04T00:00:00",
          "2024-01-05T00:00:00",
          "2024-01-08T00:00:00",
          "2024-01-09T00:00:00",
          "2024-01-10T00:00:00",
          "2024-01-11T00:00:00",
          "2024-01-12T00:00:00",
          "2024-01-16T00:00:00",
          "2024-01-17T00:00:00",
          "2024-01-18T00:00:00",
          "2024-01-19T00:00:00",
          "2024-01-22T00:00:00",
          "2024-01-23T00:00:00",
          "2024-01-24T00:00:00",
          "2024-01-25T00:00:00",
          "2024-01-26T00:00:00",
          "2024-01-29T00:00:00",
          "2024-01-30T00:00:00",
          "2024-01-31T00:00:00",
          "2024-02-01T00:00:00",
          "2024-02-02T00:00:00",
          "2024-02-05T00:00:00",
          "2024-02-06T00:00:00",
          "2024-02-07T00:00:00",
          "2024-02-08T00:00:00",
          "2024-02-09T00:00:00",
          "2024-02-12T00:00:00",
          "2024-02-13T00:00:00",
          "2024-02-14T00:00:00",
          "2024-02-15T00:00:00",
          "2024-02-16T00:00:00",
          "2024-02-20T00:00:00",
          "2024-02-21T00:00:00",
          "2024-02-22T00:00:00",
          "2024-02-23T00:00:00",
          "2024-02-26T00:00:00",
          "2024-02-27T00:00:00",
          "2024-02-28T00:00:00",
          "2024-02-29T00:00:00",
          "2024-03-01T00:00:00",
          "2024-03-04T00:00:00",
          "2024-03-05T00:00:00",
          "2024-03-06T00:00:00",
          "2024-03-07T00:00:00",
          "2024-03-08T00:00:00",
          "2024-03-11T00:00:00",
          "2024-03-12T00:00:00",
          "2024-03-13T00:00:00",
          "2024-03-14T00:00:00",
          "2024-03-15T00:00:00",
          "2024-03-18T00:00:00",
          "2024-03-19T00:00:00",
          "2024-03-20T00:00:00",
          "2024-03-21T00:00:00",
          "2024-03-22T00:00:00",
          "2024-03-25T00:00:00",
          "2024-03-26T00:00:00",
          "2024-03-27T00:00:00",
          "2024-03-28T00:00:00",
          "2024-04-01T00:00:00",
          "2024-04-02T00:00:00",
          "2024-04-03T00:00:00",
          "2024-04-04T00:00:00",
          "2024-04-05T00:00:00",
          "2024-04-08T00:00:00",
          "2024-04-09T00:00:00",
          "2024-04-10T00:00:00",
          "2024-04-11T00:00:00",
          "2024-04-12T00:00:00"
         ],
         "y": [
          275311.94,
          270934.25,
          254636.19,
          249944.53,
          235362.31,
          229936.1,
          239706.85,
          252944.46,
          241964.61,
          248129.25,
          240089.21,
          233509.33,
          224636.84,
          194228.14,
          187931.88,
          191503.39,
          189877.47,
          188333.8,
          194348.67,
          200000,
          394456.29,
          372734.46,
          374948.12,
          418068.76,
          451666.96,
          453365.2,
          468064.45,
          457275.66,
          428654.79,
          428582.88,
          462441.01,
          459339.2,
          422049.23,
          410787.4,
          382277.73,
          375557.23,
          380514.79,
          398777.08,
          422436.93,
          613710.8,
          601908.59,
          583452.39,
          542344.18,
          522274.82,
          532866.78,
          569178.63,
          541581.76,
          534784.62,
          536119.21,
          539980.1,
          567657.64,
          577551.73,
          600918.44,
          602446.71,
          615137.11,
          623537.35,
          638977.58,
          629915.5,
          667386.54,
          680579.41,
          685088.74,
          666785.51,
          953290.26,
          956715.54,
          928779.79,
          859329.65,
          881666.94,
          855575.83,
          786484.12,
          802804.77,
          834099.78,
          807082.9,
          823623.02,
          841583.06,
          830363.27,
          802283.33,
          791743.23,
          793281.26,
          745159.83,
          763316.68,
          767461.19,
          737476.26,
          1055130.25,
          1035696.03,
          1115005.96,
          1016222.66,
          997681.3,
          800636.05,
          832323.12,
          695287.96,
          677666.9,
          701451.39,
          706066.66,
          739206.03,
          672954.87,
          710954.27,
          683027.31,
          684640.62,
          692216.37,
          674973.4,
          631348.96,
          608739.68,
          685538.9,
          925320.91,
          944610.59,
          910515.47,
          966066.57,
          945719.7,
          925125.05,
          918362.2,
          861411.29,
          644601.46,
          656879.14,
          691028.37,
          608980.36,
          624944.48,
          659201.1,
          631517.15,
          683884.93,
          714882.02,
          696195.44,
          665265.03,
          655386.04,
          643769.47,
          772210.5,
          808837.62,
          834559.63,
          873546.35,
          865293.72,
          788771.5,
          761017.25,
          811520.61,
          844909.95,
          854194.68,
          1006737.26,
          1014133.72,
          994248.23,
          1020889.08,
          988008.39,
          922897.49,
          915472.11,
          1016474.86,
          1069341.13,
          1061015.67,
          1253282.35,
          1231691.51,
          1227317.06,
          1236654.7,
          1303599.48,
          1357294.46,
          1309767.74,
          1383856.55,
          1384680.85,
          1421303.01,
          1378475.54,
          1363009.87,
          1320719.48,
          1305095.42,
          1172342.77,
          1199445.23,
          1220052.34,
          1207785.01,
          1220219.97,
          1112558.29,
          1122860.02,
          1095796.76,
          1106855.97,
          1357497.67,
          1367739.49,
          1294351.56,
          1349657.04,
          1356618.26,
          1449398.68,
          1479306.31,
          1365057.42,
          1384431.39,
          1298673.89,
          1285260.39,
          1238535.41,
          1202276.75,
          1171683.83,
          1234173.51,
          1246281.64,
          1230184.33,
          1219262.73,
          1228909.75,
          1235982.14,
          1226332.4,
          1416307.59,
          1452958.6,
          1440855.47,
          1423057.64,
          1403392.39,
          1371969.04,
          1356752.97,
          1364532.85,
          1354795.88,
          1354362.42,
          1383209.55,
          1368037.67,
          1337759.61,
          1338341.98,
          1357129.47,
          1380601.26,
          1467109.43,
          1517093.04,
          1480775.02,
          1524500.81,
          1545180.4,
          1762101.69,
          1761682.04,
          1780219.92,
          1908708.91,
          1844933.72,
          1603001.93,
          1354869.09,
          1581913.2,
          1545160.11,
          1464390.02,
          1492975.91,
          1464267.71,
          1494323.28,
          1501518.58,
          1414776.58,
          1512357.11,
          1617773.4,
          1577992.93,
          1555156.06,
          1589374.92,
          1669876.4,
          1858992.68,
          1890279.83,
          1895170.9,
          1901000.59,
          1846344.2,
          1888173.43,
          1863599.17,
          1856061.97,
          1915161.18,
          1896257.66,
          1828938.3,
          1691321.15,
          1648655.66,
          1713429.58,
          1699707.24,
          1711899.41,
          1706963.92,
          1723962.28,
          1679937.67,
          1684226.05,
          1689697.44,
          1917817.22,
          1957154.64,
          1933820.62,
          1960986.59,
          2051489.85,
          2071204.09,
          2223819.07,
          2264244.28,
          2322850.23,
          2441421.45,
          2331791.78,
          2380998.5,
          2558886.84,
          2563370.24,
          2474199.43,
          2550308.97,
          2537378.04,
          2638161.23,
          2598146.8,
          2643865.83,
          2985189.69,
          2968644.6,
          2994959.48,
          2861490.82,
          2985294.8,
          2926579.26,
          2713547.91,
          2706751.49,
          2679597.99,
          2772202.63,
          3004784.14,
          2893138.01,
          2983273.04,
          2947768.35,
          2929026.34,
          2900981.84,
          2789614.04,
          2820293.82,
          2767691.21,
          3056794.94,
          3008651.41,
          2865249.61,
          2830608.19,
          2798270.69,
          2699523.34,
          2529657.95,
          2484739.92,
          2877167.47,
          2953666.11,
          2786735.15,
          2853235.06,
          3102803.06,
          2982168.63,
          3098808.25,
          3063755.91,
          3220876.13,
          3146819.63,
          3058232.41,
          3094193.8,
          3177950.98,
          3143565.23,
          3192699.22,
          3376985.49,
          3433507.71,
          3464764.41,
          3425895.3,
          3524070.82,
          3547821.92,
          3551114.82,
          3634978.07,
          3717651.57,
          3742907.2,
          3847395.88,
          3512780.46,
          3470430.48,
          3293679.44,
          3328464.97,
          3420027.1,
          3376418.57,
          3465477.82,
          3447958.21,
          3520906.94,
          3585720.86,
          3635398.63,
          3599677.3,
          3704479.59,
          3366243.87,
          3385221.81,
          3400808.9,
          3333409.24,
          3335411.69,
          3422663.42,
          3444012.76,
          3510989.15,
          3425274.2,
          3444725.49,
          3437468.39,
          3477512.6,
          3334111.17,
          3346426.27,
          3383720.19,
          3514100.47,
          3450715.54,
          3658774.88,
          3731675.57,
          3513669.54,
          3673398.33,
          3563241.67,
          3567367.1,
          3564796.99,
          3256558.95,
          3266043.27,
          3122667.55,
          3164136.76,
          3241774.95,
          3427699.9,
          3632879.33,
          3618878.37,
          3744608.99,
          3660381.82,
          3701895.03,
          3552632.43,
          3612525.08,
          3943148.09,
          4189798.94,
          4062374.14,
          3907433.29,
          3983127.69,
          4004478.24,
          4005408.34,
          3975783.57,
          4211050.98,
          4075643.87,
          4007649.35,
          3948800.82,
          3964680.24,
          3956558.32,
          3988102.58,
          3835044.2,
          3857576.3,
          3879625.61,
          3860166.67,
          3889500.29,
          3864534.2,
          4163410.99,
          4023575.01,
          3955473.46,
          3936308.24,
          3946204.29,
          4019963.53,
          4008326.31,
          3980532.09,
          3981060.22,
          3956556.94,
          3871568.78,
          3755135.71,
          3441243.23,
          3401260.95,
          3421650,
          3357911.53,
          3421958.14,
          3378650.81,
          3369849.66,
          3394338.47,
          3570307.88,
          3501685.12,
          3342464.66,
          3509695.22,
          3512964.16,
          3508610.26,
          3556573.28,
          3512620.37,
          3338267.16,
          3406160.84,
          3464199.29,
          3505341.53,
          3562860.29,
          3546200.9,
          3594825.52,
          3530885.6,
          3472717.33,
          3475946.37,
          3466101.65,
          3463791.95,
          3460986.5,
          3566544.08,
          3571431.83,
          3783086.11,
          3771746.94,
          3810620.47,
          3779359.29,
          3866989.72,
          3703410.89,
          3694523.09,
          3626272.99,
          3587100.08,
          3608503.66,
          3752567.53,
          3689154.86,
          3644591.29,
          3695017.59,
          3793379.75,
          4207118.5,
          4238826.86,
          4273945.88,
          4306496.7,
          4225860.92,
          4356218.57,
          4354875.15,
          4648547.65,
          4566533.95,
          4594831.48,
          4792155.85,
          4771433.41,
          4788784.15,
          4993033.15,
          5102481,
          5120753.68,
          5072084.75,
          5521158.39,
          5402707.91,
          5419178.45,
          5417270.61,
          5121651.81,
          5426651.83,
          5487055.54,
          5373622.62,
          5440469.7,
          5461121.24,
          5481194.44,
          5779169.58,
          6106884.76,
          6384124.25,
          6412968.65,
          6510369.34,
          6910168.31,
          7098313.5,
          7040913.84,
          7267509.3,
          7324973.16,
          7211090.1,
          7322448.76,
          7193367.58,
          7501349.23,
          7724714.78,
          7799725.44,
          7590403.67,
          7640466.68,
          7428135.38,
          7339972.57,
          7749901.75,
          7157953.63,
          7413918.79,
          7247082.32,
          7428405.99,
          7288746.69,
          7786777.78,
          7902741.88,
          7442370.41,
          7424888.88,
          7390923.2,
          7085740.18,
          7110417.78,
          6604871.74,
          6616593.8,
          6676723.97,
          6597675.54,
          6868941.78,
          7256240.61,
          7180677.73,
          6971171.14,
          7220702.3,
          7438333.72,
          7246130.7,
          7305590.13,
          7485031.68,
          7573668.2,
          7891923.13,
          8401408.51,
          8219665.19,
          8606142.83,
          8596529.94,
          8516344.69,
          8532307.26,
          8405516.69,
          8315998.6,
          8196892.74,
          8853111.58,
          9052850.82,
          9491997.28,
          9535530.41,
          10054874.47,
          10565498.72,
          9917026.06,
          10431227.76,
          10676894.82,
          10726207.36,
          11749289.13,
          12010202.83,
          12056966.23,
          11765874.36,
          11797111.54,
          11658157.37,
          10465544.01,
          11372350.94,
          11033460.98,
          10749680.04,
          11688458.7,
          11636509.33,
          11387552.6,
          11539839.74,
          11562893.39,
          10986908.72,
          10824311.98,
          10998997.1,
          10869938.99,
          11758874.4,
          11141816.23,
          11287468.55,
          11178879.76,
          10135639.79
         ]
        }
       ],
       "layout": {
        "height": 500,
        "margin": {
         "b": 50,
         "l": 25,
         "r": 25,
         "t": 50
        },
        "showlegend": false,
        "template": {
         "data": {
          "bar": [
           {
            "error_x": {
             "color": "#2a3f5f"
            },
            "error_y": {
             "color": "#2a3f5f"
            },
            "marker": {
             "line": {
              "color": "white",
              "width": 0.5
             },
             "pattern": {
              "fillmode": "overlay",
              "size": 10,
              "solidity": 0.2
             }
            },
            "type": "bar"
           }
          ],
          "barpolar": [
           {
            "marker": {
             "line": {
              "color": "white",
              "width": 0.5
             },
             "pattern": {
              "fillmode": "overlay",
              "size": 10,
              "solidity": 0.2
             }
            },
            "type": "barpolar"
           }
          ],
          "carpet": [
           {
            "aaxis": {
             "endlinecolor": "#2a3f5f",
             "gridcolor": "#C8D4E3",
             "linecolor": "#C8D4E3",
             "minorgridcolor": "#C8D4E3",
             "startlinecolor": "#2a3f5f"
            },
            "baxis": {
             "endlinecolor": "#2a3f5f",
             "gridcolor": "#C8D4E3",
             "linecolor": "#C8D4E3",
             "minorgridcolor": "#C8D4E3",
             "startlinecolor": "#2a3f5f"
            },
            "type": "carpet"
           }
          ],
          "choropleth": [
           {
            "colorbar": {
             "outlinewidth": 0,
             "ticks": ""
            },
            "type": "choropleth"
           }
          ],
          "contour": [
           {
            "colorbar": {
             "outlinewidth": 0,
             "ticks": ""
            },
            "colorscale": [
             [
              0,
              "#0d0887"
             ],
             [
              0.1111111111111111,
              "#46039f"
             ],
             [
              0.2222222222222222,
              "#7201a8"
             ],
             [
              0.3333333333333333,
              "#9c179e"
             ],
             [
              0.4444444444444444,
              "#bd3786"
             ],
             [
              0.5555555555555556,
              "#d8576b"
             ],
             [
              0.6666666666666666,
              "#ed7953"
             ],
             [
              0.7777777777777778,
              "#fb9f3a"
             ],
             [
              0.8888888888888888,
              "#fdca26"
             ],
             [
              1,
              "#f0f921"
             ]
            ],
            "type": "contour"
           }
          ],
          "contourcarpet": [
           {
            "colorbar": {
             "outlinewidth": 0,
             "ticks": ""
            },
            "type": "contourcarpet"
           }
          ],
          "heatmap": [
           {
            "colorbar": {
             "outlinewidth": 0,
             "ticks": ""
            },
            "colorscale": [
             [
              0,
              "#0d0887"
             ],
             [
              0.1111111111111111,
              "#46039f"
             ],
             [
              0.2222222222222222,
              "#7201a8"
             ],
             [
              0.3333333333333333,
              "#9c179e"
             ],
             [
              0.4444444444444444,
              "#bd3786"
             ],
             [
              0.5555555555555556,
              "#d8576b"
             ],
             [
              0.6666666666666666,
              "#ed7953"
             ],
             [
              0.7777777777777778,
              "#fb9f3a"
             ],
             [
              0.8888888888888888,
              "#fdca26"
             ],
             [
              1,
              "#f0f921"
             ]
            ],
            "type": "heatmap"
           }
          ],
          "heatmapgl": [
           {
            "colorbar": {
             "outlinewidth": 0,
             "ticks": ""
            },
            "colorscale": [
             [
              0,
              "#0d0887"
             ],
             [
              0.1111111111111111,
              "#46039f"
             ],
             [
              0.2222222222222222,
              "#7201a8"
             ],
             [
              0.3333333333333333,
              "#9c179e"
             ],
             [
              0.4444444444444444,
              "#bd3786"
             ],
             [
              0.5555555555555556,
              "#d8576b"
             ],
             [
              0.6666666666666666,
              "#ed7953"
             ],
             [
              0.7777777777777778,
              "#fb9f3a"
             ],
             [
              0.8888888888888888,
              "#fdca26"
             ],
             [
              1,
              "#f0f921"
             ]
            ],
            "type": "heatmapgl"
           }
          ],
          "histogram": [
           {
            "marker": {
             "pattern": {
              "fillmode": "overlay",
              "size": 10,
              "solidity": 0.2
             }
            },
            "type": "histogram"
           }
          ],
          "histogram2d": [
           {
            "colorbar": {
             "outlinewidth": 0,
             "ticks": ""
            },
            "colorscale": [
             [
              0,
              "#0d0887"
             ],
             [
              0.1111111111111111,
              "#46039f"
             ],
             [
              0.2222222222222222,
              "#7201a8"
             ],
             [
              0.3333333333333333,
              "#9c179e"
             ],
             [
              0.4444444444444444,
              "#bd3786"
             ],
             [
              0.5555555555555556,
              "#d8576b"
             ],
             [
              0.6666666666666666,
              "#ed7953"
             ],
             [
              0.7777777777777778,
              "#fb9f3a"
             ],
             [
              0.8888888888888888,
              "#fdca26"
             ],
             [
              1,
              "#f0f921"
             ]
            ],
            "type": "histogram2d"
           }
          ],
          "histogram2dcontour": [
           {
            "colorbar": {
             "outlinewidth": 0,
             "ticks": ""
            },
            "colorscale": [
             [
              0,
              "#0d0887"
             ],
             [
              0.1111111111111111,
              "#46039f"
             ],
             [
              0.2222222222222222,
              "#7201a8"
             ],
             [
              0.3333333333333333,
              "#9c179e"
             ],
             [
              0.4444444444444444,
              "#bd3786"
             ],
             [
              0.5555555555555556,
              "#d8576b"
             ],
             [
              0.6666666666666666,
              "#ed7953"
             ],
             [
              0.7777777777777778,
              "#fb9f3a"
             ],
             [
              0.8888888888888888,
              "#fdca26"
             ],
             [
              1,
              "#f0f921"
             ]
            ],
            "type": "histogram2dcontour"
           }
          ],
          "mesh3d": [
           {
            "colorbar": {
             "outlinewidth": 0,
             "ticks": ""
            },
            "type": "mesh3d"
           }
          ],
          "parcoords": [
           {
            "line": {
             "colorbar": {
              "outlinewidth": 0,
              "ticks": ""
             }
            },
            "type": "parcoords"
           }
          ],
          "pie": [
           {
            "automargin": true,
            "type": "pie"
           }
          ],
          "scatter": [
           {
            "fillpattern": {
             "fillmode": "overlay",
             "size": 10,
             "solidity": 0.2
            },
            "type": "scatter"
           }
          ],
          "scatter3d": [
           {
            "line": {
             "colorbar": {
              "outlinewidth": 0,
              "ticks": ""
             }
            },
            "marker": {
             "colorbar": {
              "outlinewidth": 0,
              "ticks": ""
             }
            },
            "type": "scatter3d"
           }
          ],
          "scattercarpet": [
           {
            "marker": {
             "colorbar": {
              "outlinewidth": 0,
              "ticks": ""
             }
            },
            "type": "scattercarpet"
           }
          ],
          "scattergeo": [
           {
            "marker": {
             "colorbar": {
              "outlinewidth": 0,
              "ticks": ""
             }
            },
            "type": "scattergeo"
           }
          ],
          "scattergl": [
           {
            "marker": {
             "colorbar": {
              "outlinewidth": 0,
              "ticks": ""
             }
            },
            "type": "scattergl"
           }
          ],
          "scattermapbox": [
           {
            "marker": {
             "colorbar": {
              "outlinewidth": 0,
              "ticks": ""
             }
            },
            "type": "scattermapbox"
           }
          ],
          "scatterpolar": [
           {
            "marker": {
             "colorbar": {
              "outlinewidth": 0,
              "ticks": ""
             }
            },
            "type": "scatterpolar"
           }
          ],
          "scatterpolargl": [
           {
            "marker": {
             "colorbar": {
              "outlinewidth": 0,
              "ticks": ""
             }
            },
            "type": "scatterpolargl"
           }
          ],
          "scatterternary": [
           {
            "marker": {
             "colorbar": {
              "outlinewidth": 0,
              "ticks": ""
             }
            },
            "type": "scatterternary"
           }
          ],
          "surface": [
           {
            "colorbar": {
             "outlinewidth": 0,
             "ticks": ""
            },
            "colorscale": [
             [
              0,
              "#0d0887"
             ],
             [
              0.1111111111111111,
              "#46039f"
             ],
             [
              0.2222222222222222,
              "#7201a8"
             ],
             [
              0.3333333333333333,
              "#9c179e"
             ],
             [
              0.4444444444444444,
              "#bd3786"
             ],
             [
              0.5555555555555556,
              "#d8576b"
             ],
             [
              0.6666666666666666,
              "#ed7953"
             ],
             [
              0.7777777777777778,
              "#fb9f3a"
             ],
             [
              0.8888888888888888,
              "#fdca26"
             ],
             [
              1,
              "#f0f921"
             ]
            ],
            "type": "surface"
           }
          ],
          "table": [
           {
            "cells": {
             "fill": {
              "color": "#EBF0F8"
             },
             "line": {
              "color": "white"
             }
            },
            "header": {
             "fill": {
              "color": "#C8D4E3"
             },
             "line": {
              "color": "white"
             }
            },
            "type": "table"
           }
          ]
         },
         "layout": {
          "annotationdefaults": {
           "arrowcolor": "#2a3f5f",
           "arrowhead": 0,
           "arrowwidth": 1
          },
          "autotypenumbers": "strict",
          "coloraxis": {
           "colorbar": {
            "outlinewidth": 0,
            "ticks": ""
           }
          },
          "colorscale": {
           "diverging": [
            [
             0,
             "#8e0152"
            ],
            [
             0.1,
             "#c51b7d"
            ],
            [
             0.2,
             "#de77ae"
            ],
            [
             0.3,
             "#f1b6da"
            ],
            [
             0.4,
             "#fde0ef"
            ],
            [
             0.5,
             "#f7f7f7"
            ],
            [
             0.6,
             "#e6f5d0"
            ],
            [
             0.7,
             "#b8e186"
            ],
            [
             0.8,
             "#7fbc41"
            ],
            [
             0.9,
             "#4d9221"
            ],
            [
             1,
             "#276419"
            ]
           ],
           "sequential": [
            [
             0,
             "#0d0887"
            ],
            [
             0.1111111111111111,
             "#46039f"
            ],
            [
             0.2222222222222222,
             "#7201a8"
            ],
            [
             0.3333333333333333,
             "#9c179e"
            ],
            [
             0.4444444444444444,
             "#bd3786"
            ],
            [
             0.5555555555555556,
             "#d8576b"
            ],
            [
             0.6666666666666666,
             "#ed7953"
            ],
            [
             0.7777777777777778,
             "#fb9f3a"
            ],
            [
             0.8888888888888888,
             "#fdca26"
            ],
            [
             1,
             "#f0f921"
            ]
           ],
           "sequentialminus": [
            [
             0,
             "#0d0887"
            ],
            [
             0.1111111111111111,
             "#46039f"
            ],
            [
             0.2222222222222222,
             "#7201a8"
            ],
            [
             0.3333333333333333,
             "#9c179e"
            ],
            [
             0.4444444444444444,
             "#bd3786"
            ],
            [
             0.5555555555555556,
             "#d8576b"
            ],
            [
             0.6666666666666666,
             "#ed7953"
            ],
            [
             0.7777777777777778,
             "#fb9f3a"
            ],
            [
             0.8888888888888888,
             "#fdca26"
            ],
            [
             1,
             "#f0f921"
            ]
           ]
          },
          "colorway": [
           "#636efa",
           "#EF553B",
           "#00cc96",
           "#ab63fa",
           "#FFA15A",
           "#19d3f3",
           "#FF6692",
           "#B6E880",
           "#FF97FF",
           "#FECB52"
          ],
          "font": {
           "color": "#2a3f5f"
          },
          "geo": {
           "bgcolor": "white",
           "lakecolor": "white",
           "landcolor": "white",
           "showlakes": true,
           "showland": true,
           "subunitcolor": "#C8D4E3"
          },
          "hoverlabel": {
           "align": "left"
          },
          "hovermode": "closest",
          "mapbox": {
           "style": "light"
          },
          "paper_bgcolor": "white",
          "plot_bgcolor": "white",
          "polar": {
           "angularaxis": {
            "gridcolor": "#EBF0F8",
            "linecolor": "#EBF0F8",
            "ticks": ""
           },
           "bgcolor": "white",
           "radialaxis": {
            "gridcolor": "#EBF0F8",
            "linecolor": "#EBF0F8",
            "ticks": ""
           }
          },
          "scene": {
           "xaxis": {
            "backgroundcolor": "white",
            "gridcolor": "#DFE8F3",
            "gridwidth": 2,
            "linecolor": "#EBF0F8",
            "showbackground": true,
            "ticks": "",
            "zerolinecolor": "#EBF0F8"
           },
           "yaxis": {
            "backgroundcolor": "white",
            "gridcolor": "#DFE8F3",
            "gridwidth": 2,
            "linecolor": "#EBF0F8",
            "showbackground": true,
            "ticks": "",
            "zerolinecolor": "#EBF0F8"
           },
           "zaxis": {
            "backgroundcolor": "white",
            "gridcolor": "#DFE8F3",
            "gridwidth": 2,
            "linecolor": "#EBF0F8",
            "showbackground": true,
            "ticks": "",
            "zerolinecolor": "#EBF0F8"
           }
          },
          "shapedefaults": {
           "line": {
            "color": "#2a3f5f"
           }
          },
          "ternary": {
           "aaxis": {
            "gridcolor": "#DFE8F3",
            "linecolor": "#A2B1C6",
            "ticks": ""
           },
           "baxis": {
            "gridcolor": "#DFE8F3",
            "linecolor": "#A2B1C6",
            "ticks": ""
           },
           "bgcolor": "white",
           "caxis": {
            "gridcolor": "#DFE8F3",
            "linecolor": "#A2B1C6",
            "ticks": ""
           }
          },
          "title": {
           "x": 0.05
          },
          "xaxis": {
           "automargin": true,
           "gridcolor": "#EBF0F8",
           "linecolor": "#EBF0F8",
           "ticks": "",
           "title": {
            "standoff": 15
           },
           "zerolinecolor": "#EBF0F8",
           "zerolinewidth": 2
          },
          "yaxis": {
           "automargin": true,
           "gridcolor": "#EBF0F8",
           "linecolor": "#EBF0F8",
           "ticks": "",
           "title": {
            "standoff": 15
           },
           "zerolinecolor": "#EBF0F8",
           "zerolinewidth": 2
          }
         }
        },
        "title": {
         "text": "Total BASE 2 Portfolio Value (USD$)"
        },
        "xaxis": {
         "rangeslider": {
          "visible": false
         },
         "tickfont": {
          "size": 12
         }
        },
        "yaxis": {
         "tickfont": {
          "size": 12
         },
         "title": {
          "font": {
           "size": 14
          },
          "text": "Value: $ USD"
         }
        }
       }
      }
     },
     "metadata": {},
     "output_type": "display_data"
    }
   ],
   "source": [
    "\n",
    "initial_date = '2022-01-01'  # do not use anything earlier than your first trade\n",
    "plotly_prtfl_val = portf_allvalues[portf_allvalues.index > initial_date]\n",
    "plotly_prtfl_val = plotly_prtfl_val[['portf_value', 'sp500_mktvalue', 'ptf_value_pctch',\n",
    "                                     'sp500_pctch', 'ptf_value_diff', 'sp500_diff']].reset_index().round(2)\n",
    "# calculating cumulative growth since initial date\n",
    "plotly_prtfl_val['ptf_growth'] = plotly_prtfl_val.portf_value/plotly_prtfl_val['portf_value'].iloc[0]\n",
    "plotly_prtfl_val['sp500_growth'] = plotly_prtfl_val.sp500_mktvalue/plotly_prtfl_val['sp500_mktvalue'].iloc[0]\n",
    "plotly_prtfl_val.rename(columns={'index': 'date'}, inplace=True)  # needed for later\n",
    "\n",
    "# Plotly part\n",
    "CHART_THEME = 'plotly_white'  # others examples: seaborn, ggplot2, plotly_dark\n",
    "chart_ptfl_value = go.Figure()  # generating a figure that will be updated in the following lines\n",
    "chart_ptfl_value.add_trace(go.Scatter(x=plotly_prtfl_val.date, y=plotly_prtfl_val.portf_value,\n",
    "                    mode='lines',  # you can also use \"lines+markers\", or just \"markers\"\n",
    "                    name='Global Value'))\n",
    "chart_ptfl_value.layout.template = CHART_THEME\n",
    "chart_ptfl_value.layout.height=500\n",
    "chart_ptfl_value.update_layout(margin = dict(t=50, b=50, l=25, r=25))  # this will help you optimize the chart space\n",
    "chart_ptfl_value.update_layout(\n",
    "    title='Total BASE 2 Portfolio Value (USD$)',\n",
    "    xaxis_tickfont_size=12,\n",
    "    yaxis=dict(\n",
    "        title='Value: $ USD',\n",
    "        titlefont_size=14,\n",
    "        tickfont_size=12,\n",
    "        ))\n",
    "chart_ptfl_value.update_xaxes(rangeslider_visible=False)\n",
    "chart_ptfl_value.update_layout(showlegend=False)\n",
    "chart_ptfl_value.show()"
   ]
  },
  {
   "cell_type": "markdown",
   "metadata": {},
   "source": [
    "Portfolio Value Visualized."
   ]
  },
  {
   "cell_type": "code",
   "execution_count": null,
   "metadata": {},
   "outputs": [
    {
     "name": "stderr",
     "output_type": "stream",
     "text": [
      "C:\\Users\\hp\\AppData\\Local\\Temp\\ipykernel_5124\\2611881151.py:5: FutureWarning:\n",
      "\n",
      "Series.dt.weekofyear and Series.dt.week have been deprecated. Please use Series.dt.isocalendar().week instead.\n",
      "\n"
     ]
    },
    {
     "data": {
      "application/vnd.plotly.v1+json": {
       "config": {
        "plotlyServerURL": "https://plot.ly"
       },
       "data": [
        {
         "name": "Portfolio",
         "type": "bar",
         "x": [
          "2022 - 01",
          "2022 - 02",
          "2022 - 03",
          "2022 - 04",
          "2022 - 05",
          "2022 - 06",
          "2022 - 07",
          "2022 - 08",
          "2022 - 09",
          "2022 - 10",
          "2022 - 11",
          "2022 - 12",
          "2023 - 01",
          "2023 - 02",
          "2023 - 03",
          "2023 - 04",
          "2023 - 05",
          "2023 - 06",
          "2023 - 07",
          "2023 - 08",
          "2023 - 09",
          "2023 - 10",
          "2023 - 11",
          "2023 - 12",
          "2024 - 01",
          "2024 - 02",
          "2024 - 03",
          "2024 - 04"
         ],
         "y": [
          null,
          111.3,
          57.89,
          10.61,
          -7.06,
          -6.1,
          64.84,
          4.31,
          10.8,
          26,
          8.07,
          1.19,
          56.48,
          4.69,
          15.36,
          7.99,
          0.08,
          14.26,
          -1.99,
          -13.51,
          6.84,
          21.94,
          25.86,
          33.91,
          -5.03,
          36.78,
          21.02,
          -12.17
         ]
        },
        {
         "name": "S&P 500",
         "type": "bar",
         "x": [
          "2022 - 01",
          "2022 - 02",
          "2022 - 03",
          "2022 - 04",
          "2022 - 05",
          "2022 - 06",
          "2022 - 07",
          "2022 - 08",
          "2022 - 09",
          "2022 - 10",
          "2022 - 11",
          "2022 - 12",
          "2023 - 01",
          "2023 - 02",
          "2023 - 03",
          "2023 - 04",
          "2023 - 05",
          "2023 - 06",
          "2023 - 07",
          "2023 - 08",
          "2023 - 09",
          "2023 - 10",
          "2023 - 11",
          "2023 - 12",
          "2024 - 01",
          "2024 - 02",
          "2024 - 03",
          "2024 - 04"
         ],
         "y": [
          null,
          -3.08,
          3.62,
          -8.89,
          0,
          -8.36,
          9.12,
          -4.18,
          -9.33,
          7.89,
          5.45,
          -5.99,
          6.25,
          -2.59,
          3.5,
          1.4,
          0.23,
          6.54,
          3.12,
          -1.78,
          -4.89,
          -2.24,
          8.92,
          4.41,
          1.61,
          5.15,
          3.11,
          -2.47
         ]
        }
       ],
       "layout": {
        "barmode": "group",
        "height": 300,
        "legend": {
         "x": 0.99,
         "xanchor": "right",
         "y": 0.99,
         "yanchor": "top"
        },
        "margin": {
         "b": 50,
         "l": 25,
         "r": 25,
         "t": 50
        },
        "template": {
         "data": {
          "bar": [
           {
            "error_x": {
             "color": "#2a3f5f"
            },
            "error_y": {
             "color": "#2a3f5f"
            },
            "marker": {
             "line": {
              "color": "white",
              "width": 0.5
             },
             "pattern": {
              "fillmode": "overlay",
              "size": 10,
              "solidity": 0.2
             }
            },
            "type": "bar"
           }
          ],
          "barpolar": [
           {
            "marker": {
             "line": {
              "color": "white",
              "width": 0.5
             },
             "pattern": {
              "fillmode": "overlay",
              "size": 10,
              "solidity": 0.2
             }
            },
            "type": "barpolar"
           }
          ],
          "carpet": [
           {
            "aaxis": {
             "endlinecolor": "#2a3f5f",
             "gridcolor": "#C8D4E3",
             "linecolor": "#C8D4E3",
             "minorgridcolor": "#C8D4E3",
             "startlinecolor": "#2a3f5f"
            },
            "baxis": {
             "endlinecolor": "#2a3f5f",
             "gridcolor": "#C8D4E3",
             "linecolor": "#C8D4E3",
             "minorgridcolor": "#C8D4E3",
             "startlinecolor": "#2a3f5f"
            },
            "type": "carpet"
           }
          ],
          "choropleth": [
           {
            "colorbar": {
             "outlinewidth": 0,
             "ticks": ""
            },
            "type": "choropleth"
           }
          ],
          "contour": [
           {
            "colorbar": {
             "outlinewidth": 0,
             "ticks": ""
            },
            "colorscale": [
             [
              0,
              "#0d0887"
             ],
             [
              0.1111111111111111,
              "#46039f"
             ],
             [
              0.2222222222222222,
              "#7201a8"
             ],
             [
              0.3333333333333333,
              "#9c179e"
             ],
             [
              0.4444444444444444,
              "#bd3786"
             ],
             [
              0.5555555555555556,
              "#d8576b"
             ],
             [
              0.6666666666666666,
              "#ed7953"
             ],
             [
              0.7777777777777778,
              "#fb9f3a"
             ],
             [
              0.8888888888888888,
              "#fdca26"
             ],
             [
              1,
              "#f0f921"
             ]
            ],
            "type": "contour"
           }
          ],
          "contourcarpet": [
           {
            "colorbar": {
             "outlinewidth": 0,
             "ticks": ""
            },
            "type": "contourcarpet"
           }
          ],
          "heatmap": [
           {
            "colorbar": {
             "outlinewidth": 0,
             "ticks": ""
            },
            "colorscale": [
             [
              0,
              "#0d0887"
             ],
             [
              0.1111111111111111,
              "#46039f"
             ],
             [
              0.2222222222222222,
              "#7201a8"
             ],
             [
              0.3333333333333333,
              "#9c179e"
             ],
             [
              0.4444444444444444,
              "#bd3786"
             ],
             [
              0.5555555555555556,
              "#d8576b"
             ],
             [
              0.6666666666666666,
              "#ed7953"
             ],
             [
              0.7777777777777778,
              "#fb9f3a"
             ],
             [
              0.8888888888888888,
              "#fdca26"
             ],
             [
              1,
              "#f0f921"
             ]
            ],
            "type": "heatmap"
           }
          ],
          "heatmapgl": [
           {
            "colorbar": {
             "outlinewidth": 0,
             "ticks": ""
            },
            "colorscale": [
             [
              0,
              "#0d0887"
             ],
             [
              0.1111111111111111,
              "#46039f"
             ],
             [
              0.2222222222222222,
              "#7201a8"
             ],
             [
              0.3333333333333333,
              "#9c179e"
             ],
             [
              0.4444444444444444,
              "#bd3786"
             ],
             [
              0.5555555555555556,
              "#d8576b"
             ],
             [
              0.6666666666666666,
              "#ed7953"
             ],
             [
              0.7777777777777778,
              "#fb9f3a"
             ],
             [
              0.8888888888888888,
              "#fdca26"
             ],
             [
              1,
              "#f0f921"
             ]
            ],
            "type": "heatmapgl"
           }
          ],
          "histogram": [
           {
            "marker": {
             "pattern": {
              "fillmode": "overlay",
              "size": 10,
              "solidity": 0.2
             }
            },
            "type": "histogram"
           }
          ],
          "histogram2d": [
           {
            "colorbar": {
             "outlinewidth": 0,
             "ticks": ""
            },
            "colorscale": [
             [
              0,
              "#0d0887"
             ],
             [
              0.1111111111111111,
              "#46039f"
             ],
             [
              0.2222222222222222,
              "#7201a8"
             ],
             [
              0.3333333333333333,
              "#9c179e"
             ],
             [
              0.4444444444444444,
              "#bd3786"
             ],
             [
              0.5555555555555556,
              "#d8576b"
             ],
             [
              0.6666666666666666,
              "#ed7953"
             ],
             [
              0.7777777777777778,
              "#fb9f3a"
             ],
             [
              0.8888888888888888,
              "#fdca26"
             ],
             [
              1,
              "#f0f921"
             ]
            ],
            "type": "histogram2d"
           }
          ],
          "histogram2dcontour": [
           {
            "colorbar": {
             "outlinewidth": 0,
             "ticks": ""
            },
            "colorscale": [
             [
              0,
              "#0d0887"
             ],
             [
              0.1111111111111111,
              "#46039f"
             ],
             [
              0.2222222222222222,
              "#7201a8"
             ],
             [
              0.3333333333333333,
              "#9c179e"
             ],
             [
              0.4444444444444444,
              "#bd3786"
             ],
             [
              0.5555555555555556,
              "#d8576b"
             ],
             [
              0.6666666666666666,
              "#ed7953"
             ],
             [
              0.7777777777777778,
              "#fb9f3a"
             ],
             [
              0.8888888888888888,
              "#fdca26"
             ],
             [
              1,
              "#f0f921"
             ]
            ],
            "type": "histogram2dcontour"
           }
          ],
          "mesh3d": [
           {
            "colorbar": {
             "outlinewidth": 0,
             "ticks": ""
            },
            "type": "mesh3d"
           }
          ],
          "parcoords": [
           {
            "line": {
             "colorbar": {
              "outlinewidth": 0,
              "ticks": ""
             }
            },
            "type": "parcoords"
           }
          ],
          "pie": [
           {
            "automargin": true,
            "type": "pie"
           }
          ],
          "scatter": [
           {
            "fillpattern": {
             "fillmode": "overlay",
             "size": 10,
             "solidity": 0.2
            },
            "type": "scatter"
           }
          ],
          "scatter3d": [
           {
            "line": {
             "colorbar": {
              "outlinewidth": 0,
              "ticks": ""
             }
            },
            "marker": {
             "colorbar": {
              "outlinewidth": 0,
              "ticks": ""
             }
            },
            "type": "scatter3d"
           }
          ],
          "scattercarpet": [
           {
            "marker": {
             "colorbar": {
              "outlinewidth": 0,
              "ticks": ""
             }
            },
            "type": "scattercarpet"
           }
          ],
          "scattergeo": [
           {
            "marker": {
             "colorbar": {
              "outlinewidth": 0,
              "ticks": ""
             }
            },
            "type": "scattergeo"
           }
          ],
          "scattergl": [
           {
            "marker": {
             "colorbar": {
              "outlinewidth": 0,
              "ticks": ""
             }
            },
            "type": "scattergl"
           }
          ],
          "scattermapbox": [
           {
            "marker": {
             "colorbar": {
              "outlinewidth": 0,
              "ticks": ""
             }
            },
            "type": "scattermapbox"
           }
          ],
          "scatterpolar": [
           {
            "marker": {
             "colorbar": {
              "outlinewidth": 0,
              "ticks": ""
             }
            },
            "type": "scatterpolar"
           }
          ],
          "scatterpolargl": [
           {
            "marker": {
             "colorbar": {
              "outlinewidth": 0,
              "ticks": ""
             }
            },
            "type": "scatterpolargl"
           }
          ],
          "scatterternary": [
           {
            "marker": {
             "colorbar": {
              "outlinewidth": 0,
              "ticks": ""
             }
            },
            "type": "scatterternary"
           }
          ],
          "surface": [
           {
            "colorbar": {
             "outlinewidth": 0,
             "ticks": ""
            },
            "colorscale": [
             [
              0,
              "#0d0887"
             ],
             [
              0.1111111111111111,
              "#46039f"
             ],
             [
              0.2222222222222222,
              "#7201a8"
             ],
             [
              0.3333333333333333,
              "#9c179e"
             ],
             [
              0.4444444444444444,
              "#bd3786"
             ],
             [
              0.5555555555555556,
              "#d8576b"
             ],
             [
              0.6666666666666666,
              "#ed7953"
             ],
             [
              0.7777777777777778,
              "#fb9f3a"
             ],
             [
              0.8888888888888888,
              "#fdca26"
             ],
             [
              1,
              "#f0f921"
             ]
            ],
            "type": "surface"
           }
          ],
          "table": [
           {
            "cells": {
             "fill": {
              "color": "#EBF0F8"
             },
             "line": {
              "color": "white"
             }
            },
            "header": {
             "fill": {
              "color": "#C8D4E3"
             },
             "line": {
              "color": "white"
             }
            },
            "type": "table"
           }
          ]
         },
         "layout": {
          "annotationdefaults": {
           "arrowcolor": "#2a3f5f",
           "arrowhead": 0,
           "arrowwidth": 1
          },
          "autotypenumbers": "strict",
          "coloraxis": {
           "colorbar": {
            "outlinewidth": 0,
            "ticks": ""
           }
          },
          "colorscale": {
           "diverging": [
            [
             0,
             "#8e0152"
            ],
            [
             0.1,
             "#c51b7d"
            ],
            [
             0.2,
             "#de77ae"
            ],
            [
             0.3,
             "#f1b6da"
            ],
            [
             0.4,
             "#fde0ef"
            ],
            [
             0.5,
             "#f7f7f7"
            ],
            [
             0.6,
             "#e6f5d0"
            ],
            [
             0.7,
             "#b8e186"
            ],
            [
             0.8,
             "#7fbc41"
            ],
            [
             0.9,
             "#4d9221"
            ],
            [
             1,
             "#276419"
            ]
           ],
           "sequential": [
            [
             0,
             "#0d0887"
            ],
            [
             0.1111111111111111,
             "#46039f"
            ],
            [
             0.2222222222222222,
             "#7201a8"
            ],
            [
             0.3333333333333333,
             "#9c179e"
            ],
            [
             0.4444444444444444,
             "#bd3786"
            ],
            [
             0.5555555555555556,
             "#d8576b"
            ],
            [
             0.6666666666666666,
             "#ed7953"
            ],
            [
             0.7777777777777778,
             "#fb9f3a"
            ],
            [
             0.8888888888888888,
             "#fdca26"
            ],
            [
             1,
             "#f0f921"
            ]
           ],
           "sequentialminus": [
            [
             0,
             "#0d0887"
            ],
            [
             0.1111111111111111,
             "#46039f"
            ],
            [
             0.2222222222222222,
             "#7201a8"
            ],
            [
             0.3333333333333333,
             "#9c179e"
            ],
            [
             0.4444444444444444,
             "#bd3786"
            ],
            [
             0.5555555555555556,
             "#d8576b"
            ],
            [
             0.6666666666666666,
             "#ed7953"
            ],
            [
             0.7777777777777778,
             "#fb9f3a"
            ],
            [
             0.8888888888888888,
             "#fdca26"
            ],
            [
             1,
             "#f0f921"
            ]
           ]
          },
          "colorway": [
           "#636efa",
           "#EF553B",
           "#00cc96",
           "#ab63fa",
           "#FFA15A",
           "#19d3f3",
           "#FF6692",
           "#B6E880",
           "#FF97FF",
           "#FECB52"
          ],
          "font": {
           "color": "#2a3f5f"
          },
          "geo": {
           "bgcolor": "white",
           "lakecolor": "white",
           "landcolor": "white",
           "showlakes": true,
           "showland": true,
           "subunitcolor": "#C8D4E3"
          },
          "hoverlabel": {
           "align": "left"
          },
          "hovermode": "closest",
          "mapbox": {
           "style": "light"
          },
          "paper_bgcolor": "white",
          "plot_bgcolor": "white",
          "polar": {
           "angularaxis": {
            "gridcolor": "#EBF0F8",
            "linecolor": "#EBF0F8",
            "ticks": ""
           },
           "bgcolor": "white",
           "radialaxis": {
            "gridcolor": "#EBF0F8",
            "linecolor": "#EBF0F8",
            "ticks": ""
           }
          },
          "scene": {
           "xaxis": {
            "backgroundcolor": "white",
            "gridcolor": "#DFE8F3",
            "gridwidth": 2,
            "linecolor": "#EBF0F8",
            "showbackground": true,
            "ticks": "",
            "zerolinecolor": "#EBF0F8"
           },
           "yaxis": {
            "backgroundcolor": "white",
            "gridcolor": "#DFE8F3",
            "gridwidth": 2,
            "linecolor": "#EBF0F8",
            "showbackground": true,
            "ticks": "",
            "zerolinecolor": "#EBF0F8"
           },
           "zaxis": {
            "backgroundcolor": "white",
            "gridcolor": "#DFE8F3",
            "gridwidth": 2,
            "linecolor": "#EBF0F8",
            "showbackground": true,
            "ticks": "",
            "zerolinecolor": "#EBF0F8"
           }
          },
          "shapedefaults": {
           "line": {
            "color": "#2a3f5f"
           }
          },
          "ternary": {
           "aaxis": {
            "gridcolor": "#DFE8F3",
            "linecolor": "#A2B1C6",
            "ticks": ""
           },
           "baxis": {
            "gridcolor": "#DFE8F3",
            "linecolor": "#A2B1C6",
            "ticks": ""
           },
           "bgcolor": "white",
           "caxis": {
            "gridcolor": "#DFE8F3",
            "linecolor": "#A2B1C6",
            "ticks": ""
           }
          },
          "title": {
           "x": 0.05
          },
          "xaxis": {
           "automargin": true,
           "gridcolor": "#EBF0F8",
           "linecolor": "#EBF0F8",
           "ticks": "",
           "title": {
            "standoff": 15
           },
           "zerolinecolor": "#EBF0F8",
           "zerolinewidth": 2
          },
          "yaxis": {
           "automargin": true,
           "gridcolor": "#EBF0F8",
           "linecolor": "#EBF0F8",
           "ticks": "",
           "title": {
            "standoff": 15
           },
           "zerolinecolor": "#EBF0F8",
           "zerolinewidth": 2
          }
         }
        },
        "xaxis": {
         "tickfont": {
          "size": 12
         }
        },
        "yaxis": {
         "tickfont": {
          "size": 12
         },
         "title": {
          "font": {
           "size": 13
          },
          "text": "% change"
         }
        }
       }
      }
     },
     "metadata": {},
     "output_type": "display_data"
    }
   ],
   "source": [
    "df = plotly_prtfl_val[['date', 'ptf_growth', 'sp500_growth']].copy().round(3)\n",
    "df['month'] = df.date.dt.month_name()  # date column should be formatted as datetime\n",
    "df['weekday'] = df.date.dt.day_name()  # could be interesting to analyze weekday returns later\n",
    "df['year'] = df.date.dt.year\n",
    "df['weeknumber'] = df.date.dt.week    # could be interesting to try instead of timeperiod\n",
    "df['timeperiod'] = df.year.astype(str) + ' - ' + df.date.dt.month.astype(str).str.zfill(2)\n",
    "\n",
    "# getting the percentage change for each period. the first period will be NaN\n",
    "sp = df.reset_index().groupby('timeperiod').last()['sp500_growth'].pct_change()*100\n",
    "ptf = df.reset_index().groupby('timeperiod').last()['ptf_growth'].pct_change()*100\n",
    "plotlydf_growth_compare = pd.merge(ptf, sp, on='timeperiod').reset_index().round(3)\n",
    "plotlydf_growth_compare.head()\n",
    "\n",
    "# Plotly part\n",
    "fig_growth2 = go.Figure()\n",
    "fig_growth2.layout.template = CHART_THEME\n",
    "fig_growth2.add_trace(go.Bar(\n",
    "    x=plotlydf_growth_compare.timeperiod,\n",
    "    y=plotlydf_growth_compare.ptf_growth.round(2),\n",
    "    name='Portfolio'\n",
    "))\n",
    "fig_growth2.add_trace(go.Bar(\n",
    "    x=plotlydf_growth_compare.timeperiod,\n",
    "    y=plotlydf_growth_compare.sp500_growth.round(2),\n",
    "    name='S&P 500',\n",
    "))\n",
    "fig_growth2.update_layout(barmode='group')\n",
    "fig_growth2.layout.height=300\n",
    "fig_growth2.update_layout(margin = dict(t=50, b=50, l=25, r=25))\n",
    "fig_growth2.update_layout(\n",
    "    xaxis_tickfont_size=12,\n",
    "    yaxis=dict(\n",
    "        title='% change',\n",
    "        titlefont_size=13,\n",
    "        tickfont_size=12,\n",
    "        ))\n",
    "\n",
    "fig_growth2.update_layout(legend=dict(\n",
    "    yanchor=\"top\",\n",
    "    y=0.99,\n",
    "    xanchor=\"right\",\n",
    "    x=0.99))\n",
    "fig_growth2.show()"
   ]
  },
  {
   "cell_type": "markdown",
   "metadata": {},
   "source": [
    "KPI Visual Cards to insert in final dashboard."
   ]
  },
  {
   "cell_type": "code",
   "execution_count": null,
   "metadata": {},
   "outputs": [
    {
     "data": {
      "application/vnd.plotly.v1+json": {
       "config": {
        "plotlyServerURL": "https://plot.ly"
       },
       "data": [
        {
         "domain": {
          "column": 0,
          "row": 0
         },
         "mode": "number+delta",
         "number": {
          "suffix": " %"
         },
         "title": {
          "text": "<br><span style='font-size:0.7em;color:gray'>7 Days</span>"
         },
         "type": "indicator",
         "value": -1.7000000000000002
        },
        {
         "domain": {
          "column": 0,
          "row": 1
         },
         "mode": "number+delta",
         "number": {
          "suffix": " %"
         },
         "title": {
          "text": "<span style='font-size:0.7em;color:gray'>15 Days</span>"
         },
         "type": "indicator",
         "value": -2.3
        },
        {
         "domain": {
          "column": 0,
          "row": 2
         },
         "mode": "number+delta",
         "number": {
          "suffix": " %"
         },
         "title": {
          "text": "<span style='font-size:0.7em;color:gray'>30 Days</span>"
         },
         "type": "indicator",
         "value": 0.5
        },
        {
         "domain": {
          "column": 1,
          "row": 3
         },
         "mode": "number+delta",
         "number": {
          "suffix": " %"
         },
         "title": {
          "text": "<span style='font-size:0.7em;color:gray'>200 Days</span>"
         },
         "type": "indicator",
         "value": 17
        }
       ],
       "layout": {
        "grid": {
         "columns": 1,
         "pattern": "independent",
         "rows": 4
        },
        "margin": {
         "b": 30,
         "l": 50,
         "r": 50,
         "t": 30
        },
        "template": {
         "data": {
          "bar": [
           {
            "error_x": {
             "color": "#2a3f5f"
            },
            "error_y": {
             "color": "#2a3f5f"
            },
            "marker": {
             "line": {
              "color": "white",
              "width": 0.5
             },
             "pattern": {
              "fillmode": "overlay",
              "size": 10,
              "solidity": 0.2
             }
            },
            "type": "bar"
           }
          ],
          "barpolar": [
           {
            "marker": {
             "line": {
              "color": "white",
              "width": 0.5
             },
             "pattern": {
              "fillmode": "overlay",
              "size": 10,
              "solidity": 0.2
             }
            },
            "type": "barpolar"
           }
          ],
          "carpet": [
           {
            "aaxis": {
             "endlinecolor": "#2a3f5f",
             "gridcolor": "#C8D4E3",
             "linecolor": "#C8D4E3",
             "minorgridcolor": "#C8D4E3",
             "startlinecolor": "#2a3f5f"
            },
            "baxis": {
             "endlinecolor": "#2a3f5f",
             "gridcolor": "#C8D4E3",
             "linecolor": "#C8D4E3",
             "minorgridcolor": "#C8D4E3",
             "startlinecolor": "#2a3f5f"
            },
            "type": "carpet"
           }
          ],
          "choropleth": [
           {
            "colorbar": {
             "outlinewidth": 0,
             "ticks": ""
            },
            "type": "choropleth"
           }
          ],
          "contour": [
           {
            "colorbar": {
             "outlinewidth": 0,
             "ticks": ""
            },
            "colorscale": [
             [
              0,
              "#0d0887"
             ],
             [
              0.1111111111111111,
              "#46039f"
             ],
             [
              0.2222222222222222,
              "#7201a8"
             ],
             [
              0.3333333333333333,
              "#9c179e"
             ],
             [
              0.4444444444444444,
              "#bd3786"
             ],
             [
              0.5555555555555556,
              "#d8576b"
             ],
             [
              0.6666666666666666,
              "#ed7953"
             ],
             [
              0.7777777777777778,
              "#fb9f3a"
             ],
             [
              0.8888888888888888,
              "#fdca26"
             ],
             [
              1,
              "#f0f921"
             ]
            ],
            "type": "contour"
           }
          ],
          "contourcarpet": [
           {
            "colorbar": {
             "outlinewidth": 0,
             "ticks": ""
            },
            "type": "contourcarpet"
           }
          ],
          "heatmap": [
           {
            "colorbar": {
             "outlinewidth": 0,
             "ticks": ""
            },
            "colorscale": [
             [
              0,
              "#0d0887"
             ],
             [
              0.1111111111111111,
              "#46039f"
             ],
             [
              0.2222222222222222,
              "#7201a8"
             ],
             [
              0.3333333333333333,
              "#9c179e"
             ],
             [
              0.4444444444444444,
              "#bd3786"
             ],
             [
              0.5555555555555556,
              "#d8576b"
             ],
             [
              0.6666666666666666,
              "#ed7953"
             ],
             [
              0.7777777777777778,
              "#fb9f3a"
             ],
             [
              0.8888888888888888,
              "#fdca26"
             ],
             [
              1,
              "#f0f921"
             ]
            ],
            "type": "heatmap"
           }
          ],
          "heatmapgl": [
           {
            "colorbar": {
             "outlinewidth": 0,
             "ticks": ""
            },
            "colorscale": [
             [
              0,
              "#0d0887"
             ],
             [
              0.1111111111111111,
              "#46039f"
             ],
             [
              0.2222222222222222,
              "#7201a8"
             ],
             [
              0.3333333333333333,
              "#9c179e"
             ],
             [
              0.4444444444444444,
              "#bd3786"
             ],
             [
              0.5555555555555556,
              "#d8576b"
             ],
             [
              0.6666666666666666,
              "#ed7953"
             ],
             [
              0.7777777777777778,
              "#fb9f3a"
             ],
             [
              0.8888888888888888,
              "#fdca26"
             ],
             [
              1,
              "#f0f921"
             ]
            ],
            "type": "heatmapgl"
           }
          ],
          "histogram": [
           {
            "marker": {
             "pattern": {
              "fillmode": "overlay",
              "size": 10,
              "solidity": 0.2
             }
            },
            "type": "histogram"
           }
          ],
          "histogram2d": [
           {
            "colorbar": {
             "outlinewidth": 0,
             "ticks": ""
            },
            "colorscale": [
             [
              0,
              "#0d0887"
             ],
             [
              0.1111111111111111,
              "#46039f"
             ],
             [
              0.2222222222222222,
              "#7201a8"
             ],
             [
              0.3333333333333333,
              "#9c179e"
             ],
             [
              0.4444444444444444,
              "#bd3786"
             ],
             [
              0.5555555555555556,
              "#d8576b"
             ],
             [
              0.6666666666666666,
              "#ed7953"
             ],
             [
              0.7777777777777778,
              "#fb9f3a"
             ],
             [
              0.8888888888888888,
              "#fdca26"
             ],
             [
              1,
              "#f0f921"
             ]
            ],
            "type": "histogram2d"
           }
          ],
          "histogram2dcontour": [
           {
            "colorbar": {
             "outlinewidth": 0,
             "ticks": ""
            },
            "colorscale": [
             [
              0,
              "#0d0887"
             ],
             [
              0.1111111111111111,
              "#46039f"
             ],
             [
              0.2222222222222222,
              "#7201a8"
             ],
             [
              0.3333333333333333,
              "#9c179e"
             ],
             [
              0.4444444444444444,
              "#bd3786"
             ],
             [
              0.5555555555555556,
              "#d8576b"
             ],
             [
              0.6666666666666666,
              "#ed7953"
             ],
             [
              0.7777777777777778,
              "#fb9f3a"
             ],
             [
              0.8888888888888888,
              "#fdca26"
             ],
             [
              1,
              "#f0f921"
             ]
            ],
            "type": "histogram2dcontour"
           }
          ],
          "mesh3d": [
           {
            "colorbar": {
             "outlinewidth": 0,
             "ticks": ""
            },
            "type": "mesh3d"
           }
          ],
          "parcoords": [
           {
            "line": {
             "colorbar": {
              "outlinewidth": 0,
              "ticks": ""
             }
            },
            "type": "parcoords"
           }
          ],
          "pie": [
           {
            "automargin": true,
            "type": "pie"
           }
          ],
          "scatter": [
           {
            "fillpattern": {
             "fillmode": "overlay",
             "size": 10,
             "solidity": 0.2
            },
            "type": "scatter"
           }
          ],
          "scatter3d": [
           {
            "line": {
             "colorbar": {
              "outlinewidth": 0,
              "ticks": ""
             }
            },
            "marker": {
             "colorbar": {
              "outlinewidth": 0,
              "ticks": ""
             }
            },
            "type": "scatter3d"
           }
          ],
          "scattercarpet": [
           {
            "marker": {
             "colorbar": {
              "outlinewidth": 0,
              "ticks": ""
             }
            },
            "type": "scattercarpet"
           }
          ],
          "scattergeo": [
           {
            "marker": {
             "colorbar": {
              "outlinewidth": 0,
              "ticks": ""
             }
            },
            "type": "scattergeo"
           }
          ],
          "scattergl": [
           {
            "marker": {
             "colorbar": {
              "outlinewidth": 0,
              "ticks": ""
             }
            },
            "type": "scattergl"
           }
          ],
          "scattermapbox": [
           {
            "marker": {
             "colorbar": {
              "outlinewidth": 0,
              "ticks": ""
             }
            },
            "type": "scattermapbox"
           }
          ],
          "scatterpolar": [
           {
            "marker": {
             "colorbar": {
              "outlinewidth": 0,
              "ticks": ""
             }
            },
            "type": "scatterpolar"
           }
          ],
          "scatterpolargl": [
           {
            "marker": {
             "colorbar": {
              "outlinewidth": 0,
              "ticks": ""
             }
            },
            "type": "scatterpolargl"
           }
          ],
          "scatterternary": [
           {
            "marker": {
             "colorbar": {
              "outlinewidth": 0,
              "ticks": ""
             }
            },
            "type": "scatterternary"
           }
          ],
          "surface": [
           {
            "colorbar": {
             "outlinewidth": 0,
             "ticks": ""
            },
            "colorscale": [
             [
              0,
              "#0d0887"
             ],
             [
              0.1111111111111111,
              "#46039f"
             ],
             [
              0.2222222222222222,
              "#7201a8"
             ],
             [
              0.3333333333333333,
              "#9c179e"
             ],
             [
              0.4444444444444444,
              "#bd3786"
             ],
             [
              0.5555555555555556,
              "#d8576b"
             ],
             [
              0.6666666666666666,
              "#ed7953"
             ],
             [
              0.7777777777777778,
              "#fb9f3a"
             ],
             [
              0.8888888888888888,
              "#fdca26"
             ],
             [
              1,
              "#f0f921"
             ]
            ],
            "type": "surface"
           }
          ],
          "table": [
           {
            "cells": {
             "fill": {
              "color": "#EBF0F8"
             },
             "line": {
              "color": "white"
             }
            },
            "header": {
             "fill": {
              "color": "#C8D4E3"
             },
             "line": {
              "color": "white"
             }
            },
            "type": "table"
           }
          ]
         },
         "layout": {
          "annotationdefaults": {
           "arrowcolor": "#2a3f5f",
           "arrowhead": 0,
           "arrowwidth": 1
          },
          "autotypenumbers": "strict",
          "coloraxis": {
           "colorbar": {
            "outlinewidth": 0,
            "ticks": ""
           }
          },
          "colorscale": {
           "diverging": [
            [
             0,
             "#8e0152"
            ],
            [
             0.1,
             "#c51b7d"
            ],
            [
             0.2,
             "#de77ae"
            ],
            [
             0.3,
             "#f1b6da"
            ],
            [
             0.4,
             "#fde0ef"
            ],
            [
             0.5,
             "#f7f7f7"
            ],
            [
             0.6,
             "#e6f5d0"
            ],
            [
             0.7,
             "#b8e186"
            ],
            [
             0.8,
             "#7fbc41"
            ],
            [
             0.9,
             "#4d9221"
            ],
            [
             1,
             "#276419"
            ]
           ],
           "sequential": [
            [
             0,
             "#0d0887"
            ],
            [
             0.1111111111111111,
             "#46039f"
            ],
            [
             0.2222222222222222,
             "#7201a8"
            ],
            [
             0.3333333333333333,
             "#9c179e"
            ],
            [
             0.4444444444444444,
             "#bd3786"
            ],
            [
             0.5555555555555556,
             "#d8576b"
            ],
            [
             0.6666666666666666,
             "#ed7953"
            ],
            [
             0.7777777777777778,
             "#fb9f3a"
            ],
            [
             0.8888888888888888,
             "#fdca26"
            ],
            [
             1,
             "#f0f921"
            ]
           ],
           "sequentialminus": [
            [
             0,
             "#0d0887"
            ],
            [
             0.1111111111111111,
             "#46039f"
            ],
            [
             0.2222222222222222,
             "#7201a8"
            ],
            [
             0.3333333333333333,
             "#9c179e"
            ],
            [
             0.4444444444444444,
             "#bd3786"
            ],
            [
             0.5555555555555556,
             "#d8576b"
            ],
            [
             0.6666666666666666,
             "#ed7953"
            ],
            [
             0.7777777777777778,
             "#fb9f3a"
            ],
            [
             0.8888888888888888,
             "#fdca26"
            ],
            [
             1,
             "#f0f921"
            ]
           ]
          },
          "colorway": [
           "#636efa",
           "#EF553B",
           "#00cc96",
           "#ab63fa",
           "#FFA15A",
           "#19d3f3",
           "#FF6692",
           "#B6E880",
           "#FF97FF",
           "#FECB52"
          ],
          "font": {
           "color": "#2a3f5f"
          },
          "geo": {
           "bgcolor": "white",
           "lakecolor": "white",
           "landcolor": "white",
           "showlakes": true,
           "showland": true,
           "subunitcolor": "#C8D4E3"
          },
          "hoverlabel": {
           "align": "left"
          },
          "hovermode": "closest",
          "mapbox": {
           "style": "light"
          },
          "paper_bgcolor": "white",
          "plot_bgcolor": "white",
          "polar": {
           "angularaxis": {
            "gridcolor": "#EBF0F8",
            "linecolor": "#EBF0F8",
            "ticks": ""
           },
           "bgcolor": "white",
           "radialaxis": {
            "gridcolor": "#EBF0F8",
            "linecolor": "#EBF0F8",
            "ticks": ""
           }
          },
          "scene": {
           "xaxis": {
            "backgroundcolor": "white",
            "gridcolor": "#DFE8F3",
            "gridwidth": 2,
            "linecolor": "#EBF0F8",
            "showbackground": true,
            "ticks": "",
            "zerolinecolor": "#EBF0F8"
           },
           "yaxis": {
            "backgroundcolor": "white",
            "gridcolor": "#DFE8F3",
            "gridwidth": 2,
            "linecolor": "#EBF0F8",
            "showbackground": true,
            "ticks": "",
            "zerolinecolor": "#EBF0F8"
           },
           "zaxis": {
            "backgroundcolor": "white",
            "gridcolor": "#DFE8F3",
            "gridwidth": 2,
            "linecolor": "#EBF0F8",
            "showbackground": true,
            "ticks": "",
            "zerolinecolor": "#EBF0F8"
           }
          },
          "shapedefaults": {
           "line": {
            "color": "#2a3f5f"
           }
          },
          "ternary": {
           "aaxis": {
            "gridcolor": "#DFE8F3",
            "linecolor": "#A2B1C6",
            "ticks": ""
           },
           "baxis": {
            "gridcolor": "#DFE8F3",
            "linecolor": "#A2B1C6",
            "ticks": ""
           },
           "bgcolor": "white",
           "caxis": {
            "gridcolor": "#DFE8F3",
            "linecolor": "#A2B1C6",
            "ticks": ""
           }
          },
          "title": {
           "x": 0.05
          },
          "xaxis": {
           "automargin": true,
           "gridcolor": "#EBF0F8",
           "linecolor": "#EBF0F8",
           "ticks": "",
           "title": {
            "standoff": 15
           },
           "zerolinecolor": "#EBF0F8",
           "zerolinewidth": 2
          },
          "yaxis": {
           "automargin": true,
           "gridcolor": "#EBF0F8",
           "linecolor": "#EBF0F8",
           "ticks": "",
           "title": {
            "standoff": 15
           },
           "zerolinecolor": "#EBF0F8",
           "zerolinewidth": 2
          }
         }
        }
       }
      }
     },
     "metadata": {},
     "output_type": "display_data"
    }
   ],
   "source": [
    "indicators_ptf = go.Figure()\n",
    "indicators_ptf.layout.template = CHART_THEME\n",
    "\n",
    "indicators_ptf.add_trace(go.Indicator(\n",
    "    mode = \"number+delta\",\n",
    "    value = kpi_portfolio7d_pct,\n",
    "    number = {'suffix': \" %\"},\n",
    "    title = {\"text\": \"<br><span style='font-size:0.7em;color:gray'>7 Days</span>\"},\n",
    "    delta = {'position': \"bottom\", 'reference': kpi_sp500_7d_pct, 'relative': False},\n",
    "    domain = {'row': 0, 'column': 0}))\n",
    "\n",
    "indicators_ptf.add_trace(go.Indicator(\n",
    "    mode = \"number+delta\",\n",
    "    value = kpi_portfolio15d_pct,\n",
    "    number = {'suffix': \" %\"},\n",
    "    title = {\"text\": \"<span style='font-size:0.7em;color:gray'>15 Days</span>\"},\n",
    "    delta = {'position': \"bottom\", 'reference': kpi_sp500_15d_pct, 'relative': False},\n",
    "    domain = {'row': 1, 'column': 0}))\n",
    "\n",
    "indicators_ptf.add_trace(go.Indicator(\n",
    "    mode = \"number+delta\",\n",
    "    value = kpi_portfolio30d_pct,\n",
    "    number = {'suffix': \" %\"},\n",
    "    title = {\"text\": \"<span style='font-size:0.7em;color:gray'>30 Days</span>\"},\n",
    "    delta = {'position': \"bottom\", 'reference': kpi_sp500_30d_pct, 'relative': False},\n",
    "    domain = {'row': 2, 'column': 0}))\n",
    "\n",
    "indicators_ptf.add_trace(go.Indicator(\n",
    "    mode = \"number+delta\",\n",
    "    value = kpi_portfolio200d_pct,\n",
    "    number = {'suffix': \" %\"},\n",
    "    title = {\"text\": \"<span style='font-size:0.7em;color:gray'>200 Days</span>\"},\n",
    "    delta = {'position': \"bottom\", 'reference': kpi_sp500_200d_pct, 'relative': False},\n",
    "    domain = {'row': 3, 'column': 1}))\n",
    "\n",
    "indicators_ptf.update_layout(\n",
    "    grid = {'rows': 4, 'columns': 1, 'pattern': \"independent\"},\n",
    "    margin=dict(l=50, r=50, t=30, b=30)\n",
    ")\n",
    "\n",
    "indicators_sp500 = go.Figure()\n",
    "indicators_sp500.layout.template = CHART_THEME\n",
    "indicators_sp500.add_trace(go.Indicator(\n",
    "    mode = \"number+delta\",\n",
    "    value = kpi_sp500_7d_pct,\n",
    "    number = {'suffix': \" %\"},\n",
    "    title = {\"text\": \"<br><span style='font-size:0.7em;color:gray'>7 Days</span>\"},\n",
    "    domain = {'row': 0, 'column': 0}))\n",
    "\n",
    "indicators_sp500.add_trace(go.Indicator(\n",
    "    mode = \"number+delta\",\n",
    "    value = kpi_sp500_15d_pct,\n",
    "    number = {'suffix': \" %\"},\n",
    "    title = {\"text\": \"<span style='font-size:0.7em;color:gray'>15 Days</span>\"},\n",
    "    domain = {'row': 1, 'column': 0}))\n",
    "\n",
    "indicators_sp500.add_trace(go.Indicator(\n",
    "    mode = \"number+delta\",\n",
    "    value = kpi_sp500_30d_pct,\n",
    "    number = {'suffix': \" %\"},\n",
    "    title = {\"text\": \"<span style='font-size:0.7em;color:gray'>30 Days</span>\"},\n",
    "    domain = {'row': 2, 'column': 0}))\n",
    "\n",
    "indicators_sp500.add_trace(go.Indicator(\n",
    "    mode = \"number+delta\",\n",
    "    value = kpi_sp500_200d_pct,\n",
    "    number = {'suffix': \" %\"},\n",
    "    title = {\"text\": \"<span style='font-size:0.7em;color:gray'>200 Days</span>\"},\n",
    "    domain = {'row': 3, 'column': 1}))\n",
    "\n",
    "indicators_sp500.update_layout(\n",
    "    grid = {'rows': 4, 'columns': 1, 'pattern': \"independent\"},\n",
    "    margin=dict(l=50, r=50, t=30, b=30)\n",
    ")"
   ]
  },
  {
   "cell_type": "code",
   "execution_count": null,
   "metadata": {},
   "outputs": [
    {
     "data": {
      "text/html": [
       "<div>\n",
       "<style scoped>\n",
       "    .dataframe tbody tr th:only-of-type {\n",
       "        vertical-align: middle;\n",
       "    }\n",
       "\n",
       "    .dataframe tbody tr th {\n",
       "        vertical-align: top;\n",
       "    }\n",
       "\n",
       "    .dataframe thead th {\n",
       "        text-align: right;\n",
       "    }\n",
       "</style>\n",
       "<table border=\"1\" class=\"dataframe\">\n",
       "  <thead>\n",
       "    <tr style=\"text-align: right;\">\n",
       "      <th></th>\n",
       "      <th>Date</th>\n",
       "      <th>close</th>\n",
       "      <th>ticker</th>\n",
       "      <th>type</th>\n",
       "      <th>val_transact</th>\n",
       "      <th>quantity</th>\n",
       "      <th>prev_units</th>\n",
       "      <th>cml_units</th>\n",
       "      <th>prev_cost</th>\n",
       "      <th>cml_cost</th>\n",
       "      <th>cost_transact</th>\n",
       "      <th>cml_invested</th>\n",
       "      <th>cost_unit</th>\n",
       "      <th>cum_position_val</th>\n",
       "      <th>gain_loss</th>\n",
       "      <th>yield</th>\n",
       "      <th>avg_price</th>\n",
       "      <th>current_value</th>\n",
       "    </tr>\n",
       "  </thead>\n",
       "  <tbody>\n",
       "    <tr>\n",
       "      <th>0</th>\n",
       "      <td>2022-01-01</td>\n",
       "      <td>38483.125000</td>\n",
       "      <td>BTC-USD</td>\n",
       "      <td>Buy</td>\n",
       "      <td>50000</td>\n",
       "      <td>1.299271</td>\n",
       "      <td>NaN</td>\n",
       "      <td>1.299271</td>\n",
       "      <td>NaN</td>\n",
       "      <td>50000</td>\n",
       "      <td>47.5</td>\n",
       "      <td>49952.5</td>\n",
       "      <td>38483.125000</td>\n",
       "      <td>5.000000e+04</td>\n",
       "      <td>4.750000e+01</td>\n",
       "      <td>-0.999049</td>\n",
       "      <td>38483.125000</td>\n",
       "      <td>5.000000e+04</td>\n",
       "    </tr>\n",
       "    <tr>\n",
       "      <th>1</th>\n",
       "      <td>2022-02-01</td>\n",
       "      <td>43193.234375</td>\n",
       "      <td>BTC-USD</td>\n",
       "      <td>Buy</td>\n",
       "      <td>50000</td>\n",
       "      <td>1.157589</td>\n",
       "      <td>1.299271</td>\n",
       "      <td>2.456859</td>\n",
       "      <td>50000.0</td>\n",
       "      <td>100000</td>\n",
       "      <td>47.5</td>\n",
       "      <td>99952.5</td>\n",
       "      <td>86386.468750</td>\n",
       "      <td>1.061197e+05</td>\n",
       "      <td>6.167208e+03</td>\n",
       "      <td>-0.938299</td>\n",
       "      <td>40838.179688</td>\n",
       "      <td>1.061197e+05</td>\n",
       "    </tr>\n",
       "    <tr>\n",
       "      <th>2</th>\n",
       "      <td>2022-03-01</td>\n",
       "      <td>45538.675781</td>\n",
       "      <td>BTC-USD</td>\n",
       "      <td>Buy</td>\n",
       "      <td>50000</td>\n",
       "      <td>1.097968</td>\n",
       "      <td>1.157589</td>\n",
       "      <td>3.554827</td>\n",
       "      <td>50000.0</td>\n",
       "      <td>150000</td>\n",
       "      <td>47.5</td>\n",
       "      <td>149952.5</td>\n",
       "      <td>136616.027344</td>\n",
       "      <td>1.618821e+05</td>\n",
       "      <td>1.192963e+04</td>\n",
       "      <td>-0.920444</td>\n",
       "      <td>42405.011719</td>\n",
       "      <td>1.618821e+05</td>\n",
       "    </tr>\n",
       "    <tr>\n",
       "      <th>3</th>\n",
       "      <td>2022-04-01</td>\n",
       "      <td>37714.875000</td>\n",
       "      <td>BTC-USD</td>\n",
       "      <td>Buy</td>\n",
       "      <td>50000</td>\n",
       "      <td>1.325737</td>\n",
       "      <td>1.097968</td>\n",
       "      <td>4.880564</td>\n",
       "      <td>50000.0</td>\n",
       "      <td>200000</td>\n",
       "      <td>47.5</td>\n",
       "      <td>199952.5</td>\n",
       "      <td>150859.500000</td>\n",
       "      <td>1.840699e+05</td>\n",
       "      <td>-1.588263e+04</td>\n",
       "      <td>-1.079432</td>\n",
       "      <td>41232.477539</td>\n",
       "      <td>1.840699e+05</td>\n",
       "    </tr>\n",
       "    <tr>\n",
       "      <th>4</th>\n",
       "      <td>2022-05-01</td>\n",
       "      <td>31792.310547</td>\n",
       "      <td>BTC-USD</td>\n",
       "      <td>Buy</td>\n",
       "      <td>50000</td>\n",
       "      <td>1.572707</td>\n",
       "      <td>1.325737</td>\n",
       "      <td>6.453271</td>\n",
       "      <td>50000.0</td>\n",
       "      <td>250000</td>\n",
       "      <td>47.5</td>\n",
       "      <td>249952.5</td>\n",
       "      <td>158961.552734</td>\n",
       "      <td>2.051644e+05</td>\n",
       "      <td>-4.478809e+04</td>\n",
       "      <td>-1.179186</td>\n",
       "      <td>39344.444141</td>\n",
       "      <td>2.051644e+05</td>\n",
       "    </tr>\n",
       "    <tr>\n",
       "      <th>...</th>\n",
       "      <td>...</td>\n",
       "      <td>...</td>\n",
       "      <td>...</td>\n",
       "      <td>...</td>\n",
       "      <td>...</td>\n",
       "      <td>...</td>\n",
       "      <td>...</td>\n",
       "      <td>...</td>\n",
       "      <td>...</td>\n",
       "      <td>...</td>\n",
       "      <td>...</td>\n",
       "      <td>...</td>\n",
       "      <td>...</td>\n",
       "      <td>...</td>\n",
       "      <td>...</td>\n",
       "      <td>...</td>\n",
       "      <td>...</td>\n",
       "      <td>...</td>\n",
       "    </tr>\n",
       "    <tr>\n",
       "      <th>107</th>\n",
       "      <td>2023-12-01</td>\n",
       "      <td>38.544910</td>\n",
       "      <td>AVAX-USD</td>\n",
       "      <td>Buy</td>\n",
       "      <td>10000</td>\n",
       "      <td>1297.188123</td>\n",
       "      <td>2337.883906</td>\n",
       "      <td>67079.482160</td>\n",
       "      <td>50000.0</td>\n",
       "      <td>1200000</td>\n",
       "      <td>47.5</td>\n",
       "      <td>1199952.5</td>\n",
       "      <td>925.077850</td>\n",
       "      <td>2.585573e+06</td>\n",
       "      <td>1.385620e+06</td>\n",
       "      <td>0.154729</td>\n",
       "      <td>27.388319</td>\n",
       "      <td>2.585573e+06</td>\n",
       "    </tr>\n",
       "    <tr>\n",
       "      <th>108</th>\n",
       "      <td>2024-01-01</td>\n",
       "      <td>33.161900</td>\n",
       "      <td>AVAX-USD</td>\n",
       "      <td>Buy</td>\n",
       "      <td>10000</td>\n",
       "      <td>1507.754400</td>\n",
       "      <td>1297.188123</td>\n",
       "      <td>68587.236560</td>\n",
       "      <td>50000.0</td>\n",
       "      <td>1250000</td>\n",
       "      <td>47.5</td>\n",
       "      <td>1249952.5</td>\n",
       "      <td>829.047489</td>\n",
       "      <td>2.274483e+06</td>\n",
       "      <td>1.024531e+06</td>\n",
       "      <td>-0.180344</td>\n",
       "      <td>27.619262</td>\n",
       "      <td>2.274483e+06</td>\n",
       "    </tr>\n",
       "    <tr>\n",
       "      <th>109</th>\n",
       "      <td>2024-02-01</td>\n",
       "      <td>40.935387</td>\n",
       "      <td>AVAX-USD</td>\n",
       "      <td>Buy</td>\n",
       "      <td>10000</td>\n",
       "      <td>1221.437101</td>\n",
       "      <td>1507.754400</td>\n",
       "      <td>69808.673661</td>\n",
       "      <td>50000.0</td>\n",
       "      <td>1300000</td>\n",
       "      <td>47.5</td>\n",
       "      <td>1299952.5</td>\n",
       "      <td>1064.320053</td>\n",
       "      <td>2.857645e+06</td>\n",
       "      <td>1.557693e+06</td>\n",
       "      <td>0.198269</td>\n",
       "      <td>28.131421</td>\n",
       "      <td>2.857645e+06</td>\n",
       "    </tr>\n",
       "    <tr>\n",
       "      <th>110</th>\n",
       "      <td>2024-03-01</td>\n",
       "      <td>54.110428</td>\n",
       "      <td>AVAX-USD</td>\n",
       "      <td>Buy</td>\n",
       "      <td>10000</td>\n",
       "      <td>924.036308</td>\n",
       "      <td>1221.437101</td>\n",
       "      <td>70732.709969</td>\n",
       "      <td>50000.0</td>\n",
       "      <td>1350000</td>\n",
       "      <td>47.5</td>\n",
       "      <td>1349952.5</td>\n",
       "      <td>1460.981552</td>\n",
       "      <td>3.827377e+06</td>\n",
       "      <td>2.477425e+06</td>\n",
       "      <td>0.835194</td>\n",
       "      <td>29.093606</td>\n",
       "      <td>3.827377e+06</td>\n",
       "    </tr>\n",
       "    <tr>\n",
       "      <th>111</th>\n",
       "      <td>2024-04-01</td>\n",
       "      <td>35.419815</td>\n",
       "      <td>AVAX-USD</td>\n",
       "      <td>Buy</td>\n",
       "      <td>10000</td>\n",
       "      <td>1411.639217</td>\n",
       "      <td>924.036308</td>\n",
       "      <td>72144.349186</td>\n",
       "      <td>50000.0</td>\n",
       "      <td>1400000</td>\n",
       "      <td>47.5</td>\n",
       "      <td>1399952.5</td>\n",
       "      <td>991.754822</td>\n",
       "      <td>2.555340e+06</td>\n",
       "      <td>1.155387e+06</td>\n",
       "      <td>-0.174696</td>\n",
       "      <td>29.319542</td>\n",
       "      <td>2.555340e+06</td>\n",
       "    </tr>\n",
       "  </tbody>\n",
       "</table>\n",
       "<p>112 rows × 18 columns</p>\n",
       "</div>"
      ],
      "text/plain": [
       "          Date         close    ticker type  val_transact     quantity  \\\n",
       "0   2022-01-01  38483.125000   BTC-USD  Buy         50000     1.299271   \n",
       "1   2022-02-01  43193.234375   BTC-USD  Buy         50000     1.157589   \n",
       "2   2022-03-01  45538.675781   BTC-USD  Buy         50000     1.097968   \n",
       "3   2022-04-01  37714.875000   BTC-USD  Buy         50000     1.325737   \n",
       "4   2022-05-01  31792.310547   BTC-USD  Buy         50000     1.572707   \n",
       "..         ...           ...       ...  ...           ...          ...   \n",
       "107 2023-12-01     38.544910  AVAX-USD  Buy         10000  1297.188123   \n",
       "108 2024-01-01     33.161900  AVAX-USD  Buy         10000  1507.754400   \n",
       "109 2024-02-01     40.935387  AVAX-USD  Buy         10000  1221.437101   \n",
       "110 2024-03-01     54.110428  AVAX-USD  Buy         10000   924.036308   \n",
       "111 2024-04-01     35.419815  AVAX-USD  Buy         10000  1411.639217   \n",
       "\n",
       "      prev_units     cml_units  prev_cost  cml_cost  cost_transact  \\\n",
       "0            NaN      1.299271        NaN     50000           47.5   \n",
       "1       1.299271      2.456859    50000.0    100000           47.5   \n",
       "2       1.157589      3.554827    50000.0    150000           47.5   \n",
       "3       1.097968      4.880564    50000.0    200000           47.5   \n",
       "4       1.325737      6.453271    50000.0    250000           47.5   \n",
       "..           ...           ...        ...       ...            ...   \n",
       "107  2337.883906  67079.482160    50000.0   1200000           47.5   \n",
       "108  1297.188123  68587.236560    50000.0   1250000           47.5   \n",
       "109  1507.754400  69808.673661    50000.0   1300000           47.5   \n",
       "110  1221.437101  70732.709969    50000.0   1350000           47.5   \n",
       "111   924.036308  72144.349186    50000.0   1400000           47.5   \n",
       "\n",
       "     cml_invested      cost_unit  cum_position_val     gain_loss     yield  \\\n",
       "0         49952.5   38483.125000      5.000000e+04  4.750000e+01 -0.999049   \n",
       "1         99952.5   86386.468750      1.061197e+05  6.167208e+03 -0.938299   \n",
       "2        149952.5  136616.027344      1.618821e+05  1.192963e+04 -0.920444   \n",
       "3        199952.5  150859.500000      1.840699e+05 -1.588263e+04 -1.079432   \n",
       "4        249952.5  158961.552734      2.051644e+05 -4.478809e+04 -1.179186   \n",
       "..            ...            ...               ...           ...       ...   \n",
       "107     1199952.5     925.077850      2.585573e+06  1.385620e+06  0.154729   \n",
       "108     1249952.5     829.047489      2.274483e+06  1.024531e+06 -0.180344   \n",
       "109     1299952.5    1064.320053      2.857645e+06  1.557693e+06  0.198269   \n",
       "110     1349952.5    1460.981552      3.827377e+06  2.477425e+06  0.835194   \n",
       "111     1399952.5     991.754822      2.555340e+06  1.155387e+06 -0.174696   \n",
       "\n",
       "        avg_price  current_value  \n",
       "0    38483.125000   5.000000e+04  \n",
       "1    40838.179688   1.061197e+05  \n",
       "2    42405.011719   1.618821e+05  \n",
       "3    41232.477539   1.840699e+05  \n",
       "4    39344.444141   2.051644e+05  \n",
       "..            ...            ...  \n",
       "107     27.388319   2.585573e+06  \n",
       "108     27.619262   2.274483e+06  \n",
       "109     28.131421   2.857645e+06  \n",
       "110     29.093606   3.827377e+06  \n",
       "111     29.319542   2.555340e+06  \n",
       "\n",
       "[112 rows x 18 columns]"
      ]
     },
     "execution_count": 12,
     "metadata": {},
     "output_type": "execute_result"
    }
   ],
   "source": [
    "all_ops"
   ]
  },
  {
   "cell_type": "code",
   "execution_count": null,
   "metadata": {},
   "outputs": [
    {
     "name": "stdout",
     "output_type": "stream",
     "text": [
      "[*********************100%***********************]  1 of 1 completed\n",
      "Done for AVAX-USD\n",
      "[*********************100%***********************]  1 of 1 completed\n",
      "Done for BTC-USD\n",
      "[*********************100%***********************]  1 of 1 completed\n",
      "Done for ETH-USD\n",
      "[*********************100%***********************]  1 of 1 completed\n",
      "Done for LTC-USD\n"
     ]
    },
    {
     "data": {
      "application/vnd.plotly.v1+json": {
       "config": {
        "plotlyServerURL": "https://plot.ly"
       },
       "data": [
        {
         "hole": 0.4,
         "hoverinfo": "label+value+percent",
         "labels": [
          "LTC-USD",
          "ETH-USD",
          "BTC-USD",
          "AVAX-USD"
         ],
         "textinfo": "label+value",
         "textposition": "outside",
         "type": "pie",
         "values": [
          184069.8669271958,
          161882.1274638429,
          106119.7075016647,
          50000
         ]
        }
       ],
       "layout": {
        "margin": {
         "b": 50,
         "l": 25,
         "r": 25,
         "t": 50
        },
        "showlegend": false,
        "template": {
         "data": {
          "bar": [
           {
            "error_x": {
             "color": "#2a3f5f"
            },
            "error_y": {
             "color": "#2a3f5f"
            },
            "marker": {
             "line": {
              "color": "white",
              "width": 0.5
             },
             "pattern": {
              "fillmode": "overlay",
              "size": 10,
              "solidity": 0.2
             }
            },
            "type": "bar"
           }
          ],
          "barpolar": [
           {
            "marker": {
             "line": {
              "color": "white",
              "width": 0.5
             },
             "pattern": {
              "fillmode": "overlay",
              "size": 10,
              "solidity": 0.2
             }
            },
            "type": "barpolar"
           }
          ],
          "carpet": [
           {
            "aaxis": {
             "endlinecolor": "#2a3f5f",
             "gridcolor": "#C8D4E3",
             "linecolor": "#C8D4E3",
             "minorgridcolor": "#C8D4E3",
             "startlinecolor": "#2a3f5f"
            },
            "baxis": {
             "endlinecolor": "#2a3f5f",
             "gridcolor": "#C8D4E3",
             "linecolor": "#C8D4E3",
             "minorgridcolor": "#C8D4E3",
             "startlinecolor": "#2a3f5f"
            },
            "type": "carpet"
           }
          ],
          "choropleth": [
           {
            "colorbar": {
             "outlinewidth": 0,
             "ticks": ""
            },
            "type": "choropleth"
           }
          ],
          "contour": [
           {
            "colorbar": {
             "outlinewidth": 0,
             "ticks": ""
            },
            "colorscale": [
             [
              0,
              "#0d0887"
             ],
             [
              0.1111111111111111,
              "#46039f"
             ],
             [
              0.2222222222222222,
              "#7201a8"
             ],
             [
              0.3333333333333333,
              "#9c179e"
             ],
             [
              0.4444444444444444,
              "#bd3786"
             ],
             [
              0.5555555555555556,
              "#d8576b"
             ],
             [
              0.6666666666666666,
              "#ed7953"
             ],
             [
              0.7777777777777778,
              "#fb9f3a"
             ],
             [
              0.8888888888888888,
              "#fdca26"
             ],
             [
              1,
              "#f0f921"
             ]
            ],
            "type": "contour"
           }
          ],
          "contourcarpet": [
           {
            "colorbar": {
             "outlinewidth": 0,
             "ticks": ""
            },
            "type": "contourcarpet"
           }
          ],
          "heatmap": [
           {
            "colorbar": {
             "outlinewidth": 0,
             "ticks": ""
            },
            "colorscale": [
             [
              0,
              "#0d0887"
             ],
             [
              0.1111111111111111,
              "#46039f"
             ],
             [
              0.2222222222222222,
              "#7201a8"
             ],
             [
              0.3333333333333333,
              "#9c179e"
             ],
             [
              0.4444444444444444,
              "#bd3786"
             ],
             [
              0.5555555555555556,
              "#d8576b"
             ],
             [
              0.6666666666666666,
              "#ed7953"
             ],
             [
              0.7777777777777778,
              "#fb9f3a"
             ],
             [
              0.8888888888888888,
              "#fdca26"
             ],
             [
              1,
              "#f0f921"
             ]
            ],
            "type": "heatmap"
           }
          ],
          "heatmapgl": [
           {
            "colorbar": {
             "outlinewidth": 0,
             "ticks": ""
            },
            "colorscale": [
             [
              0,
              "#0d0887"
             ],
             [
              0.1111111111111111,
              "#46039f"
             ],
             [
              0.2222222222222222,
              "#7201a8"
             ],
             [
              0.3333333333333333,
              "#9c179e"
             ],
             [
              0.4444444444444444,
              "#bd3786"
             ],
             [
              0.5555555555555556,
              "#d8576b"
             ],
             [
              0.6666666666666666,
              "#ed7953"
             ],
             [
              0.7777777777777778,
              "#fb9f3a"
             ],
             [
              0.8888888888888888,
              "#fdca26"
             ],
             [
              1,
              "#f0f921"
             ]
            ],
            "type": "heatmapgl"
           }
          ],
          "histogram": [
           {
            "marker": {
             "pattern": {
              "fillmode": "overlay",
              "size": 10,
              "solidity": 0.2
             }
            },
            "type": "histogram"
           }
          ],
          "histogram2d": [
           {
            "colorbar": {
             "outlinewidth": 0,
             "ticks": ""
            },
            "colorscale": [
             [
              0,
              "#0d0887"
             ],
             [
              0.1111111111111111,
              "#46039f"
             ],
             [
              0.2222222222222222,
              "#7201a8"
             ],
             [
              0.3333333333333333,
              "#9c179e"
             ],
             [
              0.4444444444444444,
              "#bd3786"
             ],
             [
              0.5555555555555556,
              "#d8576b"
             ],
             [
              0.6666666666666666,
              "#ed7953"
             ],
             [
              0.7777777777777778,
              "#fb9f3a"
             ],
             [
              0.8888888888888888,
              "#fdca26"
             ],
             [
              1,
              "#f0f921"
             ]
            ],
            "type": "histogram2d"
           }
          ],
          "histogram2dcontour": [
           {
            "colorbar": {
             "outlinewidth": 0,
             "ticks": ""
            },
            "colorscale": [
             [
              0,
              "#0d0887"
             ],
             [
              0.1111111111111111,
              "#46039f"
             ],
             [
              0.2222222222222222,
              "#7201a8"
             ],
             [
              0.3333333333333333,
              "#9c179e"
             ],
             [
              0.4444444444444444,
              "#bd3786"
             ],
             [
              0.5555555555555556,
              "#d8576b"
             ],
             [
              0.6666666666666666,
              "#ed7953"
             ],
             [
              0.7777777777777778,
              "#fb9f3a"
             ],
             [
              0.8888888888888888,
              "#fdca26"
             ],
             [
              1,
              "#f0f921"
             ]
            ],
            "type": "histogram2dcontour"
           }
          ],
          "mesh3d": [
           {
            "colorbar": {
             "outlinewidth": 0,
             "ticks": ""
            },
            "type": "mesh3d"
           }
          ],
          "parcoords": [
           {
            "line": {
             "colorbar": {
              "outlinewidth": 0,
              "ticks": ""
             }
            },
            "type": "parcoords"
           }
          ],
          "pie": [
           {
            "automargin": true,
            "type": "pie"
           }
          ],
          "scatter": [
           {
            "fillpattern": {
             "fillmode": "overlay",
             "size": 10,
             "solidity": 0.2
            },
            "type": "scatter"
           }
          ],
          "scatter3d": [
           {
            "line": {
             "colorbar": {
              "outlinewidth": 0,
              "ticks": ""
             }
            },
            "marker": {
             "colorbar": {
              "outlinewidth": 0,
              "ticks": ""
             }
            },
            "type": "scatter3d"
           }
          ],
          "scattercarpet": [
           {
            "marker": {
             "colorbar": {
              "outlinewidth": 0,
              "ticks": ""
             }
            },
            "type": "scattercarpet"
           }
          ],
          "scattergeo": [
           {
            "marker": {
             "colorbar": {
              "outlinewidth": 0,
              "ticks": ""
             }
            },
            "type": "scattergeo"
           }
          ],
          "scattergl": [
           {
            "marker": {
             "colorbar": {
              "outlinewidth": 0,
              "ticks": ""
             }
            },
            "type": "scattergl"
           }
          ],
          "scattermapbox": [
           {
            "marker": {
             "colorbar": {
              "outlinewidth": 0,
              "ticks": ""
             }
            },
            "type": "scattermapbox"
           }
          ],
          "scatterpolar": [
           {
            "marker": {
             "colorbar": {
              "outlinewidth": 0,
              "ticks": ""
             }
            },
            "type": "scatterpolar"
           }
          ],
          "scatterpolargl": [
           {
            "marker": {
             "colorbar": {
              "outlinewidth": 0,
              "ticks": ""
             }
            },
            "type": "scatterpolargl"
           }
          ],
          "scatterternary": [
           {
            "marker": {
             "colorbar": {
              "outlinewidth": 0,
              "ticks": ""
             }
            },
            "type": "scatterternary"
           }
          ],
          "surface": [
           {
            "colorbar": {
             "outlinewidth": 0,
             "ticks": ""
            },
            "colorscale": [
             [
              0,
              "#0d0887"
             ],
             [
              0.1111111111111111,
              "#46039f"
             ],
             [
              0.2222222222222222,
              "#7201a8"
             ],
             [
              0.3333333333333333,
              "#9c179e"
             ],
             [
              0.4444444444444444,
              "#bd3786"
             ],
             [
              0.5555555555555556,
              "#d8576b"
             ],
             [
              0.6666666666666666,
              "#ed7953"
             ],
             [
              0.7777777777777778,
              "#fb9f3a"
             ],
             [
              0.8888888888888888,
              "#fdca26"
             ],
             [
              1,
              "#f0f921"
             ]
            ],
            "type": "surface"
           }
          ],
          "table": [
           {
            "cells": {
             "fill": {
              "color": "#EBF0F8"
             },
             "line": {
              "color": "white"
             }
            },
            "header": {
             "fill": {
              "color": "#C8D4E3"
             },
             "line": {
              "color": "white"
             }
            },
            "type": "table"
           }
          ]
         },
         "layout": {
          "annotationdefaults": {
           "arrowcolor": "#2a3f5f",
           "arrowhead": 0,
           "arrowwidth": 1
          },
          "autotypenumbers": "strict",
          "coloraxis": {
           "colorbar": {
            "outlinewidth": 0,
            "ticks": ""
           }
          },
          "colorscale": {
           "diverging": [
            [
             0,
             "#8e0152"
            ],
            [
             0.1,
             "#c51b7d"
            ],
            [
             0.2,
             "#de77ae"
            ],
            [
             0.3,
             "#f1b6da"
            ],
            [
             0.4,
             "#fde0ef"
            ],
            [
             0.5,
             "#f7f7f7"
            ],
            [
             0.6,
             "#e6f5d0"
            ],
            [
             0.7,
             "#b8e186"
            ],
            [
             0.8,
             "#7fbc41"
            ],
            [
             0.9,
             "#4d9221"
            ],
            [
             1,
             "#276419"
            ]
           ],
           "sequential": [
            [
             0,
             "#0d0887"
            ],
            [
             0.1111111111111111,
             "#46039f"
            ],
            [
             0.2222222222222222,
             "#7201a8"
            ],
            [
             0.3333333333333333,
             "#9c179e"
            ],
            [
             0.4444444444444444,
             "#bd3786"
            ],
            [
             0.5555555555555556,
             "#d8576b"
            ],
            [
             0.6666666666666666,
             "#ed7953"
            ],
            [
             0.7777777777777778,
             "#fb9f3a"
            ],
            [
             0.8888888888888888,
             "#fdca26"
            ],
            [
             1,
             "#f0f921"
            ]
           ],
           "sequentialminus": [
            [
             0,
             "#0d0887"
            ],
            [
             0.1111111111111111,
             "#46039f"
            ],
            [
             0.2222222222222222,
             "#7201a8"
            ],
            [
             0.3333333333333333,
             "#9c179e"
            ],
            [
             0.4444444444444444,
             "#bd3786"
            ],
            [
             0.5555555555555556,
             "#d8576b"
            ],
            [
             0.6666666666666666,
             "#ed7953"
            ],
            [
             0.7777777777777778,
             "#fb9f3a"
            ],
            [
             0.8888888888888888,
             "#fdca26"
            ],
            [
             1,
             "#f0f921"
            ]
           ]
          },
          "colorway": [
           "#636efa",
           "#EF553B",
           "#00cc96",
           "#ab63fa",
           "#FFA15A",
           "#19d3f3",
           "#FF6692",
           "#B6E880",
           "#FF97FF",
           "#FECB52"
          ],
          "font": {
           "color": "#2a3f5f"
          },
          "geo": {
           "bgcolor": "white",
           "lakecolor": "white",
           "landcolor": "white",
           "showlakes": true,
           "showland": true,
           "subunitcolor": "#C8D4E3"
          },
          "hoverlabel": {
           "align": "left"
          },
          "hovermode": "closest",
          "mapbox": {
           "style": "light"
          },
          "paper_bgcolor": "white",
          "plot_bgcolor": "white",
          "polar": {
           "angularaxis": {
            "gridcolor": "#EBF0F8",
            "linecolor": "#EBF0F8",
            "ticks": ""
           },
           "bgcolor": "white",
           "radialaxis": {
            "gridcolor": "#EBF0F8",
            "linecolor": "#EBF0F8",
            "ticks": ""
           }
          },
          "scene": {
           "xaxis": {
            "backgroundcolor": "white",
            "gridcolor": "#DFE8F3",
            "gridwidth": 2,
            "linecolor": "#EBF0F8",
            "showbackground": true,
            "ticks": "",
            "zerolinecolor": "#EBF0F8"
           },
           "yaxis": {
            "backgroundcolor": "white",
            "gridcolor": "#DFE8F3",
            "gridwidth": 2,
            "linecolor": "#EBF0F8",
            "showbackground": true,
            "ticks": "",
            "zerolinecolor": "#EBF0F8"
           },
           "zaxis": {
            "backgroundcolor": "white",
            "gridcolor": "#DFE8F3",
            "gridwidth": 2,
            "linecolor": "#EBF0F8",
            "showbackground": true,
            "ticks": "",
            "zerolinecolor": "#EBF0F8"
           }
          },
          "shapedefaults": {
           "line": {
            "color": "#2a3f5f"
           }
          },
          "ternary": {
           "aaxis": {
            "gridcolor": "#DFE8F3",
            "linecolor": "#A2B1C6",
            "ticks": ""
           },
           "baxis": {
            "gridcolor": "#DFE8F3",
            "linecolor": "#A2B1C6",
            "ticks": ""
           },
           "bgcolor": "white",
           "caxis": {
            "gridcolor": "#DFE8F3",
            "linecolor": "#A2B1C6",
            "ticks": ""
           }
          },
          "title": {
           "x": 0.05
          },
          "xaxis": {
           "automargin": true,
           "gridcolor": "#EBF0F8",
           "linecolor": "#EBF0F8",
           "ticks": "",
           "title": {
            "standoff": 15
           },
           "zerolinecolor": "#EBF0F8",
           "zerolinewidth": 2
          },
          "yaxis": {
           "automargin": true,
           "gridcolor": "#EBF0F8",
           "linecolor": "#EBF0F8",
           "ticks": "",
           "title": {
            "standoff": 15
           },
           "zerolinecolor": "#EBF0F8",
           "zerolinewidth": 2
          }
         }
        }
       }
      }
     },
     "metadata": {},
     "output_type": "display_data"
    }
   ],
   "source": [
    "# getting the accumulated positions for our tickers\n",
    "last_positions = all_ops.groupby(['ticker']).agg({'cml_units': 'last', 'cml_cost': 'last',\n",
    "                                                'gain_loss': 'sum', 'val_transact': 'sum'}).reset_index()\n",
    "curr_prices = []\n",
    "\n",
    "for tick in last_positions['ticker']:\n",
    "    # stonk = yf.get_data(tick)\n",
    "    asset = (yf.download(tick, start = today))\n",
    "\n",
    "    price = asset['Close']\n",
    "    curr_prices.append(price)\n",
    "    print(f'Done for {tick}')\n",
    "\t\t\n",
    "last_positions['price'] = curr_prices  # adding it to our dataframe\n",
    "# last_positions['current_value'] = (last_positions.price * last_positions.cml_units).round(2)  # and now we can calculate\n",
    "last_positions['current_value'] = all_ops['current_value']\n",
    "# last_positions['avg_price'] = (last_positions.cml_cost / last_positions.cml_units).round(2)  # and now we can calculate\n",
    "last_positions['avg_price'] = all_ops['avg_price']\n",
    "last_positions = last_positions.sort_values(by='current_value', ascending=False)  # sorting by current value\n",
    "\n",
    "# Plotly part\n",
    "holding_donut_top = go.Figure()\n",
    "holding_donut_top.layout.template = CHART_THEME\n",
    "holding_donut_top.add_trace(go.Pie(labels=last_positions.head(15).ticker, values=last_positions.head(15).current_value))\n",
    "holding_donut_top.update_traces(hole=.4, hoverinfo=\"label+value+percent\")\n",
    "holding_donut_top.update_traces(textposition='outside', textinfo='label+value')\n",
    "holding_donut_top.update_layout(showlegend=False)\n",
    "holding_donut_top.update_layout(margin = dict(t=50, b=50, l=25, r=25))\n",
    "holding_donut_top.show()"
   ]
  },
  {
   "cell_type": "code",
   "execution_count": null,
   "metadata": {},
   "outputs": [
    {
     "name": "stderr",
     "output_type": "stream",
     "text": [
      "c:\\Users\\hp\\AppData\\Local\\Programs\\Python\\Python38\\lib\\site-packages\\dash\\dash.py:516: UserWarning:\n",
      "\n",
      "JupyterDash is deprecated, use Dash instead.\n",
      "See https://dash.plotly.com/dash-in-jupyter for more details.\n",
      "\n"
     ]
    },
    {
     "data": {
      "text/html": [
       "\n",
       "        <iframe\n",
       "            width=\"100%\"\n",
       "            height=\"650\"\n",
       "            src=\"http://127.0.0.1:8058/\"\n",
       "            frameborder=\"0\"\n",
       "            allowfullscreen\n",
       "            \n",
       "        ></iframe>\n",
       "        "
      ],
      "text/plain": [
       "<IPython.lib.display.IFrame at 0x17c65ddbcd0>"
      ]
     },
     "metadata": {},
     "output_type": "display_data"
    },
    {
     "name": "stdout",
     "output_type": "stream",
     "text": [
      "Dash app running on http://127.0.0.1:8058/\n"
     ]
    }
   ],
   "source": [
    "app = JupyterDash(__name__, external_stylesheets=[dbc.themes.FLATLY])\n",
    "\n",
    "app.layout = dbc.Container(\n",
    "    [\n",
    "        dbc.Row(dbc.Col(html.H2('Base 2 Portfolio Overview', className='text-center text-primary, mb-3'))),  # header row\n",
    "        \n",
    "        dbc.Row([  # start of second row\n",
    "            dbc.Col([  # first column on second row\n",
    "            html.H5('Total Portfolio Value ($USD)', className='text-center'),\n",
    "            dcc.Graph(id='chrt-portfolio-main',\n",
    "                      figure=chart_ptfl_value,\n",
    "                      style={'height':550}),\n",
    "            html.Hr(),\n",
    "            ], width={'size': 8, 'offset': 0, 'order': 1}),  # width first column on second row\n",
    "            dbc.Col([  # second column on second row\n",
    "            html.H5('Portfolio', className='text-center'),\n",
    "            dcc.Graph(id='indicators-ptf',\n",
    "                      figure=indicators_ptf,\n",
    "                      style={'height':550}),\n",
    "            html.Hr()\n",
    "            ], width={'size': 2, 'offset': 0, 'order': 2}),  # width second column on second row\n",
    "            dbc.Col([  # third column on second row\n",
    "            html.H5('benchmark: S&P500', className='text-center'),\n",
    "            dcc.Graph(id='indicators-sp',\n",
    "                      figure=indicators_sp500,\n",
    "                      style={'height':550}),\n",
    "            html.Hr()\n",
    "            ], width={'size': 2, 'offset': 0, 'order': 3}),  # width third column on second row\n",
    "        ]),  # end of second row\n",
    "        \n",
    "        dbc.Row([  # start of third row\n",
    "            dbc.Col([  # first column on third row\n",
    "                html.H5('Monthly Return (%)', className='text-center'),\n",
    "                dcc.Graph(id='chrt-portfolio-secondary',\n",
    "                      figure=fig_growth2,\n",
    "                      style={'height':380}),\n",
    "            ], width={'size': 8, 'offset': 0, 'order': 1}),  # width first column on second row\n",
    "            dbc.Col([  # second column on third row\n",
    "                html.H5('Holdings', className='text-center'),\n",
    "                dcc.Graph(id='pie-top15',\n",
    "                      figure = holding_donut_top,\n",
    "                      style={'height':380}),\n",
    "            ], width={'size': 4, 'offset': 0, 'order': 2}),  # width second column on second row\n",
    "        ])  # end of third row\n",
    "        \n",
    "    ], fluid=True)\n",
    "\n",
    "if __name__ == \"__main__\":\n",
    "    app.run_server(debug=True, port=8058)"
   ]
  }
 ],
 "metadata": {
  "kernelspec": {
   "display_name": "Python 3",
   "language": "python",
   "name": "python3"
  },
  "language_info": {
   "codemirror_mode": {
    "name": "ipython",
    "version": 3
   },
   "file_extension": ".py",
   "mimetype": "text/x-python",
   "name": "python",
   "nbconvert_exporter": "python",
   "pygments_lexer": "ipython3",
   "version": "3.8.0"
  }
 },
 "nbformat": 4,
 "nbformat_minor": 2
}
